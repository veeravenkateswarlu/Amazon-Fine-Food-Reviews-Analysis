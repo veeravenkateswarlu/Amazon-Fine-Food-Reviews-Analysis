{
  "nbformat": 4,
  "nbformat_minor": 0,
  "metadata": {
    "kernelspec": {
      "display_name": "Python 3",
      "language": "python",
      "name": "python3"
    },
    "language_info": {
      "codemirror_mode": {
        "name": "ipython",
        "version": 3
      },
      "file_extension": ".py",
      "mimetype": "text/x-python",
      "name": "python",
      "nbconvert_exporter": "python",
      "pygments_lexer": "ipython3",
      "version": "3.6.5"
    },
    "colab": {
      "name": "LSTM .ipynb",
      "version": "0.3.2",
      "provenance": []
    }
  },
  "cells": [
    {
      "cell_type": "markdown",
      "metadata": {
        "id": "fFCWS9b8buSk",
        "colab_type": "text"
      },
      "source": [
        "# LSTM\n"
      ]
    },
    {
      "cell_type": "code",
      "metadata": {
        "id": "SuYZf8rWbuSm",
        "colab_type": "code",
        "colab": {},
        "outputId": "1774eb4f-37d3-4ed5-dc60-85ea7c1c26a5"
      },
      "source": [
        "from sklearn.metrics import confusion_matrix\n",
        "from sklearn import metrics\n",
        "from sklearn.metrics import confusion_matrix\n",
        "\n",
        "from keras.preprocessing import sequence\n",
        "from keras.models import Sequential\n",
        "from keras.layers import Dense, Dropout, Activation\n",
        "from keras.layers import Embedding\n",
        "from keras.layers import LSTM\n",
        "from keras.layers import Conv1D, MaxPooling1D\n",
        "from sklearn.feature_extraction.text import CountVectorizer\n",
        "from keras.preprocessing.text import Tokenizer\n",
        "from keras.preprocessing.sequence import pad_sequences\n",
        "from keras.models import Sequential\n",
        "from keras.layers import Dense, Embedding, LSTM\n",
        "from sklearn.model_selection import train_test_split\n",
        "from keras.utils.np_utils import to_categorical\n",
        "from keras.callbacks import EarlyStopping\n",
        "from keras.callbacks import ModelCheckpoint\n",
        "from keras.models import model_from_json\n",
        "import re\n",
        "import warnings \n",
        "import pandas as pd\n",
        "warnings.filterwarnings('ignore')\n",
        "from subprocess import check_output"
      ],
      "execution_count": 0,
      "outputs": [
        {
          "output_type": "stream",
          "text": [
            "C:\\Users\\BALARAMI REDDY\\Anaconda3\\lib\\site-packages\\h5py\\__init__.py:36: FutureWarning: Conversion of the second argument of issubdtype from `float` to `np.floating` is deprecated. In future, it will be treated as `np.float64 == np.dtype(float).type`.\n",
            "  from ._conv import register_converters as _register_converters\n",
            "Using TensorFlow backend.\n"
          ],
          "name": "stderr"
        }
      ]
    },
    {
      "cell_type": "code",
      "metadata": {
        "id": "_PKgZlvubuSu",
        "colab_type": "code",
        "colab": {},
        "outputId": "77fb2bf5-8e8d-454d-f183-0b3f16505cd4"
      },
      "source": [
        "data = pd.read_csv('Reviews.csv')\n",
        "data.columns"
      ],
      "execution_count": 0,
      "outputs": [
        {
          "output_type": "execute_result",
          "data": {
            "text/plain": [
              "Index(['Id', 'ProductId', 'UserId', 'ProfileName', 'HelpfulnessNumerator',\n",
              "       'HelpfulnessDenominator', 'Score', 'Time', 'Summary', 'Text'],\n",
              "      dtype='object')"
            ]
          },
          "metadata": {
            "tags": []
          },
          "execution_count": 2
        }
      ]
    },
    {
      "cell_type": "code",
      "metadata": {
        "id": "rhozEIybbuS0",
        "colab_type": "code",
        "colab": {}
      },
      "source": [
        "data = data[['Text','Score']]"
      ],
      "execution_count": 0,
      "outputs": []
    },
    {
      "cell_type": "code",
      "metadata": {
        "id": "Pi66h4oYbuS4",
        "colab_type": "code",
        "colab": {},
        "outputId": "d8abf5a8-3633-48bb-abf6-bb28252cdfef"
      },
      "source": [
        "data.head()"
      ],
      "execution_count": 0,
      "outputs": [
        {
          "output_type": "execute_result",
          "data": {
            "text/html": [
              "<div>\n",
              "<style scoped>\n",
              "    .dataframe tbody tr th:only-of-type {\n",
              "        vertical-align: middle;\n",
              "    }\n",
              "\n",
              "    .dataframe tbody tr th {\n",
              "        vertical-align: top;\n",
              "    }\n",
              "\n",
              "    .dataframe thead th {\n",
              "        text-align: right;\n",
              "    }\n",
              "</style>\n",
              "<table border=\"1\" class=\"dataframe\">\n",
              "  <thead>\n",
              "    <tr style=\"text-align: right;\">\n",
              "      <th></th>\n",
              "      <th>Text</th>\n",
              "      <th>Score</th>\n",
              "    </tr>\n",
              "  </thead>\n",
              "  <tbody>\n",
              "    <tr>\n",
              "      <th>0</th>\n",
              "      <td>I have bought several of the Vitality canned d...</td>\n",
              "      <td>5</td>\n",
              "    </tr>\n",
              "    <tr>\n",
              "      <th>1</th>\n",
              "      <td>Product arrived labeled as Jumbo Salted Peanut...</td>\n",
              "      <td>1</td>\n",
              "    </tr>\n",
              "    <tr>\n",
              "      <th>2</th>\n",
              "      <td>This is a confection that has been around a fe...</td>\n",
              "      <td>4</td>\n",
              "    </tr>\n",
              "    <tr>\n",
              "      <th>3</th>\n",
              "      <td>If you are looking for the secret ingredient i...</td>\n",
              "      <td>2</td>\n",
              "    </tr>\n",
              "    <tr>\n",
              "      <th>4</th>\n",
              "      <td>Great taffy at a great price.  There was a wid...</td>\n",
              "      <td>5</td>\n",
              "    </tr>\n",
              "  </tbody>\n",
              "</table>\n",
              "</div>"
            ],
            "text/plain": [
              "                                                Text  Score\n",
              "0  I have bought several of the Vitality canned d...      5\n",
              "1  Product arrived labeled as Jumbo Salted Peanut...      1\n",
              "2  This is a confection that has been around a fe...      4\n",
              "3  If you are looking for the secret ingredient i...      2\n",
              "4  Great taffy at a great price.  There was a wid...      5"
            ]
          },
          "metadata": {
            "tags": []
          },
          "execution_count": 4
        }
      ]
    },
    {
      "cell_type": "code",
      "metadata": {
        "id": "3UpLS3lRbuS9",
        "colab_type": "code",
        "colab": {}
      },
      "source": [
        "row_select_1 = data['Score'] < 3\n",
        "row_select_2 = data['Score'] == 3\n",
        "data['sentiment'] = pd.Series(['Positive']*len(data.index))\n",
        "data.loc[row_select_1,'sentiment'] = 'Negative'\n",
        "data.loc[row_select_2,'sentiment'] = 'Neutral'"
      ],
      "execution_count": 0,
      "outputs": []
    },
    {
      "cell_type": "code",
      "metadata": {
        "id": "EylVbdPVbuTD",
        "colab_type": "code",
        "colab": {}
      },
      "source": [
        "data = data[['Text','sentiment']]\n",
        "data.columns = ['text', 'sentiment']"
      ],
      "execution_count": 0,
      "outputs": []
    },
    {
      "cell_type": "code",
      "metadata": {
        "id": "9p9woHh8buTI",
        "colab_type": "code",
        "colab": {},
        "outputId": "1183d404-2934-46d3-91c5-6f9925c3e301"
      },
      "source": [
        "data = data[data.sentiment != \"Neutral\"]\n",
        "data['text'] = data['text'].apply(lambda x: str(x).lower())\n",
        "data['text'] = data['text'].apply((lambda x: re.sub('[^a-zA-z0-9\\s]','',x)))\n",
        "\n",
        "print(data[ data['sentiment'] == 'Positive'].size)\n",
        "print(data[ data['sentiment'] == 'Negative'].size)\n",
        "\n",
        "for idx,row in data.iterrows():\n",
        "    row[0] = row[0].replace('rt',' ')"
      ],
      "execution_count": 0,
      "outputs": [
        {
          "output_type": "stream",
          "text": [
            "887554\n",
            "164074\n"
          ],
          "name": "stdout"
        }
      ]
    },
    {
      "cell_type": "code",
      "metadata": {
        "id": "E5sOOjjEbuTM",
        "colab_type": "code",
        "colab": {}
      },
      "source": [
        "top_words = 5000\n",
        "max_review_length = 100"
      ],
      "execution_count": 0,
      "outputs": []
    },
    {
      "cell_type": "code",
      "metadata": {
        "id": "1WiWoZFrbuTR",
        "colab_type": "code",
        "colab": {}
      },
      "source": [
        "tokenizer = Tokenizer(nb_words = top_words, split=' ')\n",
        "tokenizer.fit_on_texts(data['text'].values)\n",
        "X = tokenizer.texts_to_sequences(data['text'].values)\n",
        "X = pad_sequences(X, maxlen = max_review_length)"
      ],
      "execution_count": 0,
      "outputs": []
    },
    {
      "cell_type": "code",
      "metadata": {
        "id": "kBWpMGdgbuTX",
        "colab_type": "code",
        "colab": {}
      },
      "source": [
        "Y = pd.get_dummies(data['sentiment']).values\n",
        "X_train, X_test, Y_train, Y_test = train_test_split(X,Y, test_size = 0.20, random_state = 0)"
      ],
      "execution_count": 0,
      "outputs": []
    },
    {
      "cell_type": "code",
      "metadata": {
        "id": "yKW1Fn9gbuTc",
        "colab_type": "code",
        "colab": {},
        "outputId": "15284a7a-5459-4f8d-af5c-0dcce149ec52"
      },
      "source": [
        "print(X_train.shape)\n",
        "print(X_train[1])"
      ],
      "execution_count": 0,
      "outputs": [
        {
          "output_type": "stream",
          "text": [
            "(420651, 100)\n",
            "[1136  648   14    2  181   16  103 2044   11   12  345  437    2  145\n",
            "   88    4  159 1181 1317    3  176    2   67  552  195    5 2222    5\n",
            "   78    2  283    4 2810 1180   15    1  351  128    9    8    4 2457\n",
            "    7 1220  183 1011  979    2   89 1304    1   43   35    4  644 1181\n",
            "   44   86    1 1690 1140   12  601    8   13    1  969 1827  349   30\n",
            "  644   14  129 1435  227    2   16  429    5  435   41    1  221    4\n",
            "  470 3928   13 1724  283   30   41    2   88   87  227   21   18   41\n",
            " 2269  969]\n"
          ],
          "name": "stdout"
        }
      ]
    },
    {
      "cell_type": "code",
      "metadata": {
        "id": "dpRCNRbYbuTi",
        "colab_type": "code",
        "colab": {},
        "outputId": "e099d30a-525e-4f19-9891-08e1e81743a2"
      },
      "source": [
        "print(Y_train.shape)\n",
        "print(Y_train[1])"
      ],
      "execution_count": 0,
      "outputs": [
        {
          "output_type": "stream",
          "text": [
            "(420651, 2)\n",
            "[0 1]\n"
          ],
          "name": "stdout"
        }
      ]
    },
    {
      "cell_type": "code",
      "metadata": {
        "id": "dx8kydTjbuTs",
        "colab_type": "code",
        "colab": {},
        "outputId": "a6b990a0-dc8a-447a-e628-32e006f95cde"
      },
      "source": [
        "# create the model\n",
        "embedding_vecor_length = 32\n",
        "model = Sequential()\n",
        "model.add(Embedding(top_words, embedding_vecor_length, input_length=max_review_length))\n",
        "model.add(LSTM(100))\n",
        "model.add(Dense(2, activation='sigmoid'))\n",
        "model.compile(loss='binary_crossentropy', optimizer='adam', metrics=['accuracy'])\n",
        "print(model.summary())"
      ],
      "execution_count": 0,
      "outputs": [
        {
          "output_type": "stream",
          "text": [
            "_________________________________________________________________\n",
            "Layer (type)                 Output Shape              Param #   \n",
            "=================================================================\n",
            "embedding_1 (Embedding)      (None, 100, 32)           160000    \n",
            "_________________________________________________________________\n",
            "lstm_1 (LSTM)                (None, 100)               53200     \n",
            "_________________________________________________________________\n",
            "dense_1 (Dense)              (None, 2)                 202       \n",
            "=================================================================\n",
            "Total params: 213,402\n",
            "Trainable params: 213,402\n",
            "Non-trainable params: 0\n",
            "_________________________________________________________________\n",
            "None\n"
          ],
          "name": "stdout"
        }
      ]
    },
    {
      "cell_type": "code",
      "metadata": {
        "id": "zxVpepCtbuTx",
        "colab_type": "code",
        "colab": {},
        "outputId": "6f2b3d72-9c9c-4502-99c0-26047695de78"
      },
      "source": [
        "history_1 = model.fit(X_train, Y_train, nb_epoch=10, batch_size=500,verbose=1,validation_data=(X_test, Y_test))"
      ],
      "execution_count": 0,
      "outputs": [
        {
          "output_type": "stream",
          "text": [
            "Train on 420651 samples, validate on 105163 samples\n",
            "Epoch 1/10\n",
            "420651/420651 [==============================] - 942s 2ms/step - loss: 0.0618 - acc: 0.9787 - val_loss: 0.1179 - val_acc: 0.9613\n",
            "Epoch 2/10\n",
            "420651/420651 [==============================] - 1171s 3ms/step - loss: 0.0573 - acc: 0.9804 - val_loss: 0.1235 - val_acc: 0.9612\n",
            "Epoch 3/10\n",
            "420651/420651 [==============================] - 1316s 3ms/step - loss: 0.0517 - acc: 0.9825 - val_loss: 0.1314 - val_acc: 0.9617\n",
            "Epoch 4/10\n",
            "420651/420651 [==============================] - 1260s 3ms/step - loss: 0.0477 - acc: 0.9841 - val_loss: 0.1356 - val_acc: 0.9617\n",
            "Epoch 5/10\n",
            "420651/420651 [==============================] - 1208s 3ms/step - loss: 0.0440 - acc: 0.9853 - val_loss: 0.1366 - val_acc: 0.9613\n",
            "Epoch 6/10\n",
            "420651/420651 [==============================] - 1314s 3ms/step - loss: 0.0404 - acc: 0.9869 - val_loss: 0.1449 - val_acc: 0.9589\n",
            "Epoch 7/10\n",
            "420651/420651 [==============================] - 1439s 3ms/step - loss: 0.0368 - acc: 0.9882 - val_loss: 0.1505 - val_acc: 0.9619\n",
            "Epoch 8/10\n",
            "420651/420651 [==============================] - 1508s 4ms/step - loss: 0.0351 - acc: 0.9888 - val_loss: 0.1498 - val_acc: 0.9610\n",
            "Epoch 9/10\n",
            "420651/420651 [==============================] - 1545s 4ms/step - loss: 0.0313 - acc: 0.9903 - val_loss: 0.1591 - val_acc: 0.9609\n",
            "Epoch 10/10\n",
            "420651/420651 [==============================] - 1502s 4ms/step - loss: 0.0294 - acc: 0.9910 - val_loss: 0.1698 - val_acc: 0.9610\n"
          ],
          "name": "stdout"
        }
      ]
    },
    {
      "cell_type": "code",
      "metadata": {
        "id": "aBA5Ftg5buUD",
        "colab_type": "code",
        "colab": {},
        "outputId": "56c13424-e97b-427a-a1d7-d5530f3bdd6e"
      },
      "source": [
        "# Final evaluation of the model\n",
        "scores = model.evaluate(X_test, Y_test, verbose=0)\n",
        "print(\"Accuracy: %.2f%%\" % (scores[1]*100))"
      ],
      "execution_count": 0,
      "outputs": [
        {
          "output_type": "stream",
          "text": [
            "Accuracy: 96.10%\n"
          ],
          "name": "stdout"
        }
      ]
    },
    {
      "cell_type": "code",
      "metadata": {
        "id": "yT11F6IybuUH",
        "colab_type": "code",
        "colab": {}
      },
      "source": [
        "import matplotlib.pyplot as plt\n",
        "def plt_dynamic(x, vy, ty):\n",
        "    plt.figure(figsize=(10,5))\n",
        "    plt.plot(x, vy, 'b', label=\"Validation Loss\")\n",
        "    plt.plot(x, ty, 'r', label=\"Train Loss\")\n",
        "    plt.xlabel('Epochs') \n",
        "    plt.ylabel('Binary Crossentropy Loss')\n",
        "    plt.title('\\nBinary Crossentropy Loss VS Epochs')\n",
        "    plt.legend()\n",
        "    plt.grid()\n",
        "    plt.show()"
      ],
      "execution_count": 0,
      "outputs": []
    },
    {
      "cell_type": "code",
      "metadata": {
        "id": "A0-sSl62buUL",
        "colab_type": "code",
        "colab": {},
        "outputId": "0f541c9a-2912-4c38-d7f8-5067d2f903f3"
      },
      "source": [
        "# Test and train accuracy of the model\n",
        "model_test = scores[1]\n",
        "model_train = max(history_1.history['acc'])\n",
        "\n",
        "# Plotting Train and Test Loss VS no. of epochs\n",
        "# list of epoch numbers\n",
        "x = list(range(1,11))\n",
        "\n",
        "# Validation loss\n",
        "vy = history_1.history['val_loss']\n",
        "# Training loss\n",
        "ty = history_1.history['loss']\n",
        "\n",
        "# Calling the function to draw the plot\n",
        "plt_dynamic(x, vy, ty)"
      ],
      "execution_count": 0,
      "outputs": [
        {
          "output_type": "display_data",
          "data": {
            "image/png": "[encoded data removed]",
            "text/plain": [
              "<Figure size 720x360 with 1 Axes>"
            ]
          },
          "metadata": {
            "tags": []
          }
        }
      ]
    },
    {
      "cell_type": "code",
      "metadata": {
        "id": "owaBGYkIbuUP",
        "colab_type": "code",
        "colab": {}
      },
      "source": [
        ""
      ],
      "execution_count": 0,
      "outputs": []
    }
  ]
}