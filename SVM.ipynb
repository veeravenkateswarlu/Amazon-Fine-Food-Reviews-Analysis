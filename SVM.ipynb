{
  "nbformat": 4,
  "nbformat_minor": 0,
  "metadata": {
    "colab": {
      "name": "SVM.ipynb",
      "version": "0.3.2",
      "provenance": [],
      "collapsed_sections": []
    },
    "kernelspec": {
      "name": "python3",
      "display_name": "Python 3"
    }
  },
  "cells": [
    {
      "cell_type": "markdown",
      "metadata": {
        "id": "79gBIizahztj",
        "colab_type": "text"
      },
      "source": [
        "# Amazon Fine Food Reviews Analysis"
      ]
    },
    {
      "cell_type": "markdown",
      "metadata": {
        "id": "fOST0XX8h25t",
        "colab_type": "text"
      },
      "source": [
        "## [1]. Reading Data"
      ]
    },
    {
      "cell_type": "markdown",
      "metadata": {
        "id": "5I5nJy2piDMe",
        "colab_type": "text"
      },
      "source": [
        "### [1.1] Loading the data"
      ]
    },
    {
      "cell_type": "code",
      "metadata": {
        "id": "jXaxGzlKh1EW",
        "colab_type": "code",
        "colab": {}
      },
      "source": [
        "import warnings\n",
        "warnings.filterwarnings(\"ignore\")\n",
        "\n",
        "\n",
        "import sqlite3\n",
        "import pandas as pd\n",
        "import numpy as np\n",
        "import nltk\n",
        "import string\n",
        "import matplotlib.pyplot as plt\n",
        "import seaborn as sns\n",
        "from sklearn.feature_extraction.text import TfidfTransformer\n",
        "from sklearn.feature_extraction.text import TfidfVectorizer\n",
        "\n",
        "from sklearn.feature_extraction.text import CountVectorizer\n",
        "from sklearn.metrics import confusion_matrix\n",
        "from sklearn import metrics\n",
        "from sklearn.metrics import roc_curve, auc\n",
        "from nltk.stem.porter import PorterStemmer\n",
        "\n",
        "import re\n",
        "# Tutorial about Python regular expressions: https://pymotw.com/2/re/\n",
        "import string\n",
        "from nltk.corpus import stopwords\n",
        "from nltk.stem import PorterStemmer\n",
        "from nltk.stem.wordnet import WordNetLemmatizer\n",
        "\n",
        "from gensim.models import Word2Vec\n",
        "from gensim.models import KeyedVectors\n",
        "import pickle\n",
        "\n",
        "from tqdm import tqdm\n",
        "import os"
      ],
      "execution_count": 0,
      "outputs": []
    },
    {
      "cell_type": "code",
      "metadata": {
        "id": "7C9h9Tl_iP26",
        "colab_type": "code",
        "outputId": "1c87bf12-0f2f-47f0-ec84-f4d1a7d9397a",
        "colab": {
          "base_uri": "https://localhost:8080/",
          "height": 121
        }
      },
      "source": [
        "# Run this cell to mount your Google Drive.\n",
        "from google.colab import drive\n",
        "drive.mount('/content/drive')"
      ],
      "execution_count": 0,
      "outputs": [
        {
          "output_type": "stream",
          "text": [
            "Go to this URL in a browser: https://accounts.google.com/o/oauth2/auth?client_id=947318989803-6bn6qk8qdgf4n4g3pfee6491hc0brc4i.apps.googleusercontent.com&redirect_uri=urn%3Aietf%3Awg%3Aoauth%3A2.0%3Aoob&scope=email%20https%3A%2F%2Fwww.googleapis.com%2Fauth%2Fdocs.test%20https%3A%2F%2Fwww.googleapis.com%2Fauth%2Fdrive%20https%3A%2F%2Fwww.googleapis.com%2Fauth%2Fdrive.photos.readonly%20https%3A%2F%2Fwww.googleapis.com%2Fauth%2Fpeopleapi.readonly&response_type=code\n",
            "\n",
            "Enter your authorization code:\n",
            "··········\n",
            "Mounted at /content/drive\n"
          ],
          "name": "stdout"
        }
      ]
    },
    {
      "cell_type": "code",
      "metadata": {
        "id": "pcBuBcjAit4h",
        "colab_type": "code",
        "outputId": "93619eee-3820-4b58-b1e2-e3b6aba759fc",
        "colab": {
          "base_uri": "https://localhost:8080/",
          "height": 67
        }
      },
      "source": [
        "!ls /content/drive/My\\ Drive/Colab\\ Notebooks"
      ],
      "execution_count": 0,
      "outputs": [
        {
          "output_type": "stream",
          "text": [
            "database.sqlite  Sample.ipynb\t  Untitled1.ipynb  Untitled4.ipynb\n",
            "NB.ipynb\t SVM.ipynb\t  Untitled2.ipynb\n",
            "Reviews.csv\t Untitled0.ipynb  Untitled3.ipynb\n"
          ],
          "name": "stdout"
        }
      ]
    },
    {
      "cell_type": "code",
      "metadata": {
        "id": "OfPW_-_djEVN",
        "colab_type": "code",
        "colab": {}
      },
      "source": [
        "data=pd.read_csv('/content/drive/My Drive/Colab Notebooks/Reviews.csv')"
      ],
      "execution_count": 0,
      "outputs": []
    },
    {
      "cell_type": "code",
      "metadata": {
        "id": "05LKWEhgjLsI",
        "colab_type": "code",
        "outputId": "adc565f9-44ab-4ec0-a9e4-fb398859d3d4",
        "colab": {
          "base_uri": "https://localhost:8080/",
          "height": 279
        }
      },
      "source": [
        "data.head()"
      ],
      "execution_count": 0,
      "outputs": [
        {
          "output_type": "execute_result",
          "data": {
            "text/html": [
              "<div>\n",
              "<style scoped>\n",
              "    .dataframe tbody tr th:only-of-type {\n",
              "        vertical-align: middle;\n",
              "    }\n",
              "\n",
              "    .dataframe tbody tr th {\n",
              "        vertical-align: top;\n",
              "    }\n",
              "\n",
              "    .dataframe thead th {\n",
              "        text-align: right;\n",
              "    }\n",
              "</style>\n",
              "<table border=\"1\" class=\"dataframe\">\n",
              "  <thead>\n",
              "    <tr style=\"text-align: right;\">\n",
              "      <th></th>\n",
              "      <th>Id</th>\n",
              "      <th>ProductId</th>\n",
              "      <th>UserId</th>\n",
              "      <th>ProfileName</th>\n",
              "      <th>HelpfulnessNumerator</th>\n",
              "      <th>HelpfulnessDenominator</th>\n",
              "      <th>Score</th>\n",
              "      <th>Time</th>\n",
              "      <th>Summary</th>\n",
              "      <th>Text</th>\n",
              "    </tr>\n",
              "  </thead>\n",
              "  <tbody>\n",
              "    <tr>\n",
              "      <th>0</th>\n",
              "      <td>1</td>\n",
              "      <td>B001E4KFG0</td>\n",
              "      <td>A3SGXH7AUHU8GW</td>\n",
              "      <td>delmartian</td>\n",
              "      <td>1</td>\n",
              "      <td>1</td>\n",
              "      <td>5</td>\n",
              "      <td>1303862400</td>\n",
              "      <td>Good Quality Dog Food</td>\n",
              "      <td>I have bought several of the Vitality canned d...</td>\n",
              "    </tr>\n",
              "    <tr>\n",
              "      <th>1</th>\n",
              "      <td>2</td>\n",
              "      <td>B00813GRG4</td>\n",
              "      <td>A1D87F6ZCVE5NK</td>\n",
              "      <td>dll pa</td>\n",
              "      <td>0</td>\n",
              "      <td>0</td>\n",
              "      <td>1</td>\n",
              "      <td>1346976000</td>\n",
              "      <td>Not as Advertised</td>\n",
              "      <td>Product arrived labeled as Jumbo Salted Peanut...</td>\n",
              "    </tr>\n",
              "    <tr>\n",
              "      <th>2</th>\n",
              "      <td>3</td>\n",
              "      <td>B000LQOCH0</td>\n",
              "      <td>ABXLMWJIXXAIN</td>\n",
              "      <td>Natalia Corres \"Natalia Corres\"</td>\n",
              "      <td>1</td>\n",
              "      <td>1</td>\n",
              "      <td>4</td>\n",
              "      <td>1219017600</td>\n",
              "      <td>\"Delight\" says it all</td>\n",
              "      <td>This is a confection that has been around a fe...</td>\n",
              "    </tr>\n",
              "    <tr>\n",
              "      <th>3</th>\n",
              "      <td>4</td>\n",
              "      <td>B000UA0QIQ</td>\n",
              "      <td>A395BORC6FGVXV</td>\n",
              "      <td>Karl</td>\n",
              "      <td>3</td>\n",
              "      <td>3</td>\n",
              "      <td>2</td>\n",
              "      <td>1307923200</td>\n",
              "      <td>Cough Medicine</td>\n",
              "      <td>If you are looking for the secret ingredient i...</td>\n",
              "    </tr>\n",
              "    <tr>\n",
              "      <th>4</th>\n",
              "      <td>5</td>\n",
              "      <td>B006K2ZZ7K</td>\n",
              "      <td>A1UQRSCLF8GW1T</td>\n",
              "      <td>Michael D. Bigham \"M. Wassir\"</td>\n",
              "      <td>0</td>\n",
              "      <td>0</td>\n",
              "      <td>5</td>\n",
              "      <td>1350777600</td>\n",
              "      <td>Great taffy</td>\n",
              "      <td>Great taffy at a great price.  There was a wid...</td>\n",
              "    </tr>\n",
              "  </tbody>\n",
              "</table>\n",
              "</div>"
            ],
            "text/plain": [
              "   Id  ...                                               Text\n",
              "0   1  ...  I have bought several of the Vitality canned d...\n",
              "1   2  ...  Product arrived labeled as Jumbo Salted Peanut...\n",
              "2   3  ...  This is a confection that has been around a fe...\n",
              "3   4  ...  If you are looking for the secret ingredient i...\n",
              "4   5  ...  Great taffy at a great price.  There was a wid...\n",
              "\n",
              "[5 rows x 10 columns]"
            ]
          },
          "metadata": {
            "tags": []
          },
          "execution_count": 5
        }
      ]
    },
    {
      "cell_type": "code",
      "metadata": {
        "id": "h2QoGeAFjVFw",
        "colab_type": "code",
        "colab": {}
      },
      "source": [
        "conn=sqlite3.connect('/content/drive/My Drive/Colab Notebooks/database.sqlite')"
      ],
      "execution_count": 0,
      "outputs": []
    },
    {
      "cell_type": "code",
      "metadata": {
        "id": "bWQqMPw8jbO5",
        "colab_type": "code",
        "colab": {}
      },
      "source": [
        "filter_data=pd.read_sql_query(\"\"\" SELECT * FROM Reviews WHERE Score != 3 LIMIT 50000\"\"\",conn)"
      ],
      "execution_count": 0,
      "outputs": []
    },
    {
      "cell_type": "code",
      "metadata": {
        "id": "OcjVkN7tje4k",
        "colab_type": "code",
        "colab": {}
      },
      "source": [
        "def partition (x):\n",
        "  if x<3:\n",
        "    return 0\n",
        "  return 1"
      ],
      "execution_count": 0,
      "outputs": []
    },
    {
      "cell_type": "code",
      "metadata": {
        "id": "0zvsh5hYji6l",
        "colab_type": "code",
        "outputId": "a3341515-90b8-4fc6-f5ed-29d47992962e",
        "colab": {
          "base_uri": "https://localhost:8080/",
          "height": 296
        }
      },
      "source": [
        "actualscore = filter_data['Score']\n",
        "positivenegative = actualscore.map(partition)\n",
        "filter_data['Score']= positivenegative\n",
        "print('Nomber of data points in our data',filter_data.shape)\n",
        "filter_data.head(5)"
      ],
      "execution_count": 0,
      "outputs": [
        {
          "output_type": "stream",
          "text": [
            "Nomber of data points in our data (50000, 10)\n"
          ],
          "name": "stdout"
        },
        {
          "output_type": "execute_result",
          "data": {
            "text/html": [
              "<div>\n",
              "<style scoped>\n",
              "    .dataframe tbody tr th:only-of-type {\n",
              "        vertical-align: middle;\n",
              "    }\n",
              "\n",
              "    .dataframe tbody tr th {\n",
              "        vertical-align: top;\n",
              "    }\n",
              "\n",
              "    .dataframe thead th {\n",
              "        text-align: right;\n",
              "    }\n",
              "</style>\n",
              "<table border=\"1\" class=\"dataframe\">\n",
              "  <thead>\n",
              "    <tr style=\"text-align: right;\">\n",
              "      <th></th>\n",
              "      <th>Id</th>\n",
              "      <th>ProductId</th>\n",
              "      <th>UserId</th>\n",
              "      <th>ProfileName</th>\n",
              "      <th>HelpfulnessNumerator</th>\n",
              "      <th>HelpfulnessDenominator</th>\n",
              "      <th>Score</th>\n",
              "      <th>Time</th>\n",
              "      <th>Summary</th>\n",
              "      <th>Text</th>\n",
              "    </tr>\n",
              "  </thead>\n",
              "  <tbody>\n",
              "    <tr>\n",
              "      <th>0</th>\n",
              "      <td>1</td>\n",
              "      <td>B001E4KFG0</td>\n",
              "      <td>A3SGXH7AUHU8GW</td>\n",
              "      <td>delmartian</td>\n",
              "      <td>1</td>\n",
              "      <td>1</td>\n",
              "      <td>1</td>\n",
              "      <td>1303862400</td>\n",
              "      <td>Good Quality Dog Food</td>\n",
              "      <td>I have bought several of the Vitality canned d...</td>\n",
              "    </tr>\n",
              "    <tr>\n",
              "      <th>1</th>\n",
              "      <td>2</td>\n",
              "      <td>B00813GRG4</td>\n",
              "      <td>A1D87F6ZCVE5NK</td>\n",
              "      <td>dll pa</td>\n",
              "      <td>0</td>\n",
              "      <td>0</td>\n",
              "      <td>0</td>\n",
              "      <td>1346976000</td>\n",
              "      <td>Not as Advertised</td>\n",
              "      <td>Product arrived labeled as Jumbo Salted Peanut...</td>\n",
              "    </tr>\n",
              "    <tr>\n",
              "      <th>2</th>\n",
              "      <td>3</td>\n",
              "      <td>B000LQOCH0</td>\n",
              "      <td>ABXLMWJIXXAIN</td>\n",
              "      <td>Natalia Corres \"Natalia Corres\"</td>\n",
              "      <td>1</td>\n",
              "      <td>1</td>\n",
              "      <td>1</td>\n",
              "      <td>1219017600</td>\n",
              "      <td>\"Delight\" says it all</td>\n",
              "      <td>This is a confection that has been around a fe...</td>\n",
              "    </tr>\n",
              "    <tr>\n",
              "      <th>3</th>\n",
              "      <td>4</td>\n",
              "      <td>B000UA0QIQ</td>\n",
              "      <td>A395BORC6FGVXV</td>\n",
              "      <td>Karl</td>\n",
              "      <td>3</td>\n",
              "      <td>3</td>\n",
              "      <td>0</td>\n",
              "      <td>1307923200</td>\n",
              "      <td>Cough Medicine</td>\n",
              "      <td>If you are looking for the secret ingredient i...</td>\n",
              "    </tr>\n",
              "    <tr>\n",
              "      <th>4</th>\n",
              "      <td>5</td>\n",
              "      <td>B006K2ZZ7K</td>\n",
              "      <td>A1UQRSCLF8GW1T</td>\n",
              "      <td>Michael D. Bigham \"M. Wassir\"</td>\n",
              "      <td>0</td>\n",
              "      <td>0</td>\n",
              "      <td>1</td>\n",
              "      <td>1350777600</td>\n",
              "      <td>Great taffy</td>\n",
              "      <td>Great taffy at a great price.  There was a wid...</td>\n",
              "    </tr>\n",
              "  </tbody>\n",
              "</table>\n",
              "</div>"
            ],
            "text/plain": [
              "   Id  ...                                               Text\n",
              "0   1  ...  I have bought several of the Vitality canned d...\n",
              "1   2  ...  Product arrived labeled as Jumbo Salted Peanut...\n",
              "2   3  ...  This is a confection that has been around a fe...\n",
              "3   4  ...  If you are looking for the secret ingredient i...\n",
              "4   5  ...  Great taffy at a great price.  There was a wid...\n",
              "\n",
              "[5 rows x 10 columns]"
            ]
          },
          "metadata": {
            "tags": []
          },
          "execution_count": 9
        }
      ]
    },
    {
      "cell_type": "code",
      "metadata": {
        "id": "dOPlbP7ojmDN",
        "colab_type": "code",
        "colab": {}
      },
      "source": [
        "display = pd.read_sql_query(\"\"\"\n",
        "SELECT UserId, ProductId, ProfileName, Time, Score, Text, COUNT(*)\n",
        "FROM Reviews\n",
        "GROUP BY UserId\n",
        "HAVING COUNT(*)>1\n",
        "\"\"\", conn)"
      ],
      "execution_count": 0,
      "outputs": []
    },
    {
      "cell_type": "code",
      "metadata": {
        "id": "nZzgXQvujujE",
        "colab_type": "code",
        "outputId": "e82c245e-bb67-4e2a-b7ef-5ed1ff6654fd",
        "colab": {
          "base_uri": "https://localhost:8080/",
          "height": 212
        }
      },
      "source": [
        "print(display.shape)\n",
        "display.head()"
      ],
      "execution_count": 0,
      "outputs": [
        {
          "output_type": "stream",
          "text": [
            "(80668, 7)\n"
          ],
          "name": "stdout"
        },
        {
          "output_type": "execute_result",
          "data": {
            "text/html": [
              "<div>\n",
              "<style scoped>\n",
              "    .dataframe tbody tr th:only-of-type {\n",
              "        vertical-align: middle;\n",
              "    }\n",
              "\n",
              "    .dataframe tbody tr th {\n",
              "        vertical-align: top;\n",
              "    }\n",
              "\n",
              "    .dataframe thead th {\n",
              "        text-align: right;\n",
              "    }\n",
              "</style>\n",
              "<table border=\"1\" class=\"dataframe\">\n",
              "  <thead>\n",
              "    <tr style=\"text-align: right;\">\n",
              "      <th></th>\n",
              "      <th>UserId</th>\n",
              "      <th>ProductId</th>\n",
              "      <th>ProfileName</th>\n",
              "      <th>Time</th>\n",
              "      <th>Score</th>\n",
              "      <th>Text</th>\n",
              "      <th>COUNT(*)</th>\n",
              "    </tr>\n",
              "  </thead>\n",
              "  <tbody>\n",
              "    <tr>\n",
              "      <th>0</th>\n",
              "      <td>#oc-R115TNMSPFT9I7</td>\n",
              "      <td>B007Y59HVM</td>\n",
              "      <td>Breyton</td>\n",
              "      <td>1331510400</td>\n",
              "      <td>2</td>\n",
              "      <td>Overall its just OK when considering the price...</td>\n",
              "      <td>2</td>\n",
              "    </tr>\n",
              "    <tr>\n",
              "      <th>1</th>\n",
              "      <td>#oc-R11D9D7SHXIJB9</td>\n",
              "      <td>B005HG9ET0</td>\n",
              "      <td>Louis E. Emory \"hoppy\"</td>\n",
              "      <td>1342396800</td>\n",
              "      <td>5</td>\n",
              "      <td>My wife has recurring extreme muscle spasms, u...</td>\n",
              "      <td>3</td>\n",
              "    </tr>\n",
              "    <tr>\n",
              "      <th>2</th>\n",
              "      <td>#oc-R11DNU2NBKQ23Z</td>\n",
              "      <td>B007Y59HVM</td>\n",
              "      <td>Kim Cieszykowski</td>\n",
              "      <td>1348531200</td>\n",
              "      <td>1</td>\n",
              "      <td>This coffee is horrible and unfortunately not ...</td>\n",
              "      <td>2</td>\n",
              "    </tr>\n",
              "    <tr>\n",
              "      <th>3</th>\n",
              "      <td>#oc-R11O5J5ZVQE25C</td>\n",
              "      <td>B005HG9ET0</td>\n",
              "      <td>Penguin Chick</td>\n",
              "      <td>1346889600</td>\n",
              "      <td>5</td>\n",
              "      <td>This will be the bottle that you grab from the...</td>\n",
              "      <td>3</td>\n",
              "    </tr>\n",
              "    <tr>\n",
              "      <th>4</th>\n",
              "      <td>#oc-R12KPBODL2B5ZD</td>\n",
              "      <td>B007OSBE1U</td>\n",
              "      <td>Christopher P. Presta</td>\n",
              "      <td>1348617600</td>\n",
              "      <td>1</td>\n",
              "      <td>I didnt like this coffee. Instead of telling y...</td>\n",
              "      <td>2</td>\n",
              "    </tr>\n",
              "  </tbody>\n",
              "</table>\n",
              "</div>"
            ],
            "text/plain": [
              "               UserId  ... COUNT(*)\n",
              "0  #oc-R115TNMSPFT9I7  ...        2\n",
              "1  #oc-R11D9D7SHXIJB9  ...        3\n",
              "2  #oc-R11DNU2NBKQ23Z  ...        2\n",
              "3  #oc-R11O5J5ZVQE25C  ...        3\n",
              "4  #oc-R12KPBODL2B5ZD  ...        2\n",
              "\n",
              "[5 rows x 7 columns]"
            ]
          },
          "metadata": {
            "tags": []
          },
          "execution_count": 11
        }
      ]
    },
    {
      "cell_type": "code",
      "metadata": {
        "id": "lmkAgglIj2LP",
        "colab_type": "code",
        "outputId": "c99d4480-e56a-4f51-c9e2-0b226fc3c411",
        "colab": {
          "base_uri": "https://localhost:8080/",
          "height": 77
        }
      },
      "source": [
        "display[display['UserId']=='AZY10LLTJ71NX']"
      ],
      "execution_count": 0,
      "outputs": [
        {
          "output_type": "execute_result",
          "data": {
            "text/html": [
              "<div>\n",
              "<style scoped>\n",
              "    .dataframe tbody tr th:only-of-type {\n",
              "        vertical-align: middle;\n",
              "    }\n",
              "\n",
              "    .dataframe tbody tr th {\n",
              "        vertical-align: top;\n",
              "    }\n",
              "\n",
              "    .dataframe thead th {\n",
              "        text-align: right;\n",
              "    }\n",
              "</style>\n",
              "<table border=\"1\" class=\"dataframe\">\n",
              "  <thead>\n",
              "    <tr style=\"text-align: right;\">\n",
              "      <th></th>\n",
              "      <th>UserId</th>\n",
              "      <th>ProductId</th>\n",
              "      <th>ProfileName</th>\n",
              "      <th>Time</th>\n",
              "      <th>Score</th>\n",
              "      <th>Text</th>\n",
              "      <th>COUNT(*)</th>\n",
              "    </tr>\n",
              "  </thead>\n",
              "  <tbody>\n",
              "    <tr>\n",
              "      <th>80638</th>\n",
              "      <td>AZY10LLTJ71NX</td>\n",
              "      <td>B006P7E5ZI</td>\n",
              "      <td>undertheshrine \"undertheshrine\"</td>\n",
              "      <td>1334707200</td>\n",
              "      <td>5</td>\n",
              "      <td>I was recommended to try green tea extract to ...</td>\n",
              "      <td>5</td>\n",
              "    </tr>\n",
              "  </tbody>\n",
              "</table>\n",
              "</div>"
            ],
            "text/plain": [
              "              UserId  ... COUNT(*)\n",
              "80638  AZY10LLTJ71NX  ...        5\n",
              "\n",
              "[1 rows x 7 columns]"
            ]
          },
          "metadata": {
            "tags": []
          },
          "execution_count": 12
        }
      ]
    },
    {
      "cell_type": "code",
      "metadata": {
        "id": "lLIEC5qLj6cl",
        "colab_type": "code",
        "outputId": "7d978d1e-1f40-4ec9-9295-27d7830cf9fe",
        "colab": {
          "base_uri": "https://localhost:8080/",
          "height": 34
        }
      },
      "source": [
        "display['COUNT(*)'].sum()"
      ],
      "execution_count": 0,
      "outputs": [
        {
          "output_type": "execute_result",
          "data": {
            "text/plain": [
              "393063"
            ]
          },
          "metadata": {
            "tags": []
          },
          "execution_count": 13
        }
      ]
    },
    {
      "cell_type": "markdown",
      "metadata": {
        "id": "EBZeBQFmkQwI",
        "colab_type": "text"
      },
      "source": [
        "# [2] Exploratory Data Analysis"
      ]
    },
    {
      "cell_type": "markdown",
      "metadata": {
        "id": "f3nDo_hOkvli",
        "colab_type": "text"
      },
      "source": [
        "## [2.1] Data Cleaning: Deduplication"
      ]
    },
    {
      "cell_type": "code",
      "metadata": {
        "id": "uy0PXgFej_p8",
        "colab_type": "code",
        "outputId": "94023234-cd38-425e-c249-0d076849bffd",
        "colab": {
          "base_uri": "https://localhost:8080/",
          "height": 296
        }
      },
      "source": [
        "display= pd.read_sql_query(\"\"\"\n",
        "SELECT *\n",
        "FROM Reviews\n",
        "WHERE Score != 3 AND UserId=\"AR5J8UI46CURR\"\n",
        "ORDER BY ProductID\n",
        "\"\"\", conn)\n",
        "print(display.shape)\n",
        "display.head()"
      ],
      "execution_count": 0,
      "outputs": [
        {
          "output_type": "stream",
          "text": [
            "(5, 10)\n"
          ],
          "name": "stdout"
        },
        {
          "output_type": "execute_result",
          "data": {
            "text/html": [
              "<div>\n",
              "<style scoped>\n",
              "    .dataframe tbody tr th:only-of-type {\n",
              "        vertical-align: middle;\n",
              "    }\n",
              "\n",
              "    .dataframe tbody tr th {\n",
              "        vertical-align: top;\n",
              "    }\n",
              "\n",
              "    .dataframe thead th {\n",
              "        text-align: right;\n",
              "    }\n",
              "</style>\n",
              "<table border=\"1\" class=\"dataframe\">\n",
              "  <thead>\n",
              "    <tr style=\"text-align: right;\">\n",
              "      <th></th>\n",
              "      <th>Id</th>\n",
              "      <th>ProductId</th>\n",
              "      <th>UserId</th>\n",
              "      <th>ProfileName</th>\n",
              "      <th>HelpfulnessNumerator</th>\n",
              "      <th>HelpfulnessDenominator</th>\n",
              "      <th>Score</th>\n",
              "      <th>Time</th>\n",
              "      <th>Summary</th>\n",
              "      <th>Text</th>\n",
              "    </tr>\n",
              "  </thead>\n",
              "  <tbody>\n",
              "    <tr>\n",
              "      <th>0</th>\n",
              "      <td>78445</td>\n",
              "      <td>B000HDL1RQ</td>\n",
              "      <td>AR5J8UI46CURR</td>\n",
              "      <td>Geetha Krishnan</td>\n",
              "      <td>2</td>\n",
              "      <td>2</td>\n",
              "      <td>5</td>\n",
              "      <td>1199577600</td>\n",
              "      <td>LOACKER QUADRATINI VANILLA WAFERS</td>\n",
              "      <td>DELICIOUS WAFERS. I FIND THAT EUROPEAN WAFERS ...</td>\n",
              "    </tr>\n",
              "    <tr>\n",
              "      <th>1</th>\n",
              "      <td>138317</td>\n",
              "      <td>B000HDOPYC</td>\n",
              "      <td>AR5J8UI46CURR</td>\n",
              "      <td>Geetha Krishnan</td>\n",
              "      <td>2</td>\n",
              "      <td>2</td>\n",
              "      <td>5</td>\n",
              "      <td>1199577600</td>\n",
              "      <td>LOACKER QUADRATINI VANILLA WAFERS</td>\n",
              "      <td>DELICIOUS WAFERS. I FIND THAT EUROPEAN WAFERS ...</td>\n",
              "    </tr>\n",
              "    <tr>\n",
              "      <th>2</th>\n",
              "      <td>138277</td>\n",
              "      <td>B000HDOPYM</td>\n",
              "      <td>AR5J8UI46CURR</td>\n",
              "      <td>Geetha Krishnan</td>\n",
              "      <td>2</td>\n",
              "      <td>2</td>\n",
              "      <td>5</td>\n",
              "      <td>1199577600</td>\n",
              "      <td>LOACKER QUADRATINI VANILLA WAFERS</td>\n",
              "      <td>DELICIOUS WAFERS. I FIND THAT EUROPEAN WAFERS ...</td>\n",
              "    </tr>\n",
              "    <tr>\n",
              "      <th>3</th>\n",
              "      <td>73791</td>\n",
              "      <td>B000HDOPZG</td>\n",
              "      <td>AR5J8UI46CURR</td>\n",
              "      <td>Geetha Krishnan</td>\n",
              "      <td>2</td>\n",
              "      <td>2</td>\n",
              "      <td>5</td>\n",
              "      <td>1199577600</td>\n",
              "      <td>LOACKER QUADRATINI VANILLA WAFERS</td>\n",
              "      <td>DELICIOUS WAFERS. I FIND THAT EUROPEAN WAFERS ...</td>\n",
              "    </tr>\n",
              "    <tr>\n",
              "      <th>4</th>\n",
              "      <td>155049</td>\n",
              "      <td>B000PAQ75C</td>\n",
              "      <td>AR5J8UI46CURR</td>\n",
              "      <td>Geetha Krishnan</td>\n",
              "      <td>2</td>\n",
              "      <td>2</td>\n",
              "      <td>5</td>\n",
              "      <td>1199577600</td>\n",
              "      <td>LOACKER QUADRATINI VANILLA WAFERS</td>\n",
              "      <td>DELICIOUS WAFERS. I FIND THAT EUROPEAN WAFERS ...</td>\n",
              "    </tr>\n",
              "  </tbody>\n",
              "</table>\n",
              "</div>"
            ],
            "text/plain": [
              "       Id  ...                                               Text\n",
              "0   78445  ...  DELICIOUS WAFERS. I FIND THAT EUROPEAN WAFERS ...\n",
              "1  138317  ...  DELICIOUS WAFERS. I FIND THAT EUROPEAN WAFERS ...\n",
              "2  138277  ...  DELICIOUS WAFERS. I FIND THAT EUROPEAN WAFERS ...\n",
              "3   73791  ...  DELICIOUS WAFERS. I FIND THAT EUROPEAN WAFERS ...\n",
              "4  155049  ...  DELICIOUS WAFERS. I FIND THAT EUROPEAN WAFERS ...\n",
              "\n",
              "[5 rows x 10 columns]"
            ]
          },
          "metadata": {
            "tags": []
          },
          "execution_count": 14
        }
      ]
    },
    {
      "cell_type": "code",
      "metadata": {
        "id": "qYaHMbYJk8kl",
        "colab_type": "code",
        "colab": {}
      },
      "source": [
        "#Sorting data according to ProductId in ascending order\n",
        "sorted_data=filter_data.sort_values('ProductId', axis=0, ascending=True, inplace=False, kind='quicksort', na_position='last')"
      ],
      "execution_count": 0,
      "outputs": []
    },
    {
      "cell_type": "code",
      "metadata": {
        "id": "vVpQgUqalGYP",
        "colab_type": "code",
        "outputId": "39a64821-d10a-4e15-ac6e-fd2fb528392e",
        "colab": {
          "base_uri": "https://localhost:8080/",
          "height": 34
        }
      },
      "source": [
        "#Deduplication of entries\n",
        "final=sorted_data.drop_duplicates(subset={\"UserId\",\"ProfileName\",\"Time\",\"Text\"}, keep='first', inplace=False)\n",
        "final.shape"
      ],
      "execution_count": 0,
      "outputs": [
        {
          "output_type": "execute_result",
          "data": {
            "text/plain": [
              "(46072, 10)"
            ]
          },
          "metadata": {
            "tags": []
          },
          "execution_count": 16
        }
      ]
    },
    {
      "cell_type": "code",
      "metadata": {
        "id": "8qwQbiqClJbG",
        "colab_type": "code",
        "outputId": "63d62b9d-4a9a-4a44-ad03-cb9783f90bd2",
        "colab": {
          "base_uri": "https://localhost:8080/",
          "height": 34
        }
      },
      "source": [
        "#Checking to see how much % of data still remains\n",
        "(final['Id'].size*1.0)/(filter_data['Id'].size*1.0)*100"
      ],
      "execution_count": 0,
      "outputs": [
        {
          "output_type": "execute_result",
          "data": {
            "text/plain": [
              "92.144"
            ]
          },
          "metadata": {
            "tags": []
          },
          "execution_count": 17
        }
      ]
    },
    {
      "cell_type": "code",
      "metadata": {
        "id": "oW1l0NhUlNKr",
        "colab_type": "code",
        "outputId": "a322b873-5f8e-451e-986f-ed1731755c46",
        "colab": {
          "base_uri": "https://localhost:8080/",
          "height": 140
        }
      },
      "source": [
        "display= pd.read_sql_query(\"\"\"\n",
        "SELECT *\n",
        "FROM Reviews\n",
        "WHERE Score != 3 AND Id=44737 OR Id=64422\n",
        "ORDER BY ProductID\n",
        "\"\"\", conn)\n",
        "\n",
        "display.head()"
      ],
      "execution_count": 0,
      "outputs": [
        {
          "output_type": "execute_result",
          "data": {
            "text/html": [
              "<div>\n",
              "<style scoped>\n",
              "    .dataframe tbody tr th:only-of-type {\n",
              "        vertical-align: middle;\n",
              "    }\n",
              "\n",
              "    .dataframe tbody tr th {\n",
              "        vertical-align: top;\n",
              "    }\n",
              "\n",
              "    .dataframe thead th {\n",
              "        text-align: right;\n",
              "    }\n",
              "</style>\n",
              "<table border=\"1\" class=\"dataframe\">\n",
              "  <thead>\n",
              "    <tr style=\"text-align: right;\">\n",
              "      <th></th>\n",
              "      <th>Id</th>\n",
              "      <th>ProductId</th>\n",
              "      <th>UserId</th>\n",
              "      <th>ProfileName</th>\n",
              "      <th>HelpfulnessNumerator</th>\n",
              "      <th>HelpfulnessDenominator</th>\n",
              "      <th>Score</th>\n",
              "      <th>Time</th>\n",
              "      <th>Summary</th>\n",
              "      <th>Text</th>\n",
              "    </tr>\n",
              "  </thead>\n",
              "  <tbody>\n",
              "    <tr>\n",
              "      <th>0</th>\n",
              "      <td>64422</td>\n",
              "      <td>B000MIDROQ</td>\n",
              "      <td>A161DK06JJMCYF</td>\n",
              "      <td>J. E. Stephens \"Jeanne\"</td>\n",
              "      <td>3</td>\n",
              "      <td>1</td>\n",
              "      <td>5</td>\n",
              "      <td>1224892800</td>\n",
              "      <td>Bought This for My Son at College</td>\n",
              "      <td>My son loves spaghetti so I didn't hesitate or...</td>\n",
              "    </tr>\n",
              "    <tr>\n",
              "      <th>1</th>\n",
              "      <td>44737</td>\n",
              "      <td>B001EQ55RW</td>\n",
              "      <td>A2V0I904FH7ABY</td>\n",
              "      <td>Ram</td>\n",
              "      <td>3</td>\n",
              "      <td>2</td>\n",
              "      <td>4</td>\n",
              "      <td>1212883200</td>\n",
              "      <td>Pure cocoa taste with crunchy almonds inside</td>\n",
              "      <td>It was almost a 'love at first bite' - the per...</td>\n",
              "    </tr>\n",
              "  </tbody>\n",
              "</table>\n",
              "</div>"
            ],
            "text/plain": [
              "      Id  ...                                               Text\n",
              "0  64422  ...  My son loves spaghetti so I didn't hesitate or...\n",
              "1  44737  ...  It was almost a 'love at first bite' - the per...\n",
              "\n",
              "[2 rows x 10 columns]"
            ]
          },
          "metadata": {
            "tags": []
          },
          "execution_count": 18
        }
      ]
    },
    {
      "cell_type": "code",
      "metadata": {
        "id": "DoR-PIyylSbl",
        "colab_type": "code",
        "colab": {}
      },
      "source": [
        "final=final[final.HelpfulnessNumerator<=final.HelpfulnessDenominator]"
      ],
      "execution_count": 0,
      "outputs": []
    },
    {
      "cell_type": "code",
      "metadata": {
        "id": "zuxmK8mSlZDX",
        "colab_type": "code",
        "outputId": "37f74ed5-b0a2-474b-f8c0-72e0726d22bf",
        "colab": {
          "base_uri": "https://localhost:8080/",
          "height": 84
        }
      },
      "source": [
        "#Before starting the next phase of preprocessing lets see the number of entries left\n",
        "print(final.shape)\n",
        "\n",
        "#How many positive and negative reviews are present in our dataset?\n",
        "final['Score'].value_counts()"
      ],
      "execution_count": 0,
      "outputs": [
        {
          "output_type": "stream",
          "text": [
            "(46071, 10)\n"
          ],
          "name": "stdout"
        },
        {
          "output_type": "execute_result",
          "data": {
            "text/plain": [
              "1    38479\n",
              "0     7592\n",
              "Name: Score, dtype: int64"
            ]
          },
          "metadata": {
            "tags": []
          },
          "execution_count": 20
        }
      ]
    },
    {
      "cell_type": "markdown",
      "metadata": {
        "id": "ppjnxlEjlhUi",
        "colab_type": "text"
      },
      "source": [
        "## [3] Preprocessing"
      ]
    },
    {
      "cell_type": "markdown",
      "metadata": {
        "id": "grip8Pw6ls-k",
        "colab_type": "text"
      },
      "source": [
        "### [3.1]. Preprocessing Review Text"
      ]
    },
    {
      "cell_type": "code",
      "metadata": {
        "id": "v_wyqayzlc6V",
        "colab_type": "code",
        "outputId": "cd9fef91-5f61-438d-ea01-192123f1535c",
        "colab": {
          "base_uri": "https://localhost:8080/",
          "height": 171
        }
      },
      "source": [
        "# printing some random reviews\n",
        "sent_0 = final['Text'].values[0]\n",
        "print(sent_0)\n",
        "print(\"=\"*50)\n",
        "\n",
        "sent_1000 = final['Text'].values[1000]\n",
        "print(sent_1000)\n",
        "print(\"=\"*50)\n",
        "\n",
        "sent_1500 = final['Text'].values[1500]\n",
        "print(sent_1500)\n",
        "print(\"=\"*50)\n",
        "\n",
        "sent_4900 = final['Text'].values[4900]\n",
        "print(sent_4900)\n",
        "print(\"=\"*50)"
      ],
      "execution_count": 0,
      "outputs": [
        {
          "output_type": "stream",
          "text": [
            "My dogs loves this chicken but its a product from China, so we wont be buying it anymore.  Its very hard to find any chicken products made in the USA but they are out there, but this one isnt.  Its too bad too because its a good product but I wont take any chances till they know what is going on with the china imports.\n",
            "==================================================\n",
            "this is yummy, easy and unusual. it makes a quick, delicous pie, crisp or cobbler. home made is better, but a heck of a lot more work. this is great to have on hand for last minute dessert needs where you really want to impress wih your creativity in cooking! recommended.\n",
            "==================================================\n",
            "Great flavor, low in calories, high in nutrients, high in protein! Usually protein powders are high priced and high in calories, this one is a great bargain and tastes great, I highly recommend for the lady gym rats, probably not \"macho\" enough for guys since it is soy based...\n",
            "==================================================\n",
            "For those of you wanting a high-quality, yet affordable green tea, you should definitely give this one a try. Let me first start by saying that everyone is looking for something different for their ideal tea, and I will attempt to briefly highlight what makes this tea attractive to a wide range of tea drinkers (whether you are a beginner or long-time tea enthusiast).  I have gone through over 12 boxes of this tea myself, and highly recommend it for the following reasons:<br /><br />-Quality:  First, this tea offers a smooth quality without any harsh or bitter after tones, which often turns people off from many green teas.  I've found my ideal brewing time to be between 3-5 minutes, giving you a light but flavorful cup of tea.  However, if you get distracted or forget about your tea and leave it brewing for 20+ minutes like I sometimes do, the quality of this tea is such that you still get a smooth but deeper flavor without the bad after taste.  The leaves themselves are whole leaves (not powdered stems, branches, etc commonly found in other brands), and the high-quality nylon bags also include chunks of tropical fruit and other discernible ingredients.  This isn't your standard cheap paper bag with a mix of unknown ingredients that have been ground down to a fine powder, leaving you to wonder what it is you are actually drinking.<br /><br />-Taste:  This tea offers notes of real pineapple and other hints of tropical fruits, yet isn't sweet or artificially flavored.  You have the foundation of a high-quality young hyson green tea for those true \"tea flavor\" lovers, yet the subtle hints of fruit make this a truly unique tea that I believe most will enjoy.  If you want it sweet, you can add sugar, splenda, etc but this really is not necessary as this tea offers an inherent warmth of flavor through it's ingredients.<br /><br />-Price:  This tea offers an excellent product at an exceptional price (especially when purchased at the prices Amazon offers).  Compared to other brands which I believe to be of similar quality (Mighty Leaf, Rishi, Two Leaves, etc.), Revolution offers a superior product at an outstanding price.  I have been purchasing this through Amazon for less per box than I would be paying at my local grocery store for Lipton, etc.<br /><br />Overall, this is a wonderful tea that is comparable, and even better than, other teas that are priced much higher.  It offers a well-balanced cup of green tea that I believe many will enjoy.  In terms of taste, quality, and price, I would argue you won't find a better combination that that offered by Revolution's Tropical Green Tea.\n",
            "==================================================\n"
          ],
          "name": "stdout"
        }
      ]
    },
    {
      "cell_type": "code",
      "metadata": {
        "id": "q83HmF88l3US",
        "colab_type": "code",
        "outputId": "504d977d-5ee6-46b3-9026-7b22c5a6e897",
        "colab": {
          "base_uri": "https://localhost:8080/",
          "height": 54
        }
      },
      "source": [
        "# remove urls from text python: https://stackoverflow.com/a/40823105/4084039\n",
        "sent_0 = re.sub(r\"http\\S+\", \"\", sent_0)\n",
        "sent_1000 = re.sub(r\"http\\S+\", \"\", sent_1000)\n",
        "sent_150 = re.sub(r\"http\\S+\", \"\", sent_1500)\n",
        "sent_4900 = re.sub(r\"http\\S+\", \"\", sent_4900)\n",
        "\n",
        "print(sent_0)"
      ],
      "execution_count": 0,
      "outputs": [
        {
          "output_type": "stream",
          "text": [
            "My dogs loves this chicken but its a product from China, so we wont be buying it anymore.  Its very hard to find any chicken products made in the USA but they are out there, but this one isnt.  Its too bad too because its a good product but I wont take any chances till they know what is going on with the china imports.\n"
          ],
          "name": "stdout"
        }
      ]
    },
    {
      "cell_type": "code",
      "metadata": {
        "id": "RcAQ9p72l7Nm",
        "colab_type": "code",
        "outputId": "d5dcb5c1-2aae-4512-fcc3-2b24cb866868",
        "colab": {
          "base_uri": "https://localhost:8080/",
          "height": 154
        }
      },
      "source": [
        "# https://stackoverflow.com/questions/16206380/python-beautifulsoup-how-to-remove-all-tags-from-an-element\n",
        "from bs4 import BeautifulSoup\n",
        "\n",
        "soup = BeautifulSoup(sent_0, 'lxml')\n",
        "text = soup.get_text()\n",
        "print(text)\n",
        "print(\"=\"*50)\n",
        "\n",
        "soup = BeautifulSoup(sent_1000, 'lxml')\n",
        "text = soup.get_text()\n",
        "print(text)\n",
        "print(\"=\"*50)\n",
        "\n",
        "soup = BeautifulSoup(sent_1500, 'lxml')\n",
        "text = soup.get_text()\n",
        "print(text)\n",
        "print(\"=\"*50)\n",
        "\n",
        "soup = BeautifulSoup(sent_4900, 'lxml')\n",
        "text = soup.get_text()\n",
        "print(text)"
      ],
      "execution_count": 0,
      "outputs": [
        {
          "output_type": "stream",
          "text": [
            "My dogs loves this chicken but its a product from China, so we wont be buying it anymore.  Its very hard to find any chicken products made in the USA but they are out there, but this one isnt.  Its too bad too because its a good product but I wont take any chances till they know what is going on with the china imports.\n",
            "==================================================\n",
            "this is yummy, easy and unusual. it makes a quick, delicous pie, crisp or cobbler. home made is better, but a heck of a lot more work. this is great to have on hand for last minute dessert needs where you really want to impress wih your creativity in cooking! recommended.\n",
            "==================================================\n",
            "Great flavor, low in calories, high in nutrients, high in protein! Usually protein powders are high priced and high in calories, this one is a great bargain and tastes great, I highly recommend for the lady gym rats, probably not \"macho\" enough for guys since it is soy based...\n",
            "==================================================\n",
            "For those of you wanting a high-quality, yet affordable green tea, you should definitely give this one a try. Let me first start by saying that everyone is looking for something different for their ideal tea, and I will attempt to briefly highlight what makes this tea attractive to a wide range of tea drinkers (whether you are a beginner or long-time tea enthusiast).  I have gone through over 12 boxes of this tea myself, and highly recommend it for the following reasons:-Quality:  First, this tea offers a smooth quality without any harsh or bitter after tones, which often turns people off from many green teas.  I've found my ideal brewing time to be between 3-5 minutes, giving you a light but flavorful cup of tea.  However, if you get distracted or forget about your tea and leave it brewing for 20+ minutes like I sometimes do, the quality of this tea is such that you still get a smooth but deeper flavor without the bad after taste.  The leaves themselves are whole leaves (not powdered stems, branches, etc commonly found in other brands), and the high-quality nylon bags also include chunks of tropical fruit and other discernible ingredients.  This isn't your standard cheap paper bag with a mix of unknown ingredients that have been ground down to a fine powder, leaving you to wonder what it is you are actually drinking.-Taste:  This tea offers notes of real pineapple and other hints of tropical fruits, yet isn't sweet or artificially flavored.  You have the foundation of a high-quality young hyson green tea for those true \"tea flavor\" lovers, yet the subtle hints of fruit make this a truly unique tea that I believe most will enjoy.  If you want it sweet, you can add sugar, splenda, etc but this really is not necessary as this tea offers an inherent warmth of flavor through it's ingredients.-Price:  This tea offers an excellent product at an exceptional price (especially when purchased at the prices Amazon offers).  Compared to other brands which I believe to be of similar quality (Mighty Leaf, Rishi, Two Leaves, etc.), Revolution offers a superior product at an outstanding price.  I have been purchasing this through Amazon for less per box than I would be paying at my local grocery store for Lipton, etc.Overall, this is a wonderful tea that is comparable, and even better than, other teas that are priced much higher.  It offers a well-balanced cup of green tea that I believe many will enjoy.  In terms of taste, quality, and price, I would argue you won't find a better combination that that offered by Revolution's Tropical Green Tea.\n"
          ],
          "name": "stdout"
        }
      ]
    },
    {
      "cell_type": "code",
      "metadata": {
        "id": "G28JcclVl-v7",
        "colab_type": "code",
        "colab": {}
      },
      "source": [
        "# https://stackoverflow.com/a/47091490/4084039\n",
        "import re\n",
        "\n",
        "def decontracted(phrase):\n",
        "    # specific\n",
        "    phrase = re.sub(r\"won't\", \"will not\", phrase)\n",
        "    phrase = re.sub(r\"can\\'t\", \"can not\", phrase)\n",
        "\n",
        "    # general\n",
        "    phrase = re.sub(r\"n\\'t\", \" not\", phrase)\n",
        "    phrase = re.sub(r\"\\'re\", \" are\", phrase)\n",
        "    phrase = re.sub(r\"\\'s\", \" is\", phrase)\n",
        "    phrase = re.sub(r\"\\'d\", \" would\", phrase)\n",
        "    phrase = re.sub(r\"\\'ll\", \" will\", phrase)\n",
        "    phrase = re.sub(r\"\\'t\", \" not\", phrase)\n",
        "    phrase = re.sub(r\"\\'ve\", \" have\", phrase)\n",
        "    phrase = re.sub(r\"\\'m\", \" am\", phrase)\n",
        "    return phrase"
      ],
      "execution_count": 0,
      "outputs": []
    },
    {
      "cell_type": "code",
      "metadata": {
        "id": "xXxNwoKgmCwn",
        "colab_type": "code",
        "outputId": "4b7878d0-27fc-4670-d744-e7e4933bf865",
        "colab": {
          "base_uri": "https://localhost:8080/",
          "height": 70
        }
      },
      "source": [
        "sent_1500 = decontracted(sent_1500)\n",
        "print(sent_1500)\n",
        "print(\"=\"*50)"
      ],
      "execution_count": 0,
      "outputs": [
        {
          "output_type": "stream",
          "text": [
            "Great flavor, low in calories, high in nutrients, high in protein! Usually protein powders are high priced and high in calories, this one is a great bargain and tastes great, I highly recommend for the lady gym rats, probably not \"macho\" enough for guys since it is soy based...\n",
            "==================================================\n"
          ],
          "name": "stdout"
        }
      ]
    },
    {
      "cell_type": "code",
      "metadata": {
        "id": "7AA6VmCbmF3T",
        "colab_type": "code",
        "outputId": "e8cc0d1a-66ed-4802-cf78-1d0708be2146",
        "colab": {
          "base_uri": "https://localhost:8080/",
          "height": 54
        }
      },
      "source": [
        "#remove words with numbers python: https://stackoverflow.com/a/18082370/4084039\n",
        "sent_0 = re.sub(\"\\S*\\d\\S*\", \"\", sent_0).strip()\n",
        "print(sent_0)"
      ],
      "execution_count": 0,
      "outputs": [
        {
          "output_type": "stream",
          "text": [
            "My dogs loves this chicken but its a product from China, so we wont be buying it anymore.  Its very hard to find any chicken products made in the USA but they are out there, but this one isnt.  Its too bad too because its a good product but I wont take any chances till they know what is going on with the china imports.\n"
          ],
          "name": "stdout"
        }
      ]
    },
    {
      "cell_type": "code",
      "metadata": {
        "id": "4G76SqPSmMD5",
        "colab_type": "code",
        "colab": {}
      },
      "source": [
        "# https://gist.github.com/sebleier/554280\n",
        "# we are removing the words from the stop words list: 'no', 'nor', 'not'\n",
        "# <br /><br /> ==> after the above steps, we are getting \"br br\"\n",
        "# we are including them into stop words list\n",
        "# instead of <br /> if we have <br/> these tags would have revmoved in the 1st step\n",
        "\n",
        "stopwords= set(['br', 'the', 'i', 'me', 'my', 'myself', 'we', 'our', 'ours', 'ourselves', 'you', \"you're\", \"you've\",\\\n",
        "            \"you'll\", \"you'd\", 'your', 'yours', 'yourself', 'yourselves', 'he', 'him', 'his', 'himself', \\\n",
        "            'she', \"she's\", 'her', 'hers', 'herself', 'it', \"it's\", 'its', 'itself', 'they', 'them', 'their',\\\n",
        "            'theirs', 'themselves', 'what', 'which', 'who', 'whom', 'this', 'that', \"that'll\", 'these', 'those', \\\n",
        "            'am', 'is', 'are', 'was', 'were', 'be', 'been', 'being', 'have', 'has', 'had', 'having', 'do', 'does', \\\n",
        "            'did', 'doing', 'a', 'an', 'the', 'and', 'but', 'if', 'or', 'because', 'as', 'until', 'while', 'of', \\\n",
        "            'at', 'by', 'for', 'with', 'about', 'against', 'between', 'into', 'through', 'during', 'before', 'after',\\\n",
        "            'above', 'below', 'to', 'from', 'up', 'down', 'in', 'out', 'on', 'off', 'over', 'under', 'again', 'further',\\\n",
        "            'then', 'once', 'here', 'there', 'when', 'where', 'why', 'how', 'all', 'any', 'both', 'each', 'few', 'more',\\\n",
        "            'most', 'other', 'some', 'such', 'only', 'own', 'same', 'so', 'than', 'too', 'very', \\\n",
        "            's', 't', 'can', 'will', 'just', 'don', \"don't\", 'should', \"should've\", 'now', 'd', 'll', 'm', 'o', 're', \\\n",
        "            've', 'y', 'ain', 'aren', \"aren't\", 'couldn', \"couldn't\", 'didn', \"didn't\", 'doesn', \"doesn't\", 'hadn',\\\n",
        "            \"hadn't\", 'hasn', \"hasn't\", 'haven', \"haven't\", 'isn', \"isn't\", 'ma', 'mightn', \"mightn't\", 'mustn',\\\n",
        "            \"mustn't\", 'needn', \"needn't\", 'shan', \"shan't\", 'shouldn', \"shouldn't\", 'wasn', \"wasn't\", 'weren', \"weren't\", \\\n",
        "            'won', \"won't\", 'wouldn', \"wouldn't\"])"
      ],
      "execution_count": 0,
      "outputs": []
    },
    {
      "cell_type": "code",
      "metadata": {
        "id": "s4rcIClxmRlx",
        "colab_type": "code",
        "outputId": "52b8a006-4002-4767-b42a-951a236f3770",
        "colab": {
          "base_uri": "https://localhost:8080/",
          "height": 34
        }
      },
      "source": [
        "# Combining all the above stundents \n",
        "from tqdm import tqdm\n",
        "preprocessed_reviews = []\n",
        "# tqdm is for printing the status bar\n",
        "for sentance in tqdm(final['Text'].values):\n",
        "    sentance = re.sub(r\"http\\S+\", \"\", sentance)\n",
        "    sentance = BeautifulSoup(sentance, 'lxml').get_text()\n",
        "    sentance = decontracted(sentance)\n",
        "    sentance = re.sub(\"\\S*\\d\\S*\", \"\", sentance).strip()\n",
        "    sentance = re.sub('[^A-Za-z]+', ' ', sentance)\n",
        "    # https://gist.github.com/sebleier/554280\n",
        "    sentance = ' '.join(e.lower() for e in sentance.split() if e.lower() not in stopwords)\n",
        "    preprocessed_reviews.append(sentance.strip())"
      ],
      "execution_count": 0,
      "outputs": [
        {
          "output_type": "stream",
          "text": [
            "100%|██████████| 46071/46071 [00:17<00:00, 2583.23it/s]\n"
          ],
          "name": "stderr"
        }
      ]
    },
    {
      "cell_type": "code",
      "metadata": {
        "id": "2J6blelkmfRi",
        "colab_type": "code",
        "outputId": "c44693e2-8426-4900-d66a-27e21cc503ef",
        "colab": {
          "base_uri": "https://localhost:8080/",
          "height": 54
        }
      },
      "source": [
        "preprocessed_reviews[1500]"
      ],
      "execution_count": 0,
      "outputs": [
        {
          "output_type": "execute_result",
          "data": {
            "text/plain": [
              "'great flavor low calories high nutrients high protein usually protein powders high priced high calories one great bargain tastes great highly recommend lady gym rats probably not macho enough guys since soy based'"
            ]
          },
          "metadata": {
            "tags": []
          },
          "execution_count": 29
        }
      ]
    },
    {
      "cell_type": "markdown",
      "metadata": {
        "id": "_EtBNBWRm30k",
        "colab_type": "text"
      },
      "source": [
        "# [4] Featurization"
      ]
    },
    {
      "cell_type": "markdown",
      "metadata": {
        "id": "PB_VlQfQm-6j",
        "colab_type": "text"
      },
      "source": [
        "## [4.1] BAG OF WORDS"
      ]
    },
    {
      "cell_type": "code",
      "metadata": {
        "id": "v7eHsvRumxTW",
        "colab_type": "code",
        "outputId": "575300ea-0b90-4c22-ca73-a032199db20a",
        "colab": {
          "base_uri": "https://localhost:8080/",
          "height": 101
        }
      },
      "source": [
        "#BoW\n",
        "count_vect = CountVectorizer() #in scikit-learn\n",
        "count_vect.fit(preprocessed_reviews)\n",
        "print(\"some feature names \", count_vect.get_feature_names()[:10])\n",
        "print('='*50)\n",
        "\n",
        "final_counts = count_vect.transform(preprocessed_reviews)\n",
        "print(\"the type of count vectorizer \",type(final_counts))\n",
        "print(\"the shape of out text BOW vectorizer \",final_counts.get_shape())\n",
        "print(\"the number of unique words \", final_counts.get_shape()[1])"
      ],
      "execution_count": 0,
      "outputs": [
        {
          "output_type": "stream",
          "text": [
            "some feature names  ['aa', 'aaa', 'aaaa', 'aaaaa', 'aaaaaaaaaaaa', 'aaaaaaaaaaaaaaa', 'aaaaaaahhhhhh', 'aaaaaawwwwwwwwww', 'aaaaah', 'aaaand']\n",
            "==================================================\n",
            "the type of count vectorizer  <class 'scipy.sparse.csr.csr_matrix'>\n",
            "the shape of out text BOW vectorizer  (46071, 39364)\n",
            "the number of unique words  39364\n"
          ],
          "name": "stdout"
        }
      ]
    },
    {
      "cell_type": "markdown",
      "metadata": {
        "id": "N7xt6uipn1pc",
        "colab_type": "text"
      },
      "source": [
        "## [4.3] TF-IDF"
      ]
    },
    {
      "cell_type": "code",
      "metadata": {
        "id": "sMC_n7y0nwpo",
        "colab_type": "code",
        "outputId": "9a7b6378-50d2-4b32-8205-aa716e602722",
        "colab": {
          "base_uri": "https://localhost:8080/",
          "height": 101
        }
      },
      "source": [
        "tf_idf_vect = TfidfVectorizer(ngram_range=(1,2), min_df=10)\n",
        "tf_idf_vect.fit(preprocessed_reviews)\n",
        "print(\"some sample features(unique words in the corpus)\",tf_idf_vect.get_feature_names()[0:10])\n",
        "print('='*50)\n",
        "\n",
        "final_tf_idf = tf_idf_vect.transform(preprocessed_reviews)\n",
        "print(\"the type of count vectorizer \",type(final_tf_idf))\n",
        "print(\"the shape of out text TFIDF vectorizer \",final_tf_idf.get_shape())\n",
        "print(\"the number of unique words including both unigrams and bigrams \", final_tf_idf.get_shape()[1])"
      ],
      "execution_count": 0,
      "outputs": [
        {
          "output_type": "stream",
          "text": [
            "some sample features(unique words in the corpus) ['ability', 'able', 'able buy', 'able chew', 'able drink', 'able eat', 'able enjoy', 'able feed', 'able figure', 'able find']\n",
            "==================================================\n",
            "the type of count vectorizer  <class 'scipy.sparse.csr.csr_matrix'>\n",
            "the shape of out text TFIDF vectorizer  (46071, 27311)\n",
            "the number of unique words including both unigrams and bigrams  27311\n"
          ],
          "name": "stdout"
        }
      ]
    },
    {
      "cell_type": "markdown",
      "metadata": {
        "id": "HLOPPasToNHL",
        "colab_type": "text"
      },
      "source": [
        "## [4.4] Word2Vec"
      ]
    },
    {
      "cell_type": "code",
      "metadata": {
        "id": "yuWAFbQtn_zA",
        "colab_type": "code",
        "colab": {}
      },
      "source": [
        "# Train your own Word2Vec model using your own text corpus\n",
        "i=0\n",
        "list_of_sentance=[]\n",
        "for sentance in preprocessed_reviews:\n",
        "    list_of_sentance.append(sentance.split())"
      ],
      "execution_count": 0,
      "outputs": []
    },
    {
      "cell_type": "code",
      "metadata": {
        "id": "4mNxAX3PoV5S",
        "colab_type": "code",
        "outputId": "0cc24bce-d830-4f65-8bfa-396a328bd443",
        "colab": {
          "base_uri": "https://localhost:8080/",
          "height": 87
        }
      },
      "source": [
        "# Using Google News Word2Vectors\n",
        "\n",
        "# in this project we are using a pretrained model by google\n",
        "# its 3.3G file, once you load this into your memory \n",
        "# it occupies ~9Gb, so please do this step only if you have >12G of ram\n",
        "# we will provide a pickle file wich contains a dict , \n",
        "# and it contains all our courpus words as keys and  model[word] as values\n",
        "# To use this code-snippet, download \"GoogleNews-vectors-negative300.bin\" \n",
        "# from https://drive.google.com/file/d/0B7XkCwpI5KDYNlNUTTlSS21pQmM/edit\n",
        "# it's 1.9GB in size.\n",
        "\n",
        "\n",
        "# http://kavita-ganesan.com/gensim-word2vec-tutorial-starter-code/#.W17SRFAzZPY\n",
        "# you can comment this whole cell\n",
        "# or change these varible according to your need\n",
        "\n",
        "is_your_ram_gt_16g=False\n",
        "want_to_use_google_w2v = False\n",
        "want_to_train_w2v = True\n",
        "\n",
        "if want_to_train_w2v:\n",
        "    # min_count = 5 considers only words that occured atleast 5 times\n",
        "    w2v_model=Word2Vec(list_of_sentance,min_count=5,size=50, workers=4)\n",
        "    print(w2v_model.wv.most_similar('great'))\n",
        "    print('='*50)\n",
        "    print(w2v_model.wv.most_similar('worst'))\n",
        "    \n",
        "elif want_to_use_google_w2v and is_your_ram_gt_16g:\n",
        "    if os.path.isfile('GoogleNews-vectors-negative300.bin'):\n",
        "        w2v_model=KeyedVectors.load_word2vec_format('GoogleNews-vectors-negative300.bin', binary=True)\n",
        "        print(w2v_model.wv.most_similar('great'))\n",
        "        print(w2v_model.wv.most_similar('worst'))\n",
        "    else:\n",
        "        print(\"you don't have gogole's word2vec file, keep want_to_train_w2v = True, to train your own w2v \")"
      ],
      "execution_count": 0,
      "outputs": [
        {
          "output_type": "stream",
          "text": [
            "[('awesome', 0.816619873046875), ('fantastic', 0.804206907749176), ('terrific', 0.8001731634140015), ('good', 0.7864562273025513), ('excellent', 0.7682831287384033), ('amazing', 0.7492285966873169), ('wonderful', 0.736336886882782), ('perfect', 0.7198647856712341), ('decent', 0.6849781274795532), ('fabulous', 0.6354644894599915)]\n",
            "==================================================\n",
            "[('best', 0.7121520042419434), ('nastiest', 0.706802487373352), ('greatest', 0.704696536064148), ('experienced', 0.6681482791900635), ('ive', 0.6677694916725159), ('awful', 0.660968005657196), ('foul', 0.6440019607543945), ('tastiest', 0.6431338787078857), ('disgusting', 0.6329408884048462), ('eaten', 0.6285622119903564)]\n"
          ],
          "name": "stdout"
        }
      ]
    },
    {
      "cell_type": "code",
      "metadata": {
        "id": "8fJUSPhwoZsE",
        "colab_type": "code",
        "outputId": "9e9e3549-c077-41b4-c3e7-ef57fe18a69f",
        "colab": {
          "base_uri": "https://localhost:8080/",
          "height": 70
        }
      },
      "source": [
        "w2v_words = list(w2v_model.wv.vocab)\n",
        "print(\"number of words that occured minimum 5 times \",len(w2v_words))\n",
        "print(\"sample words \", w2v_words[0:50])"
      ],
      "execution_count": 0,
      "outputs": [
        {
          "output_type": "stream",
          "text": [
            "number of words that occured minimum 5 times  12798\n",
            "sample words  ['dogs', 'loves', 'chicken', 'product', 'china', 'wont', 'buying', 'anymore', 'hard', 'find', 'products', 'made', 'usa', 'one', 'isnt', 'bad', 'good', 'take', 'chances', 'till', 'know', 'going', 'imports', 'love', 'saw', 'pet', 'store', 'tag', 'attached', 'regarding', 'satisfied', 'safe', 'available', 'victor', 'traps', 'unreal', 'course', 'total', 'fly', 'pretty', 'stinky', 'right', 'nearby', 'used', 'bait', 'seasons', 'ca', 'not', 'beat', 'great']\n"
          ],
          "name": "stdout"
        }
      ]
    },
    {
      "cell_type": "markdown",
      "metadata": {
        "id": "EDy_zUM3oiRG",
        "colab_type": "text"
      },
      "source": [
        "## [4.4.1] Converting text into vectors using Avg W2V, TFIDF-W2V"
      ]
    },
    {
      "cell_type": "markdown",
      "metadata": {
        "id": "khdY3aS_oraH",
        "colab_type": "text"
      },
      "source": [
        "### [4.4.1.1] Avg W2v"
      ]
    },
    {
      "cell_type": "code",
      "metadata": {
        "id": "RwvD35n7odX9",
        "colab_type": "code",
        "outputId": "7fb25635-c773-453d-a72d-551ce14f902b",
        "colab": {
          "base_uri": "https://localhost:8080/",
          "height": 67
        }
      },
      "source": [
        "# average Word2Vec\n",
        "# compute average word2vec for each review.\n",
        "sent_vectors = []; # the avg-w2v for each sentence/review is stored in this list\n",
        "for sent in tqdm(list_of_sentance): # for each review/sentence\n",
        "    sent_vec = np.zeros(50) # as word vectors are of zero length 50, you might need to change this to 300 if you use google's w2v\n",
        "    cnt_words =0; # num of words with a valid vector in the sentence/review\n",
        "    for word in sent: # for each word in a review/sentence\n",
        "        if word in w2v_words:\n",
        "            vec = w2v_model.wv[word]\n",
        "            sent_vec += vec\n",
        "            cnt_words += 1\n",
        "    if cnt_words != 0:\n",
        "        sent_vec /= cnt_words\n",
        "    sent_vectors.append(sent_vec)\n",
        "print(len(sent_vectors))\n",
        "print(len(sent_vectors[0]))"
      ],
      "execution_count": 0,
      "outputs": [
        {
          "output_type": "stream",
          "text": [
            "100%|██████████| 46071/46071 [01:30<00:00, 508.05it/s]"
          ],
          "name": "stderr"
        },
        {
          "output_type": "stream",
          "text": [
            "46071\n",
            "50\n"
          ],
          "name": "stdout"
        },
        {
          "output_type": "stream",
          "text": [
            "\n"
          ],
          "name": "stderr"
        }
      ]
    },
    {
      "cell_type": "markdown",
      "metadata": {
        "id": "IF-vToYEo5SE",
        "colab_type": "text"
      },
      "source": [
        "### [4.4.1.2] TFIDF weighted W2v"
      ]
    },
    {
      "cell_type": "code",
      "metadata": {
        "id": "84DwnDDmozOR",
        "colab_type": "code",
        "colab": {}
      },
      "source": [
        "# S = [\"abc def pqr\", \"def def def abc\", \"pqr pqr def\"]\n",
        "model = TfidfVectorizer()\n",
        "tf_idf_matrix = model.fit_transform(preprocessed_reviews)\n",
        "# we are converting a dictionary with word as a key, and the idf as a value\n",
        "dictionary = dict(zip(model.get_feature_names(), list(model.idf_)))"
      ],
      "execution_count": 0,
      "outputs": []
    },
    {
      "cell_type": "code",
      "metadata": {
        "id": "E-LMRqgvpGQL",
        "colab_type": "code",
        "outputId": "dc6af505-9e82-43c9-aec7-539a8cb335df",
        "colab": {
          "base_uri": "https://localhost:8080/",
          "height": 34
        }
      },
      "source": [
        "# TF-IDF weighted Word2Vec\n",
        "tfidf_feat = model.get_feature_names() # tfidf words/col-names\n",
        "# final_tf_idf is the sparse matrix with row= sentence, col=word and cell_val = tfidf\n",
        "\n",
        "tfidf_sent_vectors = []; # the tfidf-w2v for each sentence/review is stored in this list\n",
        "row=0;\n",
        "for sent in tqdm(list_of_sentance): # for each review/sentence \n",
        "    sent_vec = np.zeros(50) # as word vectors are of zero length\n",
        "    weight_sum =0; # num of words with a valid vector in the sentence/review\n",
        "    for word in sent: # for each word in a review/sentence\n",
        "        if word in w2v_words and word in tfidf_feat:\n",
        "            vec = w2v_model.wv[word]\n",
        "#             tf_idf = tf_idf_matrix[row, tfidf_feat.index(word)]\n",
        "            # to reduce the computation we are \n",
        "            # dictionary[word] = idf value of word in whole courpus\n",
        "            # sent.count(word) = tf valeus of word in this review\n",
        "            tf_idf = dictionary[word]*(sent.count(word)/len(sent))\n",
        "            sent_vec += (vec * tf_idf)\n",
        "            weight_sum += tf_idf\n",
        "    if weight_sum != 0:\n",
        "        sent_vec /= weight_sum\n",
        "    tfidf_sent_vectors.append(sent_vec)\n",
        "    row += 1"
      ],
      "execution_count": 0,
      "outputs": [
        {
          "output_type": "stream",
          "text": [
            "100%|██████████| 46071/46071 [16:34<00:00, 43.86it/s]\n"
          ],
          "name": "stderr"
        }
      ]
    },
    {
      "cell_type": "markdown",
      "metadata": {
        "id": "wokMqtTquA_q",
        "colab_type": "text"
      },
      "source": [
        "# [5] SVM"
      ]
    },
    {
      "cell_type": "markdown",
      "metadata": {
        "id": "Lq7eDvDauHsY",
        "colab_type": "text"
      },
      "source": [
        "## [5.1] Linear SVM"
      ]
    },
    {
      "cell_type": "markdown",
      "metadata": {
        "id": "oAgPN9Y0uMtX",
        "colab_type": "text"
      },
      "source": [
        "### [5.1.1] Applying Linear SVM on BOW"
      ]
    },
    {
      "cell_type": "code",
      "metadata": {
        "id": "AYqHLU7ppP1D",
        "colab_type": "code",
        "outputId": "de868e18-a163-44a9-e882-cd7d731f0915",
        "colab": {
          "base_uri": "https://localhost:8080/",
          "height": 67
        }
      },
      "source": [
        "from sklearn.model_selection import train_test_split\n",
        "from sklearn import preprocessing\n",
        "\n",
        "#Breaking into Train and test\n",
        "X_train, X_test, y_train, y_test = train_test_split(final_counts,final['Score'].values,test_size=0.2,shuffle=False)\n",
        "X_train, X_cv, y_train, y_cv = train_test_split(X_train, y_train, test_size=0.2)\n",
        "\n",
        "\n",
        "#Normalize Data\n",
        "X_train = preprocessing.normalize(X_train)\n",
        "print(\"Train Data Size: \",X_train.shape)\n",
        "\n",
        "#Normalize Data\n",
        "X_test = preprocessing.normalize(X_test)\n",
        "print(\"Test Data Size: \",X_test.shape)\n",
        "\n",
        "X_cv = preprocessing.normalize(X_cv)\n",
        "print(\"CV Data Size :\", X_cv.shape)"
      ],
      "execution_count": 0,
      "outputs": [
        {
          "output_type": "stream",
          "text": [
            "Train Data Size:  (29484, 39364)\n",
            "Test Data Size:  (9215, 39364)\n",
            "CV Data Size : (7372, 39364)\n"
          ],
          "name": "stdout"
        }
      ]
    },
    {
      "cell_type": "code",
      "metadata": {
        "id": "M8Dr6--tyoSd",
        "colab_type": "code",
        "outputId": "7b119cbe-19af-4544-f159-3b2d9d7f8778",
        "colab": {
          "base_uri": "https://localhost:8080/",
          "height": 312
        }
      },
      "source": [
        "from sklearn.linear_model import SGDClassifier\n",
        "from sklearn.calibration import CalibratedClassifierCV\n",
        "from sklearn.metrics import roc_auc_score\n",
        "import math\n",
        "\n",
        "alpha = [10000,1000,100,10,1,0.1,0.01,0.001,0.0001]\n",
        "\n",
        "train_auc = []\n",
        "cv_auc = []\n",
        "\n",
        "for i in alpha:\n",
        "    model = SGDClassifier(alpha=i, loss = \"hinge\") \n",
        "    clf = CalibratedClassifierCV(model, cv=3)\n",
        "    clf.fit(X_train,y_train)\n",
        "    prob_cv = clf.predict_proba(X_cv)[:,1]\n",
        "    cv_auc.append(roc_auc_score(y_cv,prob_cv))\n",
        "    prob_train = clf.predict_proba(X_train)[:,1]\n",
        "    train_auc.append(roc_auc_score(y_train,prob_train))\n",
        "optimal_alpha= alpha[cv_auc.index(max(cv_auc))]\n",
        "alpha=[math.log(x) for x in alpha]\n",
        "\n",
        "#plot auc vs alpha\n",
        "x = plt.subplot( )\n",
        "x.plot(alpha, train_auc, label='AUC train')\n",
        "x.plot(alpha, cv_auc, label='AUC CV')\n",
        "plt.title('AUC vs hyperparameter')\n",
        "plt.xlabel('alpha')\n",
        "plt.ylabel('AUC')\n",
        "x.legend()\n",
        "plt.show()\n",
        "\n",
        "print('optimal alpha for which auc is maximum : ',optimal_alpha)"
      ],
      "execution_count": 0,
      "outputs": [
        {
          "output_type": "display_data",
          "data": {
            "image/png": "[encoded data removed]",
            "text/plain": [
              "<Figure size 432x288 with 1 Axes>"
            ]
          },
          "metadata": {
            "tags": []
          }
        },
        {
          "output_type": "stream",
          "text": [
            "optimal alpha for which auc is maximum :  0.0001\n"
          ],
          "name": "stdout"
        }
      ]
    },
    {
      "cell_type": "code",
      "metadata": {
        "id": "bA-hr3UM3AoP",
        "colab_type": "code",
        "outputId": "d3275880-c846-48a5-f6b4-c18e5c2a549e",
        "colab": {
          "base_uri": "https://localhost:8080/",
          "height": 598
        }
      },
      "source": [
        "#Testing AUC on Test data\n",
        "model = SGDClassifier(alpha = optimal_alpha)\n",
        "clf = CalibratedClassifierCV(model, cv=3)\n",
        "clf.fit(X_train,y_train)\n",
        "pred_test = clf.predict_proba(X_test)[:,1]\n",
        "fpr1, tpr1, thresholds1 = metrics.roc_curve(y_test, pred_test)\n",
        "pred_train = clf.predict_proba(X_train)[:,1]\n",
        "fpr2,tpr2,thresholds2 = metrics.roc_curve(y_train,pred_train)\n",
        "\n",
        "#plot ROC curve\n",
        "x = plt.subplot( )\n",
        "x.plot(fpr1, tpr1, label ='Test ROC ,auc='+str(roc_auc_score(y_test,pred_test)))\n",
        "x.plot(fpr2, tpr2, label='Train ROC ,auc='+str(roc_auc_score(y_train,pred_train)))\n",
        "plt.title('ROC curve')\n",
        "plt.xlabel('FPR')\n",
        "plt.ylabel('TPR')\n",
        "x.legend()\n",
        "plt.show()\n",
        "\n",
        "print(\"AUC on Test data is \" +str(roc_auc_score(y_test,pred_test)))\n",
        "print(\"AUC on Train data is \" +str(roc_auc_score(y_train,pred_train)))\n",
        "\n",
        "print(\"---------------------------\")\n",
        "\n",
        "# Code for drawing seaborn heatmaps\n",
        "class_names = ['negative','positive']\n",
        "df_heatmap = pd.DataFrame(confusion_matrix(y_test, pred_test.round()), index=class_names, columns=class_names )\n",
        "fig = plt.figure( )\n",
        "heatmap = sns.heatmap(df_heatmap, annot=True, fmt=\"d\")\n",
        "\n"
      ],
      "execution_count": 0,
      "outputs": [
        {
          "output_type": "display_data",
          "data": {
            "image/png": "[encoded data removed]",
            "text/plain": [
              "<Figure size 432x288 with 1 Axes>"
            ]
          },
          "metadata": {
            "tags": []
          }
        },
        {
          "output_type": "stream",
          "text": [
            "AUC on Test data is 0.9455923816450589\n",
            "AUC on Train data is 0.9624459384636701\n",
            "---------------------------\n"
          ],
          "name": "stdout"
        },
        {
          "output_type": "display_data",
          "data": {
            "image/png": "[encoded data removed]",
            "text/plain": [
              "<Figure size 432x288 with 2 Axes>"
            ]
          },
          "metadata": {
            "tags": []
          }
        }
      ]
    },
    {
      "cell_type": "code",
      "metadata": {
        "id": "pHzRl091yvVc",
        "colab_type": "code",
        "colab": {}
      },
      "source": [
        "results=pd.DataFrame(columns=['Featuraization', 'Classifier' ,'alpha', 'Train-AUC', 'Test-AUC' ])\n",
        "new = ['BOW','SGDClassifier-hinge loss',0.0001,0.9624,0.9455]\n",
        "results.loc[0] = new"
      ],
      "execution_count": 0,
      "outputs": []
    },
    {
      "cell_type": "code",
      "metadata": {
        "id": "O4U2IDaQ3iYg",
        "colab_type": "code",
        "outputId": "48c663e9-5bb7-451c-cf05-561024567841",
        "colab": {
          "base_uri": "https://localhost:8080/",
          "height": 403
        }
      },
      "source": [
        "from sklearn.linear_model import SGDClassifier\n",
        "\n",
        "# top 10 positive features\n",
        "features = count_vect.get_feature_names()\n",
        "clf = SGDClassifier(alpha=0.0001)\n",
        "clf.fit(X_train,y_train)\n",
        "weight = clf.coef_\n",
        "positive_index=np.argsort(weight)[:,::-1]\n",
        "\n",
        "negative_index=np.argsort(weight)\n",
        "\n",
        "print('Top 10 positive features :')\n",
        "for i in list(positive_index[0][0:10]):\n",
        "    print(features[i])\n",
        "    \n",
        "print(\"----------------\")\n",
        "\n",
        "#top 10 negative features\n",
        "print('Top 10 negative features :')\n",
        "for i in list(negative_index[0][0:10]):\n",
        "    print(features[i])"
      ],
      "execution_count": 0,
      "outputs": [
        {
          "output_type": "stream",
          "text": [
            "Top 10 positive features :\n",
            "delicious\n",
            "best\n",
            "great\n",
            "nice\n",
            "amazing\n",
            "loves\n",
            "perfect\n",
            "wonderful\n",
            "excellent\n",
            "love\n",
            "----------------\n",
            "Top 10 negative features :\n",
            "worst\n",
            "disappointed\n",
            "horrible\n",
            "terrible\n",
            "disappointing\n",
            "awful\n",
            "return\n",
            "threw\n",
            "money\n",
            "bland\n"
          ],
          "name": "stdout"
        }
      ]
    },
    {
      "cell_type": "markdown",
      "metadata": {
        "id": "n8T5DJFNXDhl",
        "colab_type": "text"
      },
      "source": [
        "### [5.1.2] Applying Linear SVM on TFIDF"
      ]
    },
    {
      "cell_type": "code",
      "metadata": {
        "id": "4jH6CVnH4xBV",
        "colab_type": "code",
        "outputId": "110fee11-0019-42f3-b307-8d9200645566",
        "colab": {
          "base_uri": "https://localhost:8080/",
          "height": 67
        }
      },
      "source": [
        "X_train, X_test, y_train, y_test = train_test_split(final_tf_idf,final['Score'].values,test_size=0.2,shuffle=False)\n",
        "X_train, X_cv, y_train, y_cv = train_test_split(X_train, y_train, test_size=0.2)\n",
        "\n",
        "#Normalize Data\n",
        "X_train = preprocessing.normalize(X_train)\n",
        "print(\"Train Data Size: \",X_train.shape)\n",
        "\n",
        "#Normalize Data\n",
        "X_test = preprocessing.normalize(X_test)\n",
        "print(\"Test Data Size: \",X_test.shape)\n",
        "\n",
        "#Normalize Data\n",
        "X_cv = preprocessing.normalize(X_cv)\n",
        "print(\"CV Data size:\", X_cv.shape)"
      ],
      "execution_count": 0,
      "outputs": [
        {
          "output_type": "stream",
          "text": [
            "Train Data Size:  (29484, 27311)\n",
            "Test Data Size:  (9215, 27311)\n",
            "CV Data size: (7372, 27311)\n"
          ],
          "name": "stdout"
        }
      ]
    },
    {
      "cell_type": "code",
      "metadata": {
        "id": "NQtjLfGyYGk3",
        "colab_type": "code",
        "outputId": "13503fe0-5739-4e81-dcc3-37fa08eb2379",
        "colab": {
          "base_uri": "https://localhost:8080/",
          "height": 312
        }
      },
      "source": [
        "alpha = [10000,1000,100,10,1,0.1,0.01,0.001,0.0001]\n",
        "\n",
        "train_auc = []\n",
        "cv_auc = []\n",
        "\n",
        "for i in alpha:\n",
        "    model = SGDClassifier(alpha=i, loss = \"hinge\") \n",
        "    clf = CalibratedClassifierCV(model, cv=3)\n",
        "    clf.fit(X_train,y_train)\n",
        "    prob_cv = clf.predict_proba(X_cv)[:,1]\n",
        "    cv_auc.append(roc_auc_score(y_cv,prob_cv))\n",
        "    prob_train = clf.predict_proba(X_train)[:,1]\n",
        "    train_auc.append(roc_auc_score(y_train,prob_train))\n",
        "optimal_alpha= alpha[cv_auc.index(max(cv_auc))]\n",
        "alpha=[math.log(x) for x in alpha]\n",
        "\n",
        "#plot auc vs alpha\n",
        "x = plt.subplot( )\n",
        "x.plot(alpha, train_auc, label='AUC train')\n",
        "x.plot(alpha, cv_auc, label='AUC CV')\n",
        "plt.title('AUC vs hyperparameter')\n",
        "plt.xlabel('alpha')\n",
        "plt.ylabel('AUC')\n",
        "x.legend()\n",
        "plt.show()\n",
        "\n",
        "print('optimal alpha for which auc is maximum : ',optimal_alpha)"
      ],
      "execution_count": 0,
      "outputs": [
        {
          "output_type": "display_data",
          "data": {
            "image/png": "[encoded data removed]",
            "text/plain": [
              "<Figure size 432x288 with 1 Axes>"
            ]
          },
          "metadata": {
            "tags": []
          }
        },
        {
          "output_type": "stream",
          "text": [
            "optimal alpha for which auc is maximum :  0.0001\n"
          ],
          "name": "stdout"
        }
      ]
    },
    {
      "cell_type": "code",
      "metadata": {
        "id": "tMGmBiDqYXCC",
        "colab_type": "code",
        "outputId": "444bab83-08b4-4b7c-d5f4-b30f8bee64ba",
        "colab": {
          "base_uri": "https://localhost:8080/",
          "height": 598
        }
      },
      "source": [
        "#Testing AUC on Test data\n",
        "model = SGDClassifier(alpha = optimal_alpha)\n",
        "clf = CalibratedClassifierCV(model, cv=3)\n",
        "clf.fit(X_train,y_train)\n",
        "pred_test = clf.predict_proba(X_test)[:,1]\n",
        "fpr1, tpr1, thresholds1 = metrics.roc_curve(y_test, pred_test)\n",
        "pred_train = clf.predict_proba(X_train)[:,1]\n",
        "fpr2,tpr2,thresholds2 = metrics.roc_curve(y_train,pred_train)\n",
        "\n",
        "#plot ROC curve\n",
        "x = plt.subplot( )\n",
        "x.plot(fpr1, tpr1, label ='Test ROC ,auc='+str(roc_auc_score(y_test,pred_test)))\n",
        "x.plot(fpr2, tpr2, label='Train ROC ,auc='+str(roc_auc_score(y_train,pred_train)))\n",
        "plt.title('ROC curve')\n",
        "plt.xlabel('FPR')\n",
        "plt.ylabel('TPR')\n",
        "x.legend()\n",
        "plt.show()\n",
        "\n",
        "print(\"AUC on Test data is \" +str(roc_auc_score(y_test,pred_test)))\n",
        "print(\"AUC on Train data is \" +str(roc_auc_score(y_train,pred_train)))\n",
        "\n",
        "print(\"---------------------------\")\n",
        "\n",
        "# Code for drawing seaborn heatmaps\n",
        "class_names = ['negative','positive']\n",
        "df_heatmap = pd.DataFrame(confusion_matrix(y_test, pred_test.round()), index=class_names, columns=class_names )\n",
        "fig = plt.figure( )\n",
        "heatmap = sns.heatmap(df_heatmap, annot=True, fmt=\"d\")\n"
      ],
      "execution_count": 0,
      "outputs": [
        {
          "output_type": "display_data",
          "data": {
            "image/png": "[encoded data removed]",
            "text/plain": [
              "<Figure size 432x288 with 1 Axes>"
            ]
          },
          "metadata": {
            "tags": []
          }
        },
        {
          "output_type": "stream",
          "text": [
            "AUC on Test data is 0.9586475114116522\n",
            "AUC on Train data is 0.9841205419840111\n",
            "---------------------------\n"
          ],
          "name": "stdout"
        },
        {
          "output_type": "display_data",
          "data": {
            "image/png": "[encoded data removed]",
            "text/plain": [
              "<Figure size 432x288 with 2 Axes>"
            ]
          },
          "metadata": {
            "tags": []
          }
        }
      ]
    },
    {
      "cell_type": "code",
      "metadata": {
        "id": "j8V1d6wpznrV",
        "colab_type": "code",
        "colab": {}
      },
      "source": [
        "new = ['tf-idf','SGDClassifier-hinge loss',0.0001,0.9841,0.9586]\n",
        "results.loc[1] = new"
      ],
      "execution_count": 0,
      "outputs": []
    },
    {
      "cell_type": "code",
      "metadata": {
        "id": "45QFCdb7z2DT",
        "colab_type": "code",
        "outputId": "04e08edf-e105-420e-d8e2-9aa8d5742bfe",
        "colab": {
          "base_uri": "https://localhost:8080/",
          "height": 403
        }
      },
      "source": [
        "# top 10 positive features\n",
        "features = tf_idf_vect.get_feature_names()\n",
        "clf = SGDClassifier(alpha=0.0001)\n",
        "clf.fit(X_train,y_train)\n",
        "weight = clf.coef_\n",
        "positive_index=np.argsort(weight)[:,::-1]\n",
        "\n",
        "negative_index=np.argsort(weight)\n",
        "\n",
        "print('Top 10 positive features :')\n",
        "for i in list(positive_index[0][0:10]):\n",
        "    print(features[i])\n",
        "    \n",
        "print(\"----------------\")\n",
        "\n",
        "#top 10 negative features\n",
        "print('Top 10 negative features :')\n",
        "for i in list(negative_index[0][0:10]):\n",
        "    print(features[i])"
      ],
      "execution_count": 0,
      "outputs": [
        {
          "output_type": "stream",
          "text": [
            "Top 10 positive features :\n",
            "great\n",
            "good\n",
            "best\n",
            "not disappointed\n",
            "delicious\n",
            "love\n",
            "loves\n",
            "nice\n",
            "amazing\n",
            "wonderful\n",
            "----------------\n",
            "Top 10 negative features :\n",
            "disappointed\n",
            "worst\n",
            "disappointing\n",
            "horrible\n",
            "not\n",
            "terrible\n",
            "not recommend\n",
            "not worth\n",
            "awful\n",
            "not buy\n"
          ],
          "name": "stdout"
        }
      ]
    },
    {
      "cell_type": "markdown",
      "metadata": {
        "id": "4lY5YJd_dquH",
        "colab_type": "text"
      },
      "source": [
        "### [5.1.3] Applying Linear SVM on AVG W2V"
      ]
    },
    {
      "cell_type": "code",
      "metadata": {
        "id": "3HnQgMw9cbZV",
        "colab_type": "code",
        "colab": {}
      },
      "source": [
        "avg_vec_google = np.array(sent_vectors)"
      ],
      "execution_count": 0,
      "outputs": []
    },
    {
      "cell_type": "code",
      "metadata": {
        "id": "e-zSWA2Kcwap",
        "colab_type": "code",
        "outputId": "9bb877c5-5d6b-4949-ef1c-9570cd07baaa",
        "colab": {
          "base_uri": "https://localhost:8080/",
          "height": 50
        }
      },
      "source": [
        "mask = ~np.any(np.isnan(avg_vec_google), axis=1)\n",
        "# print(mask)\n",
        "avg_vec_google_new = avg_vec_google[mask]\n",
        "df_sample_new = final['Score'][mask]\n",
        "print(avg_vec_google_new.shape)\n",
        "print(df_sample_new.shape)"
      ],
      "execution_count": 0,
      "outputs": [
        {
          "output_type": "stream",
          "text": [
            "(46071, 50)\n",
            "(46071,)\n"
          ],
          "name": "stdout"
        }
      ]
    },
    {
      "cell_type": "code",
      "metadata": {
        "id": "6-THwcPId92U",
        "colab_type": "code",
        "outputId": "064ad112-a1ff-4a68-c48d-57e8fa1150e6",
        "colab": {
          "base_uri": "https://localhost:8080/",
          "height": 67
        }
      },
      "source": [
        "#Normalizing the data\n",
        "avg_vec_norm = preprocessing.normalize(avg_vec_google_new)\n",
        "\n",
        "#Not shuffling the data as we want it on time basis\n",
        "X_train, X_test, y_train, y_test = train_test_split(avg_vec_norm,df_sample_new.values,test_size=0.2,shuffle=False)\n",
        "X_train, X_cv, y_train, y_cv = train_test_split(X_train, y_train, test_size=0.2)\n",
        "\n",
        "#Normalize Data\n",
        "X_train = preprocessing.normalize(X_train)\n",
        "print(\"Train Data Size: \",X_train.shape)\n",
        "\n",
        "#Normalize Data\n",
        "X_test = preprocessing.normalize(X_test)\n",
        "print(\"Test Data Size: \",X_test.shape)\n",
        "\n",
        "#Normalize Data\n",
        "X_cv = preprocessing.normalize(X_cv)\n",
        "print(\"CV Data size:\", X_cv.shape)"
      ],
      "execution_count": 0,
      "outputs": [
        {
          "output_type": "stream",
          "text": [
            "Train Data Size:  (29484, 50)\n",
            "Test Data Size:  (9215, 50)\n",
            "CV Data size: (7372, 50)\n"
          ],
          "name": "stdout"
        }
      ]
    },
    {
      "cell_type": "code",
      "metadata": {
        "id": "i-7iJbaDePxG",
        "colab_type": "code",
        "outputId": "61855dd3-ec67-423a-b325-c7fd01fe77d1",
        "colab": {
          "base_uri": "https://localhost:8080/",
          "height": 312
        }
      },
      "source": [
        "alpha = [10000,1000,100,10,1,0.1,0.01,0.001,0.0001]\n",
        "\n",
        "train_auc = []\n",
        "cv_auc = []\n",
        "\n",
        "for i in alpha:\n",
        "    model = SGDClassifier(alpha=i, loss = \"hinge\") \n",
        "    clf = CalibratedClassifierCV(model, cv=3)\n",
        "    clf.fit(X_train,y_train)\n",
        "    prob_cv = clf.predict_proba(X_cv)[:,1]\n",
        "    cv_auc.append(roc_auc_score(y_cv,prob_cv))\n",
        "    prob_train = clf.predict_proba(X_train)[:,1]\n",
        "    train_auc.append(roc_auc_score(y_train,prob_train))\n",
        "optimal_alpha= alpha[cv_auc.index(max(cv_auc))]\n",
        "alpha=[math.log(x) for x in alpha]\n",
        "\n",
        "#plot auc vs alpha\n",
        "x = plt.subplot( )\n",
        "x.plot(alpha, train_auc, label='AUC train')\n",
        "x.plot(alpha, cv_auc, label='AUC CV')\n",
        "plt.title('AUC vs hyperparameter')\n",
        "plt.xlabel('alpha')\n",
        "plt.ylabel('AUC')\n",
        "x.legend()\n",
        "plt.show()\n",
        "\n",
        "print('optimal alpha for which auc is maximum : ',optimal_alpha)"
      ],
      "execution_count": 0,
      "outputs": [
        {
          "output_type": "display_data",
          "data": {
            "image/png": "[encoded data removed]",
            "text/plain": [
              "<Figure size 432x288 with 1 Axes>"
            ]
          },
          "metadata": {
            "tags": []
          }
        },
        {
          "output_type": "stream",
          "text": [
            "optimal alpha for which auc is maximum :  0.0001\n"
          ],
          "name": "stdout"
        }
      ]
    },
    {
      "cell_type": "code",
      "metadata": {
        "id": "I0oA9hqGeU5O",
        "colab_type": "code",
        "outputId": "dd1a42d9-cb29-4781-d1d8-a4563dbab4ba",
        "colab": {
          "base_uri": "https://localhost:8080/",
          "height": 598
        }
      },
      "source": [
        "#Testing AUC on Test data\n",
        "model = SGDClassifier(alpha = optimal_alpha)\n",
        "clf = CalibratedClassifierCV(model, cv=3)\n",
        "clf.fit(X_train,y_train)\n",
        "pred_test = clf.predict_proba(X_test)[:,1]\n",
        "fpr1, tpr1, thresholds1 = metrics.roc_curve(y_test, pred_test)\n",
        "pred_train = clf.predict_proba(X_train)[:,1]\n",
        "fpr2,tpr2,thresholds2 = metrics.roc_curve(y_train,pred_train)\n",
        "\n",
        "#plot ROC curve\n",
        "x = plt.subplot( )\n",
        "x.plot(fpr1, tpr1, label ='Test ROC ,auc='+str(roc_auc_score(y_test,pred_test)))\n",
        "x.plot(fpr2, tpr2, label='Train ROC ,auc='+str(roc_auc_score(y_train,pred_train)))\n",
        "plt.title('ROC curve')\n",
        "plt.xlabel('FPR')\n",
        "plt.ylabel('TPR')\n",
        "x.legend()\n",
        "plt.show()\n",
        "\n",
        "print(\"AUC on Test data is \" +str(roc_auc_score(y_test,pred_test)))\n",
        "print(\"AUC on Train data is \" +str(roc_auc_score(y_train,pred_train)))\n",
        "\n",
        "print(\"---------------------------\")\n",
        "\n",
        "# Code for drawing seaborn heatmaps\n",
        "class_names = ['negative','positive']\n",
        "df_heatmap = pd.DataFrame(confusion_matrix(y_test, pred_test.round()), index=class_names, columns=class_names )\n",
        "fig = plt.figure( )\n",
        "heatmap = sns.heatmap(df_heatmap, annot=True, fmt=\"d\")\n"
      ],
      "execution_count": 0,
      "outputs": [
        {
          "output_type": "display_data",
          "data": {
            "image/png": "[encoded data removed]",
            "text/plain": [
              "<Figure size 432x288 with 1 Axes>"
            ]
          },
          "metadata": {
            "tags": []
          }
        },
        {
          "output_type": "stream",
          "text": [
            "AUC on Test data is 0.9050066517886014\n",
            "AUC on Train data is 0.903404171453736\n",
            "---------------------------\n"
          ],
          "name": "stdout"
        },
        {
          "output_type": "display_data",
          "data": {
            "image/png": "[encoded data removed]",
            "text/plain": [
              "<Figure size 432x288 with 2 Axes>"
            ]
          },
          "metadata": {
            "tags": []
          }
        }
      ]
    },
    {
      "cell_type": "code",
      "metadata": {
        "id": "30NB_d510azr",
        "colab_type": "code",
        "colab": {}
      },
      "source": [
        "new = ['AVG W2V','SGDClassifier-hinge loss',0.0001,0.9034,0.9050]\n",
        "results.loc[2] = new"
      ],
      "execution_count": 0,
      "outputs": []
    },
    {
      "cell_type": "markdown",
      "metadata": {
        "id": "EkQDaBt_fSu2",
        "colab_type": "text"
      },
      "source": [
        "### [5.1.4] Applying Linear SVM on TFIDF W2V"
      ]
    },
    {
      "cell_type": "code",
      "metadata": {
        "id": "UtCmYBK5euBw",
        "colab_type": "code",
        "colab": {}
      },
      "source": [
        "tfidf_w2v_vec_google = np.array(tfidf_sent_vectors)"
      ],
      "execution_count": 0,
      "outputs": []
    },
    {
      "cell_type": "code",
      "metadata": {
        "id": "maGNu6oGe64Q",
        "colab_type": "code",
        "colab": {}
      },
      "source": [
        "tfidfw2v_vecs_norm = preprocessing.normalize(tfidf_w2v_vec_google)\n",
        "X_train, X_test, y_train, y_test = train_test_split(tfidfw2v_vecs_norm,final['Score'].values,test_size=0.2,shuffle=False)\n",
        "X_train, X_cv, y_train, y_cv = train_test_split(X_train, y_train, test_size=0.2)"
      ],
      "execution_count": 0,
      "outputs": []
    },
    {
      "cell_type": "code",
      "metadata": {
        "id": "nQAH4u16gWTv",
        "colab_type": "code",
        "outputId": "464e5bea-b869-46a9-f825-fcfdc8f27338",
        "colab": {
          "base_uri": "https://localhost:8080/",
          "height": 312
        }
      },
      "source": [
        "alpha = [10000,1000,100,10,1,0.1,0.01,0.001,0.0001]\n",
        "\n",
        "train_auc = []\n",
        "cv_auc = []\n",
        "\n",
        "for i in alpha:\n",
        "    model = SGDClassifier(alpha=i, loss = \"hinge\") \n",
        "    clf = CalibratedClassifierCV(model, cv=3)\n",
        "    clf.fit(X_train,y_train)\n",
        "    prob_cv = clf.predict_proba(X_cv)[:,1]\n",
        "    cv_auc.append(roc_auc_score(y_cv,prob_cv))\n",
        "    prob_train = clf.predict_proba(X_train)[:,1]\n",
        "    train_auc.append(roc_auc_score(y_train,prob_train))\n",
        "optimal_alpha= alpha[cv_auc.index(max(cv_auc))]\n",
        "alpha=[math.log(x) for x in alpha]\n",
        "\n",
        "#plot auc vs alpha\n",
        "x = plt.subplot( )\n",
        "x.plot(alpha, train_auc, label='AUC train')\n",
        "x.plot(alpha, cv_auc, label='AUC CV')\n",
        "plt.title('AUC vs hyperparameter')\n",
        "plt.xlabel('alpha')\n",
        "plt.ylabel('AUC')\n",
        "x.legend()\n",
        "plt.show()\n",
        "\n",
        "print('optimal alpha for which auc is maximum : ',optimal_alpha)"
      ],
      "execution_count": 0,
      "outputs": [
        {
          "output_type": "display_data",
          "data": {
            "image/png": "[encoded data removed]",
            "text/plain": [
              "<Figure size 432x288 with 1 Axes>"
            ]
          },
          "metadata": {
            "tags": []
          }
        },
        {
          "output_type": "stream",
          "text": [
            "optimal alpha for which auc is maximum :  0.0001\n"
          ],
          "name": "stdout"
        }
      ]
    },
    {
      "cell_type": "code",
      "metadata": {
        "id": "oWSn2IUEgbn6",
        "colab_type": "code",
        "outputId": "ff06bbd1-7de1-4fb4-8ddf-69dedb374851",
        "colab": {
          "base_uri": "https://localhost:8080/",
          "height": 598
        }
      },
      "source": [
        "#Testing AUC on Test data\n",
        "model = SGDClassifier(alpha = optimal_alpha)\n",
        "clf = CalibratedClassifierCV(model, cv=3)\n",
        "clf.fit(X_train,y_train)\n",
        "pred_test = clf.predict_proba(X_test)[:,1]\n",
        "fpr1, tpr1, thresholds1 = metrics.roc_curve(y_test, pred_test)\n",
        "pred_train = clf.predict_proba(X_train)[:,1]\n",
        "fpr2,tpr2,thresholds2 = metrics.roc_curve(y_train,pred_train)\n",
        "\n",
        "#plot ROC curve\n",
        "x = plt.subplot( )\n",
        "x.plot(fpr1, tpr1, label ='Test ROC ,auc='+str(roc_auc_score(y_test,pred_test)))\n",
        "x.plot(fpr2, tpr2, label='Train ROC ,auc='+str(roc_auc_score(y_train,pred_train)))\n",
        "plt.title('ROC curve')\n",
        "plt.xlabel('FPR')\n",
        "plt.ylabel('TPR')\n",
        "x.legend()\n",
        "plt.show()\n",
        "\n",
        "print(\"AUC on Test data is \" +str(roc_auc_score(y_test,pred_test)))\n",
        "print(\"AUC on Train data is \" +str(roc_auc_score(y_train,pred_train)))\n",
        "\n",
        "print(\"---------------------------\")\n",
        "\n",
        "# Code for drawing seaborn heatmaps\n",
        "class_names = ['negative','positive']\n",
        "df_heatmap = pd.DataFrame(confusion_matrix(y_test, pred_test.round()), index=class_names, columns=class_names )\n",
        "fig = plt.figure( )\n",
        "heatmap = sns.heatmap(df_heatmap, annot=True, fmt=\"d\")"
      ],
      "execution_count": 0,
      "outputs": [
        {
          "output_type": "display_data",
          "data": {
            "image/png": "[encoded data removed]",
            "text/plain": [
              "<Figure size 432x288 with 1 Axes>"
            ]
          },
          "metadata": {
            "tags": []
          }
        },
        {
          "output_type": "stream",
          "text": [
            "AUC on Test data is 0.8785304507674528\n",
            "AUC on Train data is 0.8801411814227382\n",
            "---------------------------\n"
          ],
          "name": "stdout"
        },
        {
          "output_type": "display_data",
          "data": {
            "image/png": "[encoded data removed]",
            "text/plain": [
              "<Figure size 432x288 with 2 Axes>"
            ]
          },
          "metadata": {
            "tags": []
          }
        }
      ]
    },
    {
      "cell_type": "code",
      "metadata": {
        "id": "fzkE9_cC0wKe",
        "colab_type": "code",
        "colab": {}
      },
      "source": [
        "new = ['tf-idf W2V','SGDClassifier-hinge loss',0.0001,0.8801,0.8785]\n",
        "results.loc[3] = new"
      ],
      "execution_count": 0,
      "outputs": []
    },
    {
      "cell_type": "markdown",
      "metadata": {
        "id": "RSmGU5wngofd",
        "colab_type": "text"
      },
      "source": [
        "## [5.2] RBF SVM"
      ]
    },
    {
      "cell_type": "markdown",
      "metadata": {
        "id": "RL8Uml95g1v3",
        "colab_type": "text"
      },
      "source": [
        "### [5.2.1] Applying RBF SVM on BOW"
      ]
    },
    {
      "cell_type": "code",
      "metadata": {
        "id": "ThVk_5QPgxEL",
        "colab_type": "code",
        "colab": {}
      },
      "source": [
        "X=preprocessed_reviews\n",
        "y=np.array(final['Score'])\n",
        "X=X[:30000]\n",
        "y=y[:30000]"
      ],
      "execution_count": 0,
      "outputs": []
    },
    {
      "cell_type": "code",
      "metadata": {
        "id": "hE5puGOjiVwG",
        "colab_type": "code",
        "outputId": "2625e0ef-5973-4fbb-9b9a-161491b58749",
        "colab": {
          "base_uri": "https://localhost:8080/",
          "height": 101
        }
      },
      "source": [
        "#BoW\n",
        "count_vect = CountVectorizer(min_df=10, max_features=500) #in scikit-learn\n",
        "count_vect.fit(preprocessed_reviews)\n",
        "print(\"some feature names \", count_vect.get_feature_names()[:10])\n",
        "print('='*50)\n",
        "\n",
        "final_counts = count_vect.transform(preprocessed_reviews)\n",
        "print(\"the type of count vectorizer \",type(final_counts))\n",
        "print(\"the shape of out text BOW vectorizer \",final_counts.get_shape())\n",
        "print(\"the number of unique words \", final_counts.get_shape()[1])"
      ],
      "execution_count": 0,
      "outputs": [
        {
          "output_type": "stream",
          "text": [
            "some feature names  ['able', 'absolutely', 'acid', 'actually', 'add', 'added', 'aftertaste', 'ago', 'almonds', 'almost']\n",
            "==================================================\n",
            "the type of count vectorizer  <class 'scipy.sparse.csr.csr_matrix'>\n",
            "the shape of out text BOW vectorizer  (46071, 500)\n",
            "the number of unique words  500\n"
          ],
          "name": "stdout"
        }
      ]
    },
    {
      "cell_type": "code",
      "metadata": {
        "id": "A2V0h1PSkoTM",
        "colab_type": "code",
        "outputId": "ece0263d-eabb-4fc7-9e38-073daafd942c",
        "colab": {
          "base_uri": "https://localhost:8080/",
          "height": 67
        }
      },
      "source": [
        "#Breaking into Train and test\n",
        "X_train, X_test, y_train, y_test = train_test_split(final_counts,final['Score'].values,test_size=0.2,shuffle=False)\n",
        "X_train, X_cv, y_train, y_cv = train_test_split(X_train, y_train, test_size=0.2)\n",
        "\n",
        "\n",
        "#Normalize Data\n",
        "X_train = preprocessing.normalize(X_train)\n",
        "print(\"Train Data Size: \",X_train.shape)\n",
        "\n",
        "#Normalize Data\n",
        "X_test = preprocessing.normalize(X_test)\n",
        "print(\"Test Data Size: \",X_test.shape)\n",
        "\n",
        "X_cv = preprocessing.normalize(X_cv)\n",
        "print(\"CV Data Size :\", X_cv.shape)"
      ],
      "execution_count": 0,
      "outputs": [
        {
          "output_type": "stream",
          "text": [
            "Train Data Size:  (29484, 500)\n",
            "Test Data Size:  (9215, 500)\n",
            "CV Data Size : (7372, 500)\n"
          ],
          "name": "stdout"
        }
      ]
    },
    {
      "cell_type": "code",
      "metadata": {
        "id": "h143TV7YlEob",
        "colab_type": "code",
        "outputId": "b23fe975-66f8-4881-eedb-a226d16c1481",
        "colab": {
          "base_uri": "https://localhost:8080/",
          "height": 332
        }
      },
      "source": [
        "from sklearn.svm import SVC\n",
        "C = [10000,1000,100,10,1,0.1,0.01,0.001,0.0001]\n",
        "\n",
        "train_auc = []\n",
        "cv_auc = []\n",
        "\n",
        "for i in C:\n",
        "    model = SVC(C=i) \n",
        "    clf = CalibratedClassifierCV(model, cv=3)\n",
        "    clf.fit(X_train,y_train)\n",
        "    prob_cv = clf.predict_proba(X_cv)[:,1]\n",
        "    cv_auc.append(roc_auc_score(y_cv,prob_cv))\n",
        "    prob_train = clf.predict_proba(X_train)[:,1]\n",
        "    train_auc.append(roc_auc_score(y_train,prob_train))\n",
        "optimal_C= C[cv_auc.index(max(cv_auc))]\n",
        "C=[math.log(x) for x in C]\n",
        "\n",
        "#plot auc vs alpha\n",
        "x = plt.subplot( )\n",
        "x.plot(C, train_auc, label='AUC train')\n",
        "x.plot(C, cv_auc, label='AUC CV')\n",
        "plt.title('AUC vs hyperparameter')\n",
        "plt.xlabel('C')\n",
        "plt.ylabel('AUC')\n",
        "x.legend()\n",
        "plt.show()\n",
        "\n",
        "print('optimal C for which auc is maximum : ',C)"
      ],
      "execution_count": 0,
      "outputs": [
        {
          "output_type": "display_data",
          "data": {
            "image/png": "[encoded data removed]",
            "text/plain": [
              "<Figure size 432x288 with 1 Axes>"
            ]
          },
          "metadata": {
            "tags": []
          }
        },
        {
          "output_type": "stream",
          "text": [
            "optimal C for which auc is maximum :  [9.210340371976184, 6.907755278982137, 4.605170185988092, 2.302585092994046, 0.0, -2.3025850929940455, -4.605170185988091, -6.907755278982137, -9.210340371976182]\n"
          ],
          "name": "stdout"
        }
      ]
    },
    {
      "cell_type": "code",
      "metadata": {
        "id": "71_3aJZZ_twJ",
        "colab_type": "code",
        "outputId": "12059821-65d2-4522-aee5-0cbd3529c1d2",
        "colab": {
          "base_uri": "https://localhost:8080/",
          "height": 34
        }
      },
      "source": [
        "print('optimal C for which auc is maximum : ',optimal_C)"
      ],
      "execution_count": 0,
      "outputs": [
        {
          "output_type": "stream",
          "text": [
            "optimal C for which auc is maximum :  10000\n"
          ],
          "name": "stdout"
        }
      ]
    },
    {
      "cell_type": "code",
      "metadata": {
        "id": "H2CS0K9WygK0",
        "colab_type": "code",
        "outputId": "e05d034a-1c0a-4dc1-cdac-e4262363b897",
        "colab": {
          "base_uri": "https://localhost:8080/",
          "height": 598
        }
      },
      "source": [
        "#Testing AUC on Test data\n",
        "model =SVC(C = optimal_C)\n",
        "clf = CalibratedClassifierCV(model, cv=3)\n",
        "clf.fit(X_train,y_train)\n",
        "pred_test = clf.predict_proba(X_test)[:,1]\n",
        "fpr1, tpr1, thresholds1 = metrics.roc_curve(y_test, pred_test)\n",
        "pred_train = clf.predict_proba(X_train)[:,1]\n",
        "fpr2,tpr2,thresholds2 = metrics.roc_curve(y_train,pred_train)\n",
        "\n",
        "#plot ROC curve\n",
        "x = plt.subplot( )\n",
        "x.plot(fpr1, tpr1, label ='Test ROC ,auc='+str(roc_auc_score(y_test,pred_test)))\n",
        "x.plot(fpr2, tpr2, label='Train ROC ,auc='+str(roc_auc_score(y_train,pred_train)))\n",
        "plt.title('ROC curve')\n",
        "plt.xlabel('FPR')\n",
        "plt.ylabel('TPR')\n",
        "x.legend()\n",
        "plt.show()\n",
        "\n",
        "print(\"AUC on Test data is \" +str(roc_auc_score(y_test,pred_test)))\n",
        "print(\"AUC on Train data is \" +str(roc_auc_score(y_train,pred_train)))\n",
        "\n",
        "print(\"---------------------------\")\n",
        "\n",
        "# Code for drawing seaborn heatmaps\n",
        "class_names = ['negative','positive']\n",
        "df_heatmap = pd.DataFrame(confusion_matrix(y_test, pred_test.round()), index=class_names, columns=class_names )\n",
        "fig = plt.figure( )\n",
        "heatmap = sns.heatmap(df_heatmap, annot=True, fmt=\"d\")"
      ],
      "execution_count": 0,
      "outputs": [
        {
          "output_type": "display_data",
          "data": {
            "image/png": "[encoded data removed]",
            "text/plain": [
              "<Figure size 432x288 with 1 Axes>"
            ]
          },
          "metadata": {
            "tags": []
          }
        },
        {
          "output_type": "stream",
          "text": [
            "AUC on Test data is 0.9100668107746447\n",
            "AUC on Train data is 0.9256879098972174\n",
            "---------------------------\n"
          ],
          "name": "stdout"
        },
        {
          "output_type": "display_data",
          "data": {
            "image/png": "[encoded data removed]",
            "text/plain": [
              "<Figure size 432x288 with 2 Axes>"
            ]
          },
          "metadata": {
            "tags": []
          }
        }
      ]
    },
    {
      "cell_type": "code",
      "metadata": {
        "id": "CkHmAPlVFpw1",
        "colab_type": "code",
        "colab": {}
      },
      "source": [
        "results_2=pd.DataFrame(columns=['Featuraization', 'Classifier','C' , 'Train-AUC', 'Test-AUC' ])"
      ],
      "execution_count": 0,
      "outputs": []
    },
    {
      "cell_type": "code",
      "metadata": {
        "id": "8i48wZpd7_Vt",
        "colab_type": "code",
        "colab": {}
      },
      "source": [
        "new = [\"Bow\",\"RBF\",10000,0.9256,0.9100]\n",
        "results_2.loc[0] = new"
      ],
      "execution_count": 0,
      "outputs": []
    },
    {
      "cell_type": "markdown",
      "metadata": {
        "id": "_Nz0KUJfRa6p",
        "colab_type": "text"
      },
      "source": [
        "### [5.2.2] Applying RBF SVM on TFIDF"
      ]
    },
    {
      "cell_type": "code",
      "metadata": {
        "id": "jHWbYEOhRelk",
        "colab_type": "code",
        "outputId": "d0148ee0-d03b-4067-be1f-84c9de538cf3",
        "colab": {
          "base_uri": "https://localhost:8080/",
          "height": 101
        }
      },
      "source": [
        "tf_idf_vect = TfidfVectorizer(ngram_range=(1,2), min_df=10,max_features=500)\n",
        "tf_idf_vect.fit(preprocessed_reviews)\n",
        "print(\"some sample features(unique words in the corpus)\",tf_idf_vect.get_feature_names()[0:10])\n",
        "print('='*50)\n",
        "\n",
        "final_tf_idf = tf_idf_vect.transform(preprocessed_reviews)\n",
        "print(\"the type of count vectorizer \",type(final_tf_idf))\n",
        "print(\"the shape of out text TFIDF vectorizer \",final_tf_idf.get_shape())\n",
        "print(\"the number of unique words including both unigrams and bigrams \", final_tf_idf.get_shape()[1])"
      ],
      "execution_count": 0,
      "outputs": [
        {
          "output_type": "stream",
          "text": [
            "some sample features(unique words in the corpus) ['able', 'absolutely', 'acid', 'actually', 'add', 'added', 'aftertaste', 'ago', 'almonds', 'almost']\n",
            "==================================================\n",
            "the type of count vectorizer  <class 'scipy.sparse.csr.csr_matrix'>\n",
            "the shape of out text TFIDF vectorizer  (46071, 500)\n",
            "the number of unique words including both unigrams and bigrams  500\n"
          ],
          "name": "stdout"
        }
      ]
    },
    {
      "cell_type": "code",
      "metadata": {
        "id": "Gf8RpxHQSH87",
        "colab_type": "code",
        "outputId": "6e64db53-0c39-44f3-b628-c505024a1ace",
        "colab": {
          "base_uri": "https://localhost:8080/",
          "height": 67
        }
      },
      "source": [
        "#Breaking into Train and test\n",
        "X_train, X_test, y_train, y_test = train_test_split(final_counts,final['Score'].values,test_size=0.2,shuffle=False)\n",
        "X_train, X_cv, y_train, y_cv = train_test_split(X_train, y_train, test_size=0.2)\n",
        "\n",
        "\n",
        "#Normalize Data\n",
        "X_train = preprocessing.normalize(X_train)\n",
        "print(\"Train Data Size: \",X_train.shape)\n",
        "\n",
        "#Normalize Data\n",
        "X_test = preprocessing.normalize(X_test)\n",
        "print(\"Test Data Size: \",X_test.shape)\n",
        "\n",
        "X_cv = preprocessing.normalize(X_cv)\n",
        "print(\"CV Data Size :\", X_cv.shape)"
      ],
      "execution_count": 0,
      "outputs": [
        {
          "output_type": "stream",
          "text": [
            "Train Data Size:  (29484, 500)\n",
            "Test Data Size:  (9215, 500)\n",
            "CV Data Size : (7372, 500)\n"
          ],
          "name": "stdout"
        }
      ]
    },
    {
      "cell_type": "code",
      "metadata": {
        "id": "22yRZv5hSPi5",
        "colab_type": "code",
        "outputId": "51cbcd8c-047d-4bca-ff1c-86928821030f",
        "colab": {
          "base_uri": "https://localhost:8080/",
          "height": 312
        }
      },
      "source": [
        "from sklearn.svm import SVC\n",
        "C = [10000,1000,100,10,1,0.1,0.01,0.001,0.0001]\n",
        "\n",
        "train_auc = []\n",
        "cv_auc = []\n",
        "\n",
        "for i in C:\n",
        "    model = SVC(C=i) \n",
        "    clf = CalibratedClassifierCV(model, cv=3)\n",
        "    clf.fit(X_train,y_train)\n",
        "    prob_cv = clf.predict_proba(X_cv)[:,1]\n",
        "    cv_auc.append(roc_auc_score(y_cv,prob_cv))\n",
        "    prob_train = clf.predict_proba(X_train)[:,1]\n",
        "    train_auc.append(roc_auc_score(y_train,prob_train))\n",
        "optimal_C= C[cv_auc.index(max(cv_auc))]\n",
        "C=[math.log(x) for x in C]\n",
        "\n",
        "#plot auc vs alpha\n",
        "x = plt.subplot( )\n",
        "x.plot(C, train_auc, label='AUC train')\n",
        "x.plot(C, cv_auc, label='AUC CV')\n",
        "plt.title('AUC vs hyperparameter')\n",
        "plt.xlabel('C')\n",
        "plt.ylabel('AUC')\n",
        "x.legend()\n",
        "plt.show()\n",
        "\n",
        "print('optimal C for which auc is maximum : ',optimal_C)"
      ],
      "execution_count": 0,
      "outputs": [
        {
          "output_type": "display_data",
          "data": {
            "image/png": "[encoded data removed]",
            "text/plain": [
              "<Figure size 432x288 with 1 Axes>"
            ]
          },
          "metadata": {
            "tags": []
          }
        },
        {
          "output_type": "stream",
          "text": [
            "optimal C for which auc is maximum :  10000\n"
          ],
          "name": "stdout"
        }
      ]
    },
    {
      "cell_type": "code",
      "metadata": {
        "id": "tf_avgIRSWOg",
        "colab_type": "code",
        "outputId": "6fb88e1c-6f46-4b18-d45b-ce75c2416e92",
        "colab": {
          "base_uri": "https://localhost:8080/",
          "height": 598
        }
      },
      "source": [
        "#Testing AUC on Test data\n",
        "model =SVC(C = optimal_C)\n",
        "clf = CalibratedClassifierCV(model, cv=3)\n",
        "clf.fit(X_train,y_train)\n",
        "pred_test = clf.predict_proba(X_test)[:,1]\n",
        "fpr1, tpr1, thresholds1 = metrics.roc_curve(y_test, pred_test)\n",
        "pred_train = clf.predict_proba(X_train)[:,1]\n",
        "fpr2,tpr2,thresholds2 = metrics.roc_curve(y_train,pred_train)\n",
        "\n",
        "#plot ROC curve\n",
        "x = plt.subplot( )\n",
        "x.plot(fpr1, tpr1, label ='Test ROC ,auc='+str(roc_auc_score(y_test,pred_test)))\n",
        "x.plot(fpr2, tpr2, label='Train ROC ,auc='+str(roc_auc_score(y_train,pred_train)))\n",
        "plt.title('ROC curve')\n",
        "plt.xlabel('FPR')\n",
        "plt.ylabel('TPR')\n",
        "x.legend()\n",
        "plt.show()\n",
        "\n",
        "print(\"AUC on Test data is \" +str(roc_auc_score(y_test,pred_test)))\n",
        "print(\"AUC on Train data is \" +str(roc_auc_score(y_train,pred_train)))\n",
        "\n",
        "print(\"---------------------------\")\n",
        "\n",
        "# Code for drawing seaborn heatmaps\n",
        "class_names = ['negative','positive']\n",
        "df_heatmap = pd.DataFrame(confusion_matrix(y_test, pred_test.round()), index=class_names, columns=class_names )\n",
        "fig = plt.figure( )\n",
        "heatmap = sns.heatmap(df_heatmap, annot=True, fmt=\"d\")"
      ],
      "execution_count": 0,
      "outputs": [
        {
          "output_type": "display_data",
          "data": {
            "image/png": "[encoded data removed]",
            "text/plain": [
              "<Figure size 432x288 with 1 Axes>"
            ]
          },
          "metadata": {
            "tags": []
          }
        },
        {
          "output_type": "stream",
          "text": [
            "AUC on Test data is 0.9078005638360082\n",
            "AUC on Train data is 0.9253188130489396\n",
            "---------------------------\n"
          ],
          "name": "stdout"
        },
        {
          "output_type": "display_data",
          "data": {
            "image/png": "[encoded data removed]",
            "text/plain": [
              "<Figure size 432x288 with 2 Axes>"
            ]
          },
          "metadata": {
            "tags": []
          }
        }
      ]
    },
    {
      "cell_type": "code",
      "metadata": {
        "id": "WehDo4hH8W6m",
        "colab_type": "code",
        "colab": {}
      },
      "source": [
        "new = [\"tf-idf\",\"RBF\",10000,0.9253,0.9078]\n",
        "results_2.loc[1] = new"
      ],
      "execution_count": 0,
      "outputs": []
    },
    {
      "cell_type": "markdown",
      "metadata": {
        "id": "1O5tXrmMSltx",
        "colab_type": "text"
      },
      "source": [
        "### [5.2.3] Applying RBF SVM on AVG W2V"
      ]
    },
    {
      "cell_type": "code",
      "metadata": {
        "id": "XUW4yKrewEkv",
        "colab_type": "code",
        "colab": {}
      },
      "source": [
        "# Train your own Word2Vec model using your own text corpus\n",
        "i=0\n",
        "list_of_sentance=[]\n",
        "for sentance in X:\n",
        "    list_of_sentance.append(sentance.split())"
      ],
      "execution_count": 0,
      "outputs": []
    },
    {
      "cell_type": "code",
      "metadata": {
        "id": "5i7Cy0-Iw3nA",
        "colab_type": "code",
        "outputId": "30e3dc78-e062-4521-d1fb-2a24895f19d9",
        "colab": {
          "base_uri": "https://localhost:8080/",
          "height": 67
        }
      },
      "source": [
        "# min_count = 5 considers only words that occured atleast 5 times\n",
        "w2v_model=Word2Vec(list_of_sentance,min_count=5,size=50, workers=4)\n",
        "w2v_words = list(w2v_model.wv.vocab)\n",
        "\n",
        "# average Word2Vec\n",
        "# compute average word2vec for each review.\n",
        "sent_vectors = []; # the avg-w2v for each sentence/review is stored in this list\n",
        "for sent in tqdm(list_of_sentance): # for each review/sentence\n",
        "    sent_vec = np.zeros(50) # as word vectors are of zero length 50, you might need to change this to 300 if you use google's w2v\n",
        "    cnt_words =0; # num of words with a valid vector in the sentence/review\n",
        "    for word in sent: # for each word in a review/sentence\n",
        "        if word in w2v_words:\n",
        "            vec = w2v_model.wv[word]\n",
        "            sent_vec += vec\n",
        "            cnt_words += 1\n",
        "    if cnt_words != 0:\n",
        "        sent_vec /= cnt_words\n",
        "    sent_vectors.append(sent_vec)\n",
        "print(len(sent_vectors))\n",
        "print(len(sent_vectors[0]))"
      ],
      "execution_count": 0,
      "outputs": [
        {
          "output_type": "stream",
          "text": [
            "100%|██████████| 30000/30000 [00:53<00:00, 555.74it/s]"
          ],
          "name": "stderr"
        },
        {
          "output_type": "stream",
          "text": [
            "30000\n",
            "50\n"
          ],
          "name": "stdout"
        },
        {
          "output_type": "stream",
          "text": [
            "\n"
          ],
          "name": "stderr"
        }
      ]
    },
    {
      "cell_type": "code",
      "metadata": {
        "id": "sUERX46hMwEw",
        "colab_type": "code",
        "colab": {}
      },
      "source": [
        "avg_vec_google = np.array(sent_vectors)"
      ],
      "execution_count": 0,
      "outputs": []
    },
    {
      "cell_type": "code",
      "metadata": {
        "id": "J1RapJvTMy7o",
        "colab_type": "code",
        "outputId": "ccc62422-9ab6-45a7-d8a2-bb23656b0d56",
        "colab": {
          "base_uri": "https://localhost:8080/",
          "height": 50
        }
      },
      "source": [
        "mask = ~np.any(np.isnan(avg_vec_google), axis=1)\n",
        "# print(mask)\n",
        "avg_vec_google_new = avg_vec_google[mask]\n",
        "df_sample_new = y[mask]\n",
        "print(avg_vec_google_new.shape)\n",
        "print(df_sample_new.shape)"
      ],
      "execution_count": 0,
      "outputs": [
        {
          "output_type": "stream",
          "text": [
            "(30000, 50)\n",
            "(30000,)\n"
          ],
          "name": "stdout"
        }
      ]
    },
    {
      "cell_type": "code",
      "metadata": {
        "id": "oVl-uPZsNSn-",
        "colab_type": "code",
        "outputId": "eff4c87a-b763-45b5-f1ec-978520ed2280",
        "colab": {
          "base_uri": "https://localhost:8080/",
          "height": 67
        }
      },
      "source": [
        "from sklearn import preprocessing\n",
        "from sklearn.model_selection import train_test_split\n",
        "\n",
        "#Normalizing the data\n",
        "avg_vec_norm = preprocessing.normalize(avg_vec_google_new)\n",
        "\n",
        "#Not shuffling the data as we want it on time basis\n",
        "X_train, X_test, y_train, y_test = train_test_split(avg_vec_norm,df_sample_new,test_size=0.2,shuffle=False)\n",
        "X_train, X_cv, y_train, y_cv = train_test_split(X_train, y_train, test_size=0.2)\n",
        "\n",
        "#Normalize Data\n",
        "X_train = preprocessing.normalize(X_train)\n",
        "print(\"Train Data Size: \",X_train.shape)\n",
        "\n",
        "#Normalize Data\n",
        "X_test = preprocessing.normalize(X_test)\n",
        "print(\"Test Data Size: \",X_test.shape)\n",
        "\n",
        "#Normalize Data\n",
        "X_cv = preprocessing.normalize(X_cv)\n",
        "print(\"CV Data size:\", X_cv.shape)"
      ],
      "execution_count": 0,
      "outputs": [
        {
          "output_type": "stream",
          "text": [
            "Train Data Size:  (19200, 50)\n",
            "Test Data Size:  (6000, 50)\n",
            "CV Data size: (4800, 50)\n"
          ],
          "name": "stdout"
        }
      ]
    },
    {
      "cell_type": "code",
      "metadata": {
        "id": "6pwXL2jUOKy5",
        "colab_type": "code",
        "outputId": "ae74c760-fddb-41f3-e950-9edb618dc3d1",
        "colab": {
          "base_uri": "https://localhost:8080/",
          "height": 312
        }
      },
      "source": [
        "from sklearn.svm import SVC\n",
        "from sklearn.calibration import CalibratedClassifierCV\n",
        "from sklearn.metrics import roc_auc_score\n",
        "import math\n",
        "\n",
        "C = [10000,1000,100,10,1,0.1,0.01,0.001,0.0001]\n",
        "\n",
        "train_auc = []\n",
        "cv_auc = []\n",
        "\n",
        "for i in C:\n",
        "    model = SVC(C=i) \n",
        "    clf = CalibratedClassifierCV(model, cv=3)\n",
        "    clf.fit(X_train,y_train)\n",
        "    prob_cv = clf.predict_proba(X_cv)[:,1]\n",
        "    cv_auc.append(roc_auc_score(y_cv,prob_cv))\n",
        "    prob_train = clf.predict_proba(X_train)[:,1]\n",
        "    train_auc.append(roc_auc_score(y_train,prob_train))\n",
        "optimal_C= C[cv_auc.index(max(cv_auc))]\n",
        "C=[math.log(x) for x in C]\n",
        "\n",
        "#plot auc vs alpha\n",
        "x = plt.subplot( )\n",
        "x.plot(C, train_auc, label='AUC train')\n",
        "x.plot(C, cv_auc, label='AUC CV')\n",
        "plt.title('AUC vs hyperparameter')\n",
        "plt.xlabel('C')\n",
        "plt.ylabel('AUC')\n",
        "x.legend()\n",
        "plt.show()\n",
        "\n",
        "print('optimal C for which auc is maximum : ',optimal_C)"
      ],
      "execution_count": 0,
      "outputs": [
        {
          "output_type": "display_data",
          "data": {
            "image/png": "[encoded data removed]",
            "text/plain": [
              "<Figure size 432x288 with 1 Axes>"
            ]
          },
          "metadata": {
            "tags": []
          }
        },
        {
          "output_type": "stream",
          "text": [
            "optimal C for which auc is maximum :  1000\n"
          ],
          "name": "stdout"
        }
      ]
    },
    {
      "cell_type": "code",
      "metadata": {
        "id": "2eWyrgU5PaAT",
        "colab_type": "code",
        "outputId": "2ec1f594-daeb-4e93-d96e-b0be110f60f9",
        "colab": {
          "base_uri": "https://localhost:8080/",
          "height": 598
        }
      },
      "source": [
        "from sklearn.metrics import confusion_matrix\n",
        "\n",
        "#Testing AUC on Test data\n",
        "model =SVC(C = optimal_C)\n",
        "clf = CalibratedClassifierCV(model, cv=3)\n",
        "clf.fit(X_train,y_train)\n",
        "pred_test = clf.predict_proba(X_test)[:,1]\n",
        "fpr1, tpr1, thresholds1 = metrics.roc_curve(y_test, pred_test)\n",
        "pred_train = clf.predict_proba(X_train)[:,1]\n",
        "fpr2,tpr2,thresholds2 = metrics.roc_curve(y_train,pred_train)\n",
        "\n",
        "#plot ROC curve\n",
        "x = plt.subplot( )\n",
        "x.plot(fpr1, tpr1, label ='Test ROC ,auc='+str(roc_auc_score(y_test,pred_test)))\n",
        "x.plot(fpr2, tpr2, label='Train ROC ,auc='+str(roc_auc_score(y_train,pred_train)))\n",
        "plt.title('ROC curve')\n",
        "plt.xlabel('FPR')\n",
        "plt.ylabel('TPR')\n",
        "x.legend()\n",
        "plt.show()\n",
        "\n",
        "print(\"AUC on Test data is \" +str(roc_auc_score(y_test,pred_test)))\n",
        "print(\"AUC on Train data is \" +str(roc_auc_score(y_train,pred_train)))\n",
        "\n",
        "print(\"---------------------------\")\n",
        "\n",
        "# Code for drawing seaborn heatmaps\n",
        "class_names = ['negative','positive']\n",
        "df_heatmap = pd.DataFrame(confusion_matrix(y_test, pred_test.round()), index=class_names, columns=class_names )\n",
        "fig = plt.figure( )\n",
        "heatmap = sns.heatmap(df_heatmap, annot=True, fmt=\"d\")"
      ],
      "execution_count": 0,
      "outputs": [
        {
          "output_type": "display_data",
          "data": {
            "image/png": "[encoded data removed]",
            "text/plain": [
              "<Figure size 432x288 with 1 Axes>"
            ]
          },
          "metadata": {
            "tags": []
          }
        },
        {
          "output_type": "stream",
          "text": [
            "AUC on Test data is 0.9058774651930146\n",
            "AUC on Train data is 0.9128031475958928\n",
            "---------------------------\n"
          ],
          "name": "stdout"
        },
        {
          "output_type": "display_data",
          "data": {
            "image/png": "[encoded data removed]",
            "text/plain": [
              "<Figure size 432x288 with 2 Axes>"
            ]
          },
          "metadata": {
            "tags": []
          }
        }
      ]
    },
    {
      "cell_type": "code",
      "metadata": {
        "id": "nJ6eBPhz8vFO",
        "colab_type": "code",
        "colab": {}
      },
      "source": [
        "new = [\"AVG W2V\",\"RBF\",1000,0.9128,0.9058]\n",
        "results_2.loc[2] = new"
      ],
      "execution_count": 0,
      "outputs": []
    },
    {
      "cell_type": "markdown",
      "metadata": {
        "id": "Uh8aXPA4lqHn",
        "colab_type": "text"
      },
      "source": [
        "### [5.2.4] Applying RBF SVM on TFIDF W2V"
      ]
    },
    {
      "cell_type": "code",
      "metadata": {
        "id": "IEtNZ1PdlzX4",
        "colab_type": "code",
        "colab": {}
      },
      "source": [
        "# S = [\"abc def pqr\", \"def def def abc\", \"pqr pqr def\"]\n",
        "model = TfidfVectorizer()\n",
        "tf_idf_matrix = model.fit_transform(X)\n",
        "# we are converting a dictionary with word as a key, and the idf as a value\n",
        "dictionary = dict(zip(model.get_feature_names(), list(model.idf_)))"
      ],
      "execution_count": 0,
      "outputs": []
    },
    {
      "cell_type": "code",
      "metadata": {
        "id": "rRTqmdx0ml-_",
        "colab_type": "code",
        "outputId": "b4e0078a-b3c2-4be4-c8d0-5aafdc633e63",
        "colab": {
          "base_uri": "https://localhost:8080/",
          "height": 34
        }
      },
      "source": [
        "# TF-IDF weighted Word2Vec\n",
        "tfidf_feat = model.get_feature_names() # tfidf words/col-names\n",
        "# final_tf_idf is the sparse matrix with row= sentence, col=word and cell_val = tfidf\n",
        "\n",
        "tfidf_sent_vectors = []; # the tfidf-w2v for each sentence/review is stored in this list\n",
        "row=0;\n",
        "for sent in tqdm(list_of_sentance): # for each review/sentence \n",
        "    sent_vec = np.zeros(50) # as word vectors are of zero length\n",
        "    weight_sum =0; # num of words with a valid vector in the sentence/review\n",
        "    for word in sent: # for each word in a review/sentence\n",
        "        if word in w2v_words and word in tfidf_feat:\n",
        "            vec = w2v_model.wv[word]\n",
        "#             tf_idf = tf_idf_matrix[row, tfidf_feat.index(word)]\n",
        "            # to reduce the computation we are \n",
        "            # dictionary[word] = idf value of word in whole courpus\n",
        "            # sent.count(word) = tf valeus of word in this review\n",
        "            tf_idf = dictionary[word]*(sent.count(word)/len(sent))\n",
        "            sent_vec += (vec * tf_idf)\n",
        "            weight_sum += tf_idf\n",
        "    if weight_sum != 0:\n",
        "        sent_vec /= weight_sum\n",
        "    tfidf_sent_vectors.append(sent_vec)\n",
        "    row += 1"
      ],
      "execution_count": 0,
      "outputs": [
        {
          "output_type": "stream",
          "text": [
            "100%|██████████| 30000/30000 [10:41<00:00, 46.77it/s]\n"
          ],
          "name": "stderr"
        }
      ]
    },
    {
      "cell_type": "code",
      "metadata": {
        "id": "NpWe6xtxmqLv",
        "colab_type": "code",
        "colab": {}
      },
      "source": [
        "tfidf_w2v_vec_google = np.array(tfidf_sent_vectors)"
      ],
      "execution_count": 0,
      "outputs": []
    },
    {
      "cell_type": "code",
      "metadata": {
        "id": "KW7UeafUnHmj",
        "colab_type": "code",
        "outputId": "f16022c3-e34e-4aa9-9391-f47ea05a3e54",
        "colab": {
          "base_uri": "https://localhost:8080/",
          "height": 67
        }
      },
      "source": [
        "tfidfw2v_vecs_norm = preprocessing.normalize(tfidf_w2v_vec_google)\n",
        "X_train, X_test, y_train, y_test = train_test_split(tfidfw2v_vecs_norm,y,test_size=0.2,shuffle=False)\n",
        "X_train, X_cv, y_train, y_cv = train_test_split(X_train, y_train, test_size=0.2)\n",
        "print (\"Train Data\",X_train.shape)\n",
        "print(\"Test Data\",X_test.shape)\n",
        "print(\"CV Data\",X_cv.shape)"
      ],
      "execution_count": 0,
      "outputs": [
        {
          "output_type": "stream",
          "text": [
            "Train Data (19200, 50)\n",
            "Test Data (6000, 50)\n",
            "CV Data (4800, 50)\n"
          ],
          "name": "stdout"
        }
      ]
    },
    {
      "cell_type": "code",
      "metadata": {
        "id": "6PhVuZmqnPIc",
        "colab_type": "code",
        "outputId": "5a9b1f7f-8977-4bc0-a50c-42eb467ccdcf",
        "colab": {
          "base_uri": "https://localhost:8080/",
          "height": 312
        }
      },
      "source": [
        "from sklearn.svm import SVC\n",
        "from sklearn.calibration import CalibratedClassifierCV\n",
        "from sklearn.metrics import roc_auc_score\n",
        "import math\n",
        "\n",
        "C = [10000,1000,100,10,1,0.1,0.01,0.001,0.0001]\n",
        "\n",
        "train_auc = []\n",
        "cv_auc = []\n",
        "\n",
        "for i in C:\n",
        "    model = SVC(C=i) \n",
        "    clf = CalibratedClassifierCV(model, cv=3)\n",
        "    clf.fit(X_train,y_train)\n",
        "    prob_cv = clf.predict_proba(X_cv)[:,1]\n",
        "    cv_auc.append(roc_auc_score(y_cv,prob_cv))\n",
        "    prob_train = clf.predict_proba(X_train)[:,1]\n",
        "    train_auc.append(roc_auc_score(y_train,prob_train))\n",
        "optimal_C= C[cv_auc.index(max(cv_auc))]\n",
        "C=[math.log(x) for x in C]\n",
        "\n",
        "#plot auc vs alpha\n",
        "x = plt.subplot( )\n",
        "x.plot(C, train_auc, label='AUC train')\n",
        "x.plot(C, cv_auc, label='AUC CV')\n",
        "plt.title('AUC vs hyperparameter')\n",
        "plt.xlabel('C')\n",
        "plt.ylabel('AUC')\n",
        "x.legend()\n",
        "plt.show()\n",
        "\n",
        "print('optimal C for which auc is maximum : ',optimal_C)"
      ],
      "execution_count": 0,
      "outputs": [
        {
          "output_type": "display_data",
          "data": {
            "image/png": "[encoded data removed]",
            "text/plain": [
              "<Figure size 432x288 with 1 Axes>"
            ]
          },
          "metadata": {
            "tags": []
          }
        },
        {
          "output_type": "stream",
          "text": [
            "optimal C for which auc is maximum :  10000\n"
          ],
          "name": "stdout"
        }
      ]
    },
    {
      "cell_type": "code",
      "metadata": {
        "id": "HAGULfwGnfdS",
        "colab_type": "code",
        "outputId": "3af02105-dfd7-4f77-a976-b24c8135e00d",
        "colab": {
          "base_uri": "https://localhost:8080/",
          "height": 598
        }
      },
      "source": [
        "from sklearn.metrics import confusion_matrix\n",
        "\n",
        "#Testing AUC on Test data\n",
        "model =SVC(C = optimal_C)\n",
        "clf = CalibratedClassifierCV(model, cv=3)\n",
        "clf.fit(X_train,y_train)\n",
        "pred_test = clf.predict_proba(X_test)[:,1]\n",
        "fpr1, tpr1, thresholds1 = metrics.roc_curve(y_test, pred_test)\n",
        "pred_train = clf.predict_proba(X_train)[:,1]\n",
        "fpr2,tpr2,thresholds2 = metrics.roc_curve(y_train,pred_train)\n",
        "\n",
        "#plot ROC curve\n",
        "x = plt.subplot( )\n",
        "x.plot(fpr1, tpr1, label ='Test ROC ,auc='+str(roc_auc_score(y_test,pred_test)))\n",
        "x.plot(fpr2, tpr2, label='Train ROC ,auc='+str(roc_auc_score(y_train,pred_train)))\n",
        "plt.title('ROC curve')\n",
        "plt.xlabel('FPR')\n",
        "plt.ylabel('TPR')\n",
        "x.legend()\n",
        "plt.show()\n",
        "\n",
        "print(\"AUC on Test data is \" +str(roc_auc_score(y_test,pred_test)))\n",
        "print(\"AUC on Train data is \" +str(roc_auc_score(y_train,pred_train)))\n",
        "\n",
        "print(\"---------------------------\")\n",
        "\n",
        "# Code for drawing seaborn heatmaps\n",
        "class_names = ['negative','positive']\n",
        "df_heatmap = pd.DataFrame(confusion_matrix(y_test, pred_test.round()), index=class_names, columns=class_names )\n",
        "fig = plt.figure( )\n",
        "heatmap = sns.heatmap(df_heatmap, annot=True, fmt=\"d\")"
      ],
      "execution_count": 0,
      "outputs": [
        {
          "output_type": "display_data",
          "data": {
            "image/png": "[encoded data removed]",
            "text/plain": [
              "<Figure size 432x288 with 1 Axes>"
            ]
          },
          "metadata": {
            "tags": []
          }
        },
        {
          "output_type": "stream",
          "text": [
            "AUC on Test data is 0.8892091924425987\n",
            "AUC on Train data is 0.909460108011407\n",
            "---------------------------\n"
          ],
          "name": "stdout"
        },
        {
          "output_type": "display_data",
          "data": {
            "image/png": "[encoded data removed]",
            "text/plain": [
              "<Figure size 432x288 with 2 Axes>"
            ]
          },
          "metadata": {
            "tags": []
          }
        }
      ]
    },
    {
      "cell_type": "code",
      "metadata": {
        "id": "5hJBGzGg9F-D",
        "colab_type": "code",
        "colab": {}
      },
      "source": [
        "new = [\"tfidf W2V\",\"RBF\",10000,0.9094,0.8892]\n",
        "results_2.loc[3] = new"
      ],
      "execution_count": 0,
      "outputs": []
    },
    {
      "cell_type": "markdown",
      "metadata": {
        "id": "OMF53kgj9tOy",
        "colab_type": "text"
      },
      "source": [
        "## Performance Table"
      ]
    },
    {
      "cell_type": "code",
      "metadata": {
        "id": "HXoM_jmR9reJ",
        "colab_type": "code",
        "outputId": "753e0c29-c6a5-4890-d8b5-8c20ff76c3fb",
        "colab": {
          "base_uri": "https://localhost:8080/",
          "height": 166
        }
      },
      "source": [
        "results"
      ],
      "execution_count": 0,
      "outputs": [
        {
          "output_type": "execute_result",
          "data": {
            "text/html": [
              "<div>\n",
              "<style scoped>\n",
              "    .dataframe tbody tr th:only-of-type {\n",
              "        vertical-align: middle;\n",
              "    }\n",
              "\n",
              "    .dataframe tbody tr th {\n",
              "        vertical-align: top;\n",
              "    }\n",
              "\n",
              "    .dataframe thead th {\n",
              "        text-align: right;\n",
              "    }\n",
              "</style>\n",
              "<table border=\"1\" class=\"dataframe\">\n",
              "  <thead>\n",
              "    <tr style=\"text-align: right;\">\n",
              "      <th></th>\n",
              "      <th>Featuraization</th>\n",
              "      <th>Classifier</th>\n",
              "      <th>alpha</th>\n",
              "      <th>Train-AUC</th>\n",
              "      <th>Test-AUC</th>\n",
              "    </tr>\n",
              "  </thead>\n",
              "  <tbody>\n",
              "    <tr>\n",
              "      <th>0</th>\n",
              "      <td>BOW</td>\n",
              "      <td>SGDClassifier-hinge loss</td>\n",
              "      <td>0.0001</td>\n",
              "      <td>0.9624</td>\n",
              "      <td>0.9455</td>\n",
              "    </tr>\n",
              "    <tr>\n",
              "      <th>1</th>\n",
              "      <td>tf-idf</td>\n",
              "      <td>SGDClassifier-hinge loss</td>\n",
              "      <td>0.0001</td>\n",
              "      <td>0.9841</td>\n",
              "      <td>0.9586</td>\n",
              "    </tr>\n",
              "    <tr>\n",
              "      <th>2</th>\n",
              "      <td>AVG W2V</td>\n",
              "      <td>SGDClassifier-hinge loss</td>\n",
              "      <td>0.0001</td>\n",
              "      <td>0.9034</td>\n",
              "      <td>0.9050</td>\n",
              "    </tr>\n",
              "    <tr>\n",
              "      <th>3</th>\n",
              "      <td>tf-idf W2V</td>\n",
              "      <td>SGDClassifier-hinge loss</td>\n",
              "      <td>0.0001</td>\n",
              "      <td>0.8801</td>\n",
              "      <td>0.8785</td>\n",
              "    </tr>\n",
              "  </tbody>\n",
              "</table>\n",
              "</div>"
            ],
            "text/plain": [
              "  Featuraization                Classifier   alpha  Train-AUC  Test-AUC\n",
              "0            BOW  SGDClassifier-hinge loss  0.0001     0.9624    0.9455\n",
              "1         tf-idf  SGDClassifier-hinge loss  0.0001     0.9841    0.9586\n",
              "2        AVG W2V  SGDClassifier-hinge loss  0.0001     0.9034    0.9050\n",
              "3     tf-idf W2V  SGDClassifier-hinge loss  0.0001     0.8801    0.8785"
            ]
          },
          "metadata": {
            "tags": []
          },
          "execution_count": 117
        }
      ]
    },
    {
      "cell_type": "code",
      "metadata": {
        "id": "zVJowThj95i4",
        "colab_type": "code",
        "outputId": "21a36b3b-1393-487a-c92e-8760eb6fe588",
        "colab": {
          "base_uri": "https://localhost:8080/",
          "height": 166
        }
      },
      "source": [
        "results_2"
      ],
      "execution_count": 0,
      "outputs": [
        {
          "output_type": "execute_result",
          "data": {
            "text/html": [
              "<div>\n",
              "<style scoped>\n",
              "    .dataframe tbody tr th:only-of-type {\n",
              "        vertical-align: middle;\n",
              "    }\n",
              "\n",
              "    .dataframe tbody tr th {\n",
              "        vertical-align: top;\n",
              "    }\n",
              "\n",
              "    .dataframe thead th {\n",
              "        text-align: right;\n",
              "    }\n",
              "</style>\n",
              "<table border=\"1\" class=\"dataframe\">\n",
              "  <thead>\n",
              "    <tr style=\"text-align: right;\">\n",
              "      <th></th>\n",
              "      <th>Featuraization</th>\n",
              "      <th>Classifier</th>\n",
              "      <th>C</th>\n",
              "      <th>Train-AUC</th>\n",
              "      <th>Test-AUC</th>\n",
              "    </tr>\n",
              "  </thead>\n",
              "  <tbody>\n",
              "    <tr>\n",
              "      <th>0</th>\n",
              "      <td>Bow</td>\n",
              "      <td>RBF</td>\n",
              "      <td>10000</td>\n",
              "      <td>0.9256</td>\n",
              "      <td>0.9100</td>\n",
              "    </tr>\n",
              "    <tr>\n",
              "      <th>1</th>\n",
              "      <td>tf-idf</td>\n",
              "      <td>RBF</td>\n",
              "      <td>10000</td>\n",
              "      <td>0.9253</td>\n",
              "      <td>0.9078</td>\n",
              "    </tr>\n",
              "    <tr>\n",
              "      <th>2</th>\n",
              "      <td>AVG W2V</td>\n",
              "      <td>RBF</td>\n",
              "      <td>1000</td>\n",
              "      <td>0.9128</td>\n",
              "      <td>0.9058</td>\n",
              "    </tr>\n",
              "    <tr>\n",
              "      <th>3</th>\n",
              "      <td>tfidf W2V</td>\n",
              "      <td>RBF</td>\n",
              "      <td>10000</td>\n",
              "      <td>0.9094</td>\n",
              "      <td>0.8892</td>\n",
              "    </tr>\n",
              "  </tbody>\n",
              "</table>\n",
              "</div>"
            ],
            "text/plain": [
              "  Featuraization Classifier      C  Train-AUC  Test-AUC\n",
              "0            Bow        RBF  10000     0.9256    0.9100\n",
              "1         tf-idf        RBF  10000     0.9253    0.9078\n",
              "2        AVG W2V        RBF   1000     0.9128    0.9058\n",
              "3      tfidf W2V        RBF  10000     0.9094    0.8892"
            ]
          },
          "metadata": {
            "tags": []
          },
          "execution_count": 118
        }
      ]
    },
    {
      "cell_type": "markdown",
      "metadata": {
        "id": "m6EoDhmN9_4U",
        "colab_type": "text"
      },
      "source": [
        "## [6] Conclusions"
      ]
    },
    {
      "cell_type": "markdown",
      "metadata": {
        "id": "rA8-kh1k-UaG",
        "colab_type": "text"
      },
      "source": [
        "1.Support Vector Machine(SVM) gave the best result\n",
        "\n",
        "2.Linear SVM gave best result better then RBF SVM\n",
        "\n",
        "3.Linear SVM gave best result AUC = 0.9586   with tfidf featuraization and alpha = 0.0001\n",
        "\n",
        "4.RBF SVM training time complexity is high compared to Linear SVM"
      ]
    },
    {
      "cell_type": "code",
      "metadata": {
        "id": "wO7fnyho-GeQ",
        "colab_type": "code",
        "colab": {}
      },
      "source": [
        ""
      ],
      "execution_count": 0,
      "outputs": []
    }
  ]
}