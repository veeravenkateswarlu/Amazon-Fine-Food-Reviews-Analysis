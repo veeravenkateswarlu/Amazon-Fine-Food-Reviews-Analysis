{
  "nbformat": 4,
  "nbformat_minor": 0,
  "metadata": {
    "colab": {
      "name": "DT.ipynb",
      "version": "0.3.2",
      "provenance": [],
      "collapsed_sections": []
    },
    "kernelspec": {
      "name": "python3",
      "display_name": "Python 3"
    }
  },
  "cells": [
    {
      "cell_type": "markdown",
      "metadata": {
        "id": "IXmtUCbYiWM3",
        "colab_type": "text"
      },
      "source": [
        "# Amazon Fine Food Reviews Analysis\n",
        "\n",
        "\n",
        "Data Source: https://www.kaggle.com/snap/amazon-fine-food-reviews <br>\n",
        "\n",
        "EDA: https://nycdatascience.com/blog/student-works/amazon-fine-foods-visualization/\n",
        "\n",
        "\n",
        "The Amazon Fine Food Reviews dataset consists of reviews of fine foods from Amazon.<br>\n",
        "\n",
        "Number of reviews: 568,454<br>\n",
        "Number of users: 256,059<br>\n",
        "Number of products: 74,258<br>\n",
        "Timespan: Oct 1999 - Oct 2012<br>\n",
        "Number of Attributes/Columns in data: 10 \n",
        "\n",
        "Attribute Information:\n",
        "\n",
        "1. Id\n",
        "2. ProductId - unique identifier for the product\n",
        "3. UserId - unqiue identifier for the user\n",
        "4. ProfileName\n",
        "5. HelpfulnessNumerator - number of users who found the review helpful\n",
        "6. HelpfulnessDenominator - number of users who indicated whether they found the review helpful or not\n",
        "7. Score - rating between 1 and 5\n",
        "8. Time - timestamp for the review\n",
        "9. Summary - brief summary of the review\n",
        "10. Text - text of the review\n",
        "\n",
        "\n",
        "#### Objective:\n",
        "Given a review, determine whether the review is positive (rating of 4 or 5) or negative (rating of 1 or 2).\n",
        "\n",
        "<br>\n",
        "[Q] How to determine if a review is positive or negative?<br>\n",
        "<br> \n",
        "[Ans] We could use Score/Rating. A rating of 4 or 5 can be cosnidered as a positive review. A rating of 1 or 2 can be considered as negative one. A review of rating 3 is considered nuetral and such reviews are ignored from our analysis. This is an approximate and proxy way of determining the polarity (positivity/negativity) of a review.\n",
        "\n",
        "\n"
      ]
    },
    {
      "cell_type": "markdown",
      "metadata": {
        "id": "syeYHDR_iWM7",
        "colab_type": "text"
      },
      "source": [
        "# [1]. Reading Data"
      ]
    },
    {
      "cell_type": "markdown",
      "metadata": {
        "id": "D_eZrQC0iWM9",
        "colab_type": "text"
      },
      "source": [
        "## [1.1] Loading the data\n",
        "\n",
        "The dataset is available in two forms\n",
        "1. .csv file\n",
        "2. SQLite Database\n",
        "\n",
        "In order to load the data, We have used the SQLITE dataset as it is easier to query the data and visualise the data efficiently.\n",
        "<br> \n",
        "\n",
        "Here as we only want to get the global sentiment of the recommendations (positive or negative), we will purposefully ignore all Scores equal to 3. If the score is above 3, then the recommendation wil be set to \"positive\". Otherwise, it will be set to \"negative\"."
      ]
    },
    {
      "cell_type": "code",
      "metadata": {
        "id": "53fLFqf8iWNA",
        "colab_type": "code",
        "colab": {}
      },
      "source": [
        "%matplotlib inline\n",
        "import warnings\n",
        "warnings.filterwarnings(\"ignore\")\n",
        "\n",
        "\n",
        "import sqlite3\n",
        "import pandas as pd\n",
        "import numpy as np\n",
        "import nltk\n",
        "import string\n",
        "import matplotlib.pyplot as plt\n",
        "import seaborn as sns\n",
        "from sklearn.feature_extraction.text import TfidfTransformer\n",
        "from sklearn.feature_extraction.text import TfidfVectorizer\n",
        "\n",
        "from sklearn.feature_extraction.text import CountVectorizer\n",
        "from sklearn.metrics import confusion_matrix\n",
        "from sklearn import metrics\n",
        "from sklearn.metrics import roc_curve, auc\n",
        "from nltk.stem.porter import PorterStemmer\n",
        "\n",
        "import re\n",
        "# Tutorial about Python regular expressions: https://pymotw.com/2/re/\n",
        "import string\n",
        "from nltk.corpus import stopwords\n",
        "from nltk.stem import PorterStemmer\n",
        "from nltk.stem.wordnet import WordNetLemmatizer\n",
        "\n",
        "from gensim.models import Word2Vec\n",
        "from gensim.models import KeyedVectors\n",
        "import pickle\n",
        "\n",
        "from tqdm import tqdm\n",
        "import os"
      ],
      "execution_count": 0,
      "outputs": []
    },
    {
      "cell_type": "code",
      "metadata": {
        "id": "7C9h9Tl_iP26",
        "colab_type": "code",
        "outputId": "6bb6b4f3-f5ee-4928-886b-bcd1b918eaa4",
        "colab": {
          "base_uri": "https://localhost:8080/",
          "height": 121
        }
      },
      "source": [
        "# Run this cell to mount your Google Drive.\n",
        "from google.colab import drive\n",
        "drive.mount('/content/drive')"
      ],
      "execution_count": 0,
      "outputs": [
        {
          "output_type": "stream",
          "text": [
            "Go to this URL in a browser: https://accounts.google.com/o/oauth2/auth?client_id=947318989803-6bn6qk8qdgf4n4g3pfee6491hc0brc4i.apps.googleusercontent.com&redirect_uri=urn%3Aietf%3Awg%3Aoauth%3A2.0%3Aoob&scope=email%20https%3A%2F%2Fwww.googleapis.com%2Fauth%2Fdocs.test%20https%3A%2F%2Fwww.googleapis.com%2Fauth%2Fdrive%20https%3A%2F%2Fwww.googleapis.com%2Fauth%2Fdrive.photos.readonly%20https%3A%2F%2Fwww.googleapis.com%2Fauth%2Fpeopleapi.readonly&response_type=code\n",
            "\n",
            "Enter your authorization code:\n",
            "··········\n",
            "Mounted at /content/drive\n"
          ],
          "name": "stdout"
        }
      ]
    },
    {
      "cell_type": "code",
      "metadata": {
        "id": "pcBuBcjAit4h",
        "colab_type": "code",
        "outputId": "3d1b01e3-6114-42ce-9d5f-cdc159351abf",
        "colab": {
          "base_uri": "https://localhost:8080/",
          "height": 67
        }
      },
      "source": [
        "!ls /content/drive/My\\ Drive/Colab\\ Notebooks"
      ],
      "execution_count": 0,
      "outputs": [
        {
          "output_type": "stream",
          "text": [
            " database.sqlite  'Logistic Regression.ipynb'   RF.ipynb\n",
            " DT.ipynb\t   NB.ipynb\t\t        SVM.ipynb\n",
            " KNN.ipynb\t   Reviews.csv\t\t        Untitled2.ipynb\n"
          ],
          "name": "stdout"
        }
      ]
    },
    {
      "cell_type": "code",
      "metadata": {
        "id": "OfPW_-_djEVN",
        "colab_type": "code",
        "colab": {}
      },
      "source": [
        "data=pd.read_csv('/content/drive/My Drive/Colab Notebooks/Reviews.csv')"
      ],
      "execution_count": 0,
      "outputs": []
    },
    {
      "cell_type": "code",
      "metadata": {
        "id": "05LKWEhgjLsI",
        "colab_type": "code",
        "outputId": "8f55a90f-510e-44e9-b215-828c29e0d39e",
        "colab": {
          "base_uri": "https://localhost:8080/",
          "height": 279
        }
      },
      "source": [
        "data.head()"
      ],
      "execution_count": 0,
      "outputs": [
        {
          "output_type": "execute_result",
          "data": {
            "text/html": [
              "<div>\n",
              "<style scoped>\n",
              "    .dataframe tbody tr th:only-of-type {\n",
              "        vertical-align: middle;\n",
              "    }\n",
              "\n",
              "    .dataframe tbody tr th {\n",
              "        vertical-align: top;\n",
              "    }\n",
              "\n",
              "    .dataframe thead th {\n",
              "        text-align: right;\n",
              "    }\n",
              "</style>\n",
              "<table border=\"1\" class=\"dataframe\">\n",
              "  <thead>\n",
              "    <tr style=\"text-align: right;\">\n",
              "      <th></th>\n",
              "      <th>Id</th>\n",
              "      <th>ProductId</th>\n",
              "      <th>UserId</th>\n",
              "      <th>ProfileName</th>\n",
              "      <th>HelpfulnessNumerator</th>\n",
              "      <th>HelpfulnessDenominator</th>\n",
              "      <th>Score</th>\n",
              "      <th>Time</th>\n",
              "      <th>Summary</th>\n",
              "      <th>Text</th>\n",
              "    </tr>\n",
              "  </thead>\n",
              "  <tbody>\n",
              "    <tr>\n",
              "      <th>0</th>\n",
              "      <td>1</td>\n",
              "      <td>B001E4KFG0</td>\n",
              "      <td>A3SGXH7AUHU8GW</td>\n",
              "      <td>delmartian</td>\n",
              "      <td>1</td>\n",
              "      <td>1</td>\n",
              "      <td>5</td>\n",
              "      <td>1303862400</td>\n",
              "      <td>Good Quality Dog Food</td>\n",
              "      <td>I have bought several of the Vitality canned d...</td>\n",
              "    </tr>\n",
              "    <tr>\n",
              "      <th>1</th>\n",
              "      <td>2</td>\n",
              "      <td>B00813GRG4</td>\n",
              "      <td>A1D87F6ZCVE5NK</td>\n",
              "      <td>dll pa</td>\n",
              "      <td>0</td>\n",
              "      <td>0</td>\n",
              "      <td>1</td>\n",
              "      <td>1346976000</td>\n",
              "      <td>Not as Advertised</td>\n",
              "      <td>Product arrived labeled as Jumbo Salted Peanut...</td>\n",
              "    </tr>\n",
              "    <tr>\n",
              "      <th>2</th>\n",
              "      <td>3</td>\n",
              "      <td>B000LQOCH0</td>\n",
              "      <td>ABXLMWJIXXAIN</td>\n",
              "      <td>Natalia Corres \"Natalia Corres\"</td>\n",
              "      <td>1</td>\n",
              "      <td>1</td>\n",
              "      <td>4</td>\n",
              "      <td>1219017600</td>\n",
              "      <td>\"Delight\" says it all</td>\n",
              "      <td>This is a confection that has been around a fe...</td>\n",
              "    </tr>\n",
              "    <tr>\n",
              "      <th>3</th>\n",
              "      <td>4</td>\n",
              "      <td>B000UA0QIQ</td>\n",
              "      <td>A395BORC6FGVXV</td>\n",
              "      <td>Karl</td>\n",
              "      <td>3</td>\n",
              "      <td>3</td>\n",
              "      <td>2</td>\n",
              "      <td>1307923200</td>\n",
              "      <td>Cough Medicine</td>\n",
              "      <td>If you are looking for the secret ingredient i...</td>\n",
              "    </tr>\n",
              "    <tr>\n",
              "      <th>4</th>\n",
              "      <td>5</td>\n",
              "      <td>B006K2ZZ7K</td>\n",
              "      <td>A1UQRSCLF8GW1T</td>\n",
              "      <td>Michael D. Bigham \"M. Wassir\"</td>\n",
              "      <td>0</td>\n",
              "      <td>0</td>\n",
              "      <td>5</td>\n",
              "      <td>1350777600</td>\n",
              "      <td>Great taffy</td>\n",
              "      <td>Great taffy at a great price.  There was a wid...</td>\n",
              "    </tr>\n",
              "  </tbody>\n",
              "</table>\n",
              "</div>"
            ],
            "text/plain": [
              "   Id  ...                                               Text\n",
              "0   1  ...  I have bought several of the Vitality canned d...\n",
              "1   2  ...  Product arrived labeled as Jumbo Salted Peanut...\n",
              "2   3  ...  This is a confection that has been around a fe...\n",
              "3   4  ...  If you are looking for the secret ingredient i...\n",
              "4   5  ...  Great taffy at a great price.  There was a wid...\n",
              "\n",
              "[5 rows x 10 columns]"
            ]
          },
          "metadata": {
            "tags": []
          },
          "execution_count": 5
        }
      ]
    },
    {
      "cell_type": "code",
      "metadata": {
        "id": "h2QoGeAFjVFw",
        "colab_type": "code",
        "colab": {}
      },
      "source": [
        "conn=sqlite3.connect('/content/drive/My Drive/Colab Notebooks/database.sqlite')"
      ],
      "execution_count": 0,
      "outputs": []
    },
    {
      "cell_type": "code",
      "metadata": {
        "id": "bWQqMPw8jbO5",
        "colab_type": "code",
        "colab": {}
      },
      "source": [
        "filter_data=pd.read_sql_query(\"\"\" SELECT * FROM Reviews WHERE Score != 3 LIMIT 100000\"\"\",conn)"
      ],
      "execution_count": 0,
      "outputs": []
    },
    {
      "cell_type": "code",
      "metadata": {
        "id": "OcjVkN7tje4k",
        "colab_type": "code",
        "colab": {}
      },
      "source": [
        "def partition (x):\n",
        "  if x<3:\n",
        "    return 0\n",
        "  return 1"
      ],
      "execution_count": 0,
      "outputs": []
    },
    {
      "cell_type": "code",
      "metadata": {
        "id": "0zvsh5hYji6l",
        "colab_type": "code",
        "outputId": "a453a01a-a980-459f-a66e-f3f542f4361f",
        "colab": {
          "base_uri": "https://localhost:8080/",
          "height": 296
        }
      },
      "source": [
        "actualscore = filter_data['Score']\n",
        "positivenegative = actualscore.map(partition)\n",
        "filter_data['Score']= positivenegative\n",
        "print('Nomber of data points in our data',filter_data.shape)\n",
        "filter_data.head(5)"
      ],
      "execution_count": 0,
      "outputs": [
        {
          "output_type": "stream",
          "text": [
            "Nomber of data points in our data (100000, 10)\n"
          ],
          "name": "stdout"
        },
        {
          "output_type": "execute_result",
          "data": {
            "text/html": [
              "<div>\n",
              "<style scoped>\n",
              "    .dataframe tbody tr th:only-of-type {\n",
              "        vertical-align: middle;\n",
              "    }\n",
              "\n",
              "    .dataframe tbody tr th {\n",
              "        vertical-align: top;\n",
              "    }\n",
              "\n",
              "    .dataframe thead th {\n",
              "        text-align: right;\n",
              "    }\n",
              "</style>\n",
              "<table border=\"1\" class=\"dataframe\">\n",
              "  <thead>\n",
              "    <tr style=\"text-align: right;\">\n",
              "      <th></th>\n",
              "      <th>Id</th>\n",
              "      <th>ProductId</th>\n",
              "      <th>UserId</th>\n",
              "      <th>ProfileName</th>\n",
              "      <th>HelpfulnessNumerator</th>\n",
              "      <th>HelpfulnessDenominator</th>\n",
              "      <th>Score</th>\n",
              "      <th>Time</th>\n",
              "      <th>Summary</th>\n",
              "      <th>Text</th>\n",
              "    </tr>\n",
              "  </thead>\n",
              "  <tbody>\n",
              "    <tr>\n",
              "      <th>0</th>\n",
              "      <td>1</td>\n",
              "      <td>B001E4KFG0</td>\n",
              "      <td>A3SGXH7AUHU8GW</td>\n",
              "      <td>delmartian</td>\n",
              "      <td>1</td>\n",
              "      <td>1</td>\n",
              "      <td>1</td>\n",
              "      <td>1303862400</td>\n",
              "      <td>Good Quality Dog Food</td>\n",
              "      <td>I have bought several of the Vitality canned d...</td>\n",
              "    </tr>\n",
              "    <tr>\n",
              "      <th>1</th>\n",
              "      <td>2</td>\n",
              "      <td>B00813GRG4</td>\n",
              "      <td>A1D87F6ZCVE5NK</td>\n",
              "      <td>dll pa</td>\n",
              "      <td>0</td>\n",
              "      <td>0</td>\n",
              "      <td>0</td>\n",
              "      <td>1346976000</td>\n",
              "      <td>Not as Advertised</td>\n",
              "      <td>Product arrived labeled as Jumbo Salted Peanut...</td>\n",
              "    </tr>\n",
              "    <tr>\n",
              "      <th>2</th>\n",
              "      <td>3</td>\n",
              "      <td>B000LQOCH0</td>\n",
              "      <td>ABXLMWJIXXAIN</td>\n",
              "      <td>Natalia Corres \"Natalia Corres\"</td>\n",
              "      <td>1</td>\n",
              "      <td>1</td>\n",
              "      <td>1</td>\n",
              "      <td>1219017600</td>\n",
              "      <td>\"Delight\" says it all</td>\n",
              "      <td>This is a confection that has been around a fe...</td>\n",
              "    </tr>\n",
              "    <tr>\n",
              "      <th>3</th>\n",
              "      <td>4</td>\n",
              "      <td>B000UA0QIQ</td>\n",
              "      <td>A395BORC6FGVXV</td>\n",
              "      <td>Karl</td>\n",
              "      <td>3</td>\n",
              "      <td>3</td>\n",
              "      <td>0</td>\n",
              "      <td>1307923200</td>\n",
              "      <td>Cough Medicine</td>\n",
              "      <td>If you are looking for the secret ingredient i...</td>\n",
              "    </tr>\n",
              "    <tr>\n",
              "      <th>4</th>\n",
              "      <td>5</td>\n",
              "      <td>B006K2ZZ7K</td>\n",
              "      <td>A1UQRSCLF8GW1T</td>\n",
              "      <td>Michael D. Bigham \"M. Wassir\"</td>\n",
              "      <td>0</td>\n",
              "      <td>0</td>\n",
              "      <td>1</td>\n",
              "      <td>1350777600</td>\n",
              "      <td>Great taffy</td>\n",
              "      <td>Great taffy at a great price.  There was a wid...</td>\n",
              "    </tr>\n",
              "  </tbody>\n",
              "</table>\n",
              "</div>"
            ],
            "text/plain": [
              "   Id  ...                                               Text\n",
              "0   1  ...  I have bought several of the Vitality canned d...\n",
              "1   2  ...  Product arrived labeled as Jumbo Salted Peanut...\n",
              "2   3  ...  This is a confection that has been around a fe...\n",
              "3   4  ...  If you are looking for the secret ingredient i...\n",
              "4   5  ...  Great taffy at a great price.  There was a wid...\n",
              "\n",
              "[5 rows x 10 columns]"
            ]
          },
          "metadata": {
            "tags": []
          },
          "execution_count": 106
        }
      ]
    },
    {
      "cell_type": "code",
      "metadata": {
        "id": "dOPlbP7ojmDN",
        "colab_type": "code",
        "colab": {}
      },
      "source": [
        "display = pd.read_sql_query(\"\"\"\n",
        "SELECT UserId, ProductId, ProfileName, Time, Score, Text, COUNT(*)\n",
        "FROM Reviews\n",
        "GROUP BY UserId\n",
        "HAVING COUNT(*)>1\n",
        "\"\"\", conn)"
      ],
      "execution_count": 0,
      "outputs": []
    },
    {
      "cell_type": "code",
      "metadata": {
        "id": "nZzgXQvujujE",
        "colab_type": "code",
        "outputId": "9f838f6d-db08-4beb-eaa3-26eb62aae8ed",
        "colab": {
          "base_uri": "https://localhost:8080/",
          "height": 212
        }
      },
      "source": [
        "print(display.shape)\n",
        "display.head()"
      ],
      "execution_count": 0,
      "outputs": [
        {
          "output_type": "stream",
          "text": [
            "(80668, 7)\n"
          ],
          "name": "stdout"
        },
        {
          "output_type": "execute_result",
          "data": {
            "text/html": [
              "<div>\n",
              "<style scoped>\n",
              "    .dataframe tbody tr th:only-of-type {\n",
              "        vertical-align: middle;\n",
              "    }\n",
              "\n",
              "    .dataframe tbody tr th {\n",
              "        vertical-align: top;\n",
              "    }\n",
              "\n",
              "    .dataframe thead th {\n",
              "        text-align: right;\n",
              "    }\n",
              "</style>\n",
              "<table border=\"1\" class=\"dataframe\">\n",
              "  <thead>\n",
              "    <tr style=\"text-align: right;\">\n",
              "      <th></th>\n",
              "      <th>UserId</th>\n",
              "      <th>ProductId</th>\n",
              "      <th>ProfileName</th>\n",
              "      <th>Time</th>\n",
              "      <th>Score</th>\n",
              "      <th>Text</th>\n",
              "      <th>COUNT(*)</th>\n",
              "    </tr>\n",
              "  </thead>\n",
              "  <tbody>\n",
              "    <tr>\n",
              "      <th>0</th>\n",
              "      <td>#oc-R115TNMSPFT9I7</td>\n",
              "      <td>B007Y59HVM</td>\n",
              "      <td>Breyton</td>\n",
              "      <td>1331510400</td>\n",
              "      <td>2</td>\n",
              "      <td>Overall its just OK when considering the price...</td>\n",
              "      <td>2</td>\n",
              "    </tr>\n",
              "    <tr>\n",
              "      <th>1</th>\n",
              "      <td>#oc-R11D9D7SHXIJB9</td>\n",
              "      <td>B005HG9ET0</td>\n",
              "      <td>Louis E. Emory \"hoppy\"</td>\n",
              "      <td>1342396800</td>\n",
              "      <td>5</td>\n",
              "      <td>My wife has recurring extreme muscle spasms, u...</td>\n",
              "      <td>3</td>\n",
              "    </tr>\n",
              "    <tr>\n",
              "      <th>2</th>\n",
              "      <td>#oc-R11DNU2NBKQ23Z</td>\n",
              "      <td>B007Y59HVM</td>\n",
              "      <td>Kim Cieszykowski</td>\n",
              "      <td>1348531200</td>\n",
              "      <td>1</td>\n",
              "      <td>This coffee is horrible and unfortunately not ...</td>\n",
              "      <td>2</td>\n",
              "    </tr>\n",
              "    <tr>\n",
              "      <th>3</th>\n",
              "      <td>#oc-R11O5J5ZVQE25C</td>\n",
              "      <td>B005HG9ET0</td>\n",
              "      <td>Penguin Chick</td>\n",
              "      <td>1346889600</td>\n",
              "      <td>5</td>\n",
              "      <td>This will be the bottle that you grab from the...</td>\n",
              "      <td>3</td>\n",
              "    </tr>\n",
              "    <tr>\n",
              "      <th>4</th>\n",
              "      <td>#oc-R12KPBODL2B5ZD</td>\n",
              "      <td>B007OSBE1U</td>\n",
              "      <td>Christopher P. Presta</td>\n",
              "      <td>1348617600</td>\n",
              "      <td>1</td>\n",
              "      <td>I didnt like this coffee. Instead of telling y...</td>\n",
              "      <td>2</td>\n",
              "    </tr>\n",
              "  </tbody>\n",
              "</table>\n",
              "</div>"
            ],
            "text/plain": [
              "               UserId  ... COUNT(*)\n",
              "0  #oc-R115TNMSPFT9I7  ...        2\n",
              "1  #oc-R11D9D7SHXIJB9  ...        3\n",
              "2  #oc-R11DNU2NBKQ23Z  ...        2\n",
              "3  #oc-R11O5J5ZVQE25C  ...        3\n",
              "4  #oc-R12KPBODL2B5ZD  ...        2\n",
              "\n",
              "[5 rows x 7 columns]"
            ]
          },
          "metadata": {
            "tags": []
          },
          "execution_count": 108
        }
      ]
    },
    {
      "cell_type": "code",
      "metadata": {
        "id": "lmkAgglIj2LP",
        "colab_type": "code",
        "outputId": "861947c7-c8ee-46d0-a776-1d06971280a1",
        "colab": {
          "base_uri": "https://localhost:8080/",
          "height": 77
        }
      },
      "source": [
        "display[display['UserId']=='AZY10LLTJ71NX']"
      ],
      "execution_count": 0,
      "outputs": [
        {
          "output_type": "execute_result",
          "data": {
            "text/html": [
              "<div>\n",
              "<style scoped>\n",
              "    .dataframe tbody tr th:only-of-type {\n",
              "        vertical-align: middle;\n",
              "    }\n",
              "\n",
              "    .dataframe tbody tr th {\n",
              "        vertical-align: top;\n",
              "    }\n",
              "\n",
              "    .dataframe thead th {\n",
              "        text-align: right;\n",
              "    }\n",
              "</style>\n",
              "<table border=\"1\" class=\"dataframe\">\n",
              "  <thead>\n",
              "    <tr style=\"text-align: right;\">\n",
              "      <th></th>\n",
              "      <th>UserId</th>\n",
              "      <th>ProductId</th>\n",
              "      <th>ProfileName</th>\n",
              "      <th>Time</th>\n",
              "      <th>Score</th>\n",
              "      <th>Text</th>\n",
              "      <th>COUNT(*)</th>\n",
              "    </tr>\n",
              "  </thead>\n",
              "  <tbody>\n",
              "    <tr>\n",
              "      <th>80638</th>\n",
              "      <td>AZY10LLTJ71NX</td>\n",
              "      <td>B006P7E5ZI</td>\n",
              "      <td>undertheshrine \"undertheshrine\"</td>\n",
              "      <td>1334707200</td>\n",
              "      <td>5</td>\n",
              "      <td>I was recommended to try green tea extract to ...</td>\n",
              "      <td>5</td>\n",
              "    </tr>\n",
              "  </tbody>\n",
              "</table>\n",
              "</div>"
            ],
            "text/plain": [
              "              UserId  ... COUNT(*)\n",
              "80638  AZY10LLTJ71NX  ...        5\n",
              "\n",
              "[1 rows x 7 columns]"
            ]
          },
          "metadata": {
            "tags": []
          },
          "execution_count": 109
        }
      ]
    },
    {
      "cell_type": "code",
      "metadata": {
        "id": "lLIEC5qLj6cl",
        "colab_type": "code",
        "outputId": "0cfb29a0-daeb-4af9-e469-85069e1a5501",
        "colab": {
          "base_uri": "https://localhost:8080/",
          "height": 34
        }
      },
      "source": [
        "display['COUNT(*)'].sum()"
      ],
      "execution_count": 0,
      "outputs": [
        {
          "output_type": "execute_result",
          "data": {
            "text/plain": [
              "393063"
            ]
          },
          "metadata": {
            "tags": []
          },
          "execution_count": 110
        }
      ]
    },
    {
      "cell_type": "markdown",
      "metadata": {
        "id": "EBZeBQFmkQwI",
        "colab_type": "text"
      },
      "source": [
        "# [2] Exploratory Data Analysis"
      ]
    },
    {
      "cell_type": "markdown",
      "metadata": {
        "id": "f3nDo_hOkvli",
        "colab_type": "text"
      },
      "source": [
        "## [2.1] Data Cleaning: Deduplication"
      ]
    },
    {
      "cell_type": "code",
      "metadata": {
        "id": "uy0PXgFej_p8",
        "colab_type": "code",
        "outputId": "08f68384-2882-47db-ec72-26f84e1a763e",
        "colab": {
          "base_uri": "https://localhost:8080/",
          "height": 296
        }
      },
      "source": [
        "display= pd.read_sql_query(\"\"\"\n",
        "SELECT *\n",
        "FROM Reviews\n",
        "WHERE Score != 3 AND UserId=\"AR5J8UI46CURR\"\n",
        "ORDER BY ProductID\n",
        "\"\"\", conn)\n",
        "print(display.shape)\n",
        "display.head()"
      ],
      "execution_count": 0,
      "outputs": [
        {
          "output_type": "stream",
          "text": [
            "(5, 10)\n"
          ],
          "name": "stdout"
        },
        {
          "output_type": "execute_result",
          "data": {
            "text/html": [
              "<div>\n",
              "<style scoped>\n",
              "    .dataframe tbody tr th:only-of-type {\n",
              "        vertical-align: middle;\n",
              "    }\n",
              "\n",
              "    .dataframe tbody tr th {\n",
              "        vertical-align: top;\n",
              "    }\n",
              "\n",
              "    .dataframe thead th {\n",
              "        text-align: right;\n",
              "    }\n",
              "</style>\n",
              "<table border=\"1\" class=\"dataframe\">\n",
              "  <thead>\n",
              "    <tr style=\"text-align: right;\">\n",
              "      <th></th>\n",
              "      <th>Id</th>\n",
              "      <th>ProductId</th>\n",
              "      <th>UserId</th>\n",
              "      <th>ProfileName</th>\n",
              "      <th>HelpfulnessNumerator</th>\n",
              "      <th>HelpfulnessDenominator</th>\n",
              "      <th>Score</th>\n",
              "      <th>Time</th>\n",
              "      <th>Summary</th>\n",
              "      <th>Text</th>\n",
              "    </tr>\n",
              "  </thead>\n",
              "  <tbody>\n",
              "    <tr>\n",
              "      <th>0</th>\n",
              "      <td>78445</td>\n",
              "      <td>B000HDL1RQ</td>\n",
              "      <td>AR5J8UI46CURR</td>\n",
              "      <td>Geetha Krishnan</td>\n",
              "      <td>2</td>\n",
              "      <td>2</td>\n",
              "      <td>5</td>\n",
              "      <td>1199577600</td>\n",
              "      <td>LOACKER QUADRATINI VANILLA WAFERS</td>\n",
              "      <td>DELICIOUS WAFERS. I FIND THAT EUROPEAN WAFERS ...</td>\n",
              "    </tr>\n",
              "    <tr>\n",
              "      <th>1</th>\n",
              "      <td>138317</td>\n",
              "      <td>B000HDOPYC</td>\n",
              "      <td>AR5J8UI46CURR</td>\n",
              "      <td>Geetha Krishnan</td>\n",
              "      <td>2</td>\n",
              "      <td>2</td>\n",
              "      <td>5</td>\n",
              "      <td>1199577600</td>\n",
              "      <td>LOACKER QUADRATINI VANILLA WAFERS</td>\n",
              "      <td>DELICIOUS WAFERS. I FIND THAT EUROPEAN WAFERS ...</td>\n",
              "    </tr>\n",
              "    <tr>\n",
              "      <th>2</th>\n",
              "      <td>138277</td>\n",
              "      <td>B000HDOPYM</td>\n",
              "      <td>AR5J8UI46CURR</td>\n",
              "      <td>Geetha Krishnan</td>\n",
              "      <td>2</td>\n",
              "      <td>2</td>\n",
              "      <td>5</td>\n",
              "      <td>1199577600</td>\n",
              "      <td>LOACKER QUADRATINI VANILLA WAFERS</td>\n",
              "      <td>DELICIOUS WAFERS. I FIND THAT EUROPEAN WAFERS ...</td>\n",
              "    </tr>\n",
              "    <tr>\n",
              "      <th>3</th>\n",
              "      <td>73791</td>\n",
              "      <td>B000HDOPZG</td>\n",
              "      <td>AR5J8UI46CURR</td>\n",
              "      <td>Geetha Krishnan</td>\n",
              "      <td>2</td>\n",
              "      <td>2</td>\n",
              "      <td>5</td>\n",
              "      <td>1199577600</td>\n",
              "      <td>LOACKER QUADRATINI VANILLA WAFERS</td>\n",
              "      <td>DELICIOUS WAFERS. I FIND THAT EUROPEAN WAFERS ...</td>\n",
              "    </tr>\n",
              "    <tr>\n",
              "      <th>4</th>\n",
              "      <td>155049</td>\n",
              "      <td>B000PAQ75C</td>\n",
              "      <td>AR5J8UI46CURR</td>\n",
              "      <td>Geetha Krishnan</td>\n",
              "      <td>2</td>\n",
              "      <td>2</td>\n",
              "      <td>5</td>\n",
              "      <td>1199577600</td>\n",
              "      <td>LOACKER QUADRATINI VANILLA WAFERS</td>\n",
              "      <td>DELICIOUS WAFERS. I FIND THAT EUROPEAN WAFERS ...</td>\n",
              "    </tr>\n",
              "  </tbody>\n",
              "</table>\n",
              "</div>"
            ],
            "text/plain": [
              "       Id  ...                                               Text\n",
              "0   78445  ...  DELICIOUS WAFERS. I FIND THAT EUROPEAN WAFERS ...\n",
              "1  138317  ...  DELICIOUS WAFERS. I FIND THAT EUROPEAN WAFERS ...\n",
              "2  138277  ...  DELICIOUS WAFERS. I FIND THAT EUROPEAN WAFERS ...\n",
              "3   73791  ...  DELICIOUS WAFERS. I FIND THAT EUROPEAN WAFERS ...\n",
              "4  155049  ...  DELICIOUS WAFERS. I FIND THAT EUROPEAN WAFERS ...\n",
              "\n",
              "[5 rows x 10 columns]"
            ]
          },
          "metadata": {
            "tags": []
          },
          "execution_count": 111
        }
      ]
    },
    {
      "cell_type": "code",
      "metadata": {
        "id": "qYaHMbYJk8kl",
        "colab_type": "code",
        "colab": {}
      },
      "source": [
        "#Sorting data according to ProductId in ascending order\n",
        "sorted_data=filter_data.sort_values('ProductId', axis=0, ascending=True, inplace=False, kind='quicksort', na_position='last')"
      ],
      "execution_count": 0,
      "outputs": []
    },
    {
      "cell_type": "code",
      "metadata": {
        "id": "vVpQgUqalGYP",
        "colab_type": "code",
        "outputId": "34068ef9-89a5-4a55-c5c3-427476c4a151",
        "colab": {
          "base_uri": "https://localhost:8080/",
          "height": 34
        }
      },
      "source": [
        "#Deduplication of entries\n",
        "final=sorted_data.drop_duplicates(subset={\"UserId\",\"ProfileName\",\"Time\",\"Text\"}, keep='first', inplace=False)\n",
        "final.shape"
      ],
      "execution_count": 0,
      "outputs": [
        {
          "output_type": "execute_result",
          "data": {
            "text/plain": [
              "(87775, 10)"
            ]
          },
          "metadata": {
            "tags": []
          },
          "execution_count": 113
        }
      ]
    },
    {
      "cell_type": "code",
      "metadata": {
        "id": "8qwQbiqClJbG",
        "colab_type": "code",
        "outputId": "55c05c3b-4350-49a6-8e74-f7d5dd4ab706",
        "colab": {
          "base_uri": "https://localhost:8080/",
          "height": 34
        }
      },
      "source": [
        "#Checking to see how much % of data still remains\n",
        "(final['Id'].size*1.0)/(filter_data['Id'].size*1.0)*100"
      ],
      "execution_count": 0,
      "outputs": [
        {
          "output_type": "execute_result",
          "data": {
            "text/plain": [
              "87.775"
            ]
          },
          "metadata": {
            "tags": []
          },
          "execution_count": 114
        }
      ]
    },
    {
      "cell_type": "code",
      "metadata": {
        "id": "oW1l0NhUlNKr",
        "colab_type": "code",
        "outputId": "a029aabd-5d50-4a47-b6c3-8b6026510a77",
        "colab": {
          "base_uri": "https://localhost:8080/",
          "height": 140
        }
      },
      "source": [
        "display= pd.read_sql_query(\"\"\"\n",
        "SELECT *\n",
        "FROM Reviews\n",
        "WHERE Score != 3 AND Id=44737 OR Id=64422\n",
        "ORDER BY ProductID\n",
        "\"\"\", conn)\n",
        "\n",
        "display.head()"
      ],
      "execution_count": 0,
      "outputs": [
        {
          "output_type": "execute_result",
          "data": {
            "text/html": [
              "<div>\n",
              "<style scoped>\n",
              "    .dataframe tbody tr th:only-of-type {\n",
              "        vertical-align: middle;\n",
              "    }\n",
              "\n",
              "    .dataframe tbody tr th {\n",
              "        vertical-align: top;\n",
              "    }\n",
              "\n",
              "    .dataframe thead th {\n",
              "        text-align: right;\n",
              "    }\n",
              "</style>\n",
              "<table border=\"1\" class=\"dataframe\">\n",
              "  <thead>\n",
              "    <tr style=\"text-align: right;\">\n",
              "      <th></th>\n",
              "      <th>Id</th>\n",
              "      <th>ProductId</th>\n",
              "      <th>UserId</th>\n",
              "      <th>ProfileName</th>\n",
              "      <th>HelpfulnessNumerator</th>\n",
              "      <th>HelpfulnessDenominator</th>\n",
              "      <th>Score</th>\n",
              "      <th>Time</th>\n",
              "      <th>Summary</th>\n",
              "      <th>Text</th>\n",
              "    </tr>\n",
              "  </thead>\n",
              "  <tbody>\n",
              "    <tr>\n",
              "      <th>0</th>\n",
              "      <td>64422</td>\n",
              "      <td>B000MIDROQ</td>\n",
              "      <td>A161DK06JJMCYF</td>\n",
              "      <td>J. E. Stephens \"Jeanne\"</td>\n",
              "      <td>3</td>\n",
              "      <td>1</td>\n",
              "      <td>5</td>\n",
              "      <td>1224892800</td>\n",
              "      <td>Bought This for My Son at College</td>\n",
              "      <td>My son loves spaghetti so I didn't hesitate or...</td>\n",
              "    </tr>\n",
              "    <tr>\n",
              "      <th>1</th>\n",
              "      <td>44737</td>\n",
              "      <td>B001EQ55RW</td>\n",
              "      <td>A2V0I904FH7ABY</td>\n",
              "      <td>Ram</td>\n",
              "      <td>3</td>\n",
              "      <td>2</td>\n",
              "      <td>4</td>\n",
              "      <td>1212883200</td>\n",
              "      <td>Pure cocoa taste with crunchy almonds inside</td>\n",
              "      <td>It was almost a 'love at first bite' - the per...</td>\n",
              "    </tr>\n",
              "  </tbody>\n",
              "</table>\n",
              "</div>"
            ],
            "text/plain": [
              "      Id  ...                                               Text\n",
              "0  64422  ...  My son loves spaghetti so I didn't hesitate or...\n",
              "1  44737  ...  It was almost a 'love at first bite' - the per...\n",
              "\n",
              "[2 rows x 10 columns]"
            ]
          },
          "metadata": {
            "tags": []
          },
          "execution_count": 115
        }
      ]
    },
    {
      "cell_type": "code",
      "metadata": {
        "id": "DoR-PIyylSbl",
        "colab_type": "code",
        "colab": {}
      },
      "source": [
        "final=final[final.HelpfulnessNumerator<=final.HelpfulnessDenominator]"
      ],
      "execution_count": 0,
      "outputs": []
    },
    {
      "cell_type": "code",
      "metadata": {
        "id": "zuxmK8mSlZDX",
        "colab_type": "code",
        "outputId": "2752ef79-1757-4dcc-ef3c-1837f0de0c4f",
        "colab": {
          "base_uri": "https://localhost:8080/",
          "height": 84
        }
      },
      "source": [
        "#Before starting the next phase of preprocessing lets see the number of entries left\n",
        "print(final.shape)\n",
        "\n",
        "#How many positive and negative reviews are present in our dataset?\n",
        "final['Score'].value_counts()"
      ],
      "execution_count": 0,
      "outputs": [
        {
          "output_type": "stream",
          "text": [
            "(87773, 10)\n"
          ],
          "name": "stdout"
        },
        {
          "output_type": "execute_result",
          "data": {
            "text/plain": [
              "1    73592\n",
              "0    14181\n",
              "Name: Score, dtype: int64"
            ]
          },
          "metadata": {
            "tags": []
          },
          "execution_count": 117
        }
      ]
    },
    {
      "cell_type": "markdown",
      "metadata": {
        "id": "ppjnxlEjlhUi",
        "colab_type": "text"
      },
      "source": [
        "## [3] Preprocessing"
      ]
    },
    {
      "cell_type": "markdown",
      "metadata": {
        "id": "grip8Pw6ls-k",
        "colab_type": "text"
      },
      "source": [
        "### [3.1]. Preprocessing Review Text"
      ]
    },
    {
      "cell_type": "code",
      "metadata": {
        "id": "v_wyqayzlc6V",
        "colab_type": "code",
        "outputId": "65a25e5e-3381-4b59-9ab9-582c804e7a8f",
        "colab": {
          "base_uri": "https://localhost:8080/",
          "height": 171
        }
      },
      "source": [
        "# printing some random reviews\n",
        "sent_0 = final['Text'].values[0]\n",
        "print(sent_0)\n",
        "print(\"=\"*50)\n",
        "\n",
        "sent_1000 = final['Text'].values[1000]\n",
        "print(sent_1000)\n",
        "print(\"=\"*50)\n",
        "\n",
        "sent_1500 = final['Text'].values[1500]\n",
        "print(sent_1500)\n",
        "print(\"=\"*50)\n",
        "\n",
        "sent_4900 = final['Text'].values[4900]\n",
        "print(sent_4900)\n",
        "print(\"=\"*50)\n",
        "\n"
      ],
      "execution_count": 0,
      "outputs": [
        {
          "output_type": "stream",
          "text": [
            "My dogs loves this chicken but its a product from China, so we wont be buying it anymore.  Its very hard to find any chicken products made in the USA but they are out there, but this one isnt.  Its too bad too because its a good product but I wont take any chances till they know what is going on with the china imports.\n",
            "==================================================\n",
            "The Candy Blocks were a nice visual for the Lego Birthday party but the candy has little taste to it.  Very little of the 2 lbs that I bought were eaten and I threw the rest away.  I would not buy the candy again.\n",
            "==================================================\n",
            "was way to hot for my blood, took a bite and did a jig  lol\n",
            "==================================================\n",
            "My dog LOVES these treats. They tend to have a very strong fish oil smell. So if you are afraid of the fishy smell, don't get it. But I think my dog likes it because of the smell. These treats are really small in size. They are great for training. You can give your dog several of these without worrying about him over eating. Amazon's price was much more reasonable than any other retailer. You can buy a 1 pound bag on Amazon for almost the same price as a 6 ounce bag at other retailers. It's definitely worth it to buy a big bag if your dog eats them a lot.\n",
            "==================================================\n"
          ],
          "name": "stdout"
        }
      ]
    },
    {
      "cell_type": "code",
      "metadata": {
        "id": "q83HmF88l3US",
        "colab_type": "code",
        "outputId": "deb0a0db-4113-41ad-8697-e077348a1080",
        "colab": {
          "base_uri": "https://localhost:8080/",
          "height": 54
        }
      },
      "source": [
        "# remove urls from text python: https://stackoverflow.com/a/40823105/4084039\n",
        "sent_0 = re.sub(r\"http\\S+\", \"\", sent_0)\n",
        "sent_1000 = re.sub(r\"http\\S+\", \"\", sent_1000)\n",
        "sent_150 = re.sub(r\"http\\S+\", \"\", sent_1500)\n",
        "sent_4900 = re.sub(r\"http\\S+\", \"\", sent_4900)\n",
        "\n",
        "print(sent_0)"
      ],
      "execution_count": 0,
      "outputs": [
        {
          "output_type": "stream",
          "text": [
            "My dogs loves this chicken but its a product from China, so we wont be buying it anymore.  Its very hard to find any chicken products made in the USA but they are out there, but this one isnt.  Its too bad too because its a good product but I wont take any chances till they know what is going on with the china imports.\n"
          ],
          "name": "stdout"
        }
      ]
    },
    {
      "cell_type": "code",
      "metadata": {
        "id": "RcAQ9p72l7Nm",
        "colab_type": "code",
        "outputId": "c5cf04e0-7c81-4cab-f2d2-7970991031ae",
        "colab": {
          "base_uri": "https://localhost:8080/",
          "height": 154
        }
      },
      "source": [
        "# https://stackoverflow.com/questions/16206380/python-beautifulsoup-how-to-remove-all-tags-from-an-element\n",
        "from bs4 import BeautifulSoup\n",
        "\n",
        "soup = BeautifulSoup(sent_0, 'lxml')\n",
        "text = soup.get_text()\n",
        "print(text)\n",
        "print(\"=\"*50)\n",
        "\n",
        "soup = BeautifulSoup(sent_1000, 'lxml')\n",
        "text = soup.get_text()\n",
        "print(text)\n",
        "print(\"=\"*50)\n",
        "\n",
        "soup = BeautifulSoup(sent_1500, 'lxml')\n",
        "text = soup.get_text()\n",
        "print(text)\n",
        "print(\"=\"*50)\n",
        "\n",
        "soup = BeautifulSoup(sent_4900, 'lxml')\n",
        "text = soup.get_text()\n",
        "print(text)"
      ],
      "execution_count": 0,
      "outputs": [
        {
          "output_type": "stream",
          "text": [
            "My dogs loves this chicken but its a product from China, so we wont be buying it anymore.  Its very hard to find any chicken products made in the USA but they are out there, but this one isnt.  Its too bad too because its a good product but I wont take any chances till they know what is going on with the china imports.\n",
            "==================================================\n",
            "The Candy Blocks were a nice visual for the Lego Birthday party but the candy has little taste to it.  Very little of the 2 lbs that I bought were eaten and I threw the rest away.  I would not buy the candy again.\n",
            "==================================================\n",
            "was way to hot for my blood, took a bite and did a jig  lol\n",
            "==================================================\n",
            "My dog LOVES these treats. They tend to have a very strong fish oil smell. So if you are afraid of the fishy smell, don't get it. But I think my dog likes it because of the smell. These treats are really small in size. They are great for training. You can give your dog several of these without worrying about him over eating. Amazon's price was much more reasonable than any other retailer. You can buy a 1 pound bag on Amazon for almost the same price as a 6 ounce bag at other retailers. It's definitely worth it to buy a big bag if your dog eats them a lot.\n"
          ],
          "name": "stdout"
        }
      ]
    },
    {
      "cell_type": "code",
      "metadata": {
        "id": "G28JcclVl-v7",
        "colab_type": "code",
        "colab": {}
      },
      "source": [
        "# https://stackoverflow.com/a/47091490/4084039\n",
        "import re\n",
        "\n",
        "def decontracted(phrase):\n",
        "    # specific\n",
        "    phrase = re.sub(r\"won't\", \"will not\", phrase)\n",
        "    phrase = re.sub(r\"can\\'t\", \"can not\", phrase)\n",
        "\n",
        "    # general\n",
        "    phrase = re.sub(r\"n\\'t\", \" not\", phrase)\n",
        "    phrase = re.sub(r\"\\'re\", \" are\", phrase)\n",
        "    phrase = re.sub(r\"\\'s\", \" is\", phrase)\n",
        "    phrase = re.sub(r\"\\'d\", \" would\", phrase)\n",
        "    phrase = re.sub(r\"\\'ll\", \" will\", phrase)\n",
        "    phrase = re.sub(r\"\\'t\", \" not\", phrase)\n",
        "    phrase = re.sub(r\"\\'ve\", \" have\", phrase)\n",
        "    phrase = re.sub(r\"\\'m\", \" am\", phrase)\n",
        "    return phrase"
      ],
      "execution_count": 0,
      "outputs": []
    },
    {
      "cell_type": "code",
      "metadata": {
        "id": "xXxNwoKgmCwn",
        "colab_type": "code",
        "outputId": "268c736d-096c-4a31-852e-2562098aed0e",
        "colab": {
          "base_uri": "https://localhost:8080/",
          "height": 50
        }
      },
      "source": [
        "sent_1500 = decontracted(sent_1500)\n",
        "print(sent_1500)\n",
        "print(\"=\"*50)"
      ],
      "execution_count": 0,
      "outputs": [
        {
          "output_type": "stream",
          "text": [
            "was way to hot for my blood, took a bite and did a jig  lol\n",
            "==================================================\n"
          ],
          "name": "stdout"
        }
      ]
    },
    {
      "cell_type": "code",
      "metadata": {
        "id": "7AA6VmCbmF3T",
        "colab_type": "code",
        "outputId": "0c8758b9-d1f4-4afe-9a59-759b1ab76fcd",
        "colab": {
          "base_uri": "https://localhost:8080/",
          "height": 54
        }
      },
      "source": [
        "#remove words with numbers python: https://stackoverflow.com/a/18082370/4084039\n",
        "sent_0 = re.sub(\"\\S*\\d\\S*\", \"\", sent_0).strip()\n",
        "print(sent_0)"
      ],
      "execution_count": 0,
      "outputs": [
        {
          "output_type": "stream",
          "text": [
            "My dogs loves this chicken but its a product from China, so we wont be buying it anymore.  Its very hard to find any chicken products made in the USA but they are out there, but this one isnt.  Its too bad too because its a good product but I wont take any chances till they know what is going on with the china imports.\n"
          ],
          "name": "stdout"
        }
      ]
    },
    {
      "cell_type": "code",
      "metadata": {
        "id": "4G76SqPSmMD5",
        "colab_type": "code",
        "colab": {}
      },
      "source": [
        "# https://gist.github.com/sebleier/554280\n",
        "# we are removing the words from the stop words list: 'no', 'nor', 'not'\n",
        "# <br /><br /> ==> after the above steps, we are getting \"br br\"\n",
        "# we are including them into stop words list\n",
        "# instead of <br /> if we have <br/> these tags would have revmoved in the 1st step\n",
        "\n",
        "stopwords= set(['br', 'the', 'i', 'me', 'my', 'myself', 'we', 'our', 'ours', 'ourselves', 'you', \"you're\", \"you've\",\\\n",
        "            \"you'll\", \"you'd\", 'your', 'yours', 'yourself', 'yourselves', 'he', 'him', 'his', 'himself', \\\n",
        "            'she', \"she's\", 'her', 'hers', 'herself', 'it', \"it's\", 'its', 'itself', 'they', 'them', 'their',\\\n",
        "            'theirs', 'themselves', 'what', 'which', 'who', 'whom', 'this', 'that', \"that'll\", 'these', 'those', \\\n",
        "            'am', 'is', 'are', 'was', 'were', 'be', 'been', 'being', 'have', 'has', 'had', 'having', 'do', 'does', \\\n",
        "            'did', 'doing', 'a', 'an', 'the', 'and', 'but', 'if', 'or', 'because', 'as', 'until', 'while', 'of', \\\n",
        "            'at', 'by', 'for', 'with', 'about', 'against', 'between', 'into', 'through', 'during', 'before', 'after',\\\n",
        "            'above', 'below', 'to', 'from', 'up', 'down', 'in', 'out', 'on', 'off', 'over', 'under', 'again', 'further',\\\n",
        "            'then', 'once', 'here', 'there', 'when', 'where', 'why', 'how', 'all', 'any', 'both', 'each', 'few', 'more',\\\n",
        "            'most', 'other', 'some', 'such', 'only', 'own', 'same', 'so', 'than', 'too', 'very', \\\n",
        "            's', 't', 'can', 'will', 'just', 'don', \"don't\", 'should', \"should've\", 'now', 'd', 'll', 'm', 'o', 're', \\\n",
        "            've', 'y', 'ain', 'aren', \"aren't\", 'couldn', \"couldn't\", 'didn', \"didn't\", 'doesn', \"doesn't\", 'hadn',\\\n",
        "            \"hadn't\", 'hasn', \"hasn't\", 'haven', \"haven't\", 'isn', \"isn't\", 'ma', 'mightn', \"mightn't\", 'mustn',\\\n",
        "            \"mustn't\", 'needn', \"needn't\", 'shan', \"shan't\", 'shouldn', \"shouldn't\", 'wasn', \"wasn't\", 'weren', \"weren't\", \\\n",
        "            'won', \"won't\", 'wouldn', \"wouldn't\"])"
      ],
      "execution_count": 0,
      "outputs": []
    },
    {
      "cell_type": "code",
      "metadata": {
        "id": "s4rcIClxmRlx",
        "colab_type": "code",
        "outputId": "17fa534c-f6ea-402e-8057-31459c85c0ea",
        "colab": {
          "base_uri": "https://localhost:8080/",
          "height": 34
        }
      },
      "source": [
        "# Combining all the above stundents \n",
        "from tqdm import tqdm\n",
        "preprocessed_reviews = []\n",
        "# tqdm is for printing the status bar\n",
        "for sentance in tqdm(final['Text'].values):\n",
        "    sentance = re.sub(r\"http\\S+\", \"\", sentance)\n",
        "    sentance = BeautifulSoup(sentance, 'lxml').get_text()\n",
        "    sentance = decontracted(sentance)\n",
        "    sentance = re.sub(\"\\S*\\d\\S*\", \"\", sentance).strip()\n",
        "    sentance = re.sub('[^A-Za-z]+', ' ', sentance)\n",
        "    # https://gist.github.com/sebleier/554280\n",
        "    sentance = ' '.join(e.lower() for e in sentance.split() if e.lower() not in stopwords)\n",
        "    preprocessed_reviews.append(sentance.strip())"
      ],
      "execution_count": 0,
      "outputs": [
        {
          "output_type": "stream",
          "text": [
            "100%|██████████| 87773/87773 [00:34<00:00, 2575.20it/s]\n"
          ],
          "name": "stderr"
        }
      ]
    },
    {
      "cell_type": "code",
      "metadata": {
        "id": "2J6blelkmfRi",
        "colab_type": "code",
        "outputId": "fcff0afb-f0c7-40e4-d7ae-66c0c77e5915",
        "colab": {
          "base_uri": "https://localhost:8080/",
          "height": 34
        }
      },
      "source": [
        "preprocessed_reviews[1500]"
      ],
      "execution_count": 0,
      "outputs": [
        {
          "output_type": "execute_result",
          "data": {
            "text/plain": [
              "'way hot blood took bite jig lol'"
            ]
          },
          "metadata": {
            "tags": []
          },
          "execution_count": 127
        }
      ]
    },
    {
      "cell_type": "markdown",
      "metadata": {
        "id": "ayLYlocviWOs",
        "colab_type": "text"
      },
      "source": [
        "# Applying Decision Trees"
      ]
    },
    {
      "cell_type": "markdown",
      "metadata": {
        "id": "fvKQwJMWiWOt",
        "colab_type": "text"
      },
      "source": [
        "## [5.1] Applying Decision Trees on BOW"
      ]
    },
    {
      "cell_type": "code",
      "metadata": {
        "id": "k9pxDE2Rt_is",
        "colab_type": "code",
        "colab": {}
      },
      "source": [
        "X=preprocessed_reviews\n",
        "y=np.array(final['Score'])\n"
      ],
      "execution_count": 0,
      "outputs": []
    },
    {
      "cell_type": "code",
      "metadata": {
        "id": "WDN_kQNiiMby",
        "colab_type": "code",
        "outputId": "3c05e2e2-762a-43b5-f77c-bd55ea936f31",
        "colab": {
          "base_uri": "https://localhost:8080/",
          "height": 67
        }
      },
      "source": [
        "from sklearn.model_selection import train_test_split\n",
        "from sklearn import preprocessing\n",
        "\n",
        "#Breaking into Train and test\n",
        "X_train, X_test, y_train, y_test = train_test_split(X, y, test_size=0.2, random_state=0)\n",
        "X_train, X_cv, y_train, y_cv = train_test_split(X_train, y_train, test_size=0.2)\n",
        "\n",
        "count_vect = CountVectorizer()\n",
        "count_vect.fit(X_train) # fit has to happen only on train data\n",
        "\n",
        "# we use the fitted CountVectorizer to convert the text to vector\n",
        "X_train =count_vect.transform(X_train)\n",
        "X_cv = count_vect.transform(X_cv)\n",
        "X_test = count_vect.transform(X_test)\n",
        "\n",
        "#Normalize Data\n",
        "X_train = preprocessing.normalize(X_train)\n",
        "print(\"Train Data Size: \",X_train.shape)\n",
        "\n",
        "#Normalize Data\n",
        "X_test = preprocessing.normalize(X_test)\n",
        "print(\"Test Data Size: \",X_test.shape)\n",
        "\n",
        "X_cv = preprocessing.normalize(X_cv)\n",
        "print(\"CV Data Size :\", X_cv.shape)"
      ],
      "execution_count": 0,
      "outputs": [
        {
          "output_type": "stream",
          "text": [
            "Train Data Size:  (56174, 44623)\n",
            "Test Data Size:  (17555, 44623)\n",
            "CV Data Size : (14044, 44623)\n"
          ],
          "name": "stdout"
        }
      ]
    },
    {
      "cell_type": "code",
      "metadata": {
        "id": "bcG9RxAkutfH",
        "colab_type": "code",
        "outputId": "9d9cb3a9-0d31-4c44-b1c6-b63824997daf",
        "colab": {
          "base_uri": "https://localhost:8080/",
          "height": 50
        }
      },
      "source": [
        "from sklearn.tree import DecisionTreeClassifier\n",
        "from sklearn.metrics import roc_auc_score\n",
        "from sklearn.model_selection import GridSearchCV\n",
        "\n",
        "dept = [1, 5, 10, 50, 100, 500, 1000]\n",
        "min_samples =  [5, 10, 100, 500]\n",
        "\n",
        "\n",
        "param_grid={'min_samples_split':min_samples , 'max_depth':dept}\n",
        "clf = DecisionTreeClassifier()\n",
        "model = GridSearchCV(clf,param_grid,scoring='roc_auc',n_jobs=-1,cv=3)\n",
        "model.fit(X_train,y_train)\n",
        "print(\"optimal min_samples_split\",model.best_estimator_.min_samples_split)\n",
        "print(\"optimal max_depth\",model.best_estimator_.max_depth)"
      ],
      "execution_count": 0,
      "outputs": [
        {
          "output_type": "stream",
          "text": [
            "optimal min_samples_split 500\n",
            "optimal max_depth 50\n"
          ],
          "name": "stdout"
        }
      ]
    },
    {
      "cell_type": "code",
      "metadata": {
        "id": "o6bJWz-_-vn_",
        "colab_type": "code",
        "outputId": "0ac9a767-91fa-4b46-a008-5342f5d90952",
        "colab": {
          "base_uri": "https://localhost:8080/",
          "height": 575
        }
      },
      "source": [
        "import seaborn as sns\n",
        "X = []\n",
        "Y = []\n",
        "cv_auc = []\n",
        "train_auc = []\n",
        "for n in min_samples:\n",
        "    for d in dept:\n",
        "        clf = DecisionTreeClassifier(max_depth = d,min_samples_split = n)\n",
        "        clf.fit(X_train,y_train)\n",
        "        pred_cv = clf.predict_proba(X_cv)[:,1]\n",
        "        pred_train = clf.predict_proba(X_train)[:,1]\n",
        "        X.append(n)\n",
        "        Y.append(d)\n",
        "        cv_auc.append(roc_auc_score(y_cv,pred_cv))\n",
        "        train_auc.append(roc_auc_score(y_train,pred_train))\n",
        "        \n",
        "#Heatmap for cross validation data        \n",
        "data = pd.DataFrame({'min_samples_split': X, 'max_depth': Y, 'AUC': cv_auc})\n",
        "data_pivoted = data.pivot(\"min_samples_split\", \"max_depth\", \"AUC\")\n",
        "ax = sns.heatmap(data_pivoted,annot=True)\n",
        "plt.title('Heatmap for cross validation data')\n",
        "plt.show()\n",
        "\n",
        "#Heatmap for training data\n",
        "data = pd.DataFrame({'min_samples_split': X, 'max_depth': Y, 'AUC': train_auc})\n",
        "data_pivoted = data.pivot(\"min_samples_split\", \"max_depth\", \"AUC\")\n",
        "ax = sns.heatmap(data_pivoted,annot=True)\n",
        "plt.title('Heatmap for training data')\n",
        "plt.show()"
      ],
      "execution_count": 0,
      "outputs": [
        {
          "output_type": "display_data",
          "data": {
            "image/png": "[encoded data removed]",
            "text/plain": [
              "<Figure size 432x288 with 2 Axes>"
            ]
          },
          "metadata": {
            "tags": []
          }
        },
        {
          "output_type": "display_data",
          "data": {
            "image/png": "[encoded data removed]",
            "text/plain": [
              "<Figure size 432x288 with 2 Axes>"
            ]
          },
          "metadata": {
            "tags": []
          }
        }
      ]
    },
    {
      "cell_type": "code",
      "metadata": {
        "id": "Iayh2QAU8q7N",
        "colab_type": "code",
        "outputId": "4e0a6243-3e7e-4176-a6f9-f680568afc19",
        "colab": {
          "base_uri": "https://localhost:8080/",
          "height": 598
        }
      },
      "source": [
        "#training our model for max_depth=50,min_samples_split=500\n",
        "clf = DecisionTreeClassifier(max_depth = 50,min_samples_split = 500)\n",
        "clf.fit(X_train,y_train)\n",
        "pred_test =clf.predict_proba(X_test)[:,1]\n",
        "fpr1, tpr1, thresholds1 = metrics.roc_curve(y_test, pred_test)\n",
        "pred_train = clf.predict_proba(X_train)[:,1]\n",
        "fpr2,tpr2,thresholds2=metrics.roc_curve(y_train,pred_train)\n",
        "\n",
        "#ROC curve\n",
        "x = plt.subplot( )\n",
        "x.plot(fpr1, tpr1, label='Test ROC ,auc='+str(roc_auc_score(y_test,pred_test)))\n",
        "x.plot(fpr2, tpr2, label='Train ROC ,auc='+str(roc_auc_score(y_train,pred_train)))\n",
        "plt.title('ROC')\n",
        "plt.xlabel('FPR')\n",
        "plt.ylabel('TPR')\n",
        "x.legend()\n",
        "plt.show()\n",
        "\n",
        "print(\"AUC on Test data is \" +str(roc_auc_score(y_test,pred_test)))\n",
        "print(\"AUC on Train data is \" +str(roc_auc_score(y_train,pred_train)))\n",
        "\n",
        "print(\"---------------------------\")\n",
        "\n",
        "# Code for drawing seaborn heatmaps\n",
        "class_names = ['negative','positive']\n",
        "df_heatmap = pd.DataFrame(confusion_matrix(y_test, pred_test.round()), index=class_names, columns=class_names )\n",
        "fig = plt.figure( )\n",
        "heatmap = sns.heatmap(df_heatmap, annot=True, fmt=\"d\")\n"
      ],
      "execution_count": 0,
      "outputs": [
        {
          "output_type": "display_data",
          "data": {
            "image/png": "[encoded data removed]",
            "text/plain": [
              "<Figure size 432x288 with 1 Axes>"
            ]
          },
          "metadata": {
            "tags": []
          }
        },
        {
          "output_type": "stream",
          "text": [
            "AUC on Test data is 0.8249495125796567\n",
            "AUC on Train data is 0.9019264862178242\n",
            "---------------------------\n"
          ],
          "name": "stdout"
        },
        {
          "output_type": "display_data",
          "data": {
            "image/png": "[encoded data removed]",
            "text/plain": [
              "<Figure size 432x288 with 2 Axes>"
            ]
          },
          "metadata": {
            "tags": []
          }
        }
      ]
    },
    {
      "cell_type": "code",
      "metadata": {
        "id": "CuBX-pbBR6N6",
        "colab_type": "code",
        "colab": {}
      },
      "source": [
        "results=pd.DataFrame(columns=['Featuraization', 'Classifier' ,'max_depth','min_samples_split', 'Train-AUC', 'Test-AUC' ])\n",
        "new = ['BOW','DecisionTreeClassifier',50,500,0.9019,0.8249]\n",
        "results.loc[0] = new"
      ],
      "execution_count": 0,
      "outputs": []
    },
    {
      "cell_type": "markdown",
      "metadata": {
        "id": "jm4vkPwMiWOu",
        "colab_type": "text"
      },
      "source": [
        "### [5.1.1] Top 20 important features>"
      ]
    },
    {
      "cell_type": "code",
      "metadata": {
        "id": "7iIlwmQLiNdN",
        "colab_type": "code",
        "outputId": "9f45e76c-6312-4dd0-e991-6eb18c622b2f",
        "colab": {
          "base_uri": "https://localhost:8080/",
          "height": 353
        }
      },
      "source": [
        "#Top 20 important features\n",
        "all_features = count_vect.get_feature_names()\n",
        "\n",
        "feat = clf.feature_importances_\n",
        "features = np.argsort(feat)[::-1]\n",
        "for i in features[0:20]:\n",
        "    print(all_features[i])"
      ],
      "execution_count": 0,
      "outputs": [
        {
          "output_type": "stream",
          "text": [
            "not\n",
            "great\n",
            "disappointed\n",
            "worst\n",
            "awful\n",
            "horrible\n",
            "money\n",
            "best\n",
            "return\n",
            "threw\n",
            "bad\n",
            "delicious\n",
            "love\n",
            "disappointing\n",
            "terrible\n",
            "good\n",
            "waste\n",
            "nice\n",
            "stale\n",
            "loves\n"
          ],
          "name": "stdout"
        }
      ]
    },
    {
      "cell_type": "markdown",
      "metadata": {
        "id": "7JyitDTTiWOx",
        "colab_type": "text"
      },
      "source": [
        "### [5.1.2] Graphviz visualization of Decision Tree "
      ]
    },
    {
      "cell_type": "code",
      "metadata": {
        "id": "vcAqVsZ2uy74",
        "colab_type": "code",
        "colab": {}
      },
      "source": [
        "voc = count_vect.vocabulary_\n",
        "\n",
        "ind=list(voc.values())\n",
        "indexes = np.array(ind).argsort()\n",
        "\n",
        "words=list(voc.keys())\n",
        "sorted_words=[]\n",
        "for i in indexes:\n",
        "    sorted_words.append(words[i])"
      ],
      "execution_count": 0,
      "outputs": []
    },
    {
      "cell_type": "code",
      "metadata": {
        "id": "SaE6n0i9u4K-",
        "colab_type": "code",
        "outputId": "0b2dbb5d-0341-4c8b-bcdb-e6aa3cc03a3e",
        "colab": {
          "base_uri": "https://localhost:8080/",
          "height": 634
        }
      },
      "source": [
        "import graphviz\n",
        "from sklearn import tree\n",
        "\n",
        "dot_data = tree.export_graphviz(clf, out_file = None,max_depth = 3,  filled = True, rounded = True,feature_names = sorted_words,special_characters = True)  \n",
        "graph = graphviz.Source(dot_data) \n",
        "graph\n"
      ],
      "execution_count": 0,
      "outputs": [
        {
          "output_type": "execute_result",
          "data": {
            "text/plain": [
              "<graphviz.files.Source at 0x7fc6a7ad7c88>"
            ],
            "image/svg+xml": "<?xml version=\"1.0\" encoding=\"UTF-8\" standalone=\"no\"?>\n<!DOCTYPE svg PUBLIC \"-//W3C//DTD SVG 1.1//EN\"\n \"http://www.w3.org/Graphics/SVG/1.1/DTD/svg11.dtd\">\n<!-- Generated by graphviz version 2.40.1 (20161225.0304)\n -->\n<!-- Title: Tree Pages: 1 -->\n<svg width=\"958pt\" height=\"460pt\"\n viewBox=\"0.00 0.00 957.50 460.00\" xmlns=\"http://www.w3.org/2000/svg\" xmlns:xlink=\"http://www.w3.org/1999/xlink\">\n<g id=\"graph0\" class=\"graph\" transform=\"scale(1 1) rotate(0) translate(4 456)\">\n<title>Tree</title>\n<polygon fill=\"#ffffff\" stroke=\"transparent\" points=\"-4,4 -4,-456 953.5,-456 953.5,4 -4,4\"/>\n<!-- 0 -->\n<g id=\"node1\" class=\"node\">\n<title>0</title>\n<path fill=\"#5fb0ea\" stroke=\"#000000\" d=\"M544,-452C544,-452 411,-452 411,-452 405,-452 399,-446 399,-440 399,-440 399,-396 399,-396 399,-390 405,-384 411,-384 411,-384 544,-384 544,-384 550,-384 556,-390 556,-396 556,-396 556,-440 556,-440 556,-446 550,-452 544,-452\"/>\n<text text-anchor=\"start\" x=\"441\" y=\"-436.8\" font-family=\"Helvetica,sans-Serif\" font-size=\"14.00\" fill=\"#000000\">not ≤ 0.101</text>\n<text text-anchor=\"start\" x=\"444\" y=\"-421.8\" font-family=\"Helvetica,sans-Serif\" font-size=\"14.00\" fill=\"#000000\">gini = 0.27</text>\n<text text-anchor=\"start\" x=\"421.5\" y=\"-406.8\" font-family=\"Helvetica,sans-Serif\" font-size=\"14.00\" fill=\"#000000\">samples = 56174</text>\n<text text-anchor=\"start\" x=\"407\" y=\"-391.8\" font-family=\"Helvetica,sans-Serif\" font-size=\"14.00\" fill=\"#000000\">value = [9042, 47132]</text>\n</g>\n<!-- 1 -->\n<g id=\"node2\" class=\"node\">\n<title>1</title>\n<path fill=\"#4ca7e8\" stroke=\"#000000\" d=\"M457,-348C457,-348 324,-348 324,-348 318,-348 312,-342 312,-336 312,-336 312,-292 312,-292 312,-286 318,-280 324,-280 324,-280 457,-280 457,-280 463,-280 469,-286 469,-292 469,-292 469,-336 469,-336 469,-342 463,-348 457,-348\"/>\n<text text-anchor=\"start\" x=\"322.5\" y=\"-332.8\" font-family=\"Helvetica,sans-Serif\" font-size=\"14.00\" fill=\"#000000\">disappointed ≤ 0.088</text>\n<text text-anchor=\"start\" x=\"352.5\" y=\"-317.8\" font-family=\"Helvetica,sans-Serif\" font-size=\"14.00\" fill=\"#000000\">gini = 0.162</text>\n<text text-anchor=\"start\" x=\"334.5\" y=\"-302.8\" font-family=\"Helvetica,sans-Serif\" font-size=\"14.00\" fill=\"#000000\">samples = 27191</text>\n<text text-anchor=\"start\" x=\"320\" y=\"-287.8\" font-family=\"Helvetica,sans-Serif\" font-size=\"14.00\" fill=\"#000000\">value = [2423, 24768]</text>\n</g>\n<!-- 0&#45;&gt;1 -->\n<g id=\"edge1\" class=\"edge\">\n<title>0&#45;&gt;1</title>\n<path fill=\"none\" stroke=\"#000000\" d=\"M449.0129,-383.9465C441.5021,-374.968 433.3105,-365.1758 425.4995,-355.8385\"/>\n<polygon fill=\"#000000\" stroke=\"#000000\" points=\"428.152,-353.5544 419.0511,-348.13 422.7829,-358.0459 428.152,-353.5544\"/>\n<text text-anchor=\"middle\" x=\"416.8347\" y=\"-369.3316\" font-family=\"Helvetica,sans-Serif\" font-size=\"14.00\" fill=\"#000000\">True</text>\n</g>\n<!-- 354 -->\n<g id=\"node9\" class=\"node\">\n<title>354</title>\n<path fill=\"#74baed\" stroke=\"#000000\" d=\"M632,-348C632,-348 499,-348 499,-348 493,-348 487,-342 487,-336 487,-336 487,-292 487,-292 487,-286 493,-280 499,-280 499,-280 632,-280 632,-280 638,-280 644,-286 644,-292 644,-292 644,-336 644,-336 644,-342 638,-348 632,-348\"/>\n<text text-anchor=\"start\" x=\"523\" y=\"-332.8\" font-family=\"Helvetica,sans-Serif\" font-size=\"14.00\" fill=\"#000000\">great ≤ 0.047</text>\n<text text-anchor=\"start\" x=\"527.5\" y=\"-317.8\" font-family=\"Helvetica,sans-Serif\" font-size=\"14.00\" fill=\"#000000\">gini = 0.352</text>\n<text text-anchor=\"start\" x=\"509.5\" y=\"-302.8\" font-family=\"Helvetica,sans-Serif\" font-size=\"14.00\" fill=\"#000000\">samples = 28983</text>\n<text text-anchor=\"start\" x=\"495\" y=\"-287.8\" font-family=\"Helvetica,sans-Serif\" font-size=\"14.00\" fill=\"#000000\">value = [6619, 22364]</text>\n</g>\n<!-- 0&#45;&gt;354 -->\n<g id=\"edge8\" class=\"edge\">\n<title>0&#45;&gt;354</title>\n<path fill=\"none\" stroke=\"#000000\" d=\"M506.3145,-383.9465C513.9117,-374.968 522.1974,-365.1758 530.0982,-355.8385\"/>\n<polygon fill=\"#000000\" stroke=\"#000000\" points=\"532.8332,-358.0247 536.6208,-348.13 527.4895,-353.5031 532.8332,-358.0247\"/>\n<text text-anchor=\"middle\" x=\"538.6969\" y=\"-369.3436\" font-family=\"Helvetica,sans-Serif\" font-size=\"14.00\" fill=\"#000000\">False</text>\n</g>\n<!-- 2 -->\n<g id=\"node3\" class=\"node\">\n<title>2</title>\n<path fill=\"#4ba6e7\" stroke=\"#000000\" d=\"M297,-244C297,-244 164,-244 164,-244 158,-244 152,-238 152,-232 152,-232 152,-188 152,-188 152,-182 158,-176 164,-176 164,-176 297,-176 297,-176 303,-176 309,-182 309,-188 309,-188 309,-232 309,-232 309,-238 303,-244 297,-244\"/>\n<text text-anchor=\"start\" x=\"187\" y=\"-228.8\" font-family=\"Helvetica,sans-Serif\" font-size=\"14.00\" fill=\"#000000\">worst ≤ 0.069</text>\n<text text-anchor=\"start\" x=\"192.5\" y=\"-213.8\" font-family=\"Helvetica,sans-Serif\" font-size=\"14.00\" fill=\"#000000\">gini = 0.155</text>\n<text text-anchor=\"start\" x=\"174.5\" y=\"-198.8\" font-family=\"Helvetica,sans-Serif\" font-size=\"14.00\" fill=\"#000000\">samples = 26925</text>\n<text text-anchor=\"start\" x=\"160\" y=\"-183.8\" font-family=\"Helvetica,sans-Serif\" font-size=\"14.00\" fill=\"#000000\">value = [2273, 24652]</text>\n</g>\n<!-- 1&#45;&gt;2 -->\n<g id=\"edge2\" class=\"edge\">\n<title>1&#45;&gt;2</title>\n<path fill=\"none\" stroke=\"#000000\" d=\"M338.11,-279.9465C323.1918,-270.2497 306.8136,-259.6039 291.4338,-249.6069\"/>\n<polygon fill=\"#000000\" stroke=\"#000000\" points=\"293.2996,-246.6454 283.0077,-244.13 289.4847,-252.5145 293.2996,-246.6454\"/>\n</g>\n<!-- 353 -->\n<g id=\"node8\" class=\"node\">\n<title>353</title>\n<path fill=\"#f9e2d2\" stroke=\"#000000\" d=\"M447.5,-236.5C447.5,-236.5 339.5,-236.5 339.5,-236.5 333.5,-236.5 327.5,-230.5 327.5,-224.5 327.5,-224.5 327.5,-195.5 327.5,-195.5 327.5,-189.5 333.5,-183.5 339.5,-183.5 339.5,-183.5 447.5,-183.5 447.5,-183.5 453.5,-183.5 459.5,-189.5 459.5,-195.5 459.5,-195.5 459.5,-224.5 459.5,-224.5 459.5,-230.5 453.5,-236.5 447.5,-236.5\"/>\n<text text-anchor=\"start\" x=\"355.5\" y=\"-221.3\" font-family=\"Helvetica,sans-Serif\" font-size=\"14.00\" fill=\"#000000\">gini = 0.492</text>\n<text text-anchor=\"start\" x=\"345.5\" y=\"-206.3\" font-family=\"Helvetica,sans-Serif\" font-size=\"14.00\" fill=\"#000000\">samples = 266</text>\n<text text-anchor=\"start\" x=\"335.5\" y=\"-191.3\" font-family=\"Helvetica,sans-Serif\" font-size=\"14.00\" fill=\"#000000\">value = [150, 116]</text>\n</g>\n<!-- 1&#45;&gt;353 -->\n<g id=\"edge7\" class=\"edge\">\n<title>1&#45;&gt;353</title>\n<path fill=\"none\" stroke=\"#000000\" d=\"M391.4823,-279.9465C391.7905,-269.2621 392.132,-257.4254 392.445,-246.5742\"/>\n<polygon fill=\"#000000\" stroke=\"#000000\" points=\"395.9445,-246.639 392.7344,-236.5422 388.9474,-246.4371 395.9445,-246.639\"/>\n</g>\n<!-- 3 -->\n<g id=\"node4\" class=\"node\">\n<title>3</title>\n<path fill=\"#4ba6e7\" stroke=\"#000000\" d=\"M145,-140C145,-140 12,-140 12,-140 6,-140 0,-134 0,-128 0,-128 0,-84 0,-84 0,-78 6,-72 12,-72 12,-72 145,-72 145,-72 151,-72 157,-78 157,-84 157,-84 157,-128 157,-128 157,-134 151,-140 145,-140\"/>\n<text text-anchor=\"start\" x=\"35.5\" y=\"-124.8\" font-family=\"Helvetica,sans-Serif\" font-size=\"14.00\" fill=\"#000000\">awful ≤ 0.098</text>\n<text text-anchor=\"start\" x=\"45\" y=\"-109.8\" font-family=\"Helvetica,sans-Serif\" font-size=\"14.00\" fill=\"#000000\">gini = 0.15</text>\n<text text-anchor=\"start\" x=\"22.5\" y=\"-94.8\" font-family=\"Helvetica,sans-Serif\" font-size=\"14.00\" fill=\"#000000\">samples = 26825</text>\n<text text-anchor=\"start\" x=\"8\" y=\"-79.8\" font-family=\"Helvetica,sans-Serif\" font-size=\"14.00\" fill=\"#000000\">value = [2190, 24635]</text>\n</g>\n<!-- 2&#45;&gt;3 -->\n<g id=\"edge3\" class=\"edge\">\n<title>2&#45;&gt;3</title>\n<path fill=\"none\" stroke=\"#000000\" d=\"M180.7295,-175.9465C166.6885,-166.3395 151.286,-155.8009 136.7932,-145.8848\"/>\n<polygon fill=\"#000000\" stroke=\"#000000\" points=\"138.6118,-142.8883 128.3823,-140.13 134.659,-148.6655 138.6118,-142.8883\"/>\n</g>\n<!-- 352 -->\n<g id=\"node7\" class=\"node\">\n<title>352</title>\n<path fill=\"#ea9b62\" stroke=\"#000000\" d=\"M279.5,-132.5C279.5,-132.5 187.5,-132.5 187.5,-132.5 181.5,-132.5 175.5,-126.5 175.5,-120.5 175.5,-120.5 175.5,-91.5 175.5,-91.5 175.5,-85.5 181.5,-79.5 187.5,-79.5 187.5,-79.5 279.5,-79.5 279.5,-79.5 285.5,-79.5 291.5,-85.5 291.5,-91.5 291.5,-91.5 291.5,-120.5 291.5,-120.5 291.5,-126.5 285.5,-132.5 279.5,-132.5\"/>\n<text text-anchor=\"start\" x=\"195.5\" y=\"-117.3\" font-family=\"Helvetica,sans-Serif\" font-size=\"14.00\" fill=\"#000000\">gini = 0.282</text>\n<text text-anchor=\"start\" x=\"185.5\" y=\"-102.3\" font-family=\"Helvetica,sans-Serif\" font-size=\"14.00\" fill=\"#000000\">samples = 100</text>\n<text text-anchor=\"start\" x=\"183.5\" y=\"-87.3\" font-family=\"Helvetica,sans-Serif\" font-size=\"14.00\" fill=\"#000000\">value = [83, 17]</text>\n</g>\n<!-- 2&#45;&gt;352 -->\n<g id=\"edge6\" class=\"edge\">\n<title>2&#45;&gt;352</title>\n<path fill=\"none\" stroke=\"#000000\" d=\"M231.4823,-175.9465C231.7905,-165.2621 232.132,-153.4254 232.445,-142.5742\"/>\n<polygon fill=\"#000000\" stroke=\"#000000\" points=\"235.9445,-142.639 232.7344,-132.5422 228.9474,-142.4371 235.9445,-142.639\"/>\n</g>\n<!-- 4 -->\n<g id=\"node5\" class=\"node\">\n<title>4</title>\n<path fill=\"#c0c0c0\" stroke=\"#000000\" d=\"M57.5,-36C57.5,-36 27.5,-36 27.5,-36 21.5,-36 15.5,-30 15.5,-24 15.5,-24 15.5,-12 15.5,-12 15.5,-6 21.5,0 27.5,0 27.5,0 57.5,0 57.5,0 63.5,0 69.5,-6 69.5,-12 69.5,-12 69.5,-24 69.5,-24 69.5,-30 63.5,-36 57.5,-36\"/>\n<text text-anchor=\"middle\" x=\"42.5\" y=\"-14.3\" font-family=\"Helvetica,sans-Serif\" font-size=\"14.00\" fill=\"#000000\">(...)</text>\n</g>\n<!-- 3&#45;&gt;4 -->\n<g id=\"edge4\" class=\"edge\">\n<title>3&#45;&gt;4</title>\n<path fill=\"none\" stroke=\"#000000\" d=\"M64.5815,-71.9769C60.9977,-63.2167 57.1862,-53.8995 53.7564,-45.5157\"/>\n<polygon fill=\"#000000\" stroke=\"#000000\" points=\"56.968,-44.1222 49.9422,-36.192 50.4891,-46.7727 56.968,-44.1222\"/>\n</g>\n<!-- 351 -->\n<g id=\"node6\" class=\"node\">\n<title>351</title>\n<path fill=\"#c0c0c0\" stroke=\"#000000\" d=\"M129.5,-36C129.5,-36 99.5,-36 99.5,-36 93.5,-36 87.5,-30 87.5,-24 87.5,-24 87.5,-12 87.5,-12 87.5,-6 93.5,0 99.5,0 99.5,0 129.5,0 129.5,0 135.5,0 141.5,-6 141.5,-12 141.5,-12 141.5,-24 141.5,-24 141.5,-30 135.5,-36 129.5,-36\"/>\n<text text-anchor=\"middle\" x=\"114.5\" y=\"-14.3\" font-family=\"Helvetica,sans-Serif\" font-size=\"14.00\" fill=\"#000000\">(...)</text>\n</g>\n<!-- 3&#45;&gt;351 -->\n<g id=\"edge5\" class=\"edge\">\n<title>3&#45;&gt;351</title>\n<path fill=\"none\" stroke=\"#000000\" d=\"M92.4185,-71.9769C96.0023,-63.2167 99.8138,-53.8995 103.2436,-45.5157\"/>\n<polygon fill=\"#000000\" stroke=\"#000000\" points=\"106.5109,-46.7727 107.0578,-36.192 100.032,-44.1222 106.5109,-46.7727\"/>\n</g>\n<!-- 355 -->\n<g id=\"node10\" class=\"node\">\n<title>355</title>\n<path fill=\"#82c1ef\" stroke=\"#000000\" d=\"M629,-244C629,-244 496,-244 496,-244 490,-244 484,-238 484,-232 484,-232 484,-188 484,-188 484,-182 490,-176 496,-176 496,-176 629,-176 629,-176 635,-176 641,-182 641,-188 641,-188 641,-232 641,-232 641,-238 635,-244 629,-244\"/>\n<text text-anchor=\"start\" x=\"530.5\" y=\"-228.8\" font-family=\"Helvetica,sans-Serif\" font-size=\"14.00\" fill=\"#000000\">not ≤ 0.34</text>\n<text text-anchor=\"start\" x=\"524.5\" y=\"-213.8\" font-family=\"Helvetica,sans-Serif\" font-size=\"14.00\" fill=\"#000000\">gini = 0.393</text>\n<text text-anchor=\"start\" x=\"506.5\" y=\"-198.8\" font-family=\"Helvetica,sans-Serif\" font-size=\"14.00\" fill=\"#000000\">samples = 22462</text>\n<text text-anchor=\"start\" x=\"492\" y=\"-183.8\" font-family=\"Helvetica,sans-Serif\" font-size=\"14.00\" fill=\"#000000\">value = [6026, 16436]</text>\n</g>\n<!-- 354&#45;&gt;355 -->\n<g id=\"edge9\" class=\"edge\">\n<title>354&#45;&gt;355</title>\n<path fill=\"none\" stroke=\"#000000\" d=\"M564.5177,-279.9465C564.282,-271.776 564.0269,-262.9318 563.7799,-254.3697\"/>\n<polygon fill=\"#000000\" stroke=\"#000000\" points=\"567.2715,-254.0249 563.4845,-244.13 560.2744,-254.2268 567.2715,-254.0249\"/>\n</g>\n<!-- 948 -->\n<g id=\"node17\" class=\"node\">\n<title>948</title>\n<path fill=\"#4da7e8\" stroke=\"#000000\" d=\"M789.5,-244C789.5,-244 673.5,-244 673.5,-244 667.5,-244 661.5,-238 661.5,-232 661.5,-232 661.5,-188 661.5,-188 661.5,-182 667.5,-176 673.5,-176 673.5,-176 789.5,-176 789.5,-176 795.5,-176 801.5,-182 801.5,-188 801.5,-188 801.5,-232 801.5,-232 801.5,-238 795.5,-244 789.5,-244\"/>\n<text text-anchor=\"start\" x=\"680.5\" y=\"-228.8\" font-family=\"Helvetica,sans-Serif\" font-size=\"14.00\" fill=\"#000000\">reviews ≤ 0.056</text>\n<text text-anchor=\"start\" x=\"693.5\" y=\"-213.8\" font-family=\"Helvetica,sans-Serif\" font-size=\"14.00\" fill=\"#000000\">gini = 0.165</text>\n<text text-anchor=\"start\" x=\"679.5\" y=\"-198.8\" font-family=\"Helvetica,sans-Serif\" font-size=\"14.00\" fill=\"#000000\">samples = 6521</text>\n<text text-anchor=\"start\" x=\"669.5\" y=\"-183.8\" font-family=\"Helvetica,sans-Serif\" font-size=\"14.00\" fill=\"#000000\">value = [593, 5928]</text>\n</g>\n<!-- 354&#45;&gt;948 -->\n<g id=\"edge16\" class=\"edge\">\n<title>354&#45;&gt;948</title>\n<path fill=\"none\" stroke=\"#000000\" d=\"M619.8546,-279.9465C635.3322,-270.2497 652.3246,-259.6039 668.2812,-249.6069\"/>\n<polygon fill=\"#000000\" stroke=\"#000000\" points=\"670.4072,-252.4052 677.0233,-244.13 666.6908,-246.4732 670.4072,-252.4052\"/>\n</g>\n<!-- 356 -->\n<g id=\"node11\" class=\"node\">\n<title>356</title>\n<path fill=\"#76bbed\" stroke=\"#000000\" d=\"M458,-140C458,-140 325,-140 325,-140 319,-140 313,-134 313,-128 313,-128 313,-84 313,-84 313,-78 319,-72 325,-72 325,-72 458,-72 458,-72 464,-72 470,-78 470,-84 470,-84 470,-128 470,-128 470,-134 464,-140 458,-140\"/>\n<text text-anchor=\"start\" x=\"348\" y=\"-124.8\" font-family=\"Helvetica,sans-Serif\" font-size=\"14.00\" fill=\"#000000\">worst ≤ 0.061</text>\n<text text-anchor=\"start\" x=\"358\" y=\"-109.8\" font-family=\"Helvetica,sans-Serif\" font-size=\"14.00\" fill=\"#000000\">gini = 0.36</text>\n<text text-anchor=\"start\" x=\"335.5\" y=\"-94.8\" font-family=\"Helvetica,sans-Serif\" font-size=\"14.00\" fill=\"#000000\">samples = 17850</text>\n<text text-anchor=\"start\" x=\"321\" y=\"-79.8\" font-family=\"Helvetica,sans-Serif\" font-size=\"14.00\" fill=\"#000000\">value = [4201, 13649]</text>\n</g>\n<!-- 355&#45;&gt;356 -->\n<g id=\"edge10\" class=\"edge\">\n<title>355&#45;&gt;356</title>\n<path fill=\"none\" stroke=\"#000000\" d=\"M506.5082,-175.9465C490.4168,-166.1599 472.7359,-155.4066 456.1666,-145.3294\"/>\n<polygon fill=\"#000000\" stroke=\"#000000\" points=\"457.9802,-142.336 447.6176,-140.13 454.3428,-148.3167 457.9802,-142.336\"/>\n</g>\n<!-- 843 -->\n<g id=\"node14\" class=\"node\">\n<title>843</title>\n<path fill=\"#bbddf6\" stroke=\"#000000\" d=\"M625,-140C625,-140 500,-140 500,-140 494,-140 488,-134 488,-128 488,-128 488,-84 488,-84 488,-78 494,-72 500,-72 500,-72 625,-72 625,-72 631,-72 637,-78 637,-84 637,-84 637,-128 637,-128 637,-134 631,-140 625,-140\"/>\n<text text-anchor=\"start\" x=\"523\" y=\"-124.8\" font-family=\"Helvetica,sans-Serif\" font-size=\"14.00\" fill=\"#000000\">love ≤ 0.015</text>\n<text text-anchor=\"start\" x=\"524.5\" y=\"-109.8\" font-family=\"Helvetica,sans-Serif\" font-size=\"14.00\" fill=\"#000000\">gini = 0.478</text>\n<text text-anchor=\"start\" x=\"510.5\" y=\"-94.8\" font-family=\"Helvetica,sans-Serif\" font-size=\"14.00\" fill=\"#000000\">samples = 4612</text>\n<text text-anchor=\"start\" x=\"496\" y=\"-79.8\" font-family=\"Helvetica,sans-Serif\" font-size=\"14.00\" fill=\"#000000\">value = [1825, 2787]</text>\n</g>\n<!-- 355&#45;&gt;843 -->\n<g id=\"edge13\" class=\"edge\">\n<title>355&#45;&gt;843</title>\n<path fill=\"none\" stroke=\"#000000\" d=\"M562.5,-175.9465C562.5,-167.776 562.5,-158.9318 562.5,-150.3697\"/>\n<polygon fill=\"#000000\" stroke=\"#000000\" points=\"566.0001,-150.13 562.5,-140.13 559.0001,-150.13 566.0001,-150.13\"/>\n</g>\n<!-- 357 -->\n<g id=\"node12\" class=\"node\">\n<title>357</title>\n<path fill=\"#c0c0c0\" stroke=\"#000000\" d=\"M347.5,-36C347.5,-36 317.5,-36 317.5,-36 311.5,-36 305.5,-30 305.5,-24 305.5,-24 305.5,-12 305.5,-12 305.5,-6 311.5,0 317.5,0 317.5,0 347.5,0 347.5,0 353.5,0 359.5,-6 359.5,-12 359.5,-12 359.5,-24 359.5,-24 359.5,-30 353.5,-36 347.5,-36\"/>\n<text text-anchor=\"middle\" x=\"332.5\" y=\"-14.3\" font-family=\"Helvetica,sans-Serif\" font-size=\"14.00\" fill=\"#000000\">(...)</text>\n</g>\n<!-- 356&#45;&gt;357 -->\n<g id=\"edge11\" class=\"edge\">\n<title>356&#45;&gt;357</title>\n<path fill=\"none\" stroke=\"#000000\" d=\"M368.6891,-71.9769C362.6242,-62.931 356.1612,-53.2913 350.4002,-44.6986\"/>\n<polygon fill=\"#000000\" stroke=\"#000000\" points=\"353.1728,-42.5488 344.6969,-36.192 347.3586,-46.447 353.1728,-42.5488\"/>\n</g>\n<!-- 842 -->\n<g id=\"node13\" class=\"node\">\n<title>842</title>\n<path fill=\"#c0c0c0\" stroke=\"#000000\" d=\"M419.5,-36C419.5,-36 389.5,-36 389.5,-36 383.5,-36 377.5,-30 377.5,-24 377.5,-24 377.5,-12 377.5,-12 377.5,-6 383.5,0 389.5,0 389.5,0 419.5,0 419.5,0 425.5,0 431.5,-6 431.5,-12 431.5,-12 431.5,-24 431.5,-24 431.5,-30 425.5,-36 419.5,-36\"/>\n<text text-anchor=\"middle\" x=\"404.5\" y=\"-14.3\" font-family=\"Helvetica,sans-Serif\" font-size=\"14.00\" fill=\"#000000\">(...)</text>\n</g>\n<!-- 356&#45;&gt;842 -->\n<g id=\"edge12\" class=\"edge\">\n<title>356&#45;&gt;842</title>\n<path fill=\"none\" stroke=\"#000000\" d=\"M396.5261,-71.9769C397.7781,-63.5023 399.107,-54.5065 400.3136,-46.3388\"/>\n<polygon fill=\"#000000\" stroke=\"#000000\" points=\"403.8135,-46.5961 401.8126,-36.192 396.8886,-45.5731 403.8135,-46.5961\"/>\n</g>\n<!-- 844 -->\n<g id=\"node15\" class=\"node\">\n<title>844</title>\n<path fill=\"#c0c0c0\" stroke=\"#000000\" d=\"M535.5,-36C535.5,-36 505.5,-36 505.5,-36 499.5,-36 493.5,-30 493.5,-24 493.5,-24 493.5,-12 493.5,-12 493.5,-6 499.5,0 505.5,0 505.5,0 535.5,0 535.5,0 541.5,0 547.5,-6 547.5,-12 547.5,-12 547.5,-24 547.5,-24 547.5,-30 541.5,-36 535.5,-36\"/>\n<text text-anchor=\"middle\" x=\"520.5\" y=\"-14.3\" font-family=\"Helvetica,sans-Serif\" font-size=\"14.00\" fill=\"#000000\">(...)</text>\n</g>\n<!-- 843&#45;&gt;844 -->\n<g id=\"edge14\" class=\"edge\">\n<title>843&#45;&gt;844</title>\n<path fill=\"none\" stroke=\"#000000\" d=\"M546.2617,-71.9769C542.0352,-63.1215 537.5371,-53.6969 533.5022,-45.2427\"/>\n<polygon fill=\"#000000\" stroke=\"#000000\" points=\"536.6486,-43.7092 529.1825,-36.192 530.3312,-46.7243 536.6486,-43.7092\"/>\n</g>\n<!-- 941 -->\n<g id=\"node16\" class=\"node\">\n<title>941</title>\n<path fill=\"#c0c0c0\" stroke=\"#000000\" d=\"M607.5,-36C607.5,-36 577.5,-36 577.5,-36 571.5,-36 565.5,-30 565.5,-24 565.5,-24 565.5,-12 565.5,-12 565.5,-6 571.5,0 577.5,0 577.5,0 607.5,0 607.5,0 613.5,0 619.5,-6 619.5,-12 619.5,-12 619.5,-24 619.5,-24 619.5,-30 613.5,-36 607.5,-36\"/>\n<text text-anchor=\"middle\" x=\"592.5\" y=\"-14.3\" font-family=\"Helvetica,sans-Serif\" font-size=\"14.00\" fill=\"#000000\">(...)</text>\n</g>\n<!-- 843&#45;&gt;941 -->\n<g id=\"edge15\" class=\"edge\">\n<title>843&#45;&gt;941</title>\n<path fill=\"none\" stroke=\"#000000\" d=\"M574.0988,-71.9769C577.0528,-63.3119 580.1925,-54.102 583.0263,-45.7894\"/>\n<polygon fill=\"#000000\" stroke=\"#000000\" points=\"586.3842,-46.7864 586.2982,-36.192 579.7586,-44.5277 586.3842,-46.7864\"/>\n</g>\n<!-- 949 -->\n<g id=\"node18\" class=\"node\">\n<title>949</title>\n<path fill=\"#4ba6e7\" stroke=\"#000000\" d=\"M795.5,-140C795.5,-140 667.5,-140 667.5,-140 661.5,-140 655.5,-134 655.5,-128 655.5,-128 655.5,-84 655.5,-84 655.5,-78 661.5,-72 667.5,-72 667.5,-72 795.5,-72 795.5,-72 801.5,-72 807.5,-78 807.5,-84 807.5,-84 807.5,-128 807.5,-128 807.5,-134 801.5,-140 795.5,-140\"/>\n<text text-anchor=\"start\" x=\"663.5\" y=\"-124.8\" font-family=\"Helvetica,sans-Serif\" font-size=\"14.00\" fill=\"#000000\">unfortunately ≤ 0.076</text>\n<text text-anchor=\"start\" x=\"693.5\" y=\"-109.8\" font-family=\"Helvetica,sans-Serif\" font-size=\"14.00\" fill=\"#000000\">gini = 0.151</text>\n<text text-anchor=\"start\" x=\"679.5\" y=\"-94.8\" font-family=\"Helvetica,sans-Serif\" font-size=\"14.00\" fill=\"#000000\">samples = 6263</text>\n<text text-anchor=\"start\" x=\"669.5\" y=\"-79.8\" font-family=\"Helvetica,sans-Serif\" font-size=\"14.00\" fill=\"#000000\">value = [517, 5746]</text>\n</g>\n<!-- 948&#45;&gt;949 -->\n<g id=\"edge17\" class=\"edge\">\n<title>948&#45;&gt;949</title>\n<path fill=\"none\" stroke=\"#000000\" d=\"M731.5,-175.9465C731.5,-167.776 731.5,-158.9318 731.5,-150.3697\"/>\n<polygon fill=\"#000000\" stroke=\"#000000\" points=\"735.0001,-150.13 731.5,-140.13 728.0001,-150.13 735.0001,-150.13\"/>\n</g>\n<!-- 1044 -->\n<g id=\"node21\" class=\"node\">\n<title>1044</title>\n<path fill=\"#8cc6f0\" stroke=\"#000000\" d=\"M937.5,-132.5C937.5,-132.5 837.5,-132.5 837.5,-132.5 831.5,-132.5 825.5,-126.5 825.5,-120.5 825.5,-120.5 825.5,-91.5 825.5,-91.5 825.5,-85.5 831.5,-79.5 837.5,-79.5 837.5,-79.5 937.5,-79.5 937.5,-79.5 943.5,-79.5 949.5,-85.5 949.5,-91.5 949.5,-91.5 949.5,-120.5 949.5,-120.5 949.5,-126.5 943.5,-132.5 937.5,-132.5\"/>\n<text text-anchor=\"start\" x=\"849.5\" y=\"-117.3\" font-family=\"Helvetica,sans-Serif\" font-size=\"14.00\" fill=\"#000000\">gini = 0.416</text>\n<text text-anchor=\"start\" x=\"839.5\" y=\"-102.3\" font-family=\"Helvetica,sans-Serif\" font-size=\"14.00\" fill=\"#000000\">samples = 258</text>\n<text text-anchor=\"start\" x=\"833.5\" y=\"-87.3\" font-family=\"Helvetica,sans-Serif\" font-size=\"14.00\" fill=\"#000000\">value = [76, 182]</text>\n</g>\n<!-- 948&#45;&gt;1044 -->\n<g id=\"edge20\" class=\"edge\">\n<title>948&#45;&gt;1044</title>\n<path fill=\"none\" stroke=\"#000000\" d=\"M782.5802,-175.9465C800.7548,-163.8301 821.152,-150.232 839.0956,-138.2696\"/>\n<polygon fill=\"#000000\" stroke=\"#000000\" points=\"841.3077,-141.0014 847.6868,-132.5422 837.4248,-135.177 841.3077,-141.0014\"/>\n</g>\n<!-- 950 -->\n<g id=\"node19\" class=\"node\">\n<title>950</title>\n<path fill=\"#c0c0c0\" stroke=\"#000000\" d=\"M710.5,-36C710.5,-36 680.5,-36 680.5,-36 674.5,-36 668.5,-30 668.5,-24 668.5,-24 668.5,-12 668.5,-12 668.5,-6 674.5,0 680.5,0 680.5,0 710.5,0 710.5,0 716.5,0 722.5,-6 722.5,-12 722.5,-12 722.5,-24 722.5,-24 722.5,-30 716.5,-36 710.5,-36\"/>\n<text text-anchor=\"middle\" x=\"695.5\" y=\"-14.3\" font-family=\"Helvetica,sans-Serif\" font-size=\"14.00\" fill=\"#000000\">(...)</text>\n</g>\n<!-- 949&#45;&gt;950 -->\n<g id=\"edge18\" class=\"edge\">\n<title>949&#45;&gt;950</title>\n<path fill=\"none\" stroke=\"#000000\" d=\"M717.5815,-71.9769C713.9977,-63.2167 710.1862,-53.8995 706.7564,-45.5157\"/>\n<polygon fill=\"#000000\" stroke=\"#000000\" points=\"709.968,-44.1222 702.9422,-36.192 703.4891,-46.7727 709.968,-44.1222\"/>\n</g>\n<!-- 1043 -->\n<g id=\"node20\" class=\"node\">\n<title>1043</title>\n<path fill=\"#c0c0c0\" stroke=\"#000000\" d=\"M782.5,-36C782.5,-36 752.5,-36 752.5,-36 746.5,-36 740.5,-30 740.5,-24 740.5,-24 740.5,-12 740.5,-12 740.5,-6 746.5,0 752.5,0 752.5,0 782.5,0 782.5,0 788.5,0 794.5,-6 794.5,-12 794.5,-12 794.5,-24 794.5,-24 794.5,-30 788.5,-36 782.5,-36\"/>\n<text text-anchor=\"middle\" x=\"767.5\" y=\"-14.3\" font-family=\"Helvetica,sans-Serif\" font-size=\"14.00\" fill=\"#000000\">(...)</text>\n</g>\n<!-- 949&#45;&gt;1043 -->\n<g id=\"edge19\" class=\"edge\">\n<title>949&#45;&gt;1043</title>\n<path fill=\"none\" stroke=\"#000000\" d=\"M745.4185,-71.9769C749.0023,-63.2167 752.8138,-53.8995 756.2436,-45.5157\"/>\n<polygon fill=\"#000000\" stroke=\"#000000\" points=\"759.5109,-46.7727 760.0578,-36.192 753.032,-44.1222 759.5109,-46.7727\"/>\n</g>\n</g>\n</svg>\n"
          },
          "metadata": {
            "tags": []
          },
          "execution_count": 138
        }
      ]
    },
    {
      "cell_type": "markdown",
      "metadata": {
        "id": "5przjMTbiWOz",
        "colab_type": "text"
      },
      "source": [
        "## [5.2] Applying Decision Trees on TFIDF"
      ]
    },
    {
      "cell_type": "code",
      "metadata": {
        "id": "FtndaEwNAfNC",
        "colab_type": "code",
        "outputId": "0ec7fd26-2b50-4452-fd69-786920f1f045",
        "colab": {
          "base_uri": "https://localhost:8080/",
          "height": 67
        }
      },
      "source": [
        "X=preprocessed_reviews\n",
        "y=np.array(final['Score'])\n",
        "\n",
        "from sklearn.model_selection import train_test_split\n",
        "from sklearn import preprocessing\n",
        "\n",
        "#Breaking into Train and test\n",
        "X_train, X_test, y_train, y_test = train_test_split(X, y, test_size=0.2, random_state=0)\n",
        "X_train, X_cv, y_train, y_cv = train_test_split(X_train, y_train, test_size=0.2)\n",
        "\n",
        "tf_idf_vect = TfidfVectorizer(ngram_range=(1,2), min_df=10)\n",
        "tf_idf_vect.fit(X_train) # fit has to happen only on train data\n",
        "\n",
        "# we use the fitted CountVectorizer to convert the text to vector\n",
        "X_train = tf_idf_vect.transform(X_train)\n",
        "X_cv = tf_idf_vect.transform(X_cv)\n",
        "X_test = tf_idf_vect.transform(X_test)\n",
        "\n",
        "#Normalize Data\n",
        "X_train = preprocessing.normalize(X_train)\n",
        "print(\"Train Data Size: \",X_train.shape)\n",
        "\n",
        "#Normalize Data\n",
        "X_test = preprocessing.normalize(X_test)\n",
        "print(\"Test Data Size: \",X_test.shape)\n",
        "\n",
        "X_cv = preprocessing.normalize(X_cv)\n",
        "print(\"CV Data Size :\", X_cv.shape)"
      ],
      "execution_count": 0,
      "outputs": [
        {
          "output_type": "stream",
          "text": [
            "Train Data Size:  (56174, 33333)\n",
            "Test Data Size:  (17555, 33333)\n",
            "CV Data Size : (14044, 33333)\n"
          ],
          "name": "stdout"
        }
      ]
    },
    {
      "cell_type": "code",
      "metadata": {
        "id": "u29wspQmDU73",
        "colab_type": "code",
        "outputId": "69778b69-7123-47bb-e5c6-1dfa03906cb0",
        "colab": {
          "base_uri": "https://localhost:8080/",
          "height": 50
        }
      },
      "source": [
        "dept = [1, 5, 10, 50, 100, 500, 1000]\n",
        "min_samples =  [5, 10, 100, 500]\n",
        "\n",
        "\n",
        "param_grid={'min_samples_split':min_samples , 'max_depth':dept}\n",
        "clf = DecisionTreeClassifier()\n",
        "model = GridSearchCV(clf,param_grid,scoring='roc_auc',n_jobs=-1,cv=3)\n",
        "model.fit(X_train,y_train)\n",
        "print(\"optimal min_samples_split\",model.best_estimator_.min_samples_split)\n",
        "print(\"optimal max_depth\",model.best_estimator_.max_depth)"
      ],
      "execution_count": 0,
      "outputs": [
        {
          "output_type": "stream",
          "text": [
            "optimal min_samples_split 500\n",
            "optimal max_depth 50\n"
          ],
          "name": "stdout"
        }
      ]
    },
    {
      "cell_type": "code",
      "metadata": {
        "id": "v7th855ODfI4",
        "colab_type": "code",
        "outputId": "aeb96454-d695-4217-978a-339d33a53fd4",
        "colab": {
          "base_uri": "https://localhost:8080/",
          "height": 575
        }
      },
      "source": [
        "import seaborn as sns\n",
        "X = []\n",
        "Y = []\n",
        "cv_auc = []\n",
        "train_auc = []\n",
        "for n in min_samples:\n",
        "    for d in dept:\n",
        "        clf = DecisionTreeClassifier(max_depth = d,min_samples_split = n)\n",
        "        clf.fit(X_train,y_train)\n",
        "        pred_cv = clf.predict_proba(X_cv)[:,1]\n",
        "        pred_train = clf.predict_proba(X_train)[:,1]\n",
        "        X.append(n)\n",
        "        Y.append(d)\n",
        "        cv_auc.append(roc_auc_score(y_cv,pred_cv))\n",
        "        train_auc.append(roc_auc_score(y_train,pred_train))\n",
        "        \n",
        "#Heatmap for cross validation data        \n",
        "data = pd.DataFrame({'min_samples_split': X, 'max_depth': Y, 'AUC': cv_auc})\n",
        "data_pivoted = data.pivot(\"min_samples_split\", \"max_depth\", \"AUC\")\n",
        "ax = sns.heatmap(data_pivoted,annot=True)\n",
        "plt.title('Heatmap for cross validation data')\n",
        "plt.show()\n",
        "\n",
        "#Heatmap for training data\n",
        "data = pd.DataFrame({'min_samples_split': X, 'max_depth': Y, 'AUC': train_auc})\n",
        "data_pivoted = data.pivot(\"min_samples_split\", \"max_depth\", \"AUC\")\n",
        "ax = sns.heatmap(data_pivoted,annot=True)\n",
        "plt.title('Heatmap for training data')\n",
        "plt.show()"
      ],
      "execution_count": 0,
      "outputs": [
        {
          "output_type": "display_data",
          "data": {
            "image/png": "[encoded data removed]",
            "text/plain": [
              "<Figure size 432x288 with 2 Axes>"
            ]
          },
          "metadata": {
            "tags": []
          }
        },
        {
          "output_type": "display_data",
          "data": {
            "image/png": "[encoded data removed]",
            "text/plain": [
              "<Figure size 432x288 with 2 Axes>"
            ]
          },
          "metadata": {
            "tags": []
          }
        }
      ]
    },
    {
      "cell_type": "code",
      "metadata": {
        "id": "VvFMdKC4BWuA",
        "colab_type": "code",
        "outputId": "3285318b-e439-4b7d-bab6-290dec352a45",
        "colab": {
          "base_uri": "https://localhost:8080/",
          "height": 598
        }
      },
      "source": [
        "#training our model for max_depth=50,min_samples_split=500\n",
        "clf = DecisionTreeClassifier(max_depth = 50,min_samples_split = 500)\n",
        "clf.fit(X_train,y_train)\n",
        "pred_test =clf.predict_proba(X_test)[:,1]\n",
        "fpr1, tpr1, thresholds1 = metrics.roc_curve(y_test, pred_test)\n",
        "pred_train = clf.predict_proba(X_train)[:,1]\n",
        "fpr2,tpr2,thresholds2=metrics.roc_curve(y_train,pred_train)\n",
        "\n",
        "#ROC curve\n",
        "x = plt.subplot( )\n",
        "x.plot(fpr1, tpr1, label='Test ROC ,auc='+str(roc_auc_score(y_test,pred_test)))\n",
        "x.plot(fpr2, tpr2, label='Train ROC ,auc='+str(roc_auc_score(y_train,pred_train)))\n",
        "plt.title('ROC')\n",
        "plt.xlabel('FPR')\n",
        "plt.ylabel('TPR')\n",
        "x.legend()\n",
        "plt.show()\n",
        "\n",
        "print(\"AUC on Test data is \" +str(roc_auc_score(y_test,pred_test)))\n",
        "print(\"AUC on Train data is \" +str(roc_auc_score(y_train,pred_train)))\n",
        "\n",
        "print(\"---------------------------\")\n",
        "\n",
        "# Code for drawing seaborn heatmaps\n",
        "class_names = ['negative','positive']\n",
        "df_heatmap = pd.DataFrame(confusion_matrix(y_test, pred_test.round()), index=class_names, columns=class_names )\n",
        "fig = plt.figure( )\n",
        "heatmap = sns.heatmap(df_heatmap, annot=True, fmt=\"d\")\n"
      ],
      "execution_count": 0,
      "outputs": [
        {
          "output_type": "display_data",
          "data": {
            "image/png": "[encoded data removed]",
            "text/plain": [
              "<Figure size 432x288 with 1 Axes>"
            ]
          },
          "metadata": {
            "tags": []
          }
        },
        {
          "output_type": "stream",
          "text": [
            "AUC on Test data is 0.8184152416909622\n",
            "AUC on Train data is 0.9150469965533689\n",
            "---------------------------\n"
          ],
          "name": "stdout"
        },
        {
          "output_type": "display_data",
          "data": {
            "image/png": "[encoded data removed]",
            "text/plain": [
              "<Figure size 432x288 with 2 Axes>"
            ]
          },
          "metadata": {
            "tags": []
          }
        }
      ]
    },
    {
      "cell_type": "code",
      "metadata": {
        "id": "X0IJh2i-SmRC",
        "colab_type": "code",
        "colab": {}
      },
      "source": [
        "new = ['tf-idf','DecisionTreeClassifier',50,500,0.9150,0.8184]\n",
        "results.loc[1] = new"
      ],
      "execution_count": 0,
      "outputs": []
    },
    {
      "cell_type": "markdown",
      "metadata": {
        "id": "PIKUCldjiWO0",
        "colab_type": "text"
      },
      "source": [
        "### [5.2.1] Top 20 important features "
      ]
    },
    {
      "cell_type": "code",
      "metadata": {
        "id": "A4W9LckcCPXg",
        "colab_type": "code",
        "outputId": "5c6eab5e-5a08-496d-d93b-ab61809b803d",
        "colab": {
          "base_uri": "https://localhost:8080/",
          "height": 353
        }
      },
      "source": [
        "#Top 20 important features\n",
        "all_features = tf_idf_vect.get_feature_names()\n",
        "\n",
        "feat = clf.feature_importances_\n",
        "features = np.argsort(feat)[::-1]\n",
        "for i in features[0:20]:\n",
        "    print(all_features[i])"
      ],
      "execution_count": 0,
      "outputs": [
        {
          "output_type": "stream",
          "text": [
            "not\n",
            "great\n",
            "worst\n",
            "disappointed\n",
            "horrible\n",
            "awful\n",
            "not buy\n",
            "return\n",
            "not worth\n",
            "delicious\n",
            "good\n",
            "waste money\n",
            "threw\n",
            "best\n",
            "not disappointed\n",
            "love\n",
            "not recommend\n",
            "disappointing\n",
            "waste\n",
            "terrible\n"
          ],
          "name": "stdout"
        }
      ]
    },
    {
      "cell_type": "markdown",
      "metadata": {
        "id": "RTZB9ipUiWO3",
        "colab_type": "text"
      },
      "source": [
        "### [5.2.2] Graphviz visualization of Decision Tree on TFIDF"
      ]
    },
    {
      "cell_type": "code",
      "metadata": {
        "id": "oT4uk0fC8oKV",
        "colab_type": "code",
        "colab": {}
      },
      "source": [
        "voc = tf_idf_vect.vocabulary_\n",
        "\n",
        "ind=list(voc.values())\n",
        "indexes = np.array(ind).argsort()\n",
        "\n",
        "words=list(voc.keys())\n",
        "sorted_words=[]\n",
        "for i in indexes:\n",
        "    sorted_words.append(words[i])"
      ],
      "execution_count": 0,
      "outputs": []
    },
    {
      "cell_type": "code",
      "metadata": {
        "id": "1mrwPUhx8_5w",
        "colab_type": "code",
        "outputId": "25da8d10-af82-4ebe-a485-a6710b2fd0ac",
        "colab": {
          "base_uri": "https://localhost:8080/",
          "height": 654
        }
      },
      "source": [
        "dot_data = tree.export_graphviz(clf, out_file = None,max_depth = 3,  filled = True, rounded = True,feature_names = sorted_words,special_characters = True)  \n",
        "graph = graphviz.Source(dot_data) \n",
        "graph\n"
      ],
      "execution_count": 0,
      "outputs": [
        {
          "output_type": "execute_result",
          "data": {
            "text/plain": [
              "<graphviz.files.Source at 0x7fc69ab39dd8>"
            ],
            "image/svg+xml": "<?xml version=\"1.0\" encoding=\"UTF-8\" standalone=\"no\"?>\n<!DOCTYPE svg PUBLIC \"-//W3C//DTD SVG 1.1//EN\"\n \"http://www.w3.org/Graphics/SVG/1.1/DTD/svg11.dtd\">\n<!-- Generated by graphviz version 2.40.1 (20161225.0304)\n -->\n<!-- Title: Tree Pages: 1 -->\n<svg width=\"1253pt\" height=\"460pt\"\n viewBox=\"0.00 0.00 1253.00 460.00\" xmlns=\"http://www.w3.org/2000/svg\" xmlns:xlink=\"http://www.w3.org/1999/xlink\">\n<g id=\"graph0\" class=\"graph\" transform=\"scale(1 1) rotate(0) translate(4 456)\">\n<title>Tree</title>\n<polygon fill=\"#ffffff\" stroke=\"transparent\" points=\"-4,4 -4,-456 1249,-456 1249,4 -4,4\"/>\n<!-- 0 -->\n<g id=\"node1\" class=\"node\">\n<title>0</title>\n<path fill=\"#5fb0ea\" stroke=\"#000000\" d=\"M694,-452C694,-452 561,-452 561,-452 555,-452 549,-446 549,-440 549,-440 549,-396 549,-396 549,-390 555,-384 561,-384 561,-384 694,-384 694,-384 700,-384 706,-390 706,-396 706,-396 706,-440 706,-440 706,-446 700,-452 694,-452\"/>\n<text text-anchor=\"start\" x=\"591\" y=\"-436.8\" font-family=\"Helvetica,sans-Serif\" font-size=\"14.00\" fill=\"#000000\">not ≤ 0.064</text>\n<text text-anchor=\"start\" x=\"589.5\" y=\"-421.8\" font-family=\"Helvetica,sans-Serif\" font-size=\"14.00\" fill=\"#000000\">gini = 0.271</text>\n<text text-anchor=\"start\" x=\"571.5\" y=\"-406.8\" font-family=\"Helvetica,sans-Serif\" font-size=\"14.00\" fill=\"#000000\">samples = 56174</text>\n<text text-anchor=\"start\" x=\"557\" y=\"-391.8\" font-family=\"Helvetica,sans-Serif\" font-size=\"14.00\" fill=\"#000000\">value = [9087, 47087]</text>\n</g>\n<!-- 1 -->\n<g id=\"node2\" class=\"node\">\n<title>1</title>\n<path fill=\"#56abe9\" stroke=\"#000000\" d=\"M604,-348C604,-348 471,-348 471,-348 465,-348 459,-342 459,-336 459,-336 459,-292 459,-292 459,-286 465,-280 471,-280 471,-280 604,-280 604,-280 610,-280 616,-286 616,-292 616,-292 616,-336 616,-336 616,-342 610,-348 604,-348\"/>\n<text text-anchor=\"start\" x=\"469.5\" y=\"-332.8\" font-family=\"Helvetica,sans-Serif\" font-size=\"14.00\" fill=\"#000000\">disappointed ≤ 0.053</text>\n<text text-anchor=\"start\" x=\"499.5\" y=\"-317.8\" font-family=\"Helvetica,sans-Serif\" font-size=\"14.00\" fill=\"#000000\">gini = 0.221</text>\n<text text-anchor=\"start\" x=\"481.5\" y=\"-302.8\" font-family=\"Helvetica,sans-Serif\" font-size=\"14.00\" fill=\"#000000\">samples = 44927</text>\n<text text-anchor=\"start\" x=\"467\" y=\"-287.8\" font-family=\"Helvetica,sans-Serif\" font-size=\"14.00\" fill=\"#000000\">value = [5679, 39248]</text>\n</g>\n<!-- 0&#45;&gt;1 -->\n<g id=\"edge1\" class=\"edge\">\n<title>0&#45;&gt;1</title>\n<path fill=\"none\" stroke=\"#000000\" d=\"M598.0306,-383.9465C590.2607,-374.968 581.7868,-365.1758 573.7064,-355.8385\"/>\n<polygon fill=\"#000000\" stroke=\"#000000\" points=\"576.226,-353.4014 567.0356,-348.13 570.9328,-357.982 576.226,-353.4014\"/>\n<text text-anchor=\"middle\" x=\"565.2361\" y=\"-369.3652\" font-family=\"Helvetica,sans-Serif\" font-size=\"14.00\" fill=\"#000000\">True</text>\n</g>\n<!-- 782 -->\n<g id=\"node13\" class=\"node\">\n<title>782</title>\n<path fill=\"#8fc8f0\" stroke=\"#000000\" d=\"M847,-348C847,-348 722,-348 722,-348 716,-348 710,-342 710,-336 710,-336 710,-292 710,-292 710,-286 716,-280 722,-280 722,-280 847,-280 847,-280 853,-280 859,-286 859,-292 859,-292 859,-336 859,-336 859,-342 853,-348 847,-348\"/>\n<text text-anchor=\"start\" x=\"742\" y=\"-332.8\" font-family=\"Helvetica,sans-Serif\" font-size=\"14.00\" fill=\"#000000\">great ≤ 0.013</text>\n<text text-anchor=\"start\" x=\"746.5\" y=\"-317.8\" font-family=\"Helvetica,sans-Serif\" font-size=\"14.00\" fill=\"#000000\">gini = 0.422</text>\n<text text-anchor=\"start\" x=\"728.5\" y=\"-302.8\" font-family=\"Helvetica,sans-Serif\" font-size=\"14.00\" fill=\"#000000\">samples = 11247</text>\n<text text-anchor=\"start\" x=\"718\" y=\"-287.8\" font-family=\"Helvetica,sans-Serif\" font-size=\"14.00\" fill=\"#000000\">value = [3408, 7839]</text>\n</g>\n<!-- 0&#45;&gt;782 -->\n<g id=\"edge12\" class=\"edge\">\n<title>0&#45;&gt;782</title>\n<path fill=\"none\" stroke=\"#000000\" d=\"M678.9077,-383.9465C693.4106,-374.3395 709.3198,-363.8009 724.2893,-353.8848\"/>\n<polygon fill=\"#000000\" stroke=\"#000000\" points=\"726.5729,-356.5704 732.9768,-348.13 722.7071,-350.7346 726.5729,-356.5704\"/>\n<text text-anchor=\"middle\" x=\"728.0017\" y=\"-368.93\" font-family=\"Helvetica,sans-Serif\" font-size=\"14.00\" fill=\"#000000\">False</text>\n</g>\n<!-- 2 -->\n<g id=\"node3\" class=\"node\">\n<title>2</title>\n<path fill=\"#54aae9\" stroke=\"#000000\" d=\"M304,-244C304,-244 171,-244 171,-244 165,-244 159,-238 159,-232 159,-232 159,-188 159,-188 159,-182 165,-176 171,-176 171,-176 304,-176 304,-176 310,-176 316,-182 316,-188 316,-188 316,-232 316,-232 316,-238 310,-244 304,-244\"/>\n<text text-anchor=\"start\" x=\"194\" y=\"-228.8\" font-family=\"Helvetica,sans-Serif\" font-size=\"14.00\" fill=\"#000000\">worst ≤ 0.071</text>\n<text text-anchor=\"start\" x=\"204\" y=\"-213.8\" font-family=\"Helvetica,sans-Serif\" font-size=\"14.00\" fill=\"#000000\">gini = 0.21</text>\n<text text-anchor=\"start\" x=\"181.5\" y=\"-198.8\" font-family=\"Helvetica,sans-Serif\" font-size=\"14.00\" fill=\"#000000\">samples = 44063</text>\n<text text-anchor=\"start\" x=\"167\" y=\"-183.8\" font-family=\"Helvetica,sans-Serif\" font-size=\"14.00\" fill=\"#000000\">value = [5244, 38819]</text>\n</g>\n<!-- 1&#45;&gt;2 -->\n<g id=\"edge2\" class=\"edge\">\n<title>1&#45;&gt;2</title>\n<path fill=\"none\" stroke=\"#000000\" d=\"M458.6785,-286.6752C417.8504,-272.5215 367.8634,-255.1927 325.746,-240.5919\"/>\n<polygon fill=\"#000000\" stroke=\"#000000\" points=\"326.6499,-237.201 316.0551,-237.2324 324.357,-243.8148 326.6499,-237.201\"/>\n</g>\n<!-- 765 -->\n<g id=\"node8\" class=\"node\">\n<title>765</title>\n<path fill=\"#fffdfc\" stroke=\"#000000\" d=\"M613.5,-244C613.5,-244 461.5,-244 461.5,-244 455.5,-244 449.5,-238 449.5,-232 449.5,-232 449.5,-188 449.5,-188 449.5,-182 455.5,-176 461.5,-176 461.5,-176 613.5,-176 613.5,-176 619.5,-176 625.5,-182 625.5,-188 625.5,-188 625.5,-232 625.5,-232 625.5,-238 619.5,-244 613.5,-244\"/>\n<text text-anchor=\"start\" x=\"457.5\" y=\"-228.8\" font-family=\"Helvetica,sans-Serif\" font-size=\"14.00\" fill=\"#000000\">not disappointed ≤ 0.071</text>\n<text text-anchor=\"start\" x=\"508\" y=\"-213.8\" font-family=\"Helvetica,sans-Serif\" font-size=\"14.00\" fill=\"#000000\">gini = 0.5</text>\n<text text-anchor=\"start\" x=\"489.5\" y=\"-198.8\" font-family=\"Helvetica,sans-Serif\" font-size=\"14.00\" fill=\"#000000\">samples = 864</text>\n<text text-anchor=\"start\" x=\"479.5\" y=\"-183.8\" font-family=\"Helvetica,sans-Serif\" font-size=\"14.00\" fill=\"#000000\">value = [435, 429]</text>\n</g>\n<!-- 1&#45;&gt;765 -->\n<g id=\"edge7\" class=\"edge\">\n<title>1&#45;&gt;765</title>\n<path fill=\"none\" stroke=\"#000000\" d=\"M537.5,-279.9465C537.5,-271.776 537.5,-262.9318 537.5,-254.3697\"/>\n<polygon fill=\"#000000\" stroke=\"#000000\" points=\"541.0001,-254.13 537.5,-244.13 534.0001,-254.13 541.0001,-254.13\"/>\n</g>\n<!-- 3 -->\n<g id=\"node4\" class=\"node\">\n<title>3</title>\n<path fill=\"#53aae8\" stroke=\"#000000\" d=\"M145,-140C145,-140 12,-140 12,-140 6,-140 0,-134 0,-128 0,-128 0,-84 0,-84 0,-78 6,-72 12,-72 12,-72 145,-72 145,-72 151,-72 157,-78 157,-84 157,-84 157,-128 157,-128 157,-134 151,-140 145,-140\"/>\n<text text-anchor=\"start\" x=\"35.5\" y=\"-124.8\" font-family=\"Helvetica,sans-Serif\" font-size=\"14.00\" fill=\"#000000\">awful ≤ 0.078</text>\n<text text-anchor=\"start\" x=\"40.5\" y=\"-109.8\" font-family=\"Helvetica,sans-Serif\" font-size=\"14.00\" fill=\"#000000\">gini = 0.204</text>\n<text text-anchor=\"start\" x=\"22.5\" y=\"-94.8\" font-family=\"Helvetica,sans-Serif\" font-size=\"14.00\" fill=\"#000000\">samples = 43856</text>\n<text text-anchor=\"start\" x=\"8\" y=\"-79.8\" font-family=\"Helvetica,sans-Serif\" font-size=\"14.00\" fill=\"#000000\">value = [5067, 38789]</text>\n</g>\n<!-- 2&#45;&gt;3 -->\n<g id=\"edge3\" class=\"edge\">\n<title>2&#45;&gt;3</title>\n<path fill=\"none\" stroke=\"#000000\" d=\"M185.4375,-175.9465C170.6125,-166.2497 154.3367,-155.6039 139.0529,-145.6069\"/>\n<polygon fill=\"#000000\" stroke=\"#000000\" points=\"140.9642,-142.6749 130.6795,-140.13 137.1324,-148.533 140.9642,-142.6749\"/>\n</g>\n<!-- 764 -->\n<g id=\"node7\" class=\"node\">\n<title>764</title>\n<path fill=\"#e9965b\" stroke=\"#000000\" d=\"M287.5,-132.5C287.5,-132.5 187.5,-132.5 187.5,-132.5 181.5,-132.5 175.5,-126.5 175.5,-120.5 175.5,-120.5 175.5,-91.5 175.5,-91.5 175.5,-85.5 181.5,-79.5 187.5,-79.5 187.5,-79.5 287.5,-79.5 287.5,-79.5 293.5,-79.5 299.5,-85.5 299.5,-91.5 299.5,-91.5 299.5,-120.5 299.5,-120.5 299.5,-126.5 293.5,-132.5 287.5,-132.5\"/>\n<text text-anchor=\"start\" x=\"199.5\" y=\"-117.3\" font-family=\"Helvetica,sans-Serif\" font-size=\"14.00\" fill=\"#000000\">gini = 0.248</text>\n<text text-anchor=\"start\" x=\"189.5\" y=\"-102.3\" font-family=\"Helvetica,sans-Serif\" font-size=\"14.00\" fill=\"#000000\">samples = 207</text>\n<text text-anchor=\"start\" x=\"183.5\" y=\"-87.3\" font-family=\"Helvetica,sans-Serif\" font-size=\"14.00\" fill=\"#000000\">value = [177, 30]</text>\n</g>\n<!-- 2&#45;&gt;764 -->\n<g id=\"edge6\" class=\"edge\">\n<title>2&#45;&gt;764</title>\n<path fill=\"none\" stroke=\"#000000\" d=\"M237.5,-175.9465C237.5,-165.2621 237.5,-153.4254 237.5,-142.5742\"/>\n<polygon fill=\"#000000\" stroke=\"#000000\" points=\"241.0001,-142.5421 237.5,-132.5422 234.0001,-142.5422 241.0001,-142.5421\"/>\n</g>\n<!-- 4 -->\n<g id=\"node5\" class=\"node\">\n<title>4</title>\n<path fill=\"#c0c0c0\" stroke=\"#000000\" d=\"M57.5,-36C57.5,-36 27.5,-36 27.5,-36 21.5,-36 15.5,-30 15.5,-24 15.5,-24 15.5,-12 15.5,-12 15.5,-6 21.5,0 27.5,0 27.5,0 57.5,0 57.5,0 63.5,0 69.5,-6 69.5,-12 69.5,-12 69.5,-24 69.5,-24 69.5,-30 63.5,-36 57.5,-36\"/>\n<text text-anchor=\"middle\" x=\"42.5\" y=\"-14.3\" font-family=\"Helvetica,sans-Serif\" font-size=\"14.00\" fill=\"#000000\">(...)</text>\n</g>\n<!-- 3&#45;&gt;4 -->\n<g id=\"edge4\" class=\"edge\">\n<title>3&#45;&gt;4</title>\n<path fill=\"none\" stroke=\"#000000\" d=\"M64.5815,-71.9769C60.9977,-63.2167 57.1862,-53.8995 53.7564,-45.5157\"/>\n<polygon fill=\"#000000\" stroke=\"#000000\" points=\"56.968,-44.1222 49.9422,-36.192 50.4891,-46.7727 56.968,-44.1222\"/>\n</g>\n<!-- 763 -->\n<g id=\"node6\" class=\"node\">\n<title>763</title>\n<path fill=\"#c0c0c0\" stroke=\"#000000\" d=\"M129.5,-36C129.5,-36 99.5,-36 99.5,-36 93.5,-36 87.5,-30 87.5,-24 87.5,-24 87.5,-12 87.5,-12 87.5,-6 93.5,0 99.5,0 99.5,0 129.5,0 129.5,0 135.5,0 141.5,-6 141.5,-12 141.5,-12 141.5,-24 141.5,-24 141.5,-30 135.5,-36 129.5,-36\"/>\n<text text-anchor=\"middle\" x=\"114.5\" y=\"-14.3\" font-family=\"Helvetica,sans-Serif\" font-size=\"14.00\" fill=\"#000000\">(...)</text>\n</g>\n<!-- 3&#45;&gt;763 -->\n<g id=\"edge5\" class=\"edge\">\n<title>3&#45;&gt;763</title>\n<path fill=\"none\" stroke=\"#000000\" d=\"M92.4185,-71.9769C96.0023,-63.2167 99.8138,-53.8995 103.2436,-45.5157\"/>\n<polygon fill=\"#000000\" stroke=\"#000000\" points=\"106.5109,-46.7727 107.0578,-36.192 100.032,-44.1222 106.5109,-46.7727\"/>\n</g>\n<!-- 766 -->\n<g id=\"node9\" class=\"node\">\n<title>766</title>\n<path fill=\"#f4caac\" stroke=\"#000000\" d=\"M497.5,-140C497.5,-140 329.5,-140 329.5,-140 323.5,-140 317.5,-134 317.5,-128 317.5,-128 317.5,-84 317.5,-84 317.5,-78 323.5,-72 329.5,-72 329.5,-72 497.5,-72 497.5,-72 503.5,-72 509.5,-78 509.5,-84 509.5,-84 509.5,-128 509.5,-128 509.5,-134 503.5,-140 497.5,-140\"/>\n<text text-anchor=\"start\" x=\"325.5\" y=\"-124.8\" font-family=\"Helvetica,sans-Serif\" font-size=\"14.00\" fill=\"#000000\">never disappointed ≤ 0.027</text>\n<text text-anchor=\"start\" x=\"375.5\" y=\"-109.8\" font-family=\"Helvetica,sans-Serif\" font-size=\"14.00\" fill=\"#000000\">gini = 0.465</text>\n<text text-anchor=\"start\" x=\"365.5\" y=\"-94.8\" font-family=\"Helvetica,sans-Serif\" font-size=\"14.00\" fill=\"#000000\">samples = 687</text>\n<text text-anchor=\"start\" x=\"355.5\" y=\"-79.8\" font-family=\"Helvetica,sans-Serif\" font-size=\"14.00\" fill=\"#000000\">value = [434, 253]</text>\n</g>\n<!-- 765&#45;&gt;766 -->\n<g id=\"edge8\" class=\"edge\">\n<title>765&#45;&gt;766</title>\n<path fill=\"none\" stroke=\"#000000\" d=\"M496.8978,-175.9465C485.7644,-166.6088 473.5817,-156.3911 462.0511,-146.7203\"/>\n<polygon fill=\"#000000\" stroke=\"#000000\" points=\"464.1046,-143.8745 454.1935,-140.13 459.6062,-149.2378 464.1046,-143.8745\"/>\n</g>\n<!-- 781 -->\n<g id=\"node12\" class=\"node\">\n<title>781</title>\n<path fill=\"#3a9ee5\" stroke=\"#000000\" d=\"M631.5,-132.5C631.5,-132.5 539.5,-132.5 539.5,-132.5 533.5,-132.5 527.5,-126.5 527.5,-120.5 527.5,-120.5 527.5,-91.5 527.5,-91.5 527.5,-85.5 533.5,-79.5 539.5,-79.5 539.5,-79.5 631.5,-79.5 631.5,-79.5 637.5,-79.5 643.5,-85.5 643.5,-91.5 643.5,-91.5 643.5,-120.5 643.5,-120.5 643.5,-126.5 637.5,-132.5 631.5,-132.5\"/>\n<text text-anchor=\"start\" x=\"547.5\" y=\"-117.3\" font-family=\"Helvetica,sans-Serif\" font-size=\"14.00\" fill=\"#000000\">gini = 0.011</text>\n<text text-anchor=\"start\" x=\"537.5\" y=\"-102.3\" font-family=\"Helvetica,sans-Serif\" font-size=\"14.00\" fill=\"#000000\">samples = 177</text>\n<text text-anchor=\"start\" x=\"535.5\" y=\"-87.3\" font-family=\"Helvetica,sans-Serif\" font-size=\"14.00\" fill=\"#000000\">value = [1, 176]</text>\n</g>\n<!-- 765&#45;&gt;781 -->\n<g id=\"edge11\" class=\"edge\">\n<title>765&#45;&gt;781</title>\n<path fill=\"none\" stroke=\"#000000\" d=\"M553.217,-175.9465C558.25,-165.0418 563.8368,-152.9368 568.9288,-141.9043\"/>\n<polygon fill=\"#000000\" stroke=\"#000000\" points=\"572.237,-143.0885 573.2498,-132.5422 565.8813,-140.155 572.237,-143.0885\"/>\n</g>\n<!-- 767 -->\n<g id=\"node10\" class=\"node\">\n<title>767</title>\n<path fill=\"#c0c0c0\" stroke=\"#000000\" d=\"M392.5,-36C392.5,-36 362.5,-36 362.5,-36 356.5,-36 350.5,-30 350.5,-24 350.5,-24 350.5,-12 350.5,-12 350.5,-6 356.5,0 362.5,0 362.5,0 392.5,0 392.5,0 398.5,0 404.5,-6 404.5,-12 404.5,-12 404.5,-24 404.5,-24 404.5,-30 398.5,-36 392.5,-36\"/>\n<text text-anchor=\"middle\" x=\"377.5\" y=\"-14.3\" font-family=\"Helvetica,sans-Serif\" font-size=\"14.00\" fill=\"#000000\">(...)</text>\n</g>\n<!-- 766&#45;&gt;767 -->\n<g id=\"edge9\" class=\"edge\">\n<title>766&#45;&gt;767</title>\n<path fill=\"none\" stroke=\"#000000\" d=\"M399.5815,-71.9769C395.9977,-63.2167 392.1862,-53.8995 388.7564,-45.5157\"/>\n<polygon fill=\"#000000\" stroke=\"#000000\" points=\"391.968,-44.1222 384.9422,-36.192 385.4891,-46.7727 391.968,-44.1222\"/>\n</g>\n<!-- 780 -->\n<g id=\"node11\" class=\"node\">\n<title>780</title>\n<path fill=\"#c0c0c0\" stroke=\"#000000\" d=\"M464.5,-36C464.5,-36 434.5,-36 434.5,-36 428.5,-36 422.5,-30 422.5,-24 422.5,-24 422.5,-12 422.5,-12 422.5,-6 428.5,0 434.5,0 434.5,0 464.5,0 464.5,0 470.5,0 476.5,-6 476.5,-12 476.5,-12 476.5,-24 476.5,-24 476.5,-30 470.5,-36 464.5,-36\"/>\n<text text-anchor=\"middle\" x=\"449.5\" y=\"-14.3\" font-family=\"Helvetica,sans-Serif\" font-size=\"14.00\" fill=\"#000000\">(...)</text>\n</g>\n<!-- 766&#45;&gt;780 -->\n<g id=\"edge10\" class=\"edge\">\n<title>766&#45;&gt;780</title>\n<path fill=\"none\" stroke=\"#000000\" d=\"M427.4185,-71.9769C431.0023,-63.2167 434.8138,-53.8995 438.2436,-45.5157\"/>\n<polygon fill=\"#000000\" stroke=\"#000000\" points=\"441.5109,-46.7727 442.0578,-36.192 435.032,-44.1222 441.5109,-46.7727\"/>\n</g>\n<!-- 783 -->\n<g id=\"node14\" class=\"node\">\n<title>783</title>\n<path fill=\"#a4d2f3\" stroke=\"#000000\" d=\"M847,-244C847,-244 722,-244 722,-244 716,-244 710,-238 710,-232 710,-232 710,-188 710,-188 710,-182 716,-176 722,-176 722,-176 847,-176 847,-176 853,-176 859,-182 859,-188 859,-188 859,-232 859,-232 859,-238 853,-244 847,-244\"/>\n<text text-anchor=\"start\" x=\"734.5\" y=\"-228.8\" font-family=\"Helvetica,sans-Serif\" font-size=\"14.00\" fill=\"#000000\">not buy ≤ 0.061</text>\n<text text-anchor=\"start\" x=\"746.5\" y=\"-213.8\" font-family=\"Helvetica,sans-Serif\" font-size=\"14.00\" fill=\"#000000\">gini = 0.455</text>\n<text text-anchor=\"start\" x=\"732.5\" y=\"-198.8\" font-family=\"Helvetica,sans-Serif\" font-size=\"14.00\" fill=\"#000000\">samples = 8898</text>\n<text text-anchor=\"start\" x=\"718\" y=\"-183.8\" font-family=\"Helvetica,sans-Serif\" font-size=\"14.00\" fill=\"#000000\">value = [3118, 5780]</text>\n</g>\n<!-- 782&#45;&gt;783 -->\n<g id=\"edge13\" class=\"edge\">\n<title>782&#45;&gt;783</title>\n<path fill=\"none\" stroke=\"#000000\" d=\"M784.5,-279.9465C784.5,-271.776 784.5,-262.9318 784.5,-254.3697\"/>\n<polygon fill=\"#000000\" stroke=\"#000000\" points=\"788.0001,-254.13 784.5,-244.13 781.0001,-254.13 788.0001,-254.13\"/>\n</g>\n<!-- 1138 -->\n<g id=\"node19\" class=\"node\">\n<title>1138</title>\n<path fill=\"#55abe9\" stroke=\"#000000\" d=\"M1107.5,-244C1107.5,-244 991.5,-244 991.5,-244 985.5,-244 979.5,-238 979.5,-232 979.5,-232 979.5,-188 979.5,-188 979.5,-182 985.5,-176 991.5,-176 991.5,-176 1107.5,-176 1107.5,-176 1113.5,-176 1119.5,-182 1119.5,-188 1119.5,-188 1119.5,-232 1119.5,-232 1119.5,-238 1113.5,-244 1107.5,-244\"/>\n<text text-anchor=\"start\" x=\"1004.5\" y=\"-228.8\" font-family=\"Helvetica,sans-Serif\" font-size=\"14.00\" fill=\"#000000\">return ≤ 0.023</text>\n<text text-anchor=\"start\" x=\"1011.5\" y=\"-213.8\" font-family=\"Helvetica,sans-Serif\" font-size=\"14.00\" fill=\"#000000\">gini = 0.216</text>\n<text text-anchor=\"start\" x=\"997.5\" y=\"-198.8\" font-family=\"Helvetica,sans-Serif\" font-size=\"14.00\" fill=\"#000000\">samples = 2349</text>\n<text text-anchor=\"start\" x=\"987.5\" y=\"-183.8\" font-family=\"Helvetica,sans-Serif\" font-size=\"14.00\" fill=\"#000000\">value = [290, 2059]</text>\n</g>\n<!-- 782&#45;&gt;1138 -->\n<g id=\"edge18\" class=\"edge\">\n<title>782&#45;&gt;1138</title>\n<path fill=\"none\" stroke=\"#000000\" d=\"M859.0225,-284.7534C893.4455,-271.244 934.3717,-255.1824 969.4495,-241.416\"/>\n<polygon fill=\"#000000\" stroke=\"#000000\" points=\"971.1477,-244.5095 979.1779,-237.5981 968.5904,-237.9934 971.1477,-244.5095\"/>\n</g>\n<!-- 784 -->\n<g id=\"node15\" class=\"node\">\n<title>784</title>\n<path fill=\"#9ccef2\" stroke=\"#000000\" d=\"M799,-140C799,-140 674,-140 674,-140 668,-140 662,-134 662,-128 662,-128 662,-84 662,-84 662,-78 668,-72 674,-72 674,-72 799,-72 799,-72 805,-72 811,-78 811,-84 811,-84 811,-128 811,-128 811,-134 805,-140 799,-140\"/>\n<text text-anchor=\"start\" x=\"680.5\" y=\"-124.8\" font-family=\"Helvetica,sans-Serif\" font-size=\"14.00\" fill=\"#000000\">not worth ≤ 0.062</text>\n<text text-anchor=\"start\" x=\"698.5\" y=\"-109.8\" font-family=\"Helvetica,sans-Serif\" font-size=\"14.00\" fill=\"#000000\">gini = 0.445</text>\n<text text-anchor=\"start\" x=\"684.5\" y=\"-94.8\" font-family=\"Helvetica,sans-Serif\" font-size=\"14.00\" fill=\"#000000\">samples = 8513</text>\n<text text-anchor=\"start\" x=\"670\" y=\"-79.8\" font-family=\"Helvetica,sans-Serif\" font-size=\"14.00\" fill=\"#000000\">value = [2840, 5673]</text>\n</g>\n<!-- 783&#45;&gt;784 -->\n<g id=\"edge14\" class=\"edge\">\n<title>783&#45;&gt;784</title>\n<path fill=\"none\" stroke=\"#000000\" d=\"M768.783,-175.9465C764.8463,-167.4169 760.5706,-158.153 756.458,-149.2424\"/>\n<polygon fill=\"#000000\" stroke=\"#000000\" points=\"759.6208,-147.7429 752.2523,-140.13 753.2651,-150.6763 759.6208,-147.7429\"/>\n</g>\n<!-- 1137 -->\n<g id=\"node18\" class=\"node\">\n<title>1137</title>\n<path fill=\"#efb185\" stroke=\"#000000\" d=\"M949.5,-132.5C949.5,-132.5 841.5,-132.5 841.5,-132.5 835.5,-132.5 829.5,-126.5 829.5,-120.5 829.5,-120.5 829.5,-91.5 829.5,-91.5 829.5,-85.5 835.5,-79.5 841.5,-79.5 841.5,-79.5 949.5,-79.5 949.5,-79.5 955.5,-79.5 961.5,-85.5 961.5,-91.5 961.5,-91.5 961.5,-120.5 961.5,-120.5 961.5,-126.5 955.5,-132.5 949.5,-132.5\"/>\n<text text-anchor=\"start\" x=\"857.5\" y=\"-117.3\" font-family=\"Helvetica,sans-Serif\" font-size=\"14.00\" fill=\"#000000\">gini = 0.401</text>\n<text text-anchor=\"start\" x=\"847.5\" y=\"-102.3\" font-family=\"Helvetica,sans-Serif\" font-size=\"14.00\" fill=\"#000000\">samples = 385</text>\n<text text-anchor=\"start\" x=\"837.5\" y=\"-87.3\" font-family=\"Helvetica,sans-Serif\" font-size=\"14.00\" fill=\"#000000\">value = [278, 107]</text>\n</g>\n<!-- 783&#45;&gt;1137 -->\n<g id=\"edge17\" class=\"edge\">\n<title>783&#45;&gt;1137</title>\n<path fill=\"none\" stroke=\"#000000\" d=\"M820.8456,-175.9465C833.3072,-164.2707 847.2374,-151.219 859.6588,-139.5809\"/>\n<polygon fill=\"#000000\" stroke=\"#000000\" points=\"862.2669,-141.9335 867.1713,-132.5422 857.4809,-136.8253 862.2669,-141.9335\"/>\n</g>\n<!-- 785 -->\n<g id=\"node16\" class=\"node\">\n<title>785</title>\n<path fill=\"#c0c0c0\" stroke=\"#000000\" d=\"M715.5,-36C715.5,-36 685.5,-36 685.5,-36 679.5,-36 673.5,-30 673.5,-24 673.5,-24 673.5,-12 673.5,-12 673.5,-6 679.5,0 685.5,0 685.5,0 715.5,0 715.5,0 721.5,0 727.5,-6 727.5,-12 727.5,-12 727.5,-24 727.5,-24 727.5,-30 721.5,-36 715.5,-36\"/>\n<text text-anchor=\"middle\" x=\"700.5\" y=\"-14.3\" font-family=\"Helvetica,sans-Serif\" font-size=\"14.00\" fill=\"#000000\">(...)</text>\n</g>\n<!-- 784&#45;&gt;785 -->\n<g id=\"edge15\" class=\"edge\">\n<title>784&#45;&gt;785</title>\n<path fill=\"none\" stroke=\"#000000\" d=\"M722.5815,-71.9769C718.9977,-63.2167 715.1862,-53.8995 711.7564,-45.5157\"/>\n<polygon fill=\"#000000\" stroke=\"#000000\" points=\"714.968,-44.1222 707.9422,-36.192 708.4891,-46.7727 714.968,-44.1222\"/>\n</g>\n<!-- 1136 -->\n<g id=\"node17\" class=\"node\">\n<title>1136</title>\n<path fill=\"#c0c0c0\" stroke=\"#000000\" d=\"M787.5,-36C787.5,-36 757.5,-36 757.5,-36 751.5,-36 745.5,-30 745.5,-24 745.5,-24 745.5,-12 745.5,-12 745.5,-6 751.5,0 757.5,0 757.5,0 787.5,0 787.5,0 793.5,0 799.5,-6 799.5,-12 799.5,-12 799.5,-24 799.5,-24 799.5,-30 793.5,-36 787.5,-36\"/>\n<text text-anchor=\"middle\" x=\"772.5\" y=\"-14.3\" font-family=\"Helvetica,sans-Serif\" font-size=\"14.00\" fill=\"#000000\">(...)</text>\n</g>\n<!-- 784&#45;&gt;1136 -->\n<g id=\"edge16\" class=\"edge\">\n<title>784&#45;&gt;1136</title>\n<path fill=\"none\" stroke=\"#000000\" d=\"M750.4185,-71.9769C754.0023,-63.2167 757.8138,-53.8995 761.2436,-45.5157\"/>\n<polygon fill=\"#000000\" stroke=\"#000000\" points=\"764.5109,-46.7727 765.0578,-36.192 758.032,-44.1222 764.5109,-46.7727\"/>\n</g>\n<!-- 1139 -->\n<g id=\"node20\" class=\"node\">\n<title>1139</title>\n<path fill=\"#53aae8\" stroke=\"#000000\" d=\"M1107.5,-140C1107.5,-140 991.5,-140 991.5,-140 985.5,-140 979.5,-134 979.5,-128 979.5,-128 979.5,-84 979.5,-84 979.5,-78 985.5,-72 991.5,-72 991.5,-72 1107.5,-72 1107.5,-72 1113.5,-72 1119.5,-78 1119.5,-84 1119.5,-84 1119.5,-128 1119.5,-128 1119.5,-134 1113.5,-140 1107.5,-140\"/>\n<text text-anchor=\"start\" x=\"995\" y=\"-124.8\" font-family=\"Helvetica,sans-Serif\" font-size=\"14.00\" fill=\"#000000\">not great ≤ 0.145</text>\n<text text-anchor=\"start\" x=\"1011.5\" y=\"-109.8\" font-family=\"Helvetica,sans-Serif\" font-size=\"14.00\" fill=\"#000000\">gini = 0.207</text>\n<text text-anchor=\"start\" x=\"997.5\" y=\"-94.8\" font-family=\"Helvetica,sans-Serif\" font-size=\"14.00\" fill=\"#000000\">samples = 2326</text>\n<text text-anchor=\"start\" x=\"987.5\" y=\"-79.8\" font-family=\"Helvetica,sans-Serif\" font-size=\"14.00\" fill=\"#000000\">value = [273, 2053]</text>\n</g>\n<!-- 1138&#45;&gt;1139 -->\n<g id=\"edge19\" class=\"edge\">\n<title>1138&#45;&gt;1139</title>\n<path fill=\"none\" stroke=\"#000000\" d=\"M1049.5,-175.9465C1049.5,-167.776 1049.5,-158.9318 1049.5,-150.3697\"/>\n<polygon fill=\"#000000\" stroke=\"#000000\" points=\"1053.0001,-150.13 1049.5,-140.13 1046.0001,-150.13 1053.0001,-150.13\"/>\n</g>\n<!-- 1234 -->\n<g id=\"node23\" class=\"node\">\n<title>1234</title>\n<path fill=\"#eead7f\" stroke=\"#000000\" d=\"M1233,-132.5C1233,-132.5 1150,-132.5 1150,-132.5 1144,-132.5 1138,-126.5 1138,-120.5 1138,-120.5 1138,-91.5 1138,-91.5 1138,-85.5 1144,-79.5 1150,-79.5 1150,-79.5 1233,-79.5 1233,-79.5 1239,-79.5 1245,-85.5 1245,-91.5 1245,-91.5 1245,-120.5 1245,-120.5 1245,-126.5 1239,-132.5 1233,-132.5\"/>\n<text text-anchor=\"start\" x=\"1153.5\" y=\"-117.3\" font-family=\"Helvetica,sans-Serif\" font-size=\"14.00\" fill=\"#000000\">gini = 0.386</text>\n<text text-anchor=\"start\" x=\"1147.5\" y=\"-102.3\" font-family=\"Helvetica,sans-Serif\" font-size=\"14.00\" fill=\"#000000\">samples = 23</text>\n<text text-anchor=\"start\" x=\"1146\" y=\"-87.3\" font-family=\"Helvetica,sans-Serif\" font-size=\"14.00\" fill=\"#000000\">value = [17, 6]</text>\n</g>\n<!-- 1138&#45;&gt;1234 -->\n<g id=\"edge22\" class=\"edge\">\n<title>1138&#45;&gt;1234</title>\n<path fill=\"none\" stroke=\"#000000\" d=\"M1095.9961,-175.9465C1112.3893,-163.9403 1130.7689,-150.4791 1146.9936,-138.5962\"/>\n<polygon fill=\"#000000\" stroke=\"#000000\" points=\"1149.2601,-141.2746 1155.2597,-132.5422 1145.124,-135.6272 1149.2601,-141.2746\"/>\n</g>\n<!-- 1140 -->\n<g id=\"node21\" class=\"node\">\n<title>1140</title>\n<path fill=\"#c0c0c0\" stroke=\"#000000\" d=\"M1028.5,-36C1028.5,-36 998.5,-36 998.5,-36 992.5,-36 986.5,-30 986.5,-24 986.5,-24 986.5,-12 986.5,-12 986.5,-6 992.5,0 998.5,0 998.5,0 1028.5,0 1028.5,0 1034.5,0 1040.5,-6 1040.5,-12 1040.5,-12 1040.5,-24 1040.5,-24 1040.5,-30 1034.5,-36 1028.5,-36\"/>\n<text text-anchor=\"middle\" x=\"1013.5\" y=\"-14.3\" font-family=\"Helvetica,sans-Serif\" font-size=\"14.00\" fill=\"#000000\">(...)</text>\n</g>\n<!-- 1139&#45;&gt;1140 -->\n<g id=\"edge20\" class=\"edge\">\n<title>1139&#45;&gt;1140</title>\n<path fill=\"none\" stroke=\"#000000\" d=\"M1035.5815,-71.9769C1031.9977,-63.2167 1028.1862,-53.8995 1024.7564,-45.5157\"/>\n<polygon fill=\"#000000\" stroke=\"#000000\" points=\"1027.968,-44.1222 1020.9422,-36.192 1021.4891,-46.7727 1027.968,-44.1222\"/>\n</g>\n<!-- 1233 -->\n<g id=\"node22\" class=\"node\">\n<title>1233</title>\n<path fill=\"#c0c0c0\" stroke=\"#000000\" d=\"M1100.5,-36C1100.5,-36 1070.5,-36 1070.5,-36 1064.5,-36 1058.5,-30 1058.5,-24 1058.5,-24 1058.5,-12 1058.5,-12 1058.5,-6 1064.5,0 1070.5,0 1070.5,0 1100.5,0 1100.5,0 1106.5,0 1112.5,-6 1112.5,-12 1112.5,-12 1112.5,-24 1112.5,-24 1112.5,-30 1106.5,-36 1100.5,-36\"/>\n<text text-anchor=\"middle\" x=\"1085.5\" y=\"-14.3\" font-family=\"Helvetica,sans-Serif\" font-size=\"14.00\" fill=\"#000000\">(...)</text>\n</g>\n<!-- 1139&#45;&gt;1233 -->\n<g id=\"edge21\" class=\"edge\">\n<title>1139&#45;&gt;1233</title>\n<path fill=\"none\" stroke=\"#000000\" d=\"M1063.4185,-71.9769C1067.0023,-63.2167 1070.8138,-53.8995 1074.2436,-45.5157\"/>\n<polygon fill=\"#000000\" stroke=\"#000000\" points=\"1077.5109,-46.7727 1078.0578,-36.192 1071.032,-44.1222 1077.5109,-46.7727\"/>\n</g>\n</g>\n</svg>\n"
          },
          "metadata": {
            "tags": []
          },
          "execution_count": 147
        }
      ]
    },
    {
      "cell_type": "markdown",
      "metadata": {
        "id": "NVhl_V6MiWO5",
        "colab_type": "text"
      },
      "source": [
        "## [5.3] Applying Decision Trees on AVG W2V"
      ]
    },
    {
      "cell_type": "code",
      "metadata": {
        "id": "uYDXnzMmiWO5",
        "colab_type": "code",
        "outputId": "eecb63d1-4231-4774-8183-057149c1cb0f",
        "colab": {
          "base_uri": "https://localhost:8080/",
          "height": 67
        }
      },
      "source": [
        "X=preprocessed_reviews\n",
        "y=np.array(final['Score'])\n",
        "\n",
        "\n",
        "#Breaking into Train and test\n",
        "X_train, X_test, y_train, y_test = train_test_split(X, y, test_size=0.2, random_state=0)\n",
        "X_train, X_cv, y_train, y_cv = train_test_split(X_train, y_train, test_size=0.2)\n",
        "\n",
        "list_of_sentance_train=[]\n",
        "for sentance in X_train:\n",
        "    list_of_sentance_train.append(sentance.split())\n",
        "w2v_model=Word2Vec(list_of_sentance_train,min_count=5,size=50, workers=4)\n",
        "w2v_words = list(w2v_model.wv.vocab)\n",
        "sent_vectors_train = []; \n",
        "for sent in tqdm(list_of_sentance_train):\n",
        "    sent_vec = np.zeros(50) \n",
        "    cnt_words =0;\n",
        "    for word in sent: \n",
        "        if word in w2v_words:\n",
        "            vec = w2v_model.wv[word]\n",
        "            sent_vec += vec\n",
        "            cnt_words += 1\n",
        "    if cnt_words != 0:\n",
        "        sent_vec /= cnt_words\n",
        "    sent_vectors_train.append(sent_vec)\n",
        "print(len(sent_vectors_train))\n",
        "print(len(sent_vectors_train[0]))"
      ],
      "execution_count": 0,
      "outputs": [
        {
          "output_type": "stream",
          "text": [
            "100%|██████████| 56174/56174 [01:50<00:00, 510.43it/s]"
          ],
          "name": "stderr"
        },
        {
          "output_type": "stream",
          "text": [
            "56174\n",
            "50\n"
          ],
          "name": "stdout"
        },
        {
          "output_type": "stream",
          "text": [
            "\n"
          ],
          "name": "stderr"
        }
      ]
    },
    {
      "cell_type": "code",
      "metadata": {
        "id": "RpTltsarG59O",
        "colab_type": "code",
        "outputId": "3efd5621-99f6-49e9-cad7-6830bfd3d2cb",
        "colab": {
          "base_uri": "https://localhost:8080/",
          "height": 67
        }
      },
      "source": [
        "#for cross validation we can use same w2v models and w2v words\n",
        "list_of_sentance_cv=[]\n",
        "for sentance in X_cv:\n",
        "    list_of_sentance_cv.append(sentance.split())\n",
        "sent_vectors_cv = []; \n",
        "for sent in tqdm(list_of_sentance_cv):\n",
        "    sent_vec = np.zeros(50) \n",
        "    cnt_words =0;\n",
        "    for word in sent: \n",
        "        if word in w2v_words:\n",
        "            vec = w2v_model.wv[word]\n",
        "            sent_vec += vec\n",
        "            cnt_words += 1\n",
        "    if cnt_words != 0:\n",
        "        sent_vec /= cnt_words\n",
        "    sent_vectors_cv.append(sent_vec)\n",
        "print(len(sent_vectors_cv))\n",
        "print(len(sent_vectors_cv[0]))   "
      ],
      "execution_count": 0,
      "outputs": [
        {
          "output_type": "stream",
          "text": [
            "100%|██████████| 14044/14044 [00:28<00:00, 490.41it/s]"
          ],
          "name": "stderr"
        },
        {
          "output_type": "stream",
          "text": [
            "14044\n",
            "50\n"
          ],
          "name": "stdout"
        },
        {
          "output_type": "stream",
          "text": [
            "\n"
          ],
          "name": "stderr"
        }
      ]
    },
    {
      "cell_type": "code",
      "metadata": {
        "id": "pG9wnMbhHEU9",
        "colab_type": "code",
        "outputId": "e1d4b801-7d63-4dc1-9a2e-7b61c024950a",
        "colab": {
          "base_uri": "https://localhost:8080/",
          "height": 67
        }
      },
      "source": [
        "#for test data\n",
        "list_of_sentance_test=[]\n",
        "for sentance in X_test:\n",
        "    list_of_sentance_test.append(sentance.split())\n",
        "sent_vectors_test = []; \n",
        "for sent in tqdm(list_of_sentance_test):\n",
        "    sent_vec = np.zeros(50) \n",
        "    cnt_words =0;\n",
        "    for word in sent: \n",
        "        if word in w2v_words:\n",
        "            vec = w2v_model.wv[word]\n",
        "            sent_vec += vec\n",
        "            cnt_words += 1\n",
        "    if cnt_words != 0:\n",
        "        sent_vec /= cnt_words\n",
        "    sent_vectors_test.append(sent_vec)\n",
        "print(len(sent_vectors_test))\n",
        "print(len(sent_vectors_test[0]))\n"
      ],
      "execution_count": 0,
      "outputs": [
        {
          "output_type": "stream",
          "text": [
            "100%|██████████| 17555/17555 [00:35<00:00, 501.42it/s]"
          ],
          "name": "stderr"
        },
        {
          "output_type": "stream",
          "text": [
            "17555\n",
            "50\n"
          ],
          "name": "stdout"
        },
        {
          "output_type": "stream",
          "text": [
            "\n"
          ],
          "name": "stderr"
        }
      ]
    },
    {
      "cell_type": "code",
      "metadata": {
        "id": "50L2C5sHHN6L",
        "colab_type": "code",
        "outputId": "480904a0-3987-494d-a4da-e213ef648a83",
        "colab": {
          "base_uri": "https://localhost:8080/",
          "height": 50
        }
      },
      "source": [
        "X_train = sent_vectors_train\n",
        "X_cv = sent_vectors_cv\n",
        "X_test = sent_vectors_test\n",
        "\n",
        "dept = [1, 5, 10, 50, 100, 500, 1000]\n",
        "min_samples =  [5, 10, 100, 500]\n",
        "\n",
        "\n",
        "param_grid={'min_samples_split':min_samples , 'max_depth':dept}\n",
        "clf = DecisionTreeClassifier()\n",
        "model = GridSearchCV(clf,param_grid,scoring='roc_auc',n_jobs=-1,cv=3)\n",
        "model.fit(X_train,y_train)\n",
        "print(\"optimal min_samples_split\",model.best_estimator_.min_samples_split)\n",
        "print(\"optimal max_depth\",model.best_estimator_.max_depth)"
      ],
      "execution_count": 0,
      "outputs": [
        {
          "output_type": "stream",
          "text": [
            "optimal min_samples_split 500\n",
            "optimal max_depth 10\n"
          ],
          "name": "stdout"
        }
      ]
    },
    {
      "cell_type": "code",
      "metadata": {
        "id": "aTUedMuxFIzx",
        "colab_type": "code",
        "outputId": "ee859ddf-910a-4a63-adac-5104de06849f",
        "colab": {
          "base_uri": "https://localhost:8080/",
          "height": 575
        }
      },
      "source": [
        "import seaborn as sns\n",
        "X = []\n",
        "Y = []\n",
        "cv_auc = []\n",
        "train_auc = []\n",
        "for n in min_samples:\n",
        "    for d in dept:\n",
        "        clf = DecisionTreeClassifier(max_depth = d,min_samples_split = n)\n",
        "        clf.fit(X_train,y_train)\n",
        "        pred_cv = clf.predict_proba(X_cv)[:,1]\n",
        "        pred_train = clf.predict_proba(X_train)[:,1]\n",
        "        X.append(n)\n",
        "        Y.append(d)\n",
        "        cv_auc.append(roc_auc_score(y_cv,pred_cv))\n",
        "        train_auc.append(roc_auc_score(y_train,pred_train))\n",
        "        \n",
        "#Heatmap for cross validation data        \n",
        "data = pd.DataFrame({'min_samples_split': X, 'max_depth': Y, 'AUC': cv_auc})\n",
        "data_pivoted = data.pivot(\"min_samples_split\", \"max_depth\", \"AUC\")\n",
        "ax = sns.heatmap(data_pivoted,annot=True)\n",
        "plt.title('Heatmap for cross validation data')\n",
        "plt.show()\n",
        "\n",
        "#Heatmap for training data\n",
        "data = pd.DataFrame({'min_samples_split': X, 'max_depth': Y, 'AUC': train_auc})\n",
        "data_pivoted = data.pivot(\"min_samples_split\", \"max_depth\", \"AUC\")\n",
        "ax = sns.heatmap(data_pivoted,annot=True)\n",
        "plt.title('Heatmap for training data')\n",
        "plt.show()"
      ],
      "execution_count": 0,
      "outputs": [
        {
          "output_type": "display_data",
          "data": {
            "image/png": "[encoded data removed]",
            "text/plain": [
              "<Figure size 432x288 with 2 Axes>"
            ]
          },
          "metadata": {
            "tags": []
          }
        },
        {
          "output_type": "display_data",
          "data": {
            "image/png": "[encoded data removed]",
            "text/plain": [
              "<Figure size 432x288 with 2 Axes>"
            ]
          },
          "metadata": {
            "tags": []
          }
        }
      ]
    },
    {
      "cell_type": "code",
      "metadata": {
        "id": "9lnGFl8tHknt",
        "colab_type": "code",
        "outputId": "d51869cc-8960-4087-924e-4b41f92f7609",
        "colab": {
          "base_uri": "https://localhost:8080/",
          "height": 598
        }
      },
      "source": [
        "#training our model for max_depth=10,min_samples_split=500\n",
        "clf = DecisionTreeClassifier(max_depth = 10,min_samples_split = 500)\n",
        "clf.fit(X_train,y_train)\n",
        "pred_test =clf.predict_proba(X_test)[:,1]\n",
        "fpr1, tpr1, thresholds1 = metrics.roc_curve(y_test, pred_test)\n",
        "pred_train = clf.predict_proba(X_train)[:,1]\n",
        "fpr2,tpr2,thresholds2=metrics.roc_curve(y_train,pred_train)\n",
        "\n",
        "#ROC curve\n",
        "x = plt.subplot( )\n",
        "x.plot(fpr1, tpr1, label='Test ROC ,auc='+str(roc_auc_score(y_test,pred_test)))\n",
        "x.plot(fpr2, tpr2, label='Train ROC ,auc='+str(roc_auc_score(y_train,pred_train)))\n",
        "plt.title('ROC')\n",
        "plt.xlabel('FPR')\n",
        "plt.ylabel('TPR')\n",
        "x.legend()\n",
        "plt.show()\n",
        "\n",
        "print(\"AUC on Test data is \" +str(roc_auc_score(y_test,pred_test)))\n",
        "print(\"AUC on Train data is \" +str(roc_auc_score(y_train,pred_train)))\n",
        "\n",
        "print(\"---------------------------\")\n",
        "\n",
        "# Code for drawing seaborn heatmaps\n",
        "class_names = ['negative','positive']\n",
        "df_heatmap = pd.DataFrame(confusion_matrix(y_test, pred_test.round()), index=class_names, columns=class_names )\n",
        "fig = plt.figure( )\n",
        "heatmap = sns.heatmap(df_heatmap, annot=True, fmt=\"d\")\n"
      ],
      "execution_count": 0,
      "outputs": [
        {
          "output_type": "display_data",
          "data": {
            "image/png": "[encoded data removed]",
            "text/plain": [
              "<Figure size 432x288 with 1 Axes>"
            ]
          },
          "metadata": {
            "tags": []
          }
        },
        {
          "output_type": "stream",
          "text": [
            "AUC on Test data is 0.8331869111177259\n",
            "AUC on Train data is 0.8695661830705806\n",
            "---------------------------\n"
          ],
          "name": "stdout"
        },
        {
          "output_type": "display_data",
          "data": {
            "image/png": "[encoded data removed]",
            "text/plain": [
              "<Figure size 432x288 with 2 Axes>"
            ]
          },
          "metadata": {
            "tags": []
          }
        }
      ]
    },
    {
      "cell_type": "code",
      "metadata": {
        "id": "8uV2rxfQTFZb",
        "colab_type": "code",
        "colab": {}
      },
      "source": [
        "new = ['AVG W2V','DecisionTreeClassifier',10,500,0.8695,0.8331]\n",
        "results.loc[2] = new"
      ],
      "execution_count": 0,
      "outputs": []
    },
    {
      "cell_type": "markdown",
      "metadata": {
        "id": "PnwVzXytiWO7",
        "colab_type": "text"
      },
      "source": [
        "## [5.4] Applying Decision Trees on TFIDF W2V"
      ]
    },
    {
      "cell_type": "code",
      "metadata": {
        "id": "9YJ-gxVnHzTL",
        "colab_type": "code",
        "outputId": "cf9cc241-acf5-4ada-f6cb-4bb48e3e5802",
        "colab": {
          "base_uri": "https://localhost:8080/",
          "height": 34
        }
      },
      "source": [
        "X=preprocessed_reviews\n",
        "y=np.array(final['Score'])\n",
        "\n",
        "#Breaking into Train and test\n",
        "X_train, X_test, y_train, y_test = train_test_split(X, y, test_size=0.2, random_state=0)\n",
        "X_train, X_cv, y_train, y_cv = train_test_split(X_train, y_train, test_size=0.2)\n",
        "\n",
        "\n",
        "list_of_sentance_train=[]\n",
        "for sentance in X_train:\n",
        "    list_of_sentance_train.append(sentance.split())\n",
        "w2v_model=Word2Vec(list_of_sentance_train,min_count=5,size=50, workers=4) \n",
        "w2v_words = list(w2v_model.wv.vocab)\n",
        "tf_idf_vect = TfidfVectorizer(ngram_range=(1,2),min_df=10, max_features=500)\n",
        "\n",
        "tf_idf_matrix=tf_idf_vect.fit_transform(X_train)\n",
        "\n",
        "\n",
        "tfidf_feat = tf_idf_vect.get_feature_names() \n",
        "dictionary = dict(zip(tf_idf_vect.get_feature_names(), list(tf_idf_vect.idf_)))\n",
        "\n",
        "#for train data\n",
        "\n",
        "tfidf_sent_vectors_train = []; \n",
        "row=0;\n",
        "for sent in tqdm(list_of_sentance_train): \n",
        "    sent_vec = np.zeros(50)\n",
        "    weight_sum =0;\n",
        "    for word in sent: \n",
        "        if word in w2v_words and word in tfidf_feat:\n",
        "            vec = w2v_model.wv[word]\n",
        "            tf_idf = dictionary[word]*(sent.count(word)/len(sent))\n",
        "            sent_vec += (vec * tf_idf)\n",
        "            weight_sum += tf_idf\n",
        "    if weight_sum != 0:\n",
        "        sent_vec /= weight_sum\n",
        "    tfidf_sent_vectors_train.append(sent_vec)\n",
        "    row += 1\n",
        "\n"
      ],
      "execution_count": 0,
      "outputs": [
        {
          "output_type": "stream",
          "text": [
            "100%|██████████| 56174/56174 [02:21<00:00, 398.28it/s]\n"
          ],
          "name": "stderr"
        }
      ]
    },
    {
      "cell_type": "code",
      "metadata": {
        "id": "2Mo27fhHIZUd",
        "colab_type": "code",
        "outputId": "5ffe78f8-307b-4d57-a455-2b54320354af",
        "colab": {
          "base_uri": "https://localhost:8080/",
          "height": 34
        }
      },
      "source": [
        "#for cross validation data and test we will use same words and models of train\n",
        "list_of_sentance_cv=[]\n",
        "for sentance in X_cv:\n",
        "    list_of_sentance_cv.append(sentance.split())\n",
        "tfidf_sent_vectors_cv = []; \n",
        "row=0;\n",
        "for sent in tqdm(list_of_sentance_cv): \n",
        "    sent_vec = np.zeros(50)\n",
        "    weight_sum =0;\n",
        "    for word in sent: \n",
        "        if word in w2v_words and word in tfidf_feat:\n",
        "            vec = w2v_model.wv[word]\n",
        "            tf_idf = dictionary[word]*(sent.count(word)/len(sent))\n",
        "            sent_vec += (vec * tf_idf)\n",
        "            weight_sum += tf_idf\n",
        "    if weight_sum != 0:\n",
        "        sent_vec /= weight_sum\n",
        "    tfidf_sent_vectors_cv.append(sent_vec)\n",
        "    row += 1"
      ],
      "execution_count": 0,
      "outputs": [
        {
          "output_type": "stream",
          "text": [
            "100%|██████████| 14044/14044 [00:35<00:00, 398.77it/s]\n"
          ],
          "name": "stderr"
        }
      ]
    },
    {
      "cell_type": "code",
      "metadata": {
        "id": "01bDfkqKIeEa",
        "colab_type": "code",
        "outputId": "00900489-71a9-41c2-b063-ac2abbed473d",
        "colab": {
          "base_uri": "https://localhost:8080/",
          "height": 34
        }
      },
      "source": [
        "#for test data\n",
        "list_of_sentance_test=[]\n",
        "for sentance in X_test:\n",
        "    list_of_sentance_test.append(sentance.split())\n",
        "tfidf_sent_vectors_test = []; \n",
        "row=0;\n",
        "for sent in tqdm(list_of_sentance_test): \n",
        "    sent_vec = np.zeros(50)\n",
        "    weight_sum =0;\n",
        "    for word in sent: \n",
        "        if word in w2v_words and word in tfidf_feat:\n",
        "            vec = w2v_model.wv[word]\n",
        "            tf_idf = dictionary[word]*(sent.count(word)/len(sent))\n",
        "            sent_vec += (vec * tf_idf)\n",
        "            weight_sum += tf_idf\n",
        "    if weight_sum != 0:\n",
        "        sent_vec /= weight_sum\n",
        "    tfidf_sent_vectors_test.append(sent_vec)\n",
        "    row += 1"
      ],
      "execution_count": 0,
      "outputs": [
        {
          "output_type": "stream",
          "text": [
            "100%|██████████| 17555/17555 [00:43<00:00, 402.75it/s]\n"
          ],
          "name": "stderr"
        }
      ]
    },
    {
      "cell_type": "code",
      "metadata": {
        "id": "ZH5jsmD6IimV",
        "colab_type": "code",
        "outputId": "07294644-b142-4afe-f9e0-54a0c7aeae6b",
        "colab": {
          "base_uri": "https://localhost:8080/",
          "height": 50
        }
      },
      "source": [
        "X_train = tfidf_sent_vectors_train\n",
        "X_cv = tfidf_sent_vectors_cv\n",
        "X_test = tfidf_sent_vectors_test\n",
        "\n",
        "dept = [1, 5, 10, 50, 100, 500, 1000]\n",
        "min_samples =  [5, 10, 100, 500]\n",
        "\n",
        "\n",
        "param_grid={'min_samples_split':min_samples , 'max_depth':dept}\n",
        "clf = DecisionTreeClassifier()\n",
        "model = GridSearchCV(clf,param_grid,scoring='roc_auc',n_jobs=-1,cv=3)\n",
        "model.fit(X_train,y_train)\n",
        "print(\"optimal min_samples_split\",model.best_estimator_.min_samples_split)\n",
        "print(\"optimal max_depth\",model.best_estimator_.max_depth)"
      ],
      "execution_count": 0,
      "outputs": [
        {
          "output_type": "stream",
          "text": [
            "optimal min_samples_split 500\n",
            "optimal max_depth 10\n"
          ],
          "name": "stdout"
        }
      ]
    },
    {
      "cell_type": "code",
      "metadata": {
        "id": "l6Fwl97UF3Wp",
        "colab_type": "code",
        "outputId": "46a3f4fd-6bd9-4f39-bf2b-3974048bf513",
        "colab": {
          "base_uri": "https://localhost:8080/",
          "height": 575
        }
      },
      "source": [
        "import seaborn as sns\n",
        "X = []\n",
        "Y = []\n",
        "cv_auc = []\n",
        "train_auc = []\n",
        "for n in min_samples:\n",
        "    for d in dept:\n",
        "        clf = DecisionTreeClassifier(max_depth = d,min_samples_split = n)\n",
        "        clf.fit(X_train,y_train)\n",
        "        pred_cv = clf.predict_proba(X_cv)[:,1]\n",
        "        pred_train = clf.predict_proba(X_train)[:,1]\n",
        "        X.append(n)\n",
        "        Y.append(d)\n",
        "        cv_auc.append(roc_auc_score(y_cv,pred_cv))\n",
        "        train_auc.append(roc_auc_score(y_train,pred_train))\n",
        "        \n",
        "#Heatmap for cross validation data        \n",
        "data = pd.DataFrame({'min_samples_split': X, 'max_depth': Y, 'AUC': cv_auc})\n",
        "data_pivoted = data.pivot(\"min_samples_split\", \"max_depth\", \"AUC\")\n",
        "ax = sns.heatmap(data_pivoted,annot=True)\n",
        "plt.title('Heatmap for cross validation data')\n",
        "plt.show()\n",
        "\n",
        "#Heatmap for training data\n",
        "data = pd.DataFrame({'min_samples_split': X, 'max_depth': Y, 'AUC': train_auc})\n",
        "data_pivoted = data.pivot(\"min_samples_split\", \"max_depth\", \"AUC\")\n",
        "ax = sns.heatmap(data_pivoted,annot=True)\n",
        "plt.title('Heatmap for training data')\n",
        "plt.show()"
      ],
      "execution_count": 0,
      "outputs": [
        {
          "output_type": "display_data",
          "data": {
            "image/png": "[encoded data removed]",
            "text/plain": [
              "<Figure size 432x288 with 2 Axes>"
            ]
          },
          "metadata": {
            "tags": []
          }
        },
        {
          "output_type": "display_data",
          "data": {
            "image/png": "[encoded data removed]",
            "text/plain": [
              "<Figure size 432x288 with 2 Axes>"
            ]
          },
          "metadata": {
            "tags": []
          }
        }
      ]
    },
    {
      "cell_type": "code",
      "metadata": {
        "id": "Ql4p6kCZI5ck",
        "colab_type": "code",
        "outputId": "09f3ca5b-56a4-4de4-aba3-9917d031da03",
        "colab": {
          "base_uri": "https://localhost:8080/",
          "height": 598
        }
      },
      "source": [
        "#training our model for max_depth=10,min_samples_split=500\n",
        "clf = DecisionTreeClassifier(max_depth = 10,min_samples_split = 500)\n",
        "clf.fit(X_train,y_train)\n",
        "pred_test =clf.predict_proba(X_test)[:,1]\n",
        "fpr1, tpr1, thresholds1 = metrics.roc_curve(y_test, pred_test)\n",
        "pred_train = clf.predict_proba(X_train)[:,1]\n",
        "fpr2,tpr2,thresholds2=metrics.roc_curve(y_train,pred_train)\n",
        "\n",
        "#ROC curve\n",
        "x = plt.subplot( )\n",
        "x.plot(fpr1, tpr1, label='Test ROC ,auc='+str(roc_auc_score(y_test,pred_test)))\n",
        "x.plot(fpr2, tpr2, label='Train ROC ,auc='+str(roc_auc_score(y_train,pred_train)))\n",
        "plt.title('ROC')\n",
        "plt.xlabel('FPR')\n",
        "plt.ylabel('TPR')\n",
        "x.legend()\n",
        "plt.show()\n",
        "\n",
        "print(\"AUC on Test data is \" +str(roc_auc_score(y_test,pred_test)))\n",
        "print(\"AUC on Train data is \" +str(roc_auc_score(y_train,pred_train)))\n",
        "\n",
        "print(\"---------------------------\")\n",
        "\n",
        "# Code for drawing seaborn heatmaps\n",
        "class_names = ['negative','positive']\n",
        "df_heatmap = pd.DataFrame(confusion_matrix(y_test, pred_test.round()), index=class_names, columns=class_names )\n",
        "fig = plt.figure( )\n",
        "heatmap = sns.heatmap(df_heatmap, annot=True, fmt=\"d\")"
      ],
      "execution_count": 0,
      "outputs": [
        {
          "output_type": "display_data",
          "data": {
            "image/png": "[encoded data removed]",
            "text/plain": [
              "<Figure size 432x288 with 1 Axes>"
            ]
          },
          "metadata": {
            "tags": []
          }
        },
        {
          "output_type": "stream",
          "text": [
            "AUC on Test data is 0.7554885951040535\n",
            "AUC on Train data is 0.8128689150178099\n",
            "---------------------------\n"
          ],
          "name": "stdout"
        },
        {
          "output_type": "display_data",
          "data": {
            "image/png": "[encoded data removed]",
            "text/plain": [
              "<Figure size 432x288 with 2 Axes>"
            ]
          },
          "metadata": {
            "tags": []
          }
        }
      ]
    },
    {
      "cell_type": "code",
      "metadata": {
        "id": "JTQfdjAPTfSc",
        "colab_type": "code",
        "colab": {}
      },
      "source": [
        "new = ['tf-idf W2V','DecisionTreeClassifier',10,500,0.8128,0.7554]\n",
        "results.loc[3] = new"
      ],
      "execution_count": 0,
      "outputs": []
    },
    {
      "cell_type": "markdown",
      "metadata": {
        "id": "Mli1EjlDT893",
        "colab_type": "text"
      },
      "source": [
        "## Performance Table"
      ]
    },
    {
      "cell_type": "code",
      "metadata": {
        "id": "BkKUAKSFUBY3",
        "colab_type": "code",
        "outputId": "87d90ea2-5d76-4799-f970-90335f4c2619",
        "colab": {
          "base_uri": "https://localhost:8080/",
          "height": 166
        }
      },
      "source": [
        "results"
      ],
      "execution_count": 0,
      "outputs": [
        {
          "output_type": "execute_result",
          "data": {
            "text/html": [
              "<div>\n",
              "<style scoped>\n",
              "    .dataframe tbody tr th:only-of-type {\n",
              "        vertical-align: middle;\n",
              "    }\n",
              "\n",
              "    .dataframe tbody tr th {\n",
              "        vertical-align: top;\n",
              "    }\n",
              "\n",
              "    .dataframe thead th {\n",
              "        text-align: right;\n",
              "    }\n",
              "</style>\n",
              "<table border=\"1\" class=\"dataframe\">\n",
              "  <thead>\n",
              "    <tr style=\"text-align: right;\">\n",
              "      <th></th>\n",
              "      <th>Featuraization</th>\n",
              "      <th>Classifier</th>\n",
              "      <th>max_depth</th>\n",
              "      <th>min_samples_split</th>\n",
              "      <th>Train-AUC</th>\n",
              "      <th>Test-AUC</th>\n",
              "    </tr>\n",
              "  </thead>\n",
              "  <tbody>\n",
              "    <tr>\n",
              "      <th>0</th>\n",
              "      <td>BOW</td>\n",
              "      <td>DecisionTreeClassifier</td>\n",
              "      <td>50</td>\n",
              "      <td>500</td>\n",
              "      <td>0.9019</td>\n",
              "      <td>0.8249</td>\n",
              "    </tr>\n",
              "    <tr>\n",
              "      <th>1</th>\n",
              "      <td>tf-idf</td>\n",
              "      <td>DecisionTreeClassifier</td>\n",
              "      <td>50</td>\n",
              "      <td>500</td>\n",
              "      <td>0.9150</td>\n",
              "      <td>0.8184</td>\n",
              "    </tr>\n",
              "    <tr>\n",
              "      <th>2</th>\n",
              "      <td>AVG W2V</td>\n",
              "      <td>DecisionTreeClassifier</td>\n",
              "      <td>10</td>\n",
              "      <td>500</td>\n",
              "      <td>0.8695</td>\n",
              "      <td>0.8331</td>\n",
              "    </tr>\n",
              "    <tr>\n",
              "      <th>3</th>\n",
              "      <td>tf-idf W2V</td>\n",
              "      <td>DecisionTreeClassifier</td>\n",
              "      <td>10</td>\n",
              "      <td>500</td>\n",
              "      <td>0.8128</td>\n",
              "      <td>0.7554</td>\n",
              "    </tr>\n",
              "  </tbody>\n",
              "</table>\n",
              "</div>"
            ],
            "text/plain": [
              "  Featuraization              Classifier  ... Train-AUC Test-AUC\n",
              "0            BOW  DecisionTreeClassifier  ...    0.9019   0.8249\n",
              "1         tf-idf  DecisionTreeClassifier  ...    0.9150   0.8184\n",
              "2        AVG W2V  DecisionTreeClassifier  ...    0.8695   0.8331\n",
              "3     tf-idf W2V  DecisionTreeClassifier  ...    0.8128   0.7554\n",
              "\n",
              "[4 rows x 6 columns]"
            ]
          },
          "metadata": {
            "tags": []
          },
          "execution_count": 163
        }
      ]
    },
    {
      "cell_type": "markdown",
      "metadata": {
        "id": "Em-rF6u2iWO8",
        "colab_type": "text"
      },
      "source": [
        "# [6] Conclusions"
      ]
    },
    {
      "cell_type": "markdown",
      "metadata": {
        "id": "yTAP50chUoIs",
        "colab_type": "text"
      },
      "source": [
        "1. Decision Tree is one of the best algorithem\n",
        "\n",
        "2. If d (features) is small Decision Tree works very well\n",
        "\n",
        "3. Decision Tree Classifier with AVG W2V featuraization, max_depth = 10 and min_samples_split = 500       gave best result AUC = 0.8331"
      ]
    }
  ]
}