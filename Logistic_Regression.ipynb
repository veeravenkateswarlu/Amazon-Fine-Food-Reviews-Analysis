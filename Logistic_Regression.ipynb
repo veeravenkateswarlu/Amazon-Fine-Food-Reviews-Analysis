{
  "nbformat": 4,
  "nbformat_minor": 0,
  "metadata": {
    "colab": {
      "name": "Logistic_Regression.ipynb",
      "version": "0.3.2",
      "provenance": []
    },
    "kernelspec": {
      "name": "python3",
      "display_name": "Python 3"
    }
  },
  "cells": [
    {
      "cell_type": "markdown",
      "metadata": {
        "id": "4UPJU7FIDYHb",
        "colab_type": "text"
      },
      "source": [
        "# Amazon Fine Food Reviews Analysis\n",
        "\n",
        "\n",
        "Data Source: https://www.kaggle.com/snap/amazon-fine-food-reviews <br>\n",
        "\n",
        "EDA: https://nycdatascience.com/blog/student-works/amazon-fine-foods-visualization/\n",
        "\n",
        "\n",
        "The Amazon Fine Food Reviews dataset consists of reviews of fine foods from Amazon.<br>\n",
        "\n",
        "Number of reviews: 568,454<br>\n",
        "Number of users: 256,059<br>\n",
        "Number of products: 74,258<br>\n",
        "Timespan: Oct 1999 - Oct 2012<br>\n",
        "Number of Attributes/Columns in data: 10 \n",
        "\n",
        "Attribute Information:\n",
        "\n",
        "1. Id\n",
        "2. ProductId - unique identifier for the product\n",
        "3. UserId - unqiue identifier for the user\n",
        "4. ProfileName\n",
        "5. HelpfulnessNumerator - number of users who found the review helpful\n",
        "6. HelpfulnessDenominator - number of users who indicated whether they found the review helpful or not\n",
        "7. Score - rating between 1 and 5\n",
        "8. Time - timestamp for the review\n",
        "9. Summary - brief summary of the review\n",
        "10. Text - text of the review\n",
        "\n",
        "\n",
        "#### Objective:\n",
        "Given a review, determine whether the review is positive (rating of 4 or 5) or negative (rating of 1 or 2).\n",
        "\n",
        "<br>\n",
        "[Q] How to determine if a review is positive or negative?<br>\n",
        "<br> \n",
        "[Ans] We could use Score/Rating. A rating of 4 or 5 can be cosnidered as a positive review. A rating of 1 or 2 can be considered as negative one. A review of rating 3 is considered nuetral and such reviews are ignored from our analysis. This is an approximate and proxy way of determining the polarity (positivity/negativity) of a review.\n",
        "\n",
        "\n"
      ]
    },
    {
      "cell_type": "markdown",
      "metadata": {
        "id": "Iac3VjZcDYHf",
        "colab_type": "text"
      },
      "source": [
        "# [1]. Reading Data"
      ]
    },
    {
      "cell_type": "markdown",
      "metadata": {
        "id": "wEsMRzNDDYHi",
        "colab_type": "text"
      },
      "source": [
        "## [1.1] Loading the data\n",
        "\n",
        "The dataset is available in two forms\n",
        "1. .csv file\n",
        "2. SQLite Database\n",
        "\n",
        "In order to load the data, We have used the SQLITE dataset as it is easier to query the data and visualise the data efficiently.\n",
        "<br> \n",
        "\n",
        "Here as we only want to get the global sentiment of the recommendations (positive or negative), we will purposefully ignore all Scores equal to 3. If the score is above 3, then the recommendation wil be set to \"positive\". Otherwise, it will be set to \"negative\"."
      ]
    },
    {
      "cell_type": "code",
      "metadata": {
        "id": "jXaxGzlKh1EW",
        "colab_type": "code",
        "colab": {}
      },
      "source": [
        "import warnings\n",
        "warnings.filterwarnings(\"ignore\")\n",
        "\n",
        "\n",
        "import sqlite3\n",
        "import pandas as pd\n",
        "import numpy as np\n",
        "import nltk\n",
        "import string\n",
        "import matplotlib.pyplot as plt\n",
        "import seaborn as sns\n",
        "from sklearn.feature_extraction.text import TfidfTransformer\n",
        "from sklearn.feature_extraction.text import TfidfVectorizer\n",
        "\n",
        "from sklearn.feature_extraction.text import CountVectorizer\n",
        "from sklearn.metrics import confusion_matrix\n",
        "from sklearn import metrics\n",
        "from sklearn.metrics import roc_curve, auc\n",
        "from nltk.stem.porter import PorterStemmer\n",
        "\n",
        "import re\n",
        "# Tutorial about Python regular expressions: https://pymotw.com/2/re/\n",
        "import string\n",
        "from nltk.corpus import stopwords\n",
        "from nltk.stem import PorterStemmer\n",
        "from nltk.stem.wordnet import WordNetLemmatizer\n",
        "\n",
        "from gensim.models import Word2Vec\n",
        "from gensim.models import KeyedVectors\n",
        "import pickle\n",
        "\n",
        "from tqdm import tqdm\n",
        "import os"
      ],
      "execution_count": 0,
      "outputs": []
    },
    {
      "cell_type": "code",
      "metadata": {
        "id": "7C9h9Tl_iP26",
        "colab_type": "code",
        "outputId": "b41feff5-1307-4134-968d-02457c4bb31e",
        "colab": {
          "base_uri": "https://localhost:8080/",
          "height": 34
        }
      },
      "source": [
        "# Run this cell to mount your Google Drive.\n",
        "from google.colab import drive\n",
        "drive.mount('/content/drive')"
      ],
      "execution_count": 0,
      "outputs": [
        {
          "output_type": "stream",
          "text": [
            "Drive already mounted at /content/drive; to attempt to forcibly remount, call drive.mount(\"/content/drive\", force_remount=True).\n"
          ],
          "name": "stdout"
        }
      ]
    },
    {
      "cell_type": "code",
      "metadata": {
        "id": "pcBuBcjAit4h",
        "colab_type": "code",
        "outputId": "d15db63b-db15-4ecd-eef9-a1e7b939a721",
        "colab": {
          "base_uri": "https://localhost:8080/",
          "height": 50
        }
      },
      "source": [
        "!ls /content/drive/My\\ Drive/Colab\\ Notebooks"
      ],
      "execution_count": 0,
      "outputs": [
        {
          "output_type": "stream",
          "text": [
            " database.sqlite   KNN.ipynb\t\t        NB.ipynb      SVM.ipynb\n",
            " DT.ipynb\t  'Logistic Regression.ipynb'   Reviews.csv   Untitled2.ipynb\n"
          ],
          "name": "stdout"
        }
      ]
    },
    {
      "cell_type": "code",
      "metadata": {
        "id": "OfPW_-_djEVN",
        "colab_type": "code",
        "colab": {}
      },
      "source": [
        "data=pd.read_csv('/content/drive/My Drive/Colab Notebooks/Reviews.csv')"
      ],
      "execution_count": 0,
      "outputs": []
    },
    {
      "cell_type": "code",
      "metadata": {
        "id": "05LKWEhgjLsI",
        "colab_type": "code",
        "outputId": "65192074-42a8-4f03-e5b0-15821b49dc47",
        "colab": {
          "base_uri": "https://localhost:8080/",
          "height": 279
        }
      },
      "source": [
        "data.head()"
      ],
      "execution_count": 0,
      "outputs": [
        {
          "output_type": "execute_result",
          "data": {
            "text/html": [
              "<div>\n",
              "<style scoped>\n",
              "    .dataframe tbody tr th:only-of-type {\n",
              "        vertical-align: middle;\n",
              "    }\n",
              "\n",
              "    .dataframe tbody tr th {\n",
              "        vertical-align: top;\n",
              "    }\n",
              "\n",
              "    .dataframe thead th {\n",
              "        text-align: right;\n",
              "    }\n",
              "</style>\n",
              "<table border=\"1\" class=\"dataframe\">\n",
              "  <thead>\n",
              "    <tr style=\"text-align: right;\">\n",
              "      <th></th>\n",
              "      <th>Id</th>\n",
              "      <th>ProductId</th>\n",
              "      <th>UserId</th>\n",
              "      <th>ProfileName</th>\n",
              "      <th>HelpfulnessNumerator</th>\n",
              "      <th>HelpfulnessDenominator</th>\n",
              "      <th>Score</th>\n",
              "      <th>Time</th>\n",
              "      <th>Summary</th>\n",
              "      <th>Text</th>\n",
              "    </tr>\n",
              "  </thead>\n",
              "  <tbody>\n",
              "    <tr>\n",
              "      <th>0</th>\n",
              "      <td>1</td>\n",
              "      <td>B001E4KFG0</td>\n",
              "      <td>A3SGXH7AUHU8GW</td>\n",
              "      <td>delmartian</td>\n",
              "      <td>1</td>\n",
              "      <td>1</td>\n",
              "      <td>5</td>\n",
              "      <td>1303862400</td>\n",
              "      <td>Good Quality Dog Food</td>\n",
              "      <td>I have bought several of the Vitality canned d...</td>\n",
              "    </tr>\n",
              "    <tr>\n",
              "      <th>1</th>\n",
              "      <td>2</td>\n",
              "      <td>B00813GRG4</td>\n",
              "      <td>A1D87F6ZCVE5NK</td>\n",
              "      <td>dll pa</td>\n",
              "      <td>0</td>\n",
              "      <td>0</td>\n",
              "      <td>1</td>\n",
              "      <td>1346976000</td>\n",
              "      <td>Not as Advertised</td>\n",
              "      <td>Product arrived labeled as Jumbo Salted Peanut...</td>\n",
              "    </tr>\n",
              "    <tr>\n",
              "      <th>2</th>\n",
              "      <td>3</td>\n",
              "      <td>B000LQOCH0</td>\n",
              "      <td>ABXLMWJIXXAIN</td>\n",
              "      <td>Natalia Corres \"Natalia Corres\"</td>\n",
              "      <td>1</td>\n",
              "      <td>1</td>\n",
              "      <td>4</td>\n",
              "      <td>1219017600</td>\n",
              "      <td>\"Delight\" says it all</td>\n",
              "      <td>This is a confection that has been around a fe...</td>\n",
              "    </tr>\n",
              "    <tr>\n",
              "      <th>3</th>\n",
              "      <td>4</td>\n",
              "      <td>B000UA0QIQ</td>\n",
              "      <td>A395BORC6FGVXV</td>\n",
              "      <td>Karl</td>\n",
              "      <td>3</td>\n",
              "      <td>3</td>\n",
              "      <td>2</td>\n",
              "      <td>1307923200</td>\n",
              "      <td>Cough Medicine</td>\n",
              "      <td>If you are looking for the secret ingredient i...</td>\n",
              "    </tr>\n",
              "    <tr>\n",
              "      <th>4</th>\n",
              "      <td>5</td>\n",
              "      <td>B006K2ZZ7K</td>\n",
              "      <td>A1UQRSCLF8GW1T</td>\n",
              "      <td>Michael D. Bigham \"M. Wassir\"</td>\n",
              "      <td>0</td>\n",
              "      <td>0</td>\n",
              "      <td>5</td>\n",
              "      <td>1350777600</td>\n",
              "      <td>Great taffy</td>\n",
              "      <td>Great taffy at a great price.  There was a wid...</td>\n",
              "    </tr>\n",
              "  </tbody>\n",
              "</table>\n",
              "</div>"
            ],
            "text/plain": [
              "   Id  ...                                               Text\n",
              "0   1  ...  I have bought several of the Vitality canned d...\n",
              "1   2  ...  Product arrived labeled as Jumbo Salted Peanut...\n",
              "2   3  ...  This is a confection that has been around a fe...\n",
              "3   4  ...  If you are looking for the secret ingredient i...\n",
              "4   5  ...  Great taffy at a great price.  There was a wid...\n",
              "\n",
              "[5 rows x 10 columns]"
            ]
          },
          "metadata": {
            "tags": []
          },
          "execution_count": 5
        }
      ]
    },
    {
      "cell_type": "code",
      "metadata": {
        "id": "h2QoGeAFjVFw",
        "colab_type": "code",
        "colab": {}
      },
      "source": [
        "conn=sqlite3.connect('/content/drive/My Drive/Colab Notebooks/database.sqlite')"
      ],
      "execution_count": 0,
      "outputs": []
    },
    {
      "cell_type": "code",
      "metadata": {
        "id": "bWQqMPw8jbO5",
        "colab_type": "code",
        "colab": {}
      },
      "source": [
        "filter_data=pd.read_sql_query(\"\"\" SELECT * FROM Reviews WHERE Score != 3 LIMIT 100000\"\"\",conn)"
      ],
      "execution_count": 0,
      "outputs": []
    },
    {
      "cell_type": "code",
      "metadata": {
        "id": "OcjVkN7tje4k",
        "colab_type": "code",
        "colab": {}
      },
      "source": [
        "def partition (x):\n",
        "  if x<3:\n",
        "    return 0\n",
        "  return 1"
      ],
      "execution_count": 0,
      "outputs": []
    },
    {
      "cell_type": "code",
      "metadata": {
        "id": "0zvsh5hYji6l",
        "colab_type": "code",
        "outputId": "8f0007d5-7f91-472f-8d6d-4edbfa16992e",
        "colab": {
          "base_uri": "https://localhost:8080/",
          "height": 296
        }
      },
      "source": [
        "actualscore = filter_data['Score']\n",
        "positivenegative = actualscore.map(partition)\n",
        "filter_data['Score']= positivenegative\n",
        "print('Nomber of data points in our data',filter_data.shape)\n",
        "filter_data.head(5)"
      ],
      "execution_count": 0,
      "outputs": [
        {
          "output_type": "stream",
          "text": [
            "Nomber of data points in our data (100000, 10)\n"
          ],
          "name": "stdout"
        },
        {
          "output_type": "execute_result",
          "data": {
            "text/html": [
              "<div>\n",
              "<style scoped>\n",
              "    .dataframe tbody tr th:only-of-type {\n",
              "        vertical-align: middle;\n",
              "    }\n",
              "\n",
              "    .dataframe tbody tr th {\n",
              "        vertical-align: top;\n",
              "    }\n",
              "\n",
              "    .dataframe thead th {\n",
              "        text-align: right;\n",
              "    }\n",
              "</style>\n",
              "<table border=\"1\" class=\"dataframe\">\n",
              "  <thead>\n",
              "    <tr style=\"text-align: right;\">\n",
              "      <th></th>\n",
              "      <th>Id</th>\n",
              "      <th>ProductId</th>\n",
              "      <th>UserId</th>\n",
              "      <th>ProfileName</th>\n",
              "      <th>HelpfulnessNumerator</th>\n",
              "      <th>HelpfulnessDenominator</th>\n",
              "      <th>Score</th>\n",
              "      <th>Time</th>\n",
              "      <th>Summary</th>\n",
              "      <th>Text</th>\n",
              "    </tr>\n",
              "  </thead>\n",
              "  <tbody>\n",
              "    <tr>\n",
              "      <th>0</th>\n",
              "      <td>1</td>\n",
              "      <td>B001E4KFG0</td>\n",
              "      <td>A3SGXH7AUHU8GW</td>\n",
              "      <td>delmartian</td>\n",
              "      <td>1</td>\n",
              "      <td>1</td>\n",
              "      <td>1</td>\n",
              "      <td>1303862400</td>\n",
              "      <td>Good Quality Dog Food</td>\n",
              "      <td>I have bought several of the Vitality canned d...</td>\n",
              "    </tr>\n",
              "    <tr>\n",
              "      <th>1</th>\n",
              "      <td>2</td>\n",
              "      <td>B00813GRG4</td>\n",
              "      <td>A1D87F6ZCVE5NK</td>\n",
              "      <td>dll pa</td>\n",
              "      <td>0</td>\n",
              "      <td>0</td>\n",
              "      <td>0</td>\n",
              "      <td>1346976000</td>\n",
              "      <td>Not as Advertised</td>\n",
              "      <td>Product arrived labeled as Jumbo Salted Peanut...</td>\n",
              "    </tr>\n",
              "    <tr>\n",
              "      <th>2</th>\n",
              "      <td>3</td>\n",
              "      <td>B000LQOCH0</td>\n",
              "      <td>ABXLMWJIXXAIN</td>\n",
              "      <td>Natalia Corres \"Natalia Corres\"</td>\n",
              "      <td>1</td>\n",
              "      <td>1</td>\n",
              "      <td>1</td>\n",
              "      <td>1219017600</td>\n",
              "      <td>\"Delight\" says it all</td>\n",
              "      <td>This is a confection that has been around a fe...</td>\n",
              "    </tr>\n",
              "    <tr>\n",
              "      <th>3</th>\n",
              "      <td>4</td>\n",
              "      <td>B000UA0QIQ</td>\n",
              "      <td>A395BORC6FGVXV</td>\n",
              "      <td>Karl</td>\n",
              "      <td>3</td>\n",
              "      <td>3</td>\n",
              "      <td>0</td>\n",
              "      <td>1307923200</td>\n",
              "      <td>Cough Medicine</td>\n",
              "      <td>If you are looking for the secret ingredient i...</td>\n",
              "    </tr>\n",
              "    <tr>\n",
              "      <th>4</th>\n",
              "      <td>5</td>\n",
              "      <td>B006K2ZZ7K</td>\n",
              "      <td>A1UQRSCLF8GW1T</td>\n",
              "      <td>Michael D. Bigham \"M. Wassir\"</td>\n",
              "      <td>0</td>\n",
              "      <td>0</td>\n",
              "      <td>1</td>\n",
              "      <td>1350777600</td>\n",
              "      <td>Great taffy</td>\n",
              "      <td>Great taffy at a great price.  There was a wid...</td>\n",
              "    </tr>\n",
              "  </tbody>\n",
              "</table>\n",
              "</div>"
            ],
            "text/plain": [
              "   Id  ...                                               Text\n",
              "0   1  ...  I have bought several of the Vitality canned d...\n",
              "1   2  ...  Product arrived labeled as Jumbo Salted Peanut...\n",
              "2   3  ...  This is a confection that has been around a fe...\n",
              "3   4  ...  If you are looking for the secret ingredient i...\n",
              "4   5  ...  Great taffy at a great price.  There was a wid...\n",
              "\n",
              "[5 rows x 10 columns]"
            ]
          },
          "metadata": {
            "tags": []
          },
          "execution_count": 9
        }
      ]
    },
    {
      "cell_type": "code",
      "metadata": {
        "id": "dOPlbP7ojmDN",
        "colab_type": "code",
        "colab": {}
      },
      "source": [
        "display = pd.read_sql_query(\"\"\"\n",
        "SELECT UserId, ProductId, ProfileName, Time, Score, Text, COUNT(*)\n",
        "FROM Reviews\n",
        "GROUP BY UserId\n",
        "HAVING COUNT(*)>1\n",
        "\"\"\", conn)"
      ],
      "execution_count": 0,
      "outputs": []
    },
    {
      "cell_type": "code",
      "metadata": {
        "id": "nZzgXQvujujE",
        "colab_type": "code",
        "outputId": "8b903fdc-44bf-4de9-ad25-34e853920248",
        "colab": {
          "base_uri": "https://localhost:8080/",
          "height": 212
        }
      },
      "source": [
        "print(display.shape)\n",
        "display.head()"
      ],
      "execution_count": 0,
      "outputs": [
        {
          "output_type": "stream",
          "text": [
            "(80668, 7)\n"
          ],
          "name": "stdout"
        },
        {
          "output_type": "execute_result",
          "data": {
            "text/html": [
              "<div>\n",
              "<style scoped>\n",
              "    .dataframe tbody tr th:only-of-type {\n",
              "        vertical-align: middle;\n",
              "    }\n",
              "\n",
              "    .dataframe tbody tr th {\n",
              "        vertical-align: top;\n",
              "    }\n",
              "\n",
              "    .dataframe thead th {\n",
              "        text-align: right;\n",
              "    }\n",
              "</style>\n",
              "<table border=\"1\" class=\"dataframe\">\n",
              "  <thead>\n",
              "    <tr style=\"text-align: right;\">\n",
              "      <th></th>\n",
              "      <th>UserId</th>\n",
              "      <th>ProductId</th>\n",
              "      <th>ProfileName</th>\n",
              "      <th>Time</th>\n",
              "      <th>Score</th>\n",
              "      <th>Text</th>\n",
              "      <th>COUNT(*)</th>\n",
              "    </tr>\n",
              "  </thead>\n",
              "  <tbody>\n",
              "    <tr>\n",
              "      <th>0</th>\n",
              "      <td>#oc-R115TNMSPFT9I7</td>\n",
              "      <td>B007Y59HVM</td>\n",
              "      <td>Breyton</td>\n",
              "      <td>1331510400</td>\n",
              "      <td>2</td>\n",
              "      <td>Overall its just OK when considering the price...</td>\n",
              "      <td>2</td>\n",
              "    </tr>\n",
              "    <tr>\n",
              "      <th>1</th>\n",
              "      <td>#oc-R11D9D7SHXIJB9</td>\n",
              "      <td>B005HG9ET0</td>\n",
              "      <td>Louis E. Emory \"hoppy\"</td>\n",
              "      <td>1342396800</td>\n",
              "      <td>5</td>\n",
              "      <td>My wife has recurring extreme muscle spasms, u...</td>\n",
              "      <td>3</td>\n",
              "    </tr>\n",
              "    <tr>\n",
              "      <th>2</th>\n",
              "      <td>#oc-R11DNU2NBKQ23Z</td>\n",
              "      <td>B007Y59HVM</td>\n",
              "      <td>Kim Cieszykowski</td>\n",
              "      <td>1348531200</td>\n",
              "      <td>1</td>\n",
              "      <td>This coffee is horrible and unfortunately not ...</td>\n",
              "      <td>2</td>\n",
              "    </tr>\n",
              "    <tr>\n",
              "      <th>3</th>\n",
              "      <td>#oc-R11O5J5ZVQE25C</td>\n",
              "      <td>B005HG9ET0</td>\n",
              "      <td>Penguin Chick</td>\n",
              "      <td>1346889600</td>\n",
              "      <td>5</td>\n",
              "      <td>This will be the bottle that you grab from the...</td>\n",
              "      <td>3</td>\n",
              "    </tr>\n",
              "    <tr>\n",
              "      <th>4</th>\n",
              "      <td>#oc-R12KPBODL2B5ZD</td>\n",
              "      <td>B007OSBE1U</td>\n",
              "      <td>Christopher P. Presta</td>\n",
              "      <td>1348617600</td>\n",
              "      <td>1</td>\n",
              "      <td>I didnt like this coffee. Instead of telling y...</td>\n",
              "      <td>2</td>\n",
              "    </tr>\n",
              "  </tbody>\n",
              "</table>\n",
              "</div>"
            ],
            "text/plain": [
              "               UserId  ... COUNT(*)\n",
              "0  #oc-R115TNMSPFT9I7  ...        2\n",
              "1  #oc-R11D9D7SHXIJB9  ...        3\n",
              "2  #oc-R11DNU2NBKQ23Z  ...        2\n",
              "3  #oc-R11O5J5ZVQE25C  ...        3\n",
              "4  #oc-R12KPBODL2B5ZD  ...        2\n",
              "\n",
              "[5 rows x 7 columns]"
            ]
          },
          "metadata": {
            "tags": []
          },
          "execution_count": 11
        }
      ]
    },
    {
      "cell_type": "code",
      "metadata": {
        "id": "lmkAgglIj2LP",
        "colab_type": "code",
        "outputId": "d2b4764b-3f81-4645-c7c6-ea7d408df8b0",
        "colab": {
          "base_uri": "https://localhost:8080/",
          "height": 77
        }
      },
      "source": [
        "display[display['UserId']=='AZY10LLTJ71NX']"
      ],
      "execution_count": 0,
      "outputs": [
        {
          "output_type": "execute_result",
          "data": {
            "text/html": [
              "<div>\n",
              "<style scoped>\n",
              "    .dataframe tbody tr th:only-of-type {\n",
              "        vertical-align: middle;\n",
              "    }\n",
              "\n",
              "    .dataframe tbody tr th {\n",
              "        vertical-align: top;\n",
              "    }\n",
              "\n",
              "    .dataframe thead th {\n",
              "        text-align: right;\n",
              "    }\n",
              "</style>\n",
              "<table border=\"1\" class=\"dataframe\">\n",
              "  <thead>\n",
              "    <tr style=\"text-align: right;\">\n",
              "      <th></th>\n",
              "      <th>UserId</th>\n",
              "      <th>ProductId</th>\n",
              "      <th>ProfileName</th>\n",
              "      <th>Time</th>\n",
              "      <th>Score</th>\n",
              "      <th>Text</th>\n",
              "      <th>COUNT(*)</th>\n",
              "    </tr>\n",
              "  </thead>\n",
              "  <tbody>\n",
              "    <tr>\n",
              "      <th>80638</th>\n",
              "      <td>AZY10LLTJ71NX</td>\n",
              "      <td>B006P7E5ZI</td>\n",
              "      <td>undertheshrine \"undertheshrine\"</td>\n",
              "      <td>1334707200</td>\n",
              "      <td>5</td>\n",
              "      <td>I was recommended to try green tea extract to ...</td>\n",
              "      <td>5</td>\n",
              "    </tr>\n",
              "  </tbody>\n",
              "</table>\n",
              "</div>"
            ],
            "text/plain": [
              "              UserId  ... COUNT(*)\n",
              "80638  AZY10LLTJ71NX  ...        5\n",
              "\n",
              "[1 rows x 7 columns]"
            ]
          },
          "metadata": {
            "tags": []
          },
          "execution_count": 12
        }
      ]
    },
    {
      "cell_type": "code",
      "metadata": {
        "id": "lLIEC5qLj6cl",
        "colab_type": "code",
        "outputId": "c6662ff7-c4f6-42a1-f66f-010fbe681110",
        "colab": {
          "base_uri": "https://localhost:8080/",
          "height": 34
        }
      },
      "source": [
        "display['COUNT(*)'].sum()"
      ],
      "execution_count": 0,
      "outputs": [
        {
          "output_type": "execute_result",
          "data": {
            "text/plain": [
              "393063"
            ]
          },
          "metadata": {
            "tags": []
          },
          "execution_count": 13
        }
      ]
    },
    {
      "cell_type": "markdown",
      "metadata": {
        "id": "EBZeBQFmkQwI",
        "colab_type": "text"
      },
      "source": [
        "# [2] Exploratory Data Analysis"
      ]
    },
    {
      "cell_type": "markdown",
      "metadata": {
        "id": "f3nDo_hOkvli",
        "colab_type": "text"
      },
      "source": [
        "## [2.1] Data Cleaning: Deduplication"
      ]
    },
    {
      "cell_type": "code",
      "metadata": {
        "id": "uy0PXgFej_p8",
        "colab_type": "code",
        "outputId": "5f6d9132-5686-4597-b74f-633bb4ba9ea2",
        "colab": {
          "base_uri": "https://localhost:8080/",
          "height": 296
        }
      },
      "source": [
        "display= pd.read_sql_query(\"\"\"\n",
        "SELECT *\n",
        "FROM Reviews\n",
        "WHERE Score != 3 AND UserId=\"AR5J8UI46CURR\"\n",
        "ORDER BY ProductID\n",
        "\"\"\", conn)\n",
        "print(display.shape)\n",
        "display.head()"
      ],
      "execution_count": 0,
      "outputs": [
        {
          "output_type": "stream",
          "text": [
            "(5, 10)\n"
          ],
          "name": "stdout"
        },
        {
          "output_type": "execute_result",
          "data": {
            "text/html": [
              "<div>\n",
              "<style scoped>\n",
              "    .dataframe tbody tr th:only-of-type {\n",
              "        vertical-align: middle;\n",
              "    }\n",
              "\n",
              "    .dataframe tbody tr th {\n",
              "        vertical-align: top;\n",
              "    }\n",
              "\n",
              "    .dataframe thead th {\n",
              "        text-align: right;\n",
              "    }\n",
              "</style>\n",
              "<table border=\"1\" class=\"dataframe\">\n",
              "  <thead>\n",
              "    <tr style=\"text-align: right;\">\n",
              "      <th></th>\n",
              "      <th>Id</th>\n",
              "      <th>ProductId</th>\n",
              "      <th>UserId</th>\n",
              "      <th>ProfileName</th>\n",
              "      <th>HelpfulnessNumerator</th>\n",
              "      <th>HelpfulnessDenominator</th>\n",
              "      <th>Score</th>\n",
              "      <th>Time</th>\n",
              "      <th>Summary</th>\n",
              "      <th>Text</th>\n",
              "    </tr>\n",
              "  </thead>\n",
              "  <tbody>\n",
              "    <tr>\n",
              "      <th>0</th>\n",
              "      <td>78445</td>\n",
              "      <td>B000HDL1RQ</td>\n",
              "      <td>AR5J8UI46CURR</td>\n",
              "      <td>Geetha Krishnan</td>\n",
              "      <td>2</td>\n",
              "      <td>2</td>\n",
              "      <td>5</td>\n",
              "      <td>1199577600</td>\n",
              "      <td>LOACKER QUADRATINI VANILLA WAFERS</td>\n",
              "      <td>DELICIOUS WAFERS. I FIND THAT EUROPEAN WAFERS ...</td>\n",
              "    </tr>\n",
              "    <tr>\n",
              "      <th>1</th>\n",
              "      <td>138317</td>\n",
              "      <td>B000HDOPYC</td>\n",
              "      <td>AR5J8UI46CURR</td>\n",
              "      <td>Geetha Krishnan</td>\n",
              "      <td>2</td>\n",
              "      <td>2</td>\n",
              "      <td>5</td>\n",
              "      <td>1199577600</td>\n",
              "      <td>LOACKER QUADRATINI VANILLA WAFERS</td>\n",
              "      <td>DELICIOUS WAFERS. I FIND THAT EUROPEAN WAFERS ...</td>\n",
              "    </tr>\n",
              "    <tr>\n",
              "      <th>2</th>\n",
              "      <td>138277</td>\n",
              "      <td>B000HDOPYM</td>\n",
              "      <td>AR5J8UI46CURR</td>\n",
              "      <td>Geetha Krishnan</td>\n",
              "      <td>2</td>\n",
              "      <td>2</td>\n",
              "      <td>5</td>\n",
              "      <td>1199577600</td>\n",
              "      <td>LOACKER QUADRATINI VANILLA WAFERS</td>\n",
              "      <td>DELICIOUS WAFERS. I FIND THAT EUROPEAN WAFERS ...</td>\n",
              "    </tr>\n",
              "    <tr>\n",
              "      <th>3</th>\n",
              "      <td>73791</td>\n",
              "      <td>B000HDOPZG</td>\n",
              "      <td>AR5J8UI46CURR</td>\n",
              "      <td>Geetha Krishnan</td>\n",
              "      <td>2</td>\n",
              "      <td>2</td>\n",
              "      <td>5</td>\n",
              "      <td>1199577600</td>\n",
              "      <td>LOACKER QUADRATINI VANILLA WAFERS</td>\n",
              "      <td>DELICIOUS WAFERS. I FIND THAT EUROPEAN WAFERS ...</td>\n",
              "    </tr>\n",
              "    <tr>\n",
              "      <th>4</th>\n",
              "      <td>155049</td>\n",
              "      <td>B000PAQ75C</td>\n",
              "      <td>AR5J8UI46CURR</td>\n",
              "      <td>Geetha Krishnan</td>\n",
              "      <td>2</td>\n",
              "      <td>2</td>\n",
              "      <td>5</td>\n",
              "      <td>1199577600</td>\n",
              "      <td>LOACKER QUADRATINI VANILLA WAFERS</td>\n",
              "      <td>DELICIOUS WAFERS. I FIND THAT EUROPEAN WAFERS ...</td>\n",
              "    </tr>\n",
              "  </tbody>\n",
              "</table>\n",
              "</div>"
            ],
            "text/plain": [
              "       Id  ...                                               Text\n",
              "0   78445  ...  DELICIOUS WAFERS. I FIND THAT EUROPEAN WAFERS ...\n",
              "1  138317  ...  DELICIOUS WAFERS. I FIND THAT EUROPEAN WAFERS ...\n",
              "2  138277  ...  DELICIOUS WAFERS. I FIND THAT EUROPEAN WAFERS ...\n",
              "3   73791  ...  DELICIOUS WAFERS. I FIND THAT EUROPEAN WAFERS ...\n",
              "4  155049  ...  DELICIOUS WAFERS. I FIND THAT EUROPEAN WAFERS ...\n",
              "\n",
              "[5 rows x 10 columns]"
            ]
          },
          "metadata": {
            "tags": []
          },
          "execution_count": 14
        }
      ]
    },
    {
      "cell_type": "code",
      "metadata": {
        "id": "qYaHMbYJk8kl",
        "colab_type": "code",
        "colab": {}
      },
      "source": [
        "#Sorting data according to ProductId in ascending order\n",
        "sorted_data=filter_data.sort_values('ProductId', axis=0, ascending=True, inplace=False, kind='quicksort', na_position='last')"
      ],
      "execution_count": 0,
      "outputs": []
    },
    {
      "cell_type": "code",
      "metadata": {
        "id": "vVpQgUqalGYP",
        "colab_type": "code",
        "outputId": "e21c0a65-4a81-4635-b2ae-5377d5529567",
        "colab": {
          "base_uri": "https://localhost:8080/",
          "height": 34
        }
      },
      "source": [
        "#Deduplication of entries\n",
        "final=sorted_data.drop_duplicates(subset={\"UserId\",\"ProfileName\",\"Time\",\"Text\"}, keep='first', inplace=False)\n",
        "final.shape"
      ],
      "execution_count": 0,
      "outputs": [
        {
          "output_type": "execute_result",
          "data": {
            "text/plain": [
              "(87775, 10)"
            ]
          },
          "metadata": {
            "tags": []
          },
          "execution_count": 16
        }
      ]
    },
    {
      "cell_type": "code",
      "metadata": {
        "id": "8qwQbiqClJbG",
        "colab_type": "code",
        "outputId": "ab705041-5fa0-4e0f-b1c9-37cd9731badb",
        "colab": {
          "base_uri": "https://localhost:8080/",
          "height": 34
        }
      },
      "source": [
        "#Checking to see how much % of data still remains\n",
        "(final['Id'].size*1.0)/(filter_data['Id'].size*1.0)*100"
      ],
      "execution_count": 0,
      "outputs": [
        {
          "output_type": "execute_result",
          "data": {
            "text/plain": [
              "87.775"
            ]
          },
          "metadata": {
            "tags": []
          },
          "execution_count": 17
        }
      ]
    },
    {
      "cell_type": "code",
      "metadata": {
        "id": "oW1l0NhUlNKr",
        "colab_type": "code",
        "outputId": "32ac75d3-e7c1-45bb-a544-dee63d637c20",
        "colab": {
          "base_uri": "https://localhost:8080/",
          "height": 140
        }
      },
      "source": [
        "display= pd.read_sql_query(\"\"\"\n",
        "SELECT *\n",
        "FROM Reviews\n",
        "WHERE Score != 3 AND Id=44737 OR Id=64422\n",
        "ORDER BY ProductID\n",
        "\"\"\", conn)\n",
        "\n",
        "display.head()"
      ],
      "execution_count": 0,
      "outputs": [
        {
          "output_type": "execute_result",
          "data": {
            "text/html": [
              "<div>\n",
              "<style scoped>\n",
              "    .dataframe tbody tr th:only-of-type {\n",
              "        vertical-align: middle;\n",
              "    }\n",
              "\n",
              "    .dataframe tbody tr th {\n",
              "        vertical-align: top;\n",
              "    }\n",
              "\n",
              "    .dataframe thead th {\n",
              "        text-align: right;\n",
              "    }\n",
              "</style>\n",
              "<table border=\"1\" class=\"dataframe\">\n",
              "  <thead>\n",
              "    <tr style=\"text-align: right;\">\n",
              "      <th></th>\n",
              "      <th>Id</th>\n",
              "      <th>ProductId</th>\n",
              "      <th>UserId</th>\n",
              "      <th>ProfileName</th>\n",
              "      <th>HelpfulnessNumerator</th>\n",
              "      <th>HelpfulnessDenominator</th>\n",
              "      <th>Score</th>\n",
              "      <th>Time</th>\n",
              "      <th>Summary</th>\n",
              "      <th>Text</th>\n",
              "    </tr>\n",
              "  </thead>\n",
              "  <tbody>\n",
              "    <tr>\n",
              "      <th>0</th>\n",
              "      <td>64422</td>\n",
              "      <td>B000MIDROQ</td>\n",
              "      <td>A161DK06JJMCYF</td>\n",
              "      <td>J. E. Stephens \"Jeanne\"</td>\n",
              "      <td>3</td>\n",
              "      <td>1</td>\n",
              "      <td>5</td>\n",
              "      <td>1224892800</td>\n",
              "      <td>Bought This for My Son at College</td>\n",
              "      <td>My son loves spaghetti so I didn't hesitate or...</td>\n",
              "    </tr>\n",
              "    <tr>\n",
              "      <th>1</th>\n",
              "      <td>44737</td>\n",
              "      <td>B001EQ55RW</td>\n",
              "      <td>A2V0I904FH7ABY</td>\n",
              "      <td>Ram</td>\n",
              "      <td>3</td>\n",
              "      <td>2</td>\n",
              "      <td>4</td>\n",
              "      <td>1212883200</td>\n",
              "      <td>Pure cocoa taste with crunchy almonds inside</td>\n",
              "      <td>It was almost a 'love at first bite' - the per...</td>\n",
              "    </tr>\n",
              "  </tbody>\n",
              "</table>\n",
              "</div>"
            ],
            "text/plain": [
              "      Id  ...                                               Text\n",
              "0  64422  ...  My son loves spaghetti so I didn't hesitate or...\n",
              "1  44737  ...  It was almost a 'love at first bite' - the per...\n",
              "\n",
              "[2 rows x 10 columns]"
            ]
          },
          "metadata": {
            "tags": []
          },
          "execution_count": 18
        }
      ]
    },
    {
      "cell_type": "code",
      "metadata": {
        "id": "DoR-PIyylSbl",
        "colab_type": "code",
        "colab": {}
      },
      "source": [
        "final=final[final.HelpfulnessNumerator<=final.HelpfulnessDenominator]"
      ],
      "execution_count": 0,
      "outputs": []
    },
    {
      "cell_type": "code",
      "metadata": {
        "id": "zuxmK8mSlZDX",
        "colab_type": "code",
        "outputId": "98597d07-f163-4816-a78d-3bfde4e53fa4",
        "colab": {
          "base_uri": "https://localhost:8080/",
          "height": 84
        }
      },
      "source": [
        "#Before starting the next phase of preprocessing lets see the number of entries left\n",
        "print(final.shape)\n",
        "\n",
        "#How many positive and negative reviews are present in our dataset?\n",
        "final['Score'].value_counts()"
      ],
      "execution_count": 0,
      "outputs": [
        {
          "output_type": "stream",
          "text": [
            "(87773, 10)\n"
          ],
          "name": "stdout"
        },
        {
          "output_type": "execute_result",
          "data": {
            "text/plain": [
              "1    73592\n",
              "0    14181\n",
              "Name: Score, dtype: int64"
            ]
          },
          "metadata": {
            "tags": []
          },
          "execution_count": 20
        }
      ]
    },
    {
      "cell_type": "markdown",
      "metadata": {
        "id": "ppjnxlEjlhUi",
        "colab_type": "text"
      },
      "source": [
        "## [3] Preprocessing"
      ]
    },
    {
      "cell_type": "markdown",
      "metadata": {
        "id": "grip8Pw6ls-k",
        "colab_type": "text"
      },
      "source": [
        "### [3.1]. Preprocessing Review Text"
      ]
    },
    {
      "cell_type": "code",
      "metadata": {
        "id": "v_wyqayzlc6V",
        "colab_type": "code",
        "outputId": "0181d828-dc83-41b6-9ca2-fbc5f677011a",
        "colab": {
          "base_uri": "https://localhost:8080/",
          "height": 171
        }
      },
      "source": [
        "# printing some random reviews\n",
        "sent_0 = final['Text'].values[0]\n",
        "print(sent_0)\n",
        "print(\"=\"*50)\n",
        "\n",
        "sent_1000 = final['Text'].values[1000]\n",
        "print(sent_1000)\n",
        "print(\"=\"*50)\n",
        "\n",
        "sent_1500 = final['Text'].values[1500]\n",
        "print(sent_1500)\n",
        "print(\"=\"*50)\n",
        "\n",
        "sent_4900 = final['Text'].values[4900]\n",
        "print(sent_4900)\n",
        "print(\"=\"*50)"
      ],
      "execution_count": 0,
      "outputs": [
        {
          "output_type": "stream",
          "text": [
            "My dogs loves this chicken but its a product from China, so we wont be buying it anymore.  Its very hard to find any chicken products made in the USA but they are out there, but this one isnt.  Its too bad too because its a good product but I wont take any chances till they know what is going on with the china imports.\n",
            "==================================================\n",
            "The Candy Blocks were a nice visual for the Lego Birthday party but the candy has little taste to it.  Very little of the 2 lbs that I bought were eaten and I threw the rest away.  I would not buy the candy again.\n",
            "==================================================\n",
            "was way to hot for my blood, took a bite and did a jig  lol\n",
            "==================================================\n",
            "My dog LOVES these treats. They tend to have a very strong fish oil smell. So if you are afraid of the fishy smell, don't get it. But I think my dog likes it because of the smell. These treats are really small in size. They are great for training. You can give your dog several of these without worrying about him over eating. Amazon's price was much more reasonable than any other retailer. You can buy a 1 pound bag on Amazon for almost the same price as a 6 ounce bag at other retailers. It's definitely worth it to buy a big bag if your dog eats them a lot.\n",
            "==================================================\n"
          ],
          "name": "stdout"
        }
      ]
    },
    {
      "cell_type": "code",
      "metadata": {
        "id": "q83HmF88l3US",
        "colab_type": "code",
        "outputId": "7f8caf2c-5fd8-4d94-bd18-566238e25c22",
        "colab": {
          "base_uri": "https://localhost:8080/",
          "height": 54
        }
      },
      "source": [
        "# remove urls from text python: https://stackoverflow.com/a/40823105/4084039\n",
        "sent_0 = re.sub(r\"http\\S+\", \"\", sent_0)\n",
        "sent_1000 = re.sub(r\"http\\S+\", \"\", sent_1000)\n",
        "sent_150 = re.sub(r\"http\\S+\", \"\", sent_1500)\n",
        "sent_4900 = re.sub(r\"http\\S+\", \"\", sent_4900)\n",
        "\n",
        "print(sent_0)"
      ],
      "execution_count": 0,
      "outputs": [
        {
          "output_type": "stream",
          "text": [
            "My dogs loves this chicken but its a product from China, so we wont be buying it anymore.  Its very hard to find any chicken products made in the USA but they are out there, but this one isnt.  Its too bad too because its a good product but I wont take any chances till they know what is going on with the china imports.\n"
          ],
          "name": "stdout"
        }
      ]
    },
    {
      "cell_type": "code",
      "metadata": {
        "id": "RcAQ9p72l7Nm",
        "colab_type": "code",
        "outputId": "14b7d4cb-c952-4f48-cb9c-8d8c579b12b0",
        "colab": {
          "base_uri": "https://localhost:8080/",
          "height": 154
        }
      },
      "source": [
        "# https://stackoverflow.com/questions/16206380/python-beautifulsoup-how-to-remove-all-tags-from-an-element\n",
        "from bs4 import BeautifulSoup\n",
        "\n",
        "soup = BeautifulSoup(sent_0, 'lxml')\n",
        "text = soup.get_text()\n",
        "print(text)\n",
        "print(\"=\"*50)\n",
        "\n",
        "soup = BeautifulSoup(sent_1000, 'lxml')\n",
        "text = soup.get_text()\n",
        "print(text)\n",
        "print(\"=\"*50)\n",
        "\n",
        "soup = BeautifulSoup(sent_1500, 'lxml')\n",
        "text = soup.get_text()\n",
        "print(text)\n",
        "print(\"=\"*50)\n",
        "\n",
        "soup = BeautifulSoup(sent_4900, 'lxml')\n",
        "text = soup.get_text()\n",
        "print(text)"
      ],
      "execution_count": 0,
      "outputs": [
        {
          "output_type": "stream",
          "text": [
            "My dogs loves this chicken but its a product from China, so we wont be buying it anymore.  Its very hard to find any chicken products made in the USA but they are out there, but this one isnt.  Its too bad too because its a good product but I wont take any chances till they know what is going on with the china imports.\n",
            "==================================================\n",
            "The Candy Blocks were a nice visual for the Lego Birthday party but the candy has little taste to it.  Very little of the 2 lbs that I bought were eaten and I threw the rest away.  I would not buy the candy again.\n",
            "==================================================\n",
            "was way to hot for my blood, took a bite and did a jig  lol\n",
            "==================================================\n",
            "My dog LOVES these treats. They tend to have a very strong fish oil smell. So if you are afraid of the fishy smell, don't get it. But I think my dog likes it because of the smell. These treats are really small in size. They are great for training. You can give your dog several of these without worrying about him over eating. Amazon's price was much more reasonable than any other retailer. You can buy a 1 pound bag on Amazon for almost the same price as a 6 ounce bag at other retailers. It's definitely worth it to buy a big bag if your dog eats them a lot.\n"
          ],
          "name": "stdout"
        }
      ]
    },
    {
      "cell_type": "code",
      "metadata": {
        "id": "G28JcclVl-v7",
        "colab_type": "code",
        "colab": {}
      },
      "source": [
        "# https://stackoverflow.com/a/47091490/4084039\n",
        "import re\n",
        "\n",
        "def decontracted(phrase):\n",
        "    # specific\n",
        "    phrase = re.sub(r\"won't\", \"will not\", phrase)\n",
        "    phrase = re.sub(r\"can\\'t\", \"can not\", phrase)\n",
        "\n",
        "    # general\n",
        "    phrase = re.sub(r\"n\\'t\", \" not\", phrase)\n",
        "    phrase = re.sub(r\"\\'re\", \" are\", phrase)\n",
        "    phrase = re.sub(r\"\\'s\", \" is\", phrase)\n",
        "    phrase = re.sub(r\"\\'d\", \" would\", phrase)\n",
        "    phrase = re.sub(r\"\\'ll\", \" will\", phrase)\n",
        "    phrase = re.sub(r\"\\'t\", \" not\", phrase)\n",
        "    phrase = re.sub(r\"\\'ve\", \" have\", phrase)\n",
        "    phrase = re.sub(r\"\\'m\", \" am\", phrase)\n",
        "    return phrase"
      ],
      "execution_count": 0,
      "outputs": []
    },
    {
      "cell_type": "code",
      "metadata": {
        "id": "xXxNwoKgmCwn",
        "colab_type": "code",
        "outputId": "bc758e0c-02a9-470c-dba0-9601e29f844b",
        "colab": {
          "base_uri": "https://localhost:8080/",
          "height": 50
        }
      },
      "source": [
        "sent_1500 = decontracted(sent_1500)\n",
        "print(sent_1500)\n",
        "print(\"=\"*50)"
      ],
      "execution_count": 0,
      "outputs": [
        {
          "output_type": "stream",
          "text": [
            "was way to hot for my blood, took a bite and did a jig  lol\n",
            "==================================================\n"
          ],
          "name": "stdout"
        }
      ]
    },
    {
      "cell_type": "code",
      "metadata": {
        "id": "7AA6VmCbmF3T",
        "colab_type": "code",
        "outputId": "f9b5ae7f-ba6a-45b0-bf98-0592ccd45544",
        "colab": {
          "base_uri": "https://localhost:8080/",
          "height": 54
        }
      },
      "source": [
        "#remove words with numbers python: https://stackoverflow.com/a/18082370/4084039\n",
        "sent_0 = re.sub(\"\\S*\\d\\S*\", \"\", sent_0).strip()\n",
        "print(sent_0)"
      ],
      "execution_count": 0,
      "outputs": [
        {
          "output_type": "stream",
          "text": [
            "My dogs loves this chicken but its a product from China, so we wont be buying it anymore.  Its very hard to find any chicken products made in the USA but they are out there, but this one isnt.  Its too bad too because its a good product but I wont take any chances till they know what is going on with the china imports.\n"
          ],
          "name": "stdout"
        }
      ]
    },
    {
      "cell_type": "code",
      "metadata": {
        "id": "4G76SqPSmMD5",
        "colab_type": "code",
        "colab": {}
      },
      "source": [
        "# https://gist.github.com/sebleier/554280\n",
        "# we are removing the words from the stop words list: 'no', 'nor', 'not'\n",
        "# <br /><br /> ==> after the above steps, we are getting \"br br\"\n",
        "# we are including them into stop words list\n",
        "# instead of <br /> if we have <br/> these tags would have revmoved in the 1st step\n",
        "\n",
        "stopwords= set(['br', 'the', 'i', 'me', 'my', 'myself', 'we', 'our', 'ours', 'ourselves', 'you', \"you're\", \"you've\",\\\n",
        "            \"you'll\", \"you'd\", 'your', 'yours', 'yourself', 'yourselves', 'he', 'him', 'his', 'himself', \\\n",
        "            'she', \"she's\", 'her', 'hers', 'herself', 'it', \"it's\", 'its', 'itself', 'they', 'them', 'their',\\\n",
        "            'theirs', 'themselves', 'what', 'which', 'who', 'whom', 'this', 'that', \"that'll\", 'these', 'those', \\\n",
        "            'am', 'is', 'are', 'was', 'were', 'be', 'been', 'being', 'have', 'has', 'had', 'having', 'do', 'does', \\\n",
        "            'did', 'doing', 'a', 'an', 'the', 'and', 'but', 'if', 'or', 'because', 'as', 'until', 'while', 'of', \\\n",
        "            'at', 'by', 'for', 'with', 'about', 'against', 'between', 'into', 'through', 'during', 'before', 'after',\\\n",
        "            'above', 'below', 'to', 'from', 'up', 'down', 'in', 'out', 'on', 'off', 'over', 'under', 'again', 'further',\\\n",
        "            'then', 'once', 'here', 'there', 'when', 'where', 'why', 'how', 'all', 'any', 'both', 'each', 'few', 'more',\\\n",
        "            'most', 'other', 'some', 'such', 'only', 'own', 'same', 'so', 'than', 'too', 'very', \\\n",
        "            's', 't', 'can', 'will', 'just', 'don', \"don't\", 'should', \"should've\", 'now', 'd', 'll', 'm', 'o', 're', \\\n",
        "            've', 'y', 'ain', 'aren', \"aren't\", 'couldn', \"couldn't\", 'didn', \"didn't\", 'doesn', \"doesn't\", 'hadn',\\\n",
        "            \"hadn't\", 'hasn', \"hasn't\", 'haven', \"haven't\", 'isn', \"isn't\", 'ma', 'mightn', \"mightn't\", 'mustn',\\\n",
        "            \"mustn't\", 'needn', \"needn't\", 'shan', \"shan't\", 'shouldn', \"shouldn't\", 'wasn', \"wasn't\", 'weren', \"weren't\", \\\n",
        "            'won', \"won't\", 'wouldn', \"wouldn't\"])"
      ],
      "execution_count": 0,
      "outputs": []
    },
    {
      "cell_type": "code",
      "metadata": {
        "id": "s4rcIClxmRlx",
        "colab_type": "code",
        "outputId": "337c4cae-8383-44c0-977e-614db008c60c",
        "colab": {
          "base_uri": "https://localhost:8080/",
          "height": 34
        }
      },
      "source": [
        "# Combining all the above stundents \n",
        "from tqdm import tqdm\n",
        "preprocessed_reviews = []\n",
        "# tqdm is for printing the status bar\n",
        "for sentance in tqdm(final['Text'].values):\n",
        "    sentance = re.sub(r\"http\\S+\", \"\", sentance)\n",
        "    sentance = BeautifulSoup(sentance, 'lxml').get_text()\n",
        "    sentance = decontracted(sentance)\n",
        "    sentance = re.sub(\"\\S*\\d\\S*\", \"\", sentance).strip()\n",
        "    sentance = re.sub('[^A-Za-z]+', ' ', sentance)\n",
        "    # https://gist.github.com/sebleier/554280\n",
        "    sentance = ' '.join(e.lower() for e in sentance.split() if e.lower() not in stopwords)\n",
        "    preprocessed_reviews.append(sentance.strip())"
      ],
      "execution_count": 0,
      "outputs": [
        {
          "output_type": "stream",
          "text": [
            "100%|██████████| 87773/87773 [00:33<00:00, 2587.48it/s]\n"
          ],
          "name": "stderr"
        }
      ]
    },
    {
      "cell_type": "code",
      "metadata": {
        "id": "2J6blelkmfRi",
        "colab_type": "code",
        "outputId": "3601ffa0-913a-4048-f25e-bfa7446a56ab",
        "colab": {
          "base_uri": "https://localhost:8080/",
          "height": 34
        }
      },
      "source": [
        "preprocessed_reviews[1500]"
      ],
      "execution_count": 0,
      "outputs": [
        {
          "output_type": "execute_result",
          "data": {
            "text/plain": [
              "'way hot blood took bite jig lol'"
            ]
          },
          "metadata": {
            "tags": []
          },
          "execution_count": 29
        }
      ]
    },
    {
      "cell_type": "markdown",
      "metadata": {
        "id": "Kxx72u1hLPo1",
        "colab_type": "text"
      },
      "source": [
        "# [5] Assignment 5: Apply Logistic Regression"
      ]
    },
    {
      "cell_type": "markdown",
      "metadata": {
        "id": "jiYocvSHLPo4",
        "colab_type": "text"
      },
      "source": [
        "# Applying Logistic Regression"
      ]
    },
    {
      "cell_type": "markdown",
      "metadata": {
        "id": "LE_XPVZJLPo4",
        "colab_type": "text"
      },
      "source": [
        "## [5.1] Logistic Regression on BOW"
      ]
    },
    {
      "cell_type": "markdown",
      "metadata": {
        "id": "_iciJvj2LPo4",
        "colab_type": "text"
      },
      "source": [
        "### [5.1.1] Applying Logistic Regression with L1 regularization on BOW"
      ]
    },
    {
      "cell_type": "code",
      "metadata": {
        "id": "MyOVi-xYLPo5",
        "colab_type": "code",
        "colab": {}
      },
      "source": [
        "X=preprocessed_reviews\n",
        "y=np.array(final['Score'])"
      ],
      "execution_count": 0,
      "outputs": []
    },
    {
      "cell_type": "code",
      "metadata": {
        "id": "bT81OdJe6I3S",
        "colab_type": "code",
        "outputId": "35151a08-8638-48ea-c06a-ab5092acc02f",
        "colab": {
          "base_uri": "https://localhost:8080/",
          "height": 67
        }
      },
      "source": [
        "from sklearn.model_selection import train_test_split\n",
        "from sklearn import preprocessing\n",
        "\n",
        "#Breaking into Train and test\n",
        "X_train, X_test, y_train, y_test = train_test_split(X, y, test_size=0.2, random_state=0)\n",
        "X_train, X_cv, y_train, y_cv = train_test_split(X_train, y_train, test_size=0.2)\n",
        "\n",
        "count_vect = CountVectorizer()\n",
        "count_vect.fit(X_train) # fit has to happen only on train data\n",
        "\n",
        "# we use the fitted CountVectorizer to convert the text to vector\n",
        "X_train =count_vect.transform(X_train)\n",
        "X_cv = count_vect.transform(X_cv)\n",
        "X_test = count_vect.transform(X_test)\n",
        "\n",
        "#Normalize Data\n",
        "X_train = preprocessing.normalize(X_train)\n",
        "print(\"Train Data Size: \",X_train.shape)\n",
        "\n",
        "#Normalize Data\n",
        "X_test = preprocessing.normalize(X_test)\n",
        "print(\"Test Data Size: \",X_test.shape)\n",
        "\n",
        "X_cv = preprocessing.normalize(X_cv)\n",
        "print(\"CV Data Size :\", X_cv.shape)"
      ],
      "execution_count": 0,
      "outputs": [
        {
          "output_type": "stream",
          "text": [
            "Train Data Size:  (56174, 44456)\n",
            "Test Data Size:  (17555, 44456)\n",
            "CV Data Size : (14044, 44456)\n"
          ],
          "name": "stdout"
        }
      ]
    },
    {
      "cell_type": "code",
      "metadata": {
        "id": "K8S_SYtJ7DWs",
        "colab_type": "code",
        "outputId": "a88f3de7-f7ca-45bf-cf76-3a27d8688950",
        "colab": {
          "base_uri": "https://localhost:8080/",
          "height": 312
        }
      },
      "source": [
        "from sklearn.linear_model import LogisticRegression\n",
        "from sklearn.metrics import roc_auc_score\n",
        "import math\n",
        "\n",
        "c = [10000,1000,100,10,1,0.1,0.01,0.001,0.0001,0.00001]\n",
        "\n",
        "train_auc = []\n",
        "cv_auc = []\n",
        "\n",
        "for i in c:\n",
        "    clf = LogisticRegression(penalty='l1',C=i)\n",
        "    clf.fit(X_train,y_train)\n",
        "    prob_cv = clf.predict_proba(X_cv)[:,1]\n",
        "    cv_auc.append(roc_auc_score(y_cv,prob_cv))\n",
        "    prob_train = clf.predict_proba(X_train)[:,1]\n",
        "    train_auc.append(roc_auc_score(y_train,prob_train))\n",
        "optimal_c= c[cv_auc.index(max(cv_auc))]\n",
        "c = [math.log(x) for x in c]\n",
        "\n",
        "#plot auc vs alpha\n",
        "x = plt.subplot( )\n",
        "x.plot(c, train_auc, label='AUC train')\n",
        "x.plot(c, cv_auc, label='AUC CV')\n",
        "plt.title('AUC vs hyperparameter')\n",
        "plt.xlabel('c')\n",
        "plt.ylabel('AUC')\n",
        "x.legend()\n",
        "plt.show()\n",
        "\n",
        "print('optimal c for which auc is maximum : ',optimal_c)"
      ],
      "execution_count": 0,
      "outputs": [
        {
          "output_type": "display_data",
          "data": {
            "image/png": "[encoded data removed]",
            "text/plain": [
              "<Figure size 432x288 with 1 Axes>"
            ]
          },
          "metadata": {
            "tags": []
          }
        },
        {
          "output_type": "stream",
          "text": [
            "optimal c for which auc is maximum :  1\n"
          ],
          "name": "stdout"
        }
      ]
    },
    {
      "cell_type": "code",
      "metadata": {
        "id": "wDD0rMqRTy4N",
        "colab_type": "code",
        "outputId": "406b9872-80e2-45a9-d705-6aa4d7bd3a7a",
        "colab": {
          "base_uri": "https://localhost:8080/",
          "height": 598
        }
      },
      "source": [
        "#Testing AUC on Test data\n",
        "clf = LogisticRegression(penalty='l1',C=optimal_c)\n",
        "clf.fit(X_train,y_train)\n",
        "pred_test = clf.predict_proba(X_test)[:,1]\n",
        "fpr1, tpr1, thresholds1 = metrics.roc_curve(y_test, pred_test)\n",
        "pred_train = clf.predict_proba(X_train)[:,1]\n",
        "fpr2,tpr2,thresholds2 = metrics.roc_curve(y_train,pred_train) \n",
        "\n",
        "\n",
        "#plot ROC curve\n",
        "x = plt.subplot( )\n",
        "x.plot(fpr1, tpr1, label ='Test ROC ,auc='+str(roc_auc_score(y_test,pred_test)))\n",
        "x.plot(fpr2, tpr2, label='Train ROC ,auc='+str(roc_auc_score(y_train,pred_train)))\n",
        "plt.title('ROC curve')\n",
        "plt.xlabel('FPR')\n",
        "plt.ylabel('TPR')\n",
        "x.legend()\n",
        "plt.show()\n",
        "\n",
        "print(\"AUC on Test data is \" +str(roc_auc_score(y_test,pred_test)))\n",
        "print(\"AUC on Train data is \" +str(roc_auc_score(y_train,pred_train)))\n",
        "\n",
        "print(\"---------------------------\")\n",
        "\n",
        "# Code for drawing seaborn heatmaps\n",
        "class_names = ['negative','positive']\n",
        "df_heatmap = pd.DataFrame(confusion_matrix(y_test, pred_test.round()), index=class_names, columns=class_names )\n",
        "fig = plt.figure( )\n",
        "heatmap = sns.heatmap(df_heatmap, annot=True, fmt=\"d\")\n",
        "\n"
      ],
      "execution_count": 0,
      "outputs": [
        {
          "output_type": "display_data",
          "data": {
            "image/png": "[encoded data removed]",
            "text/plain": [
              "<Figure size 432x288 with 1 Axes>"
            ]
          },
          "metadata": {
            "tags": []
          }
        },
        {
          "output_type": "stream",
          "text": [
            "AUC on Test data is 0.9466915145613353\n",
            "AUC on Train data is 0.9570894681027227\n",
            "---------------------------\n"
          ],
          "name": "stdout"
        },
        {
          "output_type": "display_data",
          "data": {
            "image/png": "[encoded data removed]",
            "text/plain": [
              "<Figure size 432x288 with 2 Axes>"
            ]
          },
          "metadata": {
            "tags": []
          }
        }
      ]
    },
    {
      "cell_type": "code",
      "metadata": {
        "id": "lf8uFLqurWSI",
        "colab_type": "code",
        "colab": {}
      },
      "source": [
        "results=pd.DataFrame(columns=['Featuraization', 'Classifier' ,'penalty','C', 'Train-AUC', 'Test-AUC' ])\n",
        "new = ['BOW','LogisticRegression','l1',1,0.9570,0.9466]\n",
        "results.loc[0] = new"
      ],
      "execution_count": 0,
      "outputs": []
    },
    {
      "cell_type": "markdown",
      "metadata": {
        "id": "5h4NhywcLPo7",
        "colab_type": "text"
      },
      "source": [
        "#### [5.1.1.1] Calculating sparsity on weight vector obtained using L1 regularization on BOW "
      ]
    },
    {
      "cell_type": "code",
      "metadata": {
        "id": "-mmdLzUALPo-",
        "colab_type": "code",
        "outputId": "447acc79-f873-4d02-eeca-9beef4700af7",
        "colab": {
          "base_uri": "https://localhost:8080/",
          "height": 34
        }
      },
      "source": [
        "clf = LogisticRegression(penalty='l1',C=optimal_c)\n",
        "clf.fit(X_train,y_train)\n",
        "weight = clf.coef_\n",
        "#Sparsity of vector weight=no of zero in weight vector\n",
        "print('No of non zero element in weight vector ',np.count_nonzero(weight))"
      ],
      "execution_count": 0,
      "outputs": [
        {
          "output_type": "stream",
          "text": [
            "No of non zero element in weight vector  1091\n"
          ],
          "name": "stdout"
        }
      ]
    },
    {
      "cell_type": "markdown",
      "metadata": {
        "id": "aRHMa52qLPpA",
        "colab_type": "text"
      },
      "source": [
        "### [5.1.2] Applying Logistic Regression with L2 regularization on BOW"
      ]
    },
    {
      "cell_type": "code",
      "metadata": {
        "id": "GBbb9lxlLPpB",
        "colab_type": "code",
        "outputId": "03922a0c-fdc9-4231-b9fe-87468d894235",
        "colab": {
          "base_uri": "https://localhost:8080/",
          "height": 312
        }
      },
      "source": [
        "c = [10000,1000,100,10,1,0.1,0.01,0.001,0.0001,0.00001]\n",
        "\n",
        "train_auc = []\n",
        "cv_auc = []\n",
        "\n",
        "for i in c:\n",
        "    clf = LogisticRegression(penalty='l2',C=i)\n",
        "    clf.fit(X_train,y_train)\n",
        "    prob_cv = clf.predict_proba(X_cv)[:,1]\n",
        "    cv_auc.append(roc_auc_score(y_cv,prob_cv))\n",
        "    prob_train = clf.predict_proba(X_train)[:,1]\n",
        "    train_auc.append(roc_auc_score(y_train,prob_train))\n",
        "optimal_c= c[cv_auc.index(max(cv_auc))]\n",
        "c = [math.log(x) for x in c]\n",
        "\n",
        "#plot auc vs alpha\n",
        "x = plt.subplot( )\n",
        "x.plot(c, train_auc, label='AUC train')\n",
        "x.plot(c, cv_auc, label='AUC CV')\n",
        "plt.title('AUC vs hyperparameter')\n",
        "plt.xlabel('c')\n",
        "plt.ylabel('AUC')\n",
        "x.legend()\n",
        "plt.show()\n",
        "\n",
        "print('optimal c for which auc is maximum : ',optimal_c)"
      ],
      "execution_count": 0,
      "outputs": [
        {
          "output_type": "display_data",
          "data": {
            "image/png": "[encoded data removed]",
            "text/plain": [
              "<Figure size 432x288 with 1 Axes>"
            ]
          },
          "metadata": {
            "tags": []
          }
        },
        {
          "output_type": "stream",
          "text": [
            "optimal c for which auc is maximum :  10\n"
          ],
          "name": "stdout"
        }
      ]
    },
    {
      "cell_type": "code",
      "metadata": {
        "id": "OcyVUIpXVMoF",
        "colab_type": "code",
        "outputId": "c91479a9-0243-4df7-8197-08bf61369322",
        "colab": {
          "base_uri": "https://localhost:8080/",
          "height": 598
        }
      },
      "source": [
        "#Testing AUC on Test data\n",
        "clf = LogisticRegression(penalty='l2',C=optimal_c)\n",
        "clf.fit(X_train,y_train)\n",
        "pred_test = clf.predict_proba(X_test)[:,1]\n",
        "fpr1, tpr1, thresholds1 = metrics.roc_curve(y_test, pred_test)\n",
        "pred_train = clf.predict_proba(X_train)[:,1]\n",
        "fpr2,tpr2,thresholds2 = metrics.roc_curve(y_train,pred_train) \n",
        "\n",
        "\n",
        "#plot ROC curve\n",
        "x = plt.subplot( )\n",
        "x.plot(fpr1, tpr1, label ='Test ROC ,auc='+str(roc_auc_score(y_test,pred_test)))\n",
        "x.plot(fpr2, tpr2, label='Train ROC ,auc='+str(roc_auc_score(y_train,pred_train)))\n",
        "plt.title('ROC curve')\n",
        "plt.xlabel('FPR')\n",
        "plt.ylabel('TPR')\n",
        "x.legend()\n",
        "plt.show()\n",
        "\n",
        "print(\"AUC on Test data is \" +str(roc_auc_score(y_test,pred_test)))\n",
        "print(\"AUC on Train data is \" +str(roc_auc_score(y_train,pred_train)))\n",
        "\n",
        "print(\"---------------------------\")\n",
        "\n",
        "# Code for drawing seaborn heatmaps\n",
        "class_names = ['negative','positive']\n",
        "df_heatmap = pd.DataFrame(confusion_matrix(y_test, pred_test.round()), index=class_names, columns=class_names )\n",
        "fig = plt.figure( )\n",
        "heatmap = sns.heatmap(df_heatmap, annot=True, fmt=\"d\")\n"
      ],
      "execution_count": 0,
      "outputs": [
        {
          "output_type": "display_data",
          "data": {
            "image/png": "[encoded data removed]",
            "text/plain": [
              "<Figure size 432x288 with 1 Axes>"
            ]
          },
          "metadata": {
            "tags": []
          }
        },
        {
          "output_type": "stream",
          "text": [
            "AUC on Test data is 0.9518276455738571\n",
            "AUC on Train data is 0.982659880470687\n",
            "---------------------------\n"
          ],
          "name": "stdout"
        },
        {
          "output_type": "display_data",
          "data": {
            "image/png": "[encoded data removed]",
            "text/plain": [
              "<Figure size 432x288 with 2 Axes>"
            ]
          },
          "metadata": {
            "tags": []
          }
        }
      ]
    },
    {
      "cell_type": "code",
      "metadata": {
        "id": "dgBNDpERr6o-",
        "colab_type": "code",
        "colab": {}
      },
      "source": [
        "new = ['BOW','LogisticRegression','l2',10,0.9826,0.9518]\n",
        "results.loc[1] = new"
      ],
      "execution_count": 0,
      "outputs": []
    },
    {
      "cell_type": "markdown",
      "metadata": {
        "id": "UaJkugTKLPpE",
        "colab_type": "text"
      },
      "source": [
        "#### [5.1.2.1] Performing pertubation test (multicollinearity check) on BOW"
      ]
    },
    {
      "cell_type": "code",
      "metadata": {
        "id": "E1c5B1nELPpF",
        "colab_type": "code",
        "outputId": "1a95a81b-8a35-4ef5-cae6-fbcd7f37629d",
        "colab": {
          "base_uri": "https://localhost:8080/",
          "height": 34
        }
      },
      "source": [
        "#for checking multicollinearity we add e(small value) to train vector\n",
        "W_before = clf.coef_\n",
        "X_e = X_train\n",
        "X_e.data = X_e.data+np.random.normal(loc=0,scale=0.0001,size=X_e.data.shape)\n",
        "X_e.shape"
      ],
      "execution_count": 0,
      "outputs": [
        {
          "output_type": "execute_result",
          "data": {
            "text/plain": [
              "(56174, 44456)"
            ]
          },
          "metadata": {
            "tags": []
          },
          "execution_count": 46
        }
      ]
    },
    {
      "cell_type": "code",
      "metadata": {
        "id": "rxE7r-dEWPGy",
        "colab_type": "code",
        "outputId": "03db388c-be2c-408e-c5ae-d65b4c8842f0",
        "colab": {
          "base_uri": "https://localhost:8080/",
          "height": 185
        }
      },
      "source": [
        "#Training Logistic regression with X_e\n",
        "\n",
        "clf_e = LogisticRegression(penalty='l2',C=optimal_c,)\n",
        "clf_e.fit(X_e,y_train)\n",
        "W_after = clf_e.coef_\n",
        "\n",
        "#to eliminate divisible by zero error we will add 10^-6 to W_before and W_after\n",
        "W_before+=10**-6\n",
        "W_after+=10**-6\n",
        "\n",
        "per_vector=[]\n",
        "\n",
        "for i in range(len(W_before[0])):\n",
        "    val = W_after[0][i]-W_before[0][i]\n",
        "    val/=W_before[0][i]\n",
        "    per_vector.append(val)\n",
        "    \n",
        "original_per_vect=np.absolute(per_vector)    \n",
        "per_vector=sorted(np.absolute(per_vector))[::-1]\n",
        "\n",
        "#percentage change in vectors\n",
        "\n",
        "per_vector[:10]"
      ],
      "execution_count": 0,
      "outputs": [
        {
          "output_type": "execute_result",
          "data": {
            "text/plain": [
              "[14.80857510131174,\n",
              " 6.6254089326605685,\n",
              " 4.039013940139834,\n",
              " 3.9324261182040177,\n",
              " 2.1529892119272054,\n",
              " 1.9361352311080053,\n",
              " 1.7068771216757437,\n",
              " 1.3879749537211359,\n",
              " 1.118580374901707,\n",
              " 0.8092491650052873]"
            ]
          },
          "metadata": {
            "tags": []
          },
          "execution_count": 47
        }
      ]
    },
    {
      "cell_type": "code",
      "metadata": {
        "id": "F7GsC2DvWm8L",
        "colab_type": "code",
        "outputId": "abbb4a7c-8faa-4f74-f96b-bcb157e4d1ff",
        "colab": {
          "base_uri": "https://localhost:8080/",
          "height": 202
        }
      },
      "source": [
        "#calculating percentiles from 0 to 100\n",
        "for i in range(11):\n",
        "    print(str(i*10)+'th percentile = '+str(np.percentile(per_vector,i*10)))"
      ],
      "execution_count": 0,
      "outputs": [
        {
          "output_type": "stream",
          "text": [
            "0th percentile = 5.2619260057978866e-09\n",
            "10th percentile = 0.00014675450634988148\n",
            "20th percentile = 0.00031089452303914263\n",
            "30th percentile = 0.00048679710979011956\n",
            "40th percentile = 0.0006939040580330754\n",
            "50th percentile = 0.0009473257919403952\n",
            "60th percentile = 0.0012485310096128726\n",
            "70th percentile = 0.00165108613351234\n",
            "80th percentile = 0.0022697121805277188\n",
            "90th percentile = 0.0034649799671194366\n",
            "100th percentile = 14.80857510131174\n"
          ],
          "name": "stdout"
        }
      ]
    },
    {
      "cell_type": "code",
      "metadata": {
        "id": "CnHm3jkLW2k9",
        "colab_type": "code",
        "outputId": "d4e5ec39-4bbe-481d-ec3f-260b6a3dd0cd",
        "colab": {
          "base_uri": "https://localhost:8080/",
          "height": 202
        }
      },
      "source": [
        "#there is sudden rise in percentile from 90 to 100\n",
        "#calculating percentile from 90 to 100\n",
        "for i in range(90,101):\n",
        "    print(str(i)+'th percentile ='+str(np.percentile(per_vector,i)))"
      ],
      "execution_count": 0,
      "outputs": [
        {
          "output_type": "stream",
          "text": [
            "90th percentile =0.0034649799671194366\n",
            "91th percentile =0.003674724913295412\n",
            "92th percentile =0.003918123848788227\n",
            "93th percentile =0.004220783497203643\n",
            "94th percentile =0.00458200991714935\n",
            "95th percentile =0.005101224470454821\n",
            "96th percentile =0.0058410945621891214\n",
            "97th percentile =0.007066721610503791\n",
            "98th percentile =0.009630575638687765\n",
            "99th percentile =0.018018126061825818\n",
            "100th percentile =14.80857510131174\n"
          ],
          "name": "stdout"
        }
      ]
    },
    {
      "cell_type": "code",
      "metadata": {
        "id": "ISpDRFDeW-Dt",
        "colab_type": "code",
        "outputId": "8c2492a0-64f1-4ab3-9528-d1756afcda7d",
        "colab": {
          "base_uri": "https://localhost:8080/",
          "height": 185
        }
      },
      "source": [
        "#from 99th percentile to 100 percentile sudden rise in the values from 0.01 to 14.80\n",
        "#calculating percentile from 99.1 to 100\n",
        "for i in range(1,11):\n",
        "    print(str(99+(10**-1)*i)+'th percentile ='+str(np.percentile(per_vector,99+(10**-1)*i)))"
      ],
      "execution_count": 0,
      "outputs": [
        {
          "output_type": "stream",
          "text": [
            "99.1th percentile =0.020117384507674467\n",
            "99.2th percentile =0.02249790245124466\n",
            "99.3th percentile =0.025447564051417425\n",
            "99.4th percentile =0.028630339963991162\n",
            "99.5th percentile =0.035192954198076165\n",
            "99.6th percentile =0.04577707798515614\n",
            "99.7th percentile =0.06366603239170668\n",
            "99.8th percentile =0.0957254273892008\n",
            "99.9th percentile =0.19551911944602463\n",
            "100.0th percentile =14.80857510131174\n"
          ],
          "name": "stdout"
        }
      ]
    },
    {
      "cell_type": "code",
      "metadata": {
        "id": "qhNUnJuRnbgv",
        "colab_type": "code",
        "outputId": "6bd55ebe-311c-4280-aa2b-3c66f1549b54",
        "colab": {
          "base_uri": "https://localhost:8080/",
          "height": 218
        }
      },
      "source": [
        "#finding features from 99.9th percentile to 100th percentile\n",
        "print('Features from 99.9th percentile to 100th percentile')\n",
        "for i in range(1,11):\n",
        "    print(str(99.9+(10**-2)*i)+'th percentile ='+str(np.percentile(per_vector,99.9+(10**-2)*i)))\n",
        "   \n",
        "  \n",
        "original_per_vect = original_per_vect\n",
        "all_features = count_vect.get_feature_names()\n",
        "indx=original_per_vect.index(14.80857510131174)\n",
        "print(all_features[indx])\n"
      ],
      "execution_count": 0,
      "outputs": [
        {
          "output_type": "stream",
          "text": [
            "Features from 99.9th percentile to 100th percentile\n",
            "99.91000000000001th percentile =0.21376381538485728\n",
            "99.92th percentile =0.23091936186697343\n",
            "99.93th percentile =0.2798644099732516\n",
            "99.94000000000001th percentile =0.33692339771401403\n",
            "99.95th percentile =0.3704759714127028\n",
            "99.96000000000001th percentile =0.48563355295442845\n",
            "99.97th percentile =0.6370194605652426\n",
            "99.98th percentile =0.8429662668852395\n",
            "99.99000000000001th percentile =2.0563807634734763\n",
            "100.0th percentile =14.80857510131174\n",
            "luckily\n"
          ],
          "name": "stdout"
        }
      ]
    },
    {
      "cell_type": "markdown",
      "metadata": {
        "id": "eB1rF0BQLPpG",
        "colab_type": "text"
      },
      "source": [
        "### [5.1.3] Feature Importance on BOW"
      ]
    },
    {
      "cell_type": "markdown",
      "metadata": {
        "id": "JZTP19dqLPpI",
        "colab_type": "text"
      },
      "source": [
        "#### [5.1.3.1] Top 10 important features of positive class"
      ]
    },
    {
      "cell_type": "code",
      "metadata": {
        "id": "oGRpCVJgLPpI",
        "colab_type": "code",
        "outputId": "b8d9da67-3734-49af-a570-4490afc62ce2",
        "colab": {
          "base_uri": "https://localhost:8080/",
          "height": 202
        }
      },
      "source": [
        "weight = clf.coef_\n",
        "pos_indx = np.argsort(weight)[:,::-1]\n",
        "\n",
        "neg_indx = np.argsort(weight)\n",
        "\n",
        "print('Top 10 positive features :')\n",
        "for i in list(pos_indx[0][0:10]):\n",
        "    print(all_features[i])\n",
        "    "
      ],
      "execution_count": 0,
      "outputs": [
        {
          "output_type": "stream",
          "text": [
            "Top 10 positive features :\n",
            "amazing\n",
            "perfect\n",
            "hooked\n",
            "delicious\n",
            "awesome\n",
            "yummy\n",
            "excellent\n",
            "wonderful\n",
            "complaint\n",
            "pleasantly\n"
          ],
          "name": "stdout"
        }
      ]
    },
    {
      "cell_type": "markdown",
      "metadata": {
        "id": "UJLYBE1gLPpJ",
        "colab_type": "text"
      },
      "source": [
        "#### [5.1.3.2] Top 10 important features of negative class from<font color='red'> SET 1</font>"
      ]
    },
    {
      "cell_type": "code",
      "metadata": {
        "id": "c9r7Zjx1LPpK",
        "colab_type": "code",
        "outputId": "15d1bba9-9d3a-412d-d204-191dc58832b4",
        "colab": {
          "base_uri": "https://localhost:8080/",
          "height": 202
        }
      },
      "source": [
        "print('Top 10 negative features :')\n",
        "for i in list(neg_indx[0][:10]):\n",
        "    print(all_features[i])"
      ],
      "execution_count": 0,
      "outputs": [
        {
          "output_type": "stream",
          "text": [
            "Top 10 negative features :\n",
            "worst\n",
            "terrible\n",
            "awful\n",
            "disappointing\n",
            "disappointment\n",
            "rip\n",
            "tasteless\n",
            "threw\n",
            "died\n",
            "horrible\n"
          ],
          "name": "stdout"
        }
      ]
    },
    {
      "cell_type": "markdown",
      "metadata": {
        "id": "nKn3VXcZLPpN",
        "colab_type": "text"
      },
      "source": [
        "## [5.2] Logistic Regression on TFIDF"
      ]
    },
    {
      "cell_type": "markdown",
      "metadata": {
        "id": "naTBSzm6LPpN",
        "colab_type": "text"
      },
      "source": [
        "### [5.2.1] Applying Logistic Regression with L1 regularization on TFIDF"
      ]
    },
    {
      "cell_type": "code",
      "metadata": {
        "id": "PEhaagXXLPpS",
        "colab_type": "code",
        "outputId": "6e8307d2-64c0-4d38-f4ce-6adf075e1f40",
        "colab": {
          "base_uri": "https://localhost:8080/",
          "height": 67
        }
      },
      "source": [
        "#Breaking into Train and test\n",
        "X_train, X_test, y_train, y_test = train_test_split(X, y, test_size=0.2, random_state=0)\n",
        "X_train, X_cv, y_train, y_cv = train_test_split(X_train, y_train, test_size=0.2)\n",
        "\n",
        "tf_idf_vect = TfidfVectorizer(ngram_range=(1,2), min_df=10)\n",
        "tf_idf_vect.fit(X_train) # fit has to happen only on train data\n",
        "\n",
        "# we use the fitted CountVectorizer to convert the text to vector\n",
        "X_train = tf_idf_vect.transform(X_train)\n",
        "X_cv = tf_idf_vect.transform(X_cv)\n",
        "X_test = tf_idf_vect.transform(X_test)\n",
        "\n",
        "#Normalize Data\n",
        "X_train = preprocessing.normalize(X_train)\n",
        "print(\"Train Data Size: \",X_train.shape)\n",
        "\n",
        "#Normalize Data\n",
        "X_test = preprocessing.normalize(X_test)\n",
        "print(\"Test Data Size: \",X_test.shape)\n",
        "\n",
        "X_cv = preprocessing.normalize(X_cv)\n",
        "print(\"CV Data Size :\", X_cv.shape)"
      ],
      "execution_count": 0,
      "outputs": [
        {
          "output_type": "stream",
          "text": [
            "Train Data Size:  (56174, 33360)\n",
            "Test Data Size:  (17555, 33360)\n",
            "CV Data Size : (14044, 33360)\n"
          ],
          "name": "stdout"
        }
      ]
    },
    {
      "cell_type": "code",
      "metadata": {
        "id": "RPu8hWP5Za-C",
        "colab_type": "code",
        "outputId": "7bf3295f-fed7-47ef-a648-0ca322470932",
        "colab": {
          "base_uri": "https://localhost:8080/",
          "height": 312
        }
      },
      "source": [
        "c = [10000,1000,100,10,1,0.1,0.01,0.001,0.0001,0.00001]\n",
        "\n",
        "train_auc = []\n",
        "cv_auc = []\n",
        "\n",
        "for i in c:\n",
        "    clf = LogisticRegression(penalty='l1',C=i)\n",
        "    clf.fit(X_train,y_train)\n",
        "    prob_cv = clf.predict_proba(X_cv)[:,1]\n",
        "    cv_auc.append(roc_auc_score(y_cv,prob_cv))\n",
        "    prob_train = clf.predict_proba(X_train)[:,1]\n",
        "    train_auc.append(roc_auc_score(y_train,prob_train))\n",
        "optimal_c= c[cv_auc.index(max(cv_auc))]\n",
        "c = [math.log(x) for x in c]\n",
        "\n",
        "#plot auc vs alpha\n",
        "x = plt.subplot( )\n",
        "x.plot(c, train_auc, label='AUC train')\n",
        "x.plot(c, cv_auc, label='AUC CV')\n",
        "plt.title('AUC vs hyperparameter')\n",
        "plt.xlabel('c')\n",
        "plt.ylabel('AUC')\n",
        "x.legend()\n",
        "plt.show()\n",
        "\n",
        "print('optimal c for which auc is maximum : ',optimal_c)"
      ],
      "execution_count": 0,
      "outputs": [
        {
          "output_type": "display_data",
          "data": {
            "image/png": "[encoded data removed]",
            "text/plain": [
              "<Figure size 432x288 with 1 Axes>"
            ]
          },
          "metadata": {
            "tags": []
          }
        },
        {
          "output_type": "stream",
          "text": [
            "optimal c for which auc is maximum :  1\n"
          ],
          "name": "stdout"
        }
      ]
    },
    {
      "cell_type": "code",
      "metadata": {
        "id": "NiULNI00Zs-x",
        "colab_type": "code",
        "outputId": "12fd7983-5f25-4661-9783-92623ffa144d",
        "colab": {
          "base_uri": "https://localhost:8080/",
          "height": 598
        }
      },
      "source": [
        "#Testing AUC on Test data\n",
        "clf = LogisticRegression(penalty='l1',C=optimal_c)\n",
        "clf.fit(X_train,y_train)\n",
        "pred_test = clf.predict_proba(X_test)[:,1]\n",
        "fpr1, tpr1, thresholds1 = metrics.roc_curve(y_test, pred_test)\n",
        "pred_train = clf.predict_proba(X_train)[:,1]\n",
        "fpr2,tpr2,thresholds2 = metrics.roc_curve(y_train,pred_train) \n",
        "\n",
        "\n",
        "#plot ROC curve\n",
        "x = plt.subplot( )\n",
        "x.plot(fpr1, tpr1, label ='Test ROC ,auc='+str(roc_auc_score(y_test,pred_test)))\n",
        "x.plot(fpr2, tpr2, label='Train ROC ,auc='+str(roc_auc_score(y_train,pred_train)))\n",
        "plt.title('ROC curve')\n",
        "plt.xlabel('FPR')\n",
        "plt.ylabel('TPR')\n",
        "x.legend()\n",
        "plt.show()\n",
        "\n",
        "print(\"AUC on Test data is \" +str(roc_auc_score(y_test,pred_test)))\n",
        "print(\"AUC on Train data is \" +str(roc_auc_score(y_train,pred_train)))\n",
        "\n",
        "print(\"---------------------------\")\n",
        "\n",
        "# Code for drawing seaborn heatmaps\n",
        "class_names = ['negative','positive']\n",
        "df_heatmap = pd.DataFrame(confusion_matrix(y_test, pred_test.round()), index=class_names, columns=class_names )\n",
        "fig = plt.figure( )\n",
        "heatmap = sns.heatmap(df_heatmap, annot=True, fmt=\"d\")\n"
      ],
      "execution_count": 0,
      "outputs": [
        {
          "output_type": "display_data",
          "data": {
            "image/png": "[encoded data removed]",
            "text/plain": [
              "<Figure size 432x288 with 1 Axes>"
            ]
          },
          "metadata": {
            "tags": []
          }
        },
        {
          "output_type": "stream",
          "text": [
            "AUC on Test data is 0.9569615386051522\n",
            "AUC on Train data is 0.9676275453492885\n",
            "---------------------------\n"
          ],
          "name": "stdout"
        },
        {
          "output_type": "display_data",
          "data": {
            "image/png": "[encoded data removed]",
            "text/plain": [
              "<Figure size 432x288 with 2 Axes>"
            ]
          },
          "metadata": {
            "tags": []
          }
        }
      ]
    },
    {
      "cell_type": "code",
      "metadata": {
        "id": "SoABsGqqsMfS",
        "colab_type": "code",
        "colab": {}
      },
      "source": [
        "new = ['tf_idf','LogisticRegression','l1',1,0.9676,0.9569]\n",
        "results.loc[2] = new"
      ],
      "execution_count": 0,
      "outputs": []
    },
    {
      "cell_type": "markdown",
      "metadata": {
        "id": "NdFShHQJLPpV",
        "colab_type": "text"
      },
      "source": [
        "### [5.2.2] Applying Logistic Regression with L2 regularization on TFIDF,<font color='red'> SET 2</font>"
      ]
    },
    {
      "cell_type": "code",
      "metadata": {
        "id": "Jyhq3JDzLPpW",
        "colab_type": "code",
        "outputId": "fe1a3b51-70b9-4f0e-c5ff-0729aa9067e3",
        "colab": {
          "base_uri": "https://localhost:8080/",
          "height": 312
        }
      },
      "source": [
        "c = [10000,1000,100,10,1,0.1,0.01,0.001,0.0001,0.00001]\n",
        "\n",
        "train_auc = []\n",
        "cv_auc = []\n",
        "\n",
        "for i in c:\n",
        "    clf = LogisticRegression(penalty='l2',C=i)\n",
        "    clf.fit(X_train,y_train)\n",
        "    prob_cv = clf.predict_proba(X_cv)[:,1]\n",
        "    cv_auc.append(roc_auc_score(y_cv,prob_cv))\n",
        "    prob_train = clf.predict_proba(X_train)[:,1]\n",
        "    train_auc.append(roc_auc_score(y_train,prob_train))\n",
        "optimal_c= c[cv_auc.index(max(cv_auc))]\n",
        "c = [math.log(x) for x in c]\n",
        "\n",
        "#plot auc vs alpha\n",
        "x = plt.subplot( )\n",
        "x.plot(c, train_auc, label='AUC train')\n",
        "x.plot(c, cv_auc, label='AUC CV')\n",
        "plt.title('AUC vs hyperparameter')\n",
        "plt.xlabel('c')\n",
        "plt.ylabel('AUC')\n",
        "x.legend()\n",
        "plt.show()\n",
        "\n",
        "print('optimal c for which auc is maximum : ',optimal_c)# Please write all the code with proper documentation"
      ],
      "execution_count": 0,
      "outputs": [
        {
          "output_type": "display_data",
          "data": {
            "image/png": "[encoded data removed]",
            "text/plain": [
              "<Figure size 432x288 with 1 Axes>"
            ]
          },
          "metadata": {
            "tags": []
          }
        },
        {
          "output_type": "stream",
          "text": [
            "optimal c for which auc is maximum :  10\n"
          ],
          "name": "stdout"
        }
      ]
    },
    {
      "cell_type": "code",
      "metadata": {
        "id": "y_WVZyXtaDL1",
        "colab_type": "code",
        "outputId": "4f88d209-d5ee-4f19-bcd0-a9e6b49852ca",
        "colab": {
          "base_uri": "https://localhost:8080/",
          "height": 598
        }
      },
      "source": [
        "#Testing AUC on Test data\n",
        "clf = LogisticRegression(penalty='l2',C=optimal_c)\n",
        "clf.fit(X_train,y_train)\n",
        "pred_test = clf.predict_proba(X_test)[:,1]\n",
        "fpr1, tpr1, thresholds1 = metrics.roc_curve(y_test, pred_test)\n",
        "pred_train = clf.predict_proba(X_train)[:,1]\n",
        "fpr2,tpr2,thresholds2 = metrics.roc_curve(y_train,pred_train) \n",
        "\n",
        "\n",
        "#plot ROC curve\n",
        "x = plt.subplot( )\n",
        "x.plot(fpr1, tpr1, label ='Test ROC ,auc='+str(roc_auc_score(y_test,pred_test)))\n",
        "x.plot(fpr2, tpr2, label='Train ROC ,auc='+str(roc_auc_score(y_train,pred_train)))\n",
        "plt.title('ROC curve')\n",
        "plt.xlabel('FPR')\n",
        "plt.ylabel('TPR')\n",
        "x.legend()\n",
        "plt.show()\n",
        "\n",
        "print(\"AUC on Test data is \" +str(roc_auc_score(y_test,pred_test)))\n",
        "print(\"AUC on Train data is \" +str(roc_auc_score(y_train,pred_train)))\n",
        "\n",
        "print(\"---------------------------\")\n",
        "\n",
        "# Code for drawing seaborn heatmaps\n",
        "class_names = ['negative','positive']\n",
        "df_heatmap = pd.DataFrame(confusion_matrix(y_test, pred_test.round()), index=class_names, columns=class_names )\n",
        "fig = plt.figure( )\n",
        "heatmap = sns.heatmap(df_heatmap, annot=True, fmt=\"d\")"
      ],
      "execution_count": 0,
      "outputs": [
        {
          "output_type": "display_data",
          "data": {
            "image/png": "[encoded data removed]",
            "text/plain": [
              "<Figure size 432x288 with 1 Axes>"
            ]
          },
          "metadata": {
            "tags": []
          }
        },
        {
          "output_type": "stream",
          "text": [
            "AUC on Test data is 0.9629640795156884\n",
            "AUC on Train data is 0.9986900440723064\n",
            "---------------------------\n"
          ],
          "name": "stdout"
        },
        {
          "output_type": "display_data",
          "data": {
            "image/png": "[encoded data removed]",
            "text/plain": [
              "<Figure size 432x288 with 2 Axes>"
            ]
          },
          "metadata": {
            "tags": []
          }
        }
      ]
    },
    {
      "cell_type": "code",
      "metadata": {
        "id": "cCBAKCLgsa93",
        "colab_type": "code",
        "colab": {}
      },
      "source": [
        "new = ['tf_idf','LogisticRegression','l2',10,0.9986,0.9629]\n",
        "results.loc[3] = new"
      ],
      "execution_count": 0,
      "outputs": []
    },
    {
      "cell_type": "markdown",
      "metadata": {
        "id": "xeeJ8eVvLPpX",
        "colab_type": "text"
      },
      "source": [
        "### [5.2.3] Feature Importance on TFIDF,<font color='red'> SET 2</font>"
      ]
    },
    {
      "cell_type": "markdown",
      "metadata": {
        "id": "Cj9XEmqQLPpY",
        "colab_type": "text"
      },
      "source": [
        "#### [5.2.3.1] Top 10 important features of positive class from<font color='red'> SET 2</font>"
      ]
    },
    {
      "cell_type": "code",
      "metadata": {
        "id": "RG10txygLPpb",
        "colab_type": "code",
        "outputId": "8641d43a-5444-4070-f581-49b3bd450c8a",
        "colab": {
          "base_uri": "https://localhost:8080/",
          "height": 202
        }
      },
      "source": [
        "all_features = tf_idf_vect.get_feature_names()\n",
        "weight = clf.coef_\n",
        "pos_indx = np.argsort(weight)[:,::-1]\n",
        "\n",
        "neg_indx = np.argsort(weight)\n",
        "\n",
        "print('Top 10 positive features :')\n",
        "for i in list(pos_indx[0][0:10]):\n",
        "    print(all_features[i])"
      ],
      "execution_count": 0,
      "outputs": [
        {
          "output_type": "stream",
          "text": [
            "Top 10 positive features :\n",
            "great\n",
            "delicious\n",
            "not disappointed\n",
            "perfect\n",
            "good\n",
            "best\n",
            "loves\n",
            "wonderful\n",
            "nice\n",
            "excellent\n"
          ],
          "name": "stdout"
        }
      ]
    },
    {
      "cell_type": "markdown",
      "metadata": {
        "id": "PowEfns4LPpg",
        "colab_type": "text"
      },
      "source": [
        "#### [5.2.3.2] Top 10 important features of negative class from<font color='red'> SET 2</font>"
      ]
    },
    {
      "cell_type": "code",
      "metadata": {
        "id": "G7jrma95LPpg",
        "colab_type": "code",
        "outputId": "4cb2880c-8b82-4c4d-9dd9-0d327b3c923f",
        "colab": {
          "base_uri": "https://localhost:8080/",
          "height": 202
        }
      },
      "source": [
        "print('Top 10 negative features :')\n",
        "for i in list(neg_indx[0][:10]):\n",
        "    print(all_features[i])"
      ],
      "execution_count": 0,
      "outputs": [
        {
          "output_type": "stream",
          "text": [
            "Top 10 negative features :\n",
            "worst\n",
            "disappointed\n",
            "not worth\n",
            "not good\n",
            "not recommend\n",
            "awful\n",
            "terrible\n",
            "two stars\n",
            "disappointing\n",
            "weak\n"
          ],
          "name": "stdout"
        }
      ]
    },
    {
      "cell_type": "markdown",
      "metadata": {
        "id": "sqYadGOgLPpi",
        "colab_type": "text"
      },
      "source": [
        "## [5.3] Logistic Regression on AVG W2V,<font color='red'> SET 3</font>"
      ]
    },
    {
      "cell_type": "markdown",
      "metadata": {
        "id": "kByBCEA1LPpj",
        "colab_type": "text"
      },
      "source": [
        "### [5.3.1] Applying Logistic Regression with L1 regularization on AVG W2V<font color='red'> SET 3</font>"
      ]
    },
    {
      "cell_type": "code",
      "metadata": {
        "id": "uYDXnzMmiWO5",
        "colab_type": "code",
        "outputId": "965b55b8-6698-47a1-b805-fd6cfad532f0",
        "colab": {
          "base_uri": "https://localhost:8080/",
          "height": 67
        }
      },
      "source": [
        "#Breaking into Train and test\n",
        "X_train, X_test, y_train, y_test = train_test_split(X, y, test_size=0.2, random_state=0)\n",
        "X_train, X_cv, y_train, y_cv = train_test_split(X_train, y_train, test_size=0.2)\n",
        "\n",
        "list_of_sentance_train=[]\n",
        "for sentance in X_train:\n",
        "    list_of_sentance_train.append(sentance.split())\n",
        "w2v_model=Word2Vec(list_of_sentance_train,min_count=5,size=50, workers=4)\n",
        "w2v_words = list(w2v_model.wv.vocab)\n",
        "sent_vectors_train = []; \n",
        "for sent in tqdm(list_of_sentance_train):\n",
        "    sent_vec = np.zeros(50) \n",
        "    cnt_words =0;\n",
        "    for word in sent: \n",
        "        if word in w2v_words:\n",
        "            vec = w2v_model.wv[word]\n",
        "            sent_vec += vec\n",
        "            cnt_words += 1\n",
        "    if cnt_words != 0:\n",
        "        sent_vec /= cnt_words\n",
        "    sent_vectors_train.append(sent_vec)\n",
        "print(len(sent_vectors_train))\n",
        "print(len(sent_vectors_train[0]))"
      ],
      "execution_count": 0,
      "outputs": [
        {
          "output_type": "stream",
          "text": [
            "100%|██████████| 56174/56174 [01:44<00:00, 538.95it/s]"
          ],
          "name": "stderr"
        },
        {
          "output_type": "stream",
          "text": [
            "56174\n",
            "50\n"
          ],
          "name": "stdout"
        },
        {
          "output_type": "stream",
          "text": [
            "\n"
          ],
          "name": "stderr"
        }
      ]
    },
    {
      "cell_type": "code",
      "metadata": {
        "id": "RpTltsarG59O",
        "colab_type": "code",
        "outputId": "130fdfe8-fa90-498b-df2a-22de7c1acae8",
        "colab": {
          "base_uri": "https://localhost:8080/",
          "height": 67
        }
      },
      "source": [
        "#for cross validation we can use same w2v models and w2v words\n",
        "list_of_sentance_cv=[]\n",
        "for sentance in X_cv:\n",
        "    list_of_sentance_cv.append(sentance.split())\n",
        "sent_vectors_cv = []; \n",
        "for sent in tqdm(list_of_sentance_cv):\n",
        "    sent_vec = np.zeros(50) \n",
        "    cnt_words =0;\n",
        "    for word in sent: \n",
        "        if word in w2v_words:\n",
        "            vec = w2v_model.wv[word]\n",
        "            sent_vec += vec\n",
        "            cnt_words += 1\n",
        "    if cnt_words != 0:\n",
        "        sent_vec /= cnt_words\n",
        "    sent_vectors_cv.append(sent_vec)\n",
        "print(len(sent_vectors_cv))\n",
        "print(len(sent_vectors_cv[0]))   "
      ],
      "execution_count": 0,
      "outputs": [
        {
          "output_type": "stream",
          "text": [
            "100%|██████████| 14044/14044 [00:27<00:00, 511.14it/s]"
          ],
          "name": "stderr"
        },
        {
          "output_type": "stream",
          "text": [
            "14044\n",
            "50\n"
          ],
          "name": "stdout"
        },
        {
          "output_type": "stream",
          "text": [
            "\n"
          ],
          "name": "stderr"
        }
      ]
    },
    {
      "cell_type": "code",
      "metadata": {
        "id": "pG9wnMbhHEU9",
        "colab_type": "code",
        "outputId": "ae000771-e681-43bd-a838-b7a9795f0d32",
        "colab": {
          "base_uri": "https://localhost:8080/",
          "height": 67
        }
      },
      "source": [
        "#for test data\n",
        "list_of_sentance_test=[]\n",
        "for sentance in X_test:\n",
        "    list_of_sentance_test.append(sentance.split())\n",
        "sent_vectors_test = []; \n",
        "for sent in tqdm(list_of_sentance_test):\n",
        "    sent_vec = np.zeros(50) \n",
        "    cnt_words =0;\n",
        "    for word in sent: \n",
        "        if word in w2v_words:\n",
        "            vec = w2v_model.wv[word]\n",
        "            sent_vec += vec\n",
        "            cnt_words += 1\n",
        "    if cnt_words != 0:\n",
        "        sent_vec /= cnt_words\n",
        "    sent_vectors_test.append(sent_vec)\n",
        "print(len(sent_vectors_test))\n",
        "print(len(sent_vectors_test[0]))\n"
      ],
      "execution_count": 0,
      "outputs": [
        {
          "output_type": "stream",
          "text": [
            "100%|██████████| 17555/17555 [00:32<00:00, 541.59it/s]"
          ],
          "name": "stderr"
        },
        {
          "output_type": "stream",
          "text": [
            "17555\n",
            "50\n"
          ],
          "name": "stdout"
        },
        {
          "output_type": "stream",
          "text": [
            "\n"
          ],
          "name": "stderr"
        }
      ]
    },
    {
      "cell_type": "code",
      "metadata": {
        "colab_type": "code",
        "outputId": "f2ad35bc-b2dd-490e-ab1c-6dc1f7ae1597",
        "id": "Ws5HhJxBbLKL",
        "colab": {
          "base_uri": "https://localhost:8080/",
          "height": 312
        }
      },
      "source": [
        "X_train = sent_vectors_train\n",
        "X_cv = sent_vectors_cv\n",
        "X_test = sent_vectors_test\n",
        "\n",
        "c = [10000,1000,100,10,1,0.1,0.01,0.001,0.0001,0.00001]\n",
        "\n",
        "train_auc = []\n",
        "cv_auc = []\n",
        "\n",
        "for i in c:\n",
        "    clf = LogisticRegression(penalty='l1',C=i)\n",
        "    clf.fit(X_train,y_train)\n",
        "    prob_cv = clf.predict_proba(X_cv)[:,1]\n",
        "    cv_auc.append(roc_auc_score(y_cv,prob_cv))\n",
        "    prob_train = clf.predict_proba(X_train)[:,1]\n",
        "    train_auc.append(roc_auc_score(y_train,prob_train))\n",
        "optimal_c= c[cv_auc.index(max(cv_auc))]\n",
        "c = [math.log(x) for x in c]\n",
        "\n",
        "#plot auc vs alpha\n",
        "x = plt.subplot( )\n",
        "x.plot(c, train_auc, label='AUC train')\n",
        "x.plot(c, cv_auc, label='AUC CV')\n",
        "plt.title('AUC vs hyperparameter')\n",
        "plt.xlabel('c')\n",
        "plt.ylabel('AUC')\n",
        "x.legend()\n",
        "plt.show()\n",
        "\n",
        "print('optimal c for which auc is maximum : ',optimal_c)"
      ],
      "execution_count": 0,
      "outputs": [
        {
          "output_type": "display_data",
          "data": {
            "image/png": "[encoded data removed]",
            "text/plain": [
              "<Figure size 432x288 with 1 Axes>"
            ]
          },
          "metadata": {
            "tags": []
          }
        },
        {
          "output_type": "stream",
          "text": [
            "optimal c for which auc is maximum :  100\n"
          ],
          "name": "stdout"
        }
      ]
    },
    {
      "cell_type": "code",
      "metadata": {
        "colab_type": "code",
        "outputId": "b0e76cc5-b552-404b-cbb6-cb3b2acfa01b",
        "id": "HzpEuz0dbLKd",
        "colab": {
          "base_uri": "https://localhost:8080/",
          "height": 598
        }
      },
      "source": [
        "#Testing AUC on Test data\n",
        "clf = LogisticRegression(penalty='l1',C=optimal_c)\n",
        "clf.fit(X_train,y_train)\n",
        "pred_test = clf.predict_proba(X_test)[:,1]\n",
        "fpr1, tpr1, thresholds1 = metrics.roc_curve(y_test, pred_test)\n",
        "pred_train = clf.predict_proba(X_train)[:,1]\n",
        "fpr2,tpr2,thresholds2 = metrics.roc_curve(y_train,pred_train) \n",
        "\n",
        "\n",
        "#plot ROC curve\n",
        "x = plt.subplot( )\n",
        "x.plot(fpr1, tpr1, label ='Test ROC ,auc='+str(roc_auc_score(y_test,pred_test)))\n",
        "x.plot(fpr2, tpr2, label='Train ROC ,auc='+str(roc_auc_score(y_train,pred_train)))\n",
        "plt.title('ROC curve')\n",
        "plt.xlabel('FPR')\n",
        "plt.ylabel('TPR')\n",
        "x.legend()\n",
        "plt.show()\n",
        "\n",
        "print(\"AUC on Test data is \" +str(roc_auc_score(y_test,pred_test)))\n",
        "print(\"AUC on Train data is \" +str(roc_auc_score(y_train,pred_train)))\n",
        "\n",
        "print(\"---------------------------\")\n",
        "\n",
        "# Code for drawing seaborn heatmaps\n",
        "class_names = ['negative','positive']\n",
        "df_heatmap = pd.DataFrame(confusion_matrix(y_test, pred_test.round()), index=class_names, columns=class_names )\n",
        "fig = plt.figure( )\n",
        "heatmap = sns.heatmap(df_heatmap, annot=True, fmt=\"d\")\n"
      ],
      "execution_count": 0,
      "outputs": [
        {
          "output_type": "display_data",
          "data": {
            "image/png": "[encoded data removed]",
            "text/plain": [
              "<Figure size 432x288 with 1 Axes>"
            ]
          },
          "metadata": {
            "tags": []
          }
        },
        {
          "output_type": "stream",
          "text": [
            "AUC on Test data is 0.9051053234655995\n",
            "AUC on Train data is 0.9029875674501557\n",
            "---------------------------\n"
          ],
          "name": "stdout"
        },
        {
          "output_type": "display_data",
          "data": {
            "image/png": "[encoded data removed]",
            "text/plain": [
              "<Figure size 432x288 with 2 Axes>"
            ]
          },
          "metadata": {
            "tags": []
          }
        }
      ]
    },
    {
      "cell_type": "code",
      "metadata": {
        "id": "0n7YddFOswuz",
        "colab_type": "code",
        "colab": {}
      },
      "source": [
        "new = ['AVG W2V','LogisticRegression','l1',100,0.9029,0.9051]\n",
        "results.loc[4] = new"
      ],
      "execution_count": 0,
      "outputs": []
    },
    {
      "cell_type": "markdown",
      "metadata": {
        "id": "O_8Gu2SfLPpn",
        "colab_type": "text"
      },
      "source": [
        "### [5.3.2] Applying Logistic Regression with L2 regularization on AVG W2V,<font color='red'> SET 3</font>"
      ]
    },
    {
      "cell_type": "code",
      "metadata": {
        "colab_type": "code",
        "outputId": "d3c80eaa-1bf0-472b-e59e-906ec0919c2f",
        "id": "FA9xYMRkbnAy",
        "colab": {
          "base_uri": "https://localhost:8080/",
          "height": 312
        }
      },
      "source": [
        "c = [10000,1000,100,10,1,0.1,0.01,0.001,0.0001,0.00001]\n",
        "\n",
        "train_auc = []\n",
        "cv_auc = []\n",
        "\n",
        "for i in c:\n",
        "    clf = LogisticRegression(penalty='l2',C=i)\n",
        "    clf.fit(X_train,y_train)\n",
        "    prob_cv = clf.predict_proba(X_cv)[:,1]\n",
        "    cv_auc.append(roc_auc_score(y_cv,prob_cv))\n",
        "    prob_train = clf.predict_proba(X_train)[:,1]\n",
        "    train_auc.append(roc_auc_score(y_train,prob_train))\n",
        "optimal_c= c[cv_auc.index(max(cv_auc))]\n",
        "c = [math.log(x) for x in c]\n",
        "\n",
        "#plot auc vs alpha\n",
        "x = plt.subplot( )\n",
        "x.plot(c, train_auc, label='AUC train')\n",
        "x.plot(c, cv_auc, label='AUC CV')\n",
        "plt.title('AUC vs hyperparameter')\n",
        "plt.xlabel('c')\n",
        "plt.ylabel('AUC')\n",
        "x.legend()\n",
        "plt.show()\n",
        "\n",
        "print('optimal c for which auc is maximum : ',optimal_c)# Please write all the code with proper documentation"
      ],
      "execution_count": 0,
      "outputs": [
        {
          "output_type": "display_data",
          "data": {
            "image/png": "[encoded data removed]",
            "text/plain": [
              "<Figure size 432x288 with 1 Axes>"
            ]
          },
          "metadata": {
            "tags": []
          }
        },
        {
          "output_type": "stream",
          "text": [
            "optimal c for which auc is maximum :  1\n"
          ],
          "name": "stdout"
        }
      ]
    },
    {
      "cell_type": "code",
      "metadata": {
        "colab_type": "code",
        "outputId": "1d837616-d987-4e53-99fc-6d7b8202486e",
        "id": "oNWppUlabnBB",
        "colab": {
          "base_uri": "https://localhost:8080/",
          "height": 598
        }
      },
      "source": [
        "#Testing AUC on Test data\n",
        "clf = LogisticRegression(penalty='l2',C=optimal_c)\n",
        "clf.fit(X_train,y_train)\n",
        "pred_test = clf.predict_proba(X_test)[:,1]\n",
        "fpr1, tpr1, thresholds1 = metrics.roc_curve(y_test, pred_test)\n",
        "pred_train = clf.predict_proba(X_train)[:,1]\n",
        "fpr2,tpr2,thresholds2 = metrics.roc_curve(y_train,pred_train) \n",
        "\n",
        "\n",
        "#plot ROC curve\n",
        "x = plt.subplot( )\n",
        "x.plot(fpr1, tpr1, label ='Test ROC ,auc='+str(roc_auc_score(y_test,pred_test)))\n",
        "x.plot(fpr2, tpr2, label='Train ROC ,auc='+str(roc_auc_score(y_train,pred_train)))\n",
        "plt.title('ROC curve')\n",
        "plt.xlabel('FPR')\n",
        "plt.ylabel('TPR')\n",
        "x.legend()\n",
        "plt.show()\n",
        "\n",
        "print(\"AUC on Test data is \" +str(roc_auc_score(y_test,pred_test)))\n",
        "print(\"AUC on Train data is \" +str(roc_auc_score(y_train,pred_train)))\n",
        "\n",
        "print(\"---------------------------\")\n",
        "\n",
        "# Code for drawing seaborn heatmaps\n",
        "class_names = ['negative','positive']\n",
        "df_heatmap = pd.DataFrame(confusion_matrix(y_test, pred_test.round()), index=class_names, columns=class_names )\n",
        "fig = plt.figure( )\n",
        "heatmap = sns.heatmap(df_heatmap, annot=True, fmt=\"d\")"
      ],
      "execution_count": 0,
      "outputs": [
        {
          "output_type": "display_data",
          "data": {
            "image/png": "[encoded data removed]",
            "text/plain": [
              "<Figure size 432x288 with 1 Axes>"
            ]
          },
          "metadata": {
            "tags": []
          }
        },
        {
          "output_type": "stream",
          "text": [
            "AUC on Test data is 0.9051270570159107\n",
            "AUC on Train data is 0.9029924920203665\n",
            "---------------------------\n"
          ],
          "name": "stdout"
        },
        {
          "output_type": "display_data",
          "data": {
            "image/png": "[encoded data removed]",
            "text/plain": [
              "<Figure size 432x288 with 2 Axes>"
            ]
          },
          "metadata": {
            "tags": []
          }
        }
      ]
    },
    {
      "cell_type": "code",
      "metadata": {
        "id": "7cCQ56xcyCUm",
        "colab_type": "code",
        "colab": {}
      },
      "source": [
        "new = ['AVG W2V','LogisticRegression','l2',1,0.9029,0.9051]\n",
        "results.loc[5] = new"
      ],
      "execution_count": 0,
      "outputs": []
    },
    {
      "cell_type": "markdown",
      "metadata": {
        "id": "pdXTwVIPLPpp",
        "colab_type": "text"
      },
      "source": [
        "## [5.4] Logistic Regression on TFIDF W2V"
      ]
    },
    {
      "cell_type": "markdown",
      "metadata": {
        "id": "WP9NjwNSLPpp",
        "colab_type": "text"
      },
      "source": [
        "### [5.4.1] Applying Logistic Regression with L1 regularization on TFIDF W2V"
      ]
    },
    {
      "cell_type": "code",
      "metadata": {
        "id": "9YJ-gxVnHzTL",
        "colab_type": "code",
        "outputId": "99093c7d-fb64-46bb-ea73-7643df9bfc5c",
        "colab": {
          "base_uri": "https://localhost:8080/",
          "height": 34
        }
      },
      "source": [
        "#Breaking into Train and test\n",
        "X_train, X_test, y_train, y_test = train_test_split(X, y, test_size=0.2, random_state=0)\n",
        "X_train, X_cv, y_train, y_cv = train_test_split(X_train, y_train, test_size=0.2)\n",
        "\n",
        "\n",
        "list_of_sentance_train=[]\n",
        "for sentance in X_train:\n",
        "    list_of_sentance_train.append(sentance.split())\n",
        "w2v_model=Word2Vec(list_of_sentance_train,min_count=5,size=50, workers=4) \n",
        "w2v_words = list(w2v_model.wv.vocab)\n",
        "tf_idf_vect = TfidfVectorizer(ngram_range=(1,2),min_df=10, max_features=500)\n",
        "\n",
        "tf_idf_matrix=tf_idf_vect.fit_transform(X_train)\n",
        "\n",
        "\n",
        "tfidf_feat = tf_idf_vect.get_feature_names() \n",
        "dictionary = dict(zip(tf_idf_vect.get_feature_names(), list(tf_idf_vect.idf_)))\n",
        "\n",
        "#for train data\n",
        "\n",
        "tfidf_sent_vectors_train = []; \n",
        "row=0;\n",
        "for sent in tqdm(list_of_sentance_train): \n",
        "    sent_vec = np.zeros(50)\n",
        "    weight_sum =0;\n",
        "    for word in sent: \n",
        "        if word in w2v_words and word in tfidf_feat:\n",
        "            vec = w2v_model.wv[word]\n",
        "            tf_idf = dictionary[word]*(sent.count(word)/len(sent))\n",
        "            sent_vec += (vec * tf_idf)\n",
        "            weight_sum += tf_idf\n",
        "    if weight_sum != 0:\n",
        "        sent_vec /= weight_sum\n",
        "    tfidf_sent_vectors_train.append(sent_vec)\n",
        "    row += 1\n",
        "\n"
      ],
      "execution_count": 0,
      "outputs": [
        {
          "output_type": "stream",
          "text": [
            "100%|██████████| 56174/56174 [02:29<00:00, 376.97it/s]\n"
          ],
          "name": "stderr"
        }
      ]
    },
    {
      "cell_type": "code",
      "metadata": {
        "id": "2Mo27fhHIZUd",
        "colab_type": "code",
        "outputId": "8722d730-e82a-47ca-d27c-ad4c076caffd",
        "colab": {
          "base_uri": "https://localhost:8080/",
          "height": 34
        }
      },
      "source": [
        "#for cross validation data and test we will use same words and models of train\n",
        "list_of_sentance_cv=[]\n",
        "for sentance in X_cv:\n",
        "    list_of_sentance_cv.append(sentance.split())\n",
        "tfidf_sent_vectors_cv = []; \n",
        "row=0;\n",
        "for sent in tqdm(list_of_sentance_cv): \n",
        "    sent_vec = np.zeros(50)\n",
        "    weight_sum =0;\n",
        "    for word in sent: \n",
        "        if word in w2v_words and word in tfidf_feat:\n",
        "            vec = w2v_model.wv[word]\n",
        "            tf_idf = dictionary[word]*(sent.count(word)/len(sent))\n",
        "            sent_vec += (vec * tf_idf)\n",
        "            weight_sum += tf_idf\n",
        "    if weight_sum != 0:\n",
        "        sent_vec /= weight_sum\n",
        "    tfidf_sent_vectors_cv.append(sent_vec)\n",
        "    row += 1"
      ],
      "execution_count": 0,
      "outputs": [
        {
          "output_type": "stream",
          "text": [
            "100%|██████████| 14044/14044 [00:38<00:00, 367.76it/s]\n"
          ],
          "name": "stderr"
        }
      ]
    },
    {
      "cell_type": "code",
      "metadata": {
        "id": "01bDfkqKIeEa",
        "colab_type": "code",
        "outputId": "d5c29469-2acb-4108-db5b-806f29d34a19",
        "colab": {
          "base_uri": "https://localhost:8080/",
          "height": 34
        }
      },
      "source": [
        "#for test data\n",
        "list_of_sentance_test=[]\n",
        "for sentance in X_test:\n",
        "    list_of_sentance_test.append(sentance.split())\n",
        "tfidf_sent_vectors_test = []; \n",
        "row=0;\n",
        "for sent in tqdm(list_of_sentance_test): \n",
        "    sent_vec = np.zeros(50)\n",
        "    weight_sum =0;\n",
        "    for word in sent: \n",
        "        if word in w2v_words and word in tfidf_feat:\n",
        "            vec = w2v_model.wv[word]\n",
        "            tf_idf = dictionary[word]*(sent.count(word)/len(sent))\n",
        "            sent_vec += (vec * tf_idf)\n",
        "            weight_sum += tf_idf\n",
        "    if weight_sum != 0:\n",
        "        sent_vec /= weight_sum\n",
        "    tfidf_sent_vectors_test.append(sent_vec)\n",
        "    row += 1"
      ],
      "execution_count": 0,
      "outputs": [
        {
          "output_type": "stream",
          "text": [
            "100%|██████████| 17555/17555 [00:46<00:00, 378.04it/s]\n"
          ],
          "name": "stderr"
        }
      ]
    },
    {
      "cell_type": "code",
      "metadata": {
        "colab_type": "code",
        "outputId": "8f153805-4f74-4c03-b5aa-e92199a4c493",
        "id": "pohBcOKWffRp",
        "colab": {
          "base_uri": "https://localhost:8080/",
          "height": 312
        }
      },
      "source": [
        "X_train = tfidf_sent_vectors_train\n",
        "X_cv = tfidf_sent_vectors_cv\n",
        "X_test = tfidf_sent_vectors_test\n",
        "\n",
        "c = [10000,1000,100,10,1,0.1,0.01,0.001,0.0001,0.00001]\n",
        "\n",
        "train_auc = []\n",
        "cv_auc = []\n",
        "\n",
        "for i in c:\n",
        "    clf = LogisticRegression(penalty='l1',C=i)\n",
        "    clf.fit(X_train,y_train)\n",
        "    prob_cv = clf.predict_proba(X_cv)[:,1]\n",
        "    cv_auc.append(roc_auc_score(y_cv,prob_cv))\n",
        "    prob_train = clf.predict_proba(X_train)[:,1]\n",
        "    train_auc.append(roc_auc_score(y_train,prob_train))\n",
        "optimal_c= c[cv_auc.index(max(cv_auc))]\n",
        "c = [math.log(x) for x in c]\n",
        "\n",
        "#plot auc vs alpha\n",
        "x = plt.subplot( )\n",
        "x.plot(c, train_auc, label='AUC train')\n",
        "x.plot(c, cv_auc, label='AUC CV')\n",
        "plt.title('AUC vs hyperparameter')\n",
        "plt.xlabel('c')\n",
        "plt.ylabel('AUC')\n",
        "x.legend()\n",
        "plt.show()\n",
        "\n",
        "print('optimal c for which auc is maximum : ',optimal_c)"
      ],
      "execution_count": 0,
      "outputs": [
        {
          "output_type": "display_data",
          "data": {
            "image/png": "[encoded data removed]",
            "text/plain": [
              "<Figure size 432x288 with 1 Axes>"
            ]
          },
          "metadata": {
            "tags": []
          }
        },
        {
          "output_type": "stream",
          "text": [
            "optimal c for which auc is maximum :  10000\n"
          ],
          "name": "stdout"
        }
      ]
    },
    {
      "cell_type": "code",
      "metadata": {
        "colab_type": "code",
        "outputId": "670da2f9-84b8-4e9c-87ca-ac214e60b5e4",
        "id": "6viS1NNzffRz",
        "colab": {
          "base_uri": "https://localhost:8080/",
          "height": 598
        }
      },
      "source": [
        "#Testing AUC on Test data\n",
        "clf = LogisticRegression(penalty='l1',C=optimal_c)\n",
        "clf.fit(X_train,y_train)\n",
        "pred_test = clf.predict_proba(X_test)[:,1]\n",
        "fpr1, tpr1, thresholds1 = metrics.roc_curve(y_test, pred_test)\n",
        "pred_train = clf.predict_proba(X_train)[:,1]\n",
        "fpr2,tpr2,thresholds2 = metrics.roc_curve(y_train,pred_train) \n",
        "\n",
        "\n",
        "#plot ROC curve\n",
        "x = plt.subplot( )\n",
        "x.plot(fpr1, tpr1, label ='Test ROC ,auc='+str(roc_auc_score(y_test,pred_test)))\n",
        "x.plot(fpr2, tpr2, label='Train ROC ,auc='+str(roc_auc_score(y_train,pred_train)))\n",
        "plt.title('ROC curve')\n",
        "plt.xlabel('FPR')\n",
        "plt.ylabel('TPR')\n",
        "x.legend()\n",
        "plt.show()\n",
        "\n",
        "print(\"AUC on Test data is \" +str(roc_auc_score(y_test,pred_test)))\n",
        "print(\"AUC on Train data is \" +str(roc_auc_score(y_train,pred_train)))\n",
        "\n",
        "print(\"---------------------------\")\n",
        "\n",
        "# Code for drawing seaborn heatmaps\n",
        "class_names = ['negative','positive']\n",
        "df_heatmap = pd.DataFrame(confusion_matrix(y_test, pred_test.round()), index=class_names, columns=class_names )\n",
        "fig = plt.figure( )\n",
        "heatmap = sns.heatmap(df_heatmap, annot=True, fmt=\"d\")\n"
      ],
      "execution_count": 0,
      "outputs": [
        {
          "output_type": "display_data",
          "data": {
            "image/png": "[encoded data removed]",
            "text/plain": [
              "<Figure size 432x288 with 1 Axes>"
            ]
          },
          "metadata": {
            "tags": []
          }
        },
        {
          "output_type": "stream",
          "text": [
            "AUC on Test data is 0.8522758019129545\n",
            "AUC on Train data is 0.8491734109825506\n",
            "---------------------------\n"
          ],
          "name": "stdout"
        },
        {
          "output_type": "display_data",
          "data": {
            "image/png": "[encoded data removed]",
            "text/plain": [
              "<Figure size 432x288 with 2 Axes>"
            ]
          },
          "metadata": {
            "tags": []
          }
        }
      ]
    },
    {
      "cell_type": "code",
      "metadata": {
        "id": "0uoImKDofx2V",
        "colab_type": "code",
        "colab": {}
      },
      "source": [
        "new = ['TFIDF W2V','LogisticRegression','l1',10000,0.8489,0.8522]\n",
        "results.loc[6] = new"
      ],
      "execution_count": 0,
      "outputs": []
    },
    {
      "cell_type": "markdown",
      "metadata": {
        "colab_type": "text",
        "id": "4m3xiry8fy3A"
      },
      "source": [
        "### [5.4.2] Applying Logistic Regression with L2 regularization on TFIDF W2V"
      ]
    },
    {
      "cell_type": "code",
      "metadata": {
        "colab_type": "code",
        "outputId": "7e1afe8c-de78-4852-c7ae-6f3bb9bcf384",
        "id": "hzl6NGGGffR-",
        "colab": {
          "base_uri": "https://localhost:8080/",
          "height": 312
        }
      },
      "source": [
        "c = [10000,1000,100,10,1,0.1,0.01,0.001,0.0001,0.00001]\n",
        "\n",
        "train_auc = []\n",
        "cv_auc = []\n",
        "\n",
        "for i in c:\n",
        "    clf = LogisticRegression(penalty='l2',C=i)\n",
        "    clf.fit(X_train,y_train)\n",
        "    prob_cv = clf.predict_proba(X_cv)[:,1]\n",
        "    cv_auc.append(roc_auc_score(y_cv,prob_cv))\n",
        "    prob_train = clf.predict_proba(X_train)[:,1]\n",
        "    train_auc.append(roc_auc_score(y_train,prob_train))\n",
        "optimal_c= c[cv_auc.index(max(cv_auc))]\n",
        "c = [math.log(x) for x in c]\n",
        "\n",
        "#plot auc vs alpha\n",
        "x = plt.subplot( )\n",
        "x.plot(c, train_auc, label='AUC train')\n",
        "x.plot(c, cv_auc, label='AUC CV')\n",
        "plt.title('AUC vs hyperparameter')\n",
        "plt.xlabel('c')\n",
        "plt.ylabel('AUC')\n",
        "x.legend()\n",
        "plt.show()\n",
        "\n",
        "print('optimal c for which auc is maximum : ',optimal_c)# Please write all the code with proper documentation"
      ],
      "execution_count": 0,
      "outputs": [
        {
          "output_type": "display_data",
          "data": {
            "image/png": "[encoded data removed]",
            "text/plain": [
              "<Figure size 432x288 with 1 Axes>"
            ]
          },
          "metadata": {
            "tags": []
          }
        },
        {
          "output_type": "stream",
          "text": [
            "optimal c for which auc is maximum :  100\n"
          ],
          "name": "stdout"
        }
      ]
    },
    {
      "cell_type": "code",
      "metadata": {
        "colab_type": "code",
        "outputId": "f7eefb4c-67e8-4fcf-cb75-799ef1dfc38b",
        "id": "t4Z6NnjpffSG",
        "colab": {
          "base_uri": "https://localhost:8080/",
          "height": 598
        }
      },
      "source": [
        "#Testing AUC on Test data\n",
        "clf = LogisticRegression(penalty='l2',C=optimal_c)\n",
        "clf.fit(X_train,y_train)\n",
        "pred_test = clf.predict_proba(X_test)[:,1]\n",
        "fpr1, tpr1, thresholds1 = metrics.roc_curve(y_test, pred_test)\n",
        "pred_train = clf.predict_proba(X_train)[:,1]\n",
        "fpr2,tpr2,thresholds2 = metrics.roc_curve(y_train,pred_train) \n",
        "\n",
        "\n",
        "#plot ROC curve\n",
        "x = plt.subplot( )\n",
        "x.plot(fpr1, tpr1, label ='Test ROC ,auc='+str(roc_auc_score(y_test,pred_test)))\n",
        "x.plot(fpr2, tpr2, label='Train ROC ,auc='+str(roc_auc_score(y_train,pred_train)))\n",
        "plt.title('ROC curve')\n",
        "plt.xlabel('FPR')\n",
        "plt.ylabel('TPR')\n",
        "x.legend()\n",
        "plt.show()\n",
        "\n",
        "print(\"AUC on Test data is \" +str(roc_auc_score(y_test,pred_test)))\n",
        "print(\"AUC on Train data is \" +str(roc_auc_score(y_train,pred_train)))\n",
        "\n",
        "print(\"---------------------------\")\n",
        "\n",
        "# Code for drawing seaborn heatmaps\n",
        "class_names = ['negative','positive']\n",
        "df_heatmap = pd.DataFrame(confusion_matrix(y_test, pred_test.round()), index=class_names, columns=class_names )\n",
        "fig = plt.figure( )\n",
        "heatmap = sns.heatmap(df_heatmap, annot=True, fmt=\"d\")"
      ],
      "execution_count": 0,
      "outputs": [
        {
          "output_type": "display_data",
          "data": {
            "image/png": "[encoded data removed]",
            "text/plain": [
              "<Figure size 432x288 with 1 Axes>"
            ]
          },
          "metadata": {
            "tags": []
          }
        },
        {
          "output_type": "stream",
          "text": [
            "AUC on Test data is 0.8522757061704421\n",
            "AUC on Train data is 0.8491752866943323\n",
            "---------------------------\n"
          ],
          "name": "stdout"
        },
        {
          "output_type": "display_data",
          "data": {
            "image/png": "[encoded data removed]",
            "text/plain": [
              "<Figure size 432x288 with 2 Axes>"
            ]
          },
          "metadata": {
            "tags": []
          }
        }
      ]
    },
    {
      "cell_type": "code",
      "metadata": {
        "id": "hVYuiXl2LPpt",
        "colab_type": "code",
        "colab": {}
      },
      "source": [
        "new = ['TFIDF W2V','LogisticRegression','l2',100,0.8491,0.8522]\n",
        "results.loc[7] = new"
      ],
      "execution_count": 0,
      "outputs": []
    },
    {
      "cell_type": "markdown",
      "metadata": {
        "id": "Mli1EjlDT893",
        "colab_type": "text"
      },
      "source": [
        "## Performance Table"
      ]
    },
    {
      "cell_type": "code",
      "metadata": {
        "id": "BkKUAKSFUBY3",
        "colab_type": "code",
        "outputId": "d5f19e81-d716-4f68-a9df-7c1dede187e5",
        "colab": {
          "base_uri": "https://localhost:8080/",
          "height": 284
        }
      },
      "source": [
        "results"
      ],
      "execution_count": 0,
      "outputs": [
        {
          "output_type": "execute_result",
          "data": {
            "text/html": [
              "<div>\n",
              "<style scoped>\n",
              "    .dataframe tbody tr th:only-of-type {\n",
              "        vertical-align: middle;\n",
              "    }\n",
              "\n",
              "    .dataframe tbody tr th {\n",
              "        vertical-align: top;\n",
              "    }\n",
              "\n",
              "    .dataframe thead th {\n",
              "        text-align: right;\n",
              "    }\n",
              "</style>\n",
              "<table border=\"1\" class=\"dataframe\">\n",
              "  <thead>\n",
              "    <tr style=\"text-align: right;\">\n",
              "      <th></th>\n",
              "      <th>Featuraization</th>\n",
              "      <th>Classifier</th>\n",
              "      <th>penalty</th>\n",
              "      <th>C</th>\n",
              "      <th>Train-AUC</th>\n",
              "      <th>Test-AUC</th>\n",
              "    </tr>\n",
              "  </thead>\n",
              "  <tbody>\n",
              "    <tr>\n",
              "      <th>0</th>\n",
              "      <td>BOW</td>\n",
              "      <td>LogisticRegression</td>\n",
              "      <td>l1</td>\n",
              "      <td>1</td>\n",
              "      <td>0.9570</td>\n",
              "      <td>0.9466</td>\n",
              "    </tr>\n",
              "    <tr>\n",
              "      <th>1</th>\n",
              "      <td>BOW</td>\n",
              "      <td>LogisticRegression</td>\n",
              "      <td>l2</td>\n",
              "      <td>10</td>\n",
              "      <td>0.9826</td>\n",
              "      <td>0.9518</td>\n",
              "    </tr>\n",
              "    <tr>\n",
              "      <th>2</th>\n",
              "      <td>tf_idf</td>\n",
              "      <td>LogisticRegression</td>\n",
              "      <td>l1</td>\n",
              "      <td>1</td>\n",
              "      <td>0.9676</td>\n",
              "      <td>0.9569</td>\n",
              "    </tr>\n",
              "    <tr>\n",
              "      <th>3</th>\n",
              "      <td>tf_idf</td>\n",
              "      <td>LogisticRegression</td>\n",
              "      <td>l2</td>\n",
              "      <td>10</td>\n",
              "      <td>0.9986</td>\n",
              "      <td>0.9629</td>\n",
              "    </tr>\n",
              "    <tr>\n",
              "      <th>4</th>\n",
              "      <td>tf_idf</td>\n",
              "      <td>LogisticRegression</td>\n",
              "      <td>l1</td>\n",
              "      <td>100</td>\n",
              "      <td>0.9029</td>\n",
              "      <td>0.9051</td>\n",
              "    </tr>\n",
              "    <tr>\n",
              "      <th>5</th>\n",
              "      <td>AVG W2V</td>\n",
              "      <td>LogisticRegression</td>\n",
              "      <td>l2</td>\n",
              "      <td>1</td>\n",
              "      <td>0.9029</td>\n",
              "      <td>0.9051</td>\n",
              "    </tr>\n",
              "    <tr>\n",
              "      <th>6</th>\n",
              "      <td>TFIDF W2V</td>\n",
              "      <td>LogisticRegression</td>\n",
              "      <td>l1</td>\n",
              "      <td>10000</td>\n",
              "      <td>0.8489</td>\n",
              "      <td>0.8522</td>\n",
              "    </tr>\n",
              "    <tr>\n",
              "      <th>7</th>\n",
              "      <td>TFIDF W2V</td>\n",
              "      <td>LogisticRegression</td>\n",
              "      <td>l2</td>\n",
              "      <td>100</td>\n",
              "      <td>0.8491</td>\n",
              "      <td>0.8522</td>\n",
              "    </tr>\n",
              "  </tbody>\n",
              "</table>\n",
              "</div>"
            ],
            "text/plain": [
              "  Featuraization          Classifier penalty      C  Train-AUC  Test-AUC\n",
              "0            BOW  LogisticRegression      l1      1     0.9570    0.9466\n",
              "1            BOW  LogisticRegression      l2     10     0.9826    0.9518\n",
              "2         tf_idf  LogisticRegression      l1      1     0.9676    0.9569\n",
              "3         tf_idf  LogisticRegression      l2     10     0.9986    0.9629\n",
              "4         tf_idf  LogisticRegression      l1    100     0.9029    0.9051\n",
              "5        AVG W2V  LogisticRegression      l2      1     0.9029    0.9051\n",
              "6      TFIDF W2V  LogisticRegression      l1  10000     0.8489    0.8522\n",
              "7      TFIDF W2V  LogisticRegression      l2    100     0.8491    0.8522"
            ]
          },
          "metadata": {
            "tags": []
          },
          "execution_count": 95
        }
      ]
    },
    {
      "cell_type": "markdown",
      "metadata": {
        "id": "Em-rF6u2iWO8",
        "colab_type": "text"
      },
      "source": [
        "# [6] Conclusions"
      ]
    },
    {
      "cell_type": "markdown",
      "metadata": {
        "id": "H-IckJAfzCpH",
        "colab_type": "text"
      },
      "source": [
        "1. Logistic Regression is one of the best algorithm\n",
        "\n",
        "2. It works very well if we have large amount of data with high dimensionality\n",
        "\n",
        "3. Time complexity is very low\n",
        "\n",
        "4. Logistic Regression gave best AUC Score = 0.9629 with tf_idf featuraization, l2 penalty and C = 10"
      ]
    },
    {
      "cell_type": "code",
      "metadata": {
        "id": "DNAclsQi0YYW",
        "colab_type": "code",
        "colab": {}
      },
      "source": [
        ""
      ],
      "execution_count": 0,
      "outputs": []
    }
  ]
}