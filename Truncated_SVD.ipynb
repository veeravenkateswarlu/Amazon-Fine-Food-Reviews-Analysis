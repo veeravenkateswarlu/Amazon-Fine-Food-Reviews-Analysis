{
  "nbformat": 4,
  "nbformat_minor": 0,
  "metadata": {
    "kernelspec": {
      "display_name": "Python 3",
      "language": "python",
      "name": "python3"
    },
    "language_info": {
      "codemirror_mode": {
        "name": "ipython",
        "version": 3
      },
      "file_extension": ".py",
      "mimetype": "text/x-python",
      "name": "python",
      "nbconvert_exporter": "python",
      "pygments_lexer": "ipython3",
      "version": "3.6.5"
    },
    "colab": {
      "name": "Truncated SVD.ipynb",
      "version": "0.3.2",
      "provenance": []
    }
  },
  "cells": [
    {
      "cell_type": "markdown",
      "metadata": {
        "id": "E3ONwgErbbgF",
        "colab_type": "text"
      },
      "source": [
        "# Amazon Fine Food Reviews Analysis"
      ]
    },
    {
      "cell_type": "markdown",
      "metadata": {
        "id": "uIYXxlHCbbgH",
        "colab_type": "text"
      },
      "source": [
        "## [1]. Reading Data"
      ]
    },
    {
      "cell_type": "markdown",
      "metadata": {
        "id": "DQYJjcvcbbgJ",
        "colab_type": "text"
      },
      "source": [
        "### [1.1] Loading the data"
      ]
    },
    {
      "cell_type": "code",
      "metadata": {
        "id": "PFLeKyRabbgK",
        "colab_type": "code",
        "colab": {}
      },
      "source": [
        "%matplotlib inline\n",
        "import warnings\n",
        "warnings.filterwarnings(\"ignore\")\n",
        "\n",
        "\n",
        "import sqlite3\n",
        "import pandas as pd\n",
        "import numpy as np\n",
        "import nltk\n",
        "import string\n",
        "import matplotlib.pyplot as plt\n",
        "import seaborn as sns\n",
        "from sklearn.feature_extraction.text import TfidfTransformer\n",
        "from sklearn.feature_extraction.text import TfidfVectorizer\n",
        "\n",
        "from sklearn.feature_extraction.text import CountVectorizer\n",
        "from sklearn.metrics import confusion_matrix\n",
        "from sklearn import metrics\n",
        "from sklearn.metrics import roc_curve, auc\n",
        "from nltk.stem.porter import PorterStemmer\n",
        "\n",
        "import re\n",
        "# Tutorial about Python regular expressions: https://pymotw.com/2/re/\n",
        "import string\n",
        "from nltk.corpus import stopwords\n",
        "from nltk.stem import PorterStemmer\n",
        "from nltk.stem.wordnet import WordNetLemmatizer\n",
        "\n",
        "from gensim.models import Word2Vec\n",
        "from gensim.models import KeyedVectors\n",
        "import pickle\n",
        "\n",
        "from tqdm import tqdm\n",
        "import os"
      ],
      "execution_count": 0,
      "outputs": []
    },
    {
      "cell_type": "code",
      "metadata": {
        "id": "UzRSnGBGbbgR",
        "colab_type": "code",
        "colab": {},
        "outputId": "75a5a539-8228-41d0-89d3-8c0f6725edd9"
      },
      "source": [
        "# using SQLite Table to read data.\n",
        "con = sqlite3.connect('database.sqlite') \n",
        "\n",
        "\n",
        "filtered_data = pd.read_sql_query(\"\"\" SELECT * FROM Reviews WHERE Score != 3 LIMIT 100000\"\"\", con) \n",
        "\n",
        "# Give reviews with Score>3 a positive rating(1), and reviews with a score<3 a negative rating(0).\n",
        "def partition(x):\n",
        "    if x < 3:\n",
        "        return 0\n",
        "    return 1\n",
        "\n",
        "#changing reviews with score less than 3 to be positive and vice-versa\n",
        "actualScore = filtered_data['Score']\n",
        "positiveNegative = actualScore.map(partition) \n",
        "filtered_data['Score'] = positiveNegative\n",
        "print(\"Number of data points in our data\", filtered_data.shape)\n",
        "filtered_data.head(3)"
      ],
      "execution_count": 0,
      "outputs": [
        {
          "output_type": "stream",
          "text": [
            "Number of data points in our data (100000, 10)\n"
          ],
          "name": "stdout"
        },
        {
          "output_type": "execute_result",
          "data": {
            "text/html": [
              "<div>\n",
              "<style scoped>\n",
              "    .dataframe tbody tr th:only-of-type {\n",
              "        vertical-align: middle;\n",
              "    }\n",
              "\n",
              "    .dataframe tbody tr th {\n",
              "        vertical-align: top;\n",
              "    }\n",
              "\n",
              "    .dataframe thead th {\n",
              "        text-align: right;\n",
              "    }\n",
              "</style>\n",
              "<table border=\"1\" class=\"dataframe\">\n",
              "  <thead>\n",
              "    <tr style=\"text-align: right;\">\n",
              "      <th></th>\n",
              "      <th>Id</th>\n",
              "      <th>ProductId</th>\n",
              "      <th>UserId</th>\n",
              "      <th>ProfileName</th>\n",
              "      <th>HelpfulnessNumerator</th>\n",
              "      <th>HelpfulnessDenominator</th>\n",
              "      <th>Score</th>\n",
              "      <th>Time</th>\n",
              "      <th>Summary</th>\n",
              "      <th>Text</th>\n",
              "    </tr>\n",
              "  </thead>\n",
              "  <tbody>\n",
              "    <tr>\n",
              "      <th>0</th>\n",
              "      <td>1</td>\n",
              "      <td>B001E4KFG0</td>\n",
              "      <td>A3SGXH7AUHU8GW</td>\n",
              "      <td>delmartian</td>\n",
              "      <td>1</td>\n",
              "      <td>1</td>\n",
              "      <td>1</td>\n",
              "      <td>1303862400</td>\n",
              "      <td>Good Quality Dog Food</td>\n",
              "      <td>I have bought several of the Vitality canned d...</td>\n",
              "    </tr>\n",
              "    <tr>\n",
              "      <th>1</th>\n",
              "      <td>2</td>\n",
              "      <td>B00813GRG4</td>\n",
              "      <td>A1D87F6ZCVE5NK</td>\n",
              "      <td>dll pa</td>\n",
              "      <td>0</td>\n",
              "      <td>0</td>\n",
              "      <td>0</td>\n",
              "      <td>1346976000</td>\n",
              "      <td>Not as Advertised</td>\n",
              "      <td>Product arrived labeled as Jumbo Salted Peanut...</td>\n",
              "    </tr>\n",
              "    <tr>\n",
              "      <th>2</th>\n",
              "      <td>3</td>\n",
              "      <td>B000LQOCH0</td>\n",
              "      <td>ABXLMWJIXXAIN</td>\n",
              "      <td>Natalia Corres \"Natalia Corres\"</td>\n",
              "      <td>1</td>\n",
              "      <td>1</td>\n",
              "      <td>1</td>\n",
              "      <td>1219017600</td>\n",
              "      <td>\"Delight\" says it all</td>\n",
              "      <td>This is a confection that has been around a fe...</td>\n",
              "    </tr>\n",
              "  </tbody>\n",
              "</table>\n",
              "</div>"
            ],
            "text/plain": [
              "   Id   ProductId          UserId                      ProfileName  \\\n",
              "0   1  B001E4KFG0  A3SGXH7AUHU8GW                       delmartian   \n",
              "1   2  B00813GRG4  A1D87F6ZCVE5NK                           dll pa   \n",
              "2   3  B000LQOCH0   ABXLMWJIXXAIN  Natalia Corres \"Natalia Corres\"   \n",
              "\n",
              "   HelpfulnessNumerator  HelpfulnessDenominator  Score        Time  \\\n",
              "0                     1                       1      1  1303862400   \n",
              "1                     0                       0      0  1346976000   \n",
              "2                     1                       1      1  1219017600   \n",
              "\n",
              "                 Summary                                               Text  \n",
              "0  Good Quality Dog Food  I have bought several of the Vitality canned d...  \n",
              "1      Not as Advertised  Product arrived labeled as Jumbo Salted Peanut...  \n",
              "2  \"Delight\" says it all  This is a confection that has been around a fe...  "
            ]
          },
          "metadata": {
            "tags": []
          },
          "execution_count": 27
        }
      ]
    },
    {
      "cell_type": "code",
      "metadata": {
        "id": "1adAgssobbgY",
        "colab_type": "code",
        "colab": {}
      },
      "source": [
        "display = pd.read_sql_query(\"\"\"\n",
        "SELECT UserId, ProductId, ProfileName, Time, Score, Text, COUNT(*)\n",
        "FROM Reviews\n",
        "GROUP BY UserId\n",
        "HAVING COUNT(*)>1\n",
        "\"\"\", con)"
      ],
      "execution_count": 0,
      "outputs": []
    },
    {
      "cell_type": "code",
      "metadata": {
        "id": "HjbXeXZIbbgd",
        "colab_type": "code",
        "colab": {},
        "outputId": "af2351a1-22d1-46ff-b3d5-599237e6157f"
      },
      "source": [
        "print(display.shape)\n",
        "display.head()"
      ],
      "execution_count": 0,
      "outputs": [
        {
          "output_type": "stream",
          "text": [
            "(80668, 7)\n"
          ],
          "name": "stdout"
        },
        {
          "output_type": "execute_result",
          "data": {
            "text/html": [
              "<div>\n",
              "<style scoped>\n",
              "    .dataframe tbody tr th:only-of-type {\n",
              "        vertical-align: middle;\n",
              "    }\n",
              "\n",
              "    .dataframe tbody tr th {\n",
              "        vertical-align: top;\n",
              "    }\n",
              "\n",
              "    .dataframe thead th {\n",
              "        text-align: right;\n",
              "    }\n",
              "</style>\n",
              "<table border=\"1\" class=\"dataframe\">\n",
              "  <thead>\n",
              "    <tr style=\"text-align: right;\">\n",
              "      <th></th>\n",
              "      <th>UserId</th>\n",
              "      <th>ProductId</th>\n",
              "      <th>ProfileName</th>\n",
              "      <th>Time</th>\n",
              "      <th>Score</th>\n",
              "      <th>Text</th>\n",
              "      <th>COUNT(*)</th>\n",
              "    </tr>\n",
              "  </thead>\n",
              "  <tbody>\n",
              "    <tr>\n",
              "      <th>0</th>\n",
              "      <td>#oc-R115TNMSPFT9I7</td>\n",
              "      <td>B007Y59HVM</td>\n",
              "      <td>Breyton</td>\n",
              "      <td>1331510400</td>\n",
              "      <td>2</td>\n",
              "      <td>Overall its just OK when considering the price...</td>\n",
              "      <td>2</td>\n",
              "    </tr>\n",
              "    <tr>\n",
              "      <th>1</th>\n",
              "      <td>#oc-R11D9D7SHXIJB9</td>\n",
              "      <td>B005HG9ET0</td>\n",
              "      <td>Louis E. Emory \"hoppy\"</td>\n",
              "      <td>1342396800</td>\n",
              "      <td>5</td>\n",
              "      <td>My wife has recurring extreme muscle spasms, u...</td>\n",
              "      <td>3</td>\n",
              "    </tr>\n",
              "    <tr>\n",
              "      <th>2</th>\n",
              "      <td>#oc-R11DNU2NBKQ23Z</td>\n",
              "      <td>B007Y59HVM</td>\n",
              "      <td>Kim Cieszykowski</td>\n",
              "      <td>1348531200</td>\n",
              "      <td>1</td>\n",
              "      <td>This coffee is horrible and unfortunately not ...</td>\n",
              "      <td>2</td>\n",
              "    </tr>\n",
              "    <tr>\n",
              "      <th>3</th>\n",
              "      <td>#oc-R11O5J5ZVQE25C</td>\n",
              "      <td>B005HG9ET0</td>\n",
              "      <td>Penguin Chick</td>\n",
              "      <td>1346889600</td>\n",
              "      <td>5</td>\n",
              "      <td>This will be the bottle that you grab from the...</td>\n",
              "      <td>3</td>\n",
              "    </tr>\n",
              "    <tr>\n",
              "      <th>4</th>\n",
              "      <td>#oc-R12KPBODL2B5ZD</td>\n",
              "      <td>B007OSBE1U</td>\n",
              "      <td>Christopher P. Presta</td>\n",
              "      <td>1348617600</td>\n",
              "      <td>1</td>\n",
              "      <td>I didnt like this coffee. Instead of telling y...</td>\n",
              "      <td>2</td>\n",
              "    </tr>\n",
              "  </tbody>\n",
              "</table>\n",
              "</div>"
            ],
            "text/plain": [
              "               UserId   ProductId             ProfileName        Time  Score  \\\n",
              "0  #oc-R115TNMSPFT9I7  B007Y59HVM                 Breyton  1331510400      2   \n",
              "1  #oc-R11D9D7SHXIJB9  B005HG9ET0  Louis E. Emory \"hoppy\"  1342396800      5   \n",
              "2  #oc-R11DNU2NBKQ23Z  B007Y59HVM        Kim Cieszykowski  1348531200      1   \n",
              "3  #oc-R11O5J5ZVQE25C  B005HG9ET0           Penguin Chick  1346889600      5   \n",
              "4  #oc-R12KPBODL2B5ZD  B007OSBE1U   Christopher P. Presta  1348617600      1   \n",
              "\n",
              "                                                Text  COUNT(*)  \n",
              "0  Overall its just OK when considering the price...         2  \n",
              "1  My wife has recurring extreme muscle spasms, u...         3  \n",
              "2  This coffee is horrible and unfortunately not ...         2  \n",
              "3  This will be the bottle that you grab from the...         3  \n",
              "4  I didnt like this coffee. Instead of telling y...         2  "
            ]
          },
          "metadata": {
            "tags": []
          },
          "execution_count": 29
        }
      ]
    },
    {
      "cell_type": "code",
      "metadata": {
        "id": "gwAbGtzObbgi",
        "colab_type": "code",
        "colab": {},
        "outputId": "7bfdca65-af58-4b1d-c9c2-0e0e58a40b27"
      },
      "source": [
        "display[display['UserId']=='AZY10LLTJ71NX']"
      ],
      "execution_count": 0,
      "outputs": [
        {
          "output_type": "execute_result",
          "data": {
            "text/html": [
              "<div>\n",
              "<style scoped>\n",
              "    .dataframe tbody tr th:only-of-type {\n",
              "        vertical-align: middle;\n",
              "    }\n",
              "\n",
              "    .dataframe tbody tr th {\n",
              "        vertical-align: top;\n",
              "    }\n",
              "\n",
              "    .dataframe thead th {\n",
              "        text-align: right;\n",
              "    }\n",
              "</style>\n",
              "<table border=\"1\" class=\"dataframe\">\n",
              "  <thead>\n",
              "    <tr style=\"text-align: right;\">\n",
              "      <th></th>\n",
              "      <th>UserId</th>\n",
              "      <th>ProductId</th>\n",
              "      <th>ProfileName</th>\n",
              "      <th>Time</th>\n",
              "      <th>Score</th>\n",
              "      <th>Text</th>\n",
              "      <th>COUNT(*)</th>\n",
              "    </tr>\n",
              "  </thead>\n",
              "  <tbody>\n",
              "    <tr>\n",
              "      <th>80638</th>\n",
              "      <td>AZY10LLTJ71NX</td>\n",
              "      <td>B006P7E5ZI</td>\n",
              "      <td>undertheshrine \"undertheshrine\"</td>\n",
              "      <td>1334707200</td>\n",
              "      <td>5</td>\n",
              "      <td>I was recommended to try green tea extract to ...</td>\n",
              "      <td>5</td>\n",
              "    </tr>\n",
              "  </tbody>\n",
              "</table>\n",
              "</div>"
            ],
            "text/plain": [
              "              UserId   ProductId                      ProfileName        Time  \\\n",
              "80638  AZY10LLTJ71NX  B006P7E5ZI  undertheshrine \"undertheshrine\"  1334707200   \n",
              "\n",
              "       Score                                               Text  COUNT(*)  \n",
              "80638      5  I was recommended to try green tea extract to ...         5  "
            ]
          },
          "metadata": {
            "tags": []
          },
          "execution_count": 30
        }
      ]
    },
    {
      "cell_type": "code",
      "metadata": {
        "id": "9O0B2Qq_bbgm",
        "colab_type": "code",
        "colab": {},
        "outputId": "4745fe33-491b-4be6-e342-0cf42a18f542"
      },
      "source": [
        "display['COUNT(*)'].sum()"
      ],
      "execution_count": 0,
      "outputs": [
        {
          "output_type": "execute_result",
          "data": {
            "text/plain": [
              "393063"
            ]
          },
          "metadata": {
            "tags": []
          },
          "execution_count": 31
        }
      ]
    },
    {
      "cell_type": "markdown",
      "metadata": {
        "id": "IcxnHkg4bbgt",
        "colab_type": "text"
      },
      "source": [
        "## [2] Exploratory Data Analysis"
      ]
    },
    {
      "cell_type": "markdown",
      "metadata": {
        "id": "aKFV0WkWbbgu",
        "colab_type": "text"
      },
      "source": [
        "### [2.1] Data Cleaning: Deduplication"
      ]
    },
    {
      "cell_type": "code",
      "metadata": {
        "id": "D_DpIo6Obbgv",
        "colab_type": "code",
        "colab": {},
        "outputId": "88be2688-415a-43ea-86dc-a77d0616b7c8"
      },
      "source": [
        "display= pd.read_sql_query(\"\"\"\n",
        "SELECT *\n",
        "FROM Reviews\n",
        "WHERE Score != 3 AND UserId=\"AR5J8UI46CURR\"\n",
        "ORDER BY ProductID\n",
        "\"\"\", con)\n",
        "display.head()"
      ],
      "execution_count": 0,
      "outputs": [
        {
          "output_type": "execute_result",
          "data": {
            "text/html": [
              "<div>\n",
              "<style scoped>\n",
              "    .dataframe tbody tr th:only-of-type {\n",
              "        vertical-align: middle;\n",
              "    }\n",
              "\n",
              "    .dataframe tbody tr th {\n",
              "        vertical-align: top;\n",
              "    }\n",
              "\n",
              "    .dataframe thead th {\n",
              "        text-align: right;\n",
              "    }\n",
              "</style>\n",
              "<table border=\"1\" class=\"dataframe\">\n",
              "  <thead>\n",
              "    <tr style=\"text-align: right;\">\n",
              "      <th></th>\n",
              "      <th>Id</th>\n",
              "      <th>ProductId</th>\n",
              "      <th>UserId</th>\n",
              "      <th>ProfileName</th>\n",
              "      <th>HelpfulnessNumerator</th>\n",
              "      <th>HelpfulnessDenominator</th>\n",
              "      <th>Score</th>\n",
              "      <th>Time</th>\n",
              "      <th>Summary</th>\n",
              "      <th>Text</th>\n",
              "    </tr>\n",
              "  </thead>\n",
              "  <tbody>\n",
              "    <tr>\n",
              "      <th>0</th>\n",
              "      <td>78445</td>\n",
              "      <td>B000HDL1RQ</td>\n",
              "      <td>AR5J8UI46CURR</td>\n",
              "      <td>Geetha Krishnan</td>\n",
              "      <td>2</td>\n",
              "      <td>2</td>\n",
              "      <td>5</td>\n",
              "      <td>1199577600</td>\n",
              "      <td>LOACKER QUADRATINI VANILLA WAFERS</td>\n",
              "      <td>DELICIOUS WAFERS. I FIND THAT EUROPEAN WAFERS ...</td>\n",
              "    </tr>\n",
              "    <tr>\n",
              "      <th>1</th>\n",
              "      <td>138317</td>\n",
              "      <td>B000HDOPYC</td>\n",
              "      <td>AR5J8UI46CURR</td>\n",
              "      <td>Geetha Krishnan</td>\n",
              "      <td>2</td>\n",
              "      <td>2</td>\n",
              "      <td>5</td>\n",
              "      <td>1199577600</td>\n",
              "      <td>LOACKER QUADRATINI VANILLA WAFERS</td>\n",
              "      <td>DELICIOUS WAFERS. I FIND THAT EUROPEAN WAFERS ...</td>\n",
              "    </tr>\n",
              "    <tr>\n",
              "      <th>2</th>\n",
              "      <td>138277</td>\n",
              "      <td>B000HDOPYM</td>\n",
              "      <td>AR5J8UI46CURR</td>\n",
              "      <td>Geetha Krishnan</td>\n",
              "      <td>2</td>\n",
              "      <td>2</td>\n",
              "      <td>5</td>\n",
              "      <td>1199577600</td>\n",
              "      <td>LOACKER QUADRATINI VANILLA WAFERS</td>\n",
              "      <td>DELICIOUS WAFERS. I FIND THAT EUROPEAN WAFERS ...</td>\n",
              "    </tr>\n",
              "    <tr>\n",
              "      <th>3</th>\n",
              "      <td>73791</td>\n",
              "      <td>B000HDOPZG</td>\n",
              "      <td>AR5J8UI46CURR</td>\n",
              "      <td>Geetha Krishnan</td>\n",
              "      <td>2</td>\n",
              "      <td>2</td>\n",
              "      <td>5</td>\n",
              "      <td>1199577600</td>\n",
              "      <td>LOACKER QUADRATINI VANILLA WAFERS</td>\n",
              "      <td>DELICIOUS WAFERS. I FIND THAT EUROPEAN WAFERS ...</td>\n",
              "    </tr>\n",
              "    <tr>\n",
              "      <th>4</th>\n",
              "      <td>155049</td>\n",
              "      <td>B000PAQ75C</td>\n",
              "      <td>AR5J8UI46CURR</td>\n",
              "      <td>Geetha Krishnan</td>\n",
              "      <td>2</td>\n",
              "      <td>2</td>\n",
              "      <td>5</td>\n",
              "      <td>1199577600</td>\n",
              "      <td>LOACKER QUADRATINI VANILLA WAFERS</td>\n",
              "      <td>DELICIOUS WAFERS. I FIND THAT EUROPEAN WAFERS ...</td>\n",
              "    </tr>\n",
              "  </tbody>\n",
              "</table>\n",
              "</div>"
            ],
            "text/plain": [
              "       Id   ProductId         UserId      ProfileName  HelpfulnessNumerator  \\\n",
              "0   78445  B000HDL1RQ  AR5J8UI46CURR  Geetha Krishnan                     2   \n",
              "1  138317  B000HDOPYC  AR5J8UI46CURR  Geetha Krishnan                     2   \n",
              "2  138277  B000HDOPYM  AR5J8UI46CURR  Geetha Krishnan                     2   \n",
              "3   73791  B000HDOPZG  AR5J8UI46CURR  Geetha Krishnan                     2   \n",
              "4  155049  B000PAQ75C  AR5J8UI46CURR  Geetha Krishnan                     2   \n",
              "\n",
              "   HelpfulnessDenominator  Score        Time  \\\n",
              "0                       2      5  1199577600   \n",
              "1                       2      5  1199577600   \n",
              "2                       2      5  1199577600   \n",
              "3                       2      5  1199577600   \n",
              "4                       2      5  1199577600   \n",
              "\n",
              "                             Summary  \\\n",
              "0  LOACKER QUADRATINI VANILLA WAFERS   \n",
              "1  LOACKER QUADRATINI VANILLA WAFERS   \n",
              "2  LOACKER QUADRATINI VANILLA WAFERS   \n",
              "3  LOACKER QUADRATINI VANILLA WAFERS   \n",
              "4  LOACKER QUADRATINI VANILLA WAFERS   \n",
              "\n",
              "                                                Text  \n",
              "0  DELICIOUS WAFERS. I FIND THAT EUROPEAN WAFERS ...  \n",
              "1  DELICIOUS WAFERS. I FIND THAT EUROPEAN WAFERS ...  \n",
              "2  DELICIOUS WAFERS. I FIND THAT EUROPEAN WAFERS ...  \n",
              "3  DELICIOUS WAFERS. I FIND THAT EUROPEAN WAFERS ...  \n",
              "4  DELICIOUS WAFERS. I FIND THAT EUROPEAN WAFERS ...  "
            ]
          },
          "metadata": {
            "tags": []
          },
          "execution_count": 32
        }
      ]
    },
    {
      "cell_type": "code",
      "metadata": {
        "id": "h-omN38Xbbg5",
        "colab_type": "code",
        "colab": {}
      },
      "source": [
        "#Sorting data according to ProductId in ascending order\n",
        "sorted_data=filtered_data.sort_values('ProductId', axis=0, ascending=True, inplace=False, kind='quicksort', na_position='last')"
      ],
      "execution_count": 0,
      "outputs": []
    },
    {
      "cell_type": "code",
      "metadata": {
        "id": "CW8mgx_1bbg9",
        "colab_type": "code",
        "colab": {},
        "outputId": "9d2e124e-a50d-42fb-8aee-cea8d3426d1e"
      },
      "source": [
        "#Deduplication of entries\n",
        "final=sorted_data.drop_duplicates(subset={\"UserId\",\"ProfileName\",\"Time\",\"Text\"}, keep='first', inplace=False)\n",
        "final.shape"
      ],
      "execution_count": 0,
      "outputs": [
        {
          "output_type": "execute_result",
          "data": {
            "text/plain": [
              "(87775, 10)"
            ]
          },
          "metadata": {
            "tags": []
          },
          "execution_count": 34
        }
      ]
    },
    {
      "cell_type": "code",
      "metadata": {
        "id": "EBg6lY12bbhH",
        "colab_type": "code",
        "colab": {},
        "outputId": "0c276fee-4c14-4dc8-a9ac-9fc47102a911"
      },
      "source": [
        "#Checking to see how much % of data still remains\n",
        "(final['Id'].size*1.0)/(filtered_data['Id'].size*1.0)*100"
      ],
      "execution_count": 0,
      "outputs": [
        {
          "output_type": "execute_result",
          "data": {
            "text/plain": [
              "87.775"
            ]
          },
          "metadata": {
            "tags": []
          },
          "execution_count": 35
        }
      ]
    },
    {
      "cell_type": "code",
      "metadata": {
        "id": "HuYtF44bbbhM",
        "colab_type": "code",
        "colab": {},
        "outputId": "5890c7f4-e178-4298-92ca-e1d6d840533f"
      },
      "source": [
        "display= pd.read_sql_query(\"\"\"\n",
        "SELECT *\n",
        "FROM Reviews\n",
        "WHERE Score != 3 AND Id=44737 OR Id=64422\n",
        "ORDER BY ProductID\n",
        "\"\"\", con)\n",
        "\n",
        "display.head()"
      ],
      "execution_count": 0,
      "outputs": [
        {
          "output_type": "execute_result",
          "data": {
            "text/html": [
              "<div>\n",
              "<style scoped>\n",
              "    .dataframe tbody tr th:only-of-type {\n",
              "        vertical-align: middle;\n",
              "    }\n",
              "\n",
              "    .dataframe tbody tr th {\n",
              "        vertical-align: top;\n",
              "    }\n",
              "\n",
              "    .dataframe thead th {\n",
              "        text-align: right;\n",
              "    }\n",
              "</style>\n",
              "<table border=\"1\" class=\"dataframe\">\n",
              "  <thead>\n",
              "    <tr style=\"text-align: right;\">\n",
              "      <th></th>\n",
              "      <th>Id</th>\n",
              "      <th>ProductId</th>\n",
              "      <th>UserId</th>\n",
              "      <th>ProfileName</th>\n",
              "      <th>HelpfulnessNumerator</th>\n",
              "      <th>HelpfulnessDenominator</th>\n",
              "      <th>Score</th>\n",
              "      <th>Time</th>\n",
              "      <th>Summary</th>\n",
              "      <th>Text</th>\n",
              "    </tr>\n",
              "  </thead>\n",
              "  <tbody>\n",
              "    <tr>\n",
              "      <th>0</th>\n",
              "      <td>64422</td>\n",
              "      <td>B000MIDROQ</td>\n",
              "      <td>A161DK06JJMCYF</td>\n",
              "      <td>J. E. Stephens \"Jeanne\"</td>\n",
              "      <td>3</td>\n",
              "      <td>1</td>\n",
              "      <td>5</td>\n",
              "      <td>1224892800</td>\n",
              "      <td>Bought This for My Son at College</td>\n",
              "      <td>My son loves spaghetti so I didn't hesitate or...</td>\n",
              "    </tr>\n",
              "    <tr>\n",
              "      <th>1</th>\n",
              "      <td>44737</td>\n",
              "      <td>B001EQ55RW</td>\n",
              "      <td>A2V0I904FH7ABY</td>\n",
              "      <td>Ram</td>\n",
              "      <td>3</td>\n",
              "      <td>2</td>\n",
              "      <td>4</td>\n",
              "      <td>1212883200</td>\n",
              "      <td>Pure cocoa taste with crunchy almonds inside</td>\n",
              "      <td>It was almost a 'love at first bite' - the per...</td>\n",
              "    </tr>\n",
              "  </tbody>\n",
              "</table>\n",
              "</div>"
            ],
            "text/plain": [
              "      Id   ProductId          UserId              ProfileName  \\\n",
              "0  64422  B000MIDROQ  A161DK06JJMCYF  J. E. Stephens \"Jeanne\"   \n",
              "1  44737  B001EQ55RW  A2V0I904FH7ABY                      Ram   \n",
              "\n",
              "   HelpfulnessNumerator  HelpfulnessDenominator  Score        Time  \\\n",
              "0                     3                       1      5  1224892800   \n",
              "1                     3                       2      4  1212883200   \n",
              "\n",
              "                                        Summary  \\\n",
              "0             Bought This for My Son at College   \n",
              "1  Pure cocoa taste with crunchy almonds inside   \n",
              "\n",
              "                                                Text  \n",
              "0  My son loves spaghetti so I didn't hesitate or...  \n",
              "1  It was almost a 'love at first bite' - the per...  "
            ]
          },
          "metadata": {
            "tags": []
          },
          "execution_count": 36
        }
      ]
    },
    {
      "cell_type": "code",
      "metadata": {
        "id": "T3H97igzbbhQ",
        "colab_type": "code",
        "colab": {}
      },
      "source": [
        "final=final[final.HelpfulnessNumerator<=final.HelpfulnessDenominator]"
      ],
      "execution_count": 0,
      "outputs": []
    },
    {
      "cell_type": "code",
      "metadata": {
        "id": "mA1QJU3GbbhV",
        "colab_type": "code",
        "colab": {},
        "outputId": "67afd951-e811-4bc1-cae5-b03c6d3b3926"
      },
      "source": [
        "#Before starting the next phase of preprocessing lets see the number of entries left\n",
        "print(final.shape)\n",
        "\n",
        "#How many positive and negative reviews are present in our dataset?\n",
        "final['Score'].value_counts()"
      ],
      "execution_count": 0,
      "outputs": [
        {
          "output_type": "stream",
          "text": [
            "(87773, 10)\n"
          ],
          "name": "stdout"
        },
        {
          "output_type": "execute_result",
          "data": {
            "text/plain": [
              "1    73592\n",
              "0    14181\n",
              "Name: Score, dtype: int64"
            ]
          },
          "metadata": {
            "tags": []
          },
          "execution_count": 38
        }
      ]
    },
    {
      "cell_type": "markdown",
      "metadata": {
        "id": "Q_ANMt62bbha",
        "colab_type": "text"
      },
      "source": [
        "## [3] Preprocessing"
      ]
    },
    {
      "cell_type": "markdown",
      "metadata": {
        "id": "Sc9l4J4gbbhb",
        "colab_type": "text"
      },
      "source": [
        "### [3.1]. Preprocessing Review Tex"
      ]
    },
    {
      "cell_type": "code",
      "metadata": {
        "id": "NA8ORNvbbbhd",
        "colab_type": "code",
        "colab": {},
        "outputId": "c28bee85-beff-43d3-97d3-9627f49b2688"
      },
      "source": [
        "sent_0 = final['Text'].values[0]\n",
        "print(sent_0)\n",
        "print(\"=\"*50)\n",
        "\n",
        "sent_1000 = final['Text'].values[1000]\n",
        "print(sent_1000)\n",
        "print(\"=\"*50)\n",
        "\n",
        "sent_1500 = final['Text'].values[1500]\n",
        "print(sent_1500)\n",
        "print(\"=\"*50)\n",
        "\n",
        "sent_4900 = final['Text'].values[4900]\n",
        "print(sent_4900)\n",
        "print(\"=\"*50)"
      ],
      "execution_count": 0,
      "outputs": [
        {
          "output_type": "stream",
          "text": [
            "My dogs loves this chicken but its a product from China, so we wont be buying it anymore.  Its very hard to find any chicken products made in the USA but they are out there, but this one isnt.  Its too bad too because its a good product but I wont take any chances till they know what is going on with the china imports.\n",
            "==================================================\n",
            "The Candy Blocks were a nice visual for the Lego Birthday party but the candy has little taste to it.  Very little of the 2 lbs that I bought were eaten and I threw the rest away.  I would not buy the candy again.\n",
            "==================================================\n",
            "was way to hot for my blood, took a bite and did a jig  lol\n",
            "==================================================\n",
            "My dog LOVES these treats. They tend to have a very strong fish oil smell. So if you are afraid of the fishy smell, don't get it. But I think my dog likes it because of the smell. These treats are really small in size. They are great for training. You can give your dog several of these without worrying about him over eating. Amazon's price was much more reasonable than any other retailer. You can buy a 1 pound bag on Amazon for almost the same price as a 6 ounce bag at other retailers. It's definitely worth it to buy a big bag if your dog eats them a lot.\n",
            "==================================================\n"
          ],
          "name": "stdout"
        }
      ]
    },
    {
      "cell_type": "code",
      "metadata": {
        "id": "ormWCQ5sbbhk",
        "colab_type": "code",
        "colab": {},
        "outputId": "00d245e8-7be2-442e-f4be-f713cc397b7b"
      },
      "source": [
        "# remove urls from text python: https://stackoverflow.com/a/40823105/4084039\n",
        "sent_0 = re.sub(r\"http\\S+\", \"\", sent_0)\n",
        "sent_1000 = re.sub(r\"http\\S+\", \"\", sent_1000)\n",
        "sent_150 = re.sub(r\"http\\S+\", \"\", sent_1500)\n",
        "sent_4900 = re.sub(r\"http\\S+\", \"\", sent_4900)\n",
        "\n",
        "print(sent_0)"
      ],
      "execution_count": 0,
      "outputs": [
        {
          "output_type": "stream",
          "text": [
            "My dogs loves this chicken but its a product from China, so we wont be buying it anymore.  Its very hard to find any chicken products made in the USA but they are out there, but this one isnt.  Its too bad too because its a good product but I wont take any chances till they know what is going on with the china imports.\n"
          ],
          "name": "stdout"
        }
      ]
    },
    {
      "cell_type": "code",
      "metadata": {
        "id": "bGUKPtXObbho",
        "colab_type": "code",
        "colab": {},
        "outputId": "343ef2b9-bb40-4d7d-e429-e65d11b13d60"
      },
      "source": [
        "from bs4 import BeautifulSoup\n",
        "\n",
        "soup = BeautifulSoup(sent_0, 'lxml')\n",
        "text = soup.get_text()\n",
        "print(text)\n",
        "print(\"=\"*50)\n",
        "\n",
        "soup = BeautifulSoup(sent_1000, 'lxml')\n",
        "text = soup.get_text()\n",
        "print(text)\n",
        "print(\"=\"*50)\n",
        "\n",
        "soup = BeautifulSoup(sent_1500, 'lxml')\n",
        "text = soup.get_text()\n",
        "print(text)\n",
        "print(\"=\"*50)\n",
        "\n",
        "soup = BeautifulSoup(sent_4900, 'lxml')\n",
        "text = soup.get_text()\n",
        "print(text)"
      ],
      "execution_count": 0,
      "outputs": [
        {
          "output_type": "stream",
          "text": [
            "My dogs loves this chicken but its a product from China, so we wont be buying it anymore.  Its very hard to find any chicken products made in the USA but they are out there, but this one isnt.  Its too bad too because its a good product but I wont take any chances till they know what is going on with the china imports.\n",
            "==================================================\n",
            "The Candy Blocks were a nice visual for the Lego Birthday party but the candy has little taste to it.  Very little of the 2 lbs that I bought were eaten and I threw the rest away.  I would not buy the candy again.\n",
            "==================================================\n",
            "was way to hot for my blood, took a bite and did a jig  lol\n",
            "==================================================\n",
            "My dog LOVES these treats. They tend to have a very strong fish oil smell. So if you are afraid of the fishy smell, don't get it. But I think my dog likes it because of the smell. These treats are really small in size. They are great for training. You can give your dog several of these without worrying about him over eating. Amazon's price was much more reasonable than any other retailer. You can buy a 1 pound bag on Amazon for almost the same price as a 6 ounce bag at other retailers. It's definitely worth it to buy a big bag if your dog eats them a lot.\n"
          ],
          "name": "stdout"
        }
      ]
    },
    {
      "cell_type": "code",
      "metadata": {
        "id": "vKF2HpxUbbhs",
        "colab_type": "code",
        "colab": {}
      },
      "source": [
        "import re\n",
        "\n",
        "def decontracted(phrase):\n",
        "    # specific\n",
        "    phrase = re.sub(r\"won't\", \"will not\", phrase)\n",
        "    phrase = re.sub(r\"can\\'t\", \"can not\", phrase)\n",
        "\n",
        "    # general\n",
        "    phrase = re.sub(r\"n\\'t\", \" not\", phrase)\n",
        "    phrase = re.sub(r\"\\'re\", \" are\", phrase)\n",
        "    phrase = re.sub(r\"\\'s\", \" is\", phrase)\n",
        "    phrase = re.sub(r\"\\'d\", \" would\", phrase)\n",
        "    phrase = re.sub(r\"\\'ll\", \" will\", phrase)\n",
        "    phrase = re.sub(r\"\\'t\", \" not\", phrase)\n",
        "    phrase = re.sub(r\"\\'ve\", \" have\", phrase)\n",
        "    phrase = re.sub(r\"\\'m\", \" am\", phrase)\n",
        "    return phrase"
      ],
      "execution_count": 0,
      "outputs": []
    },
    {
      "cell_type": "code",
      "metadata": {
        "id": "EwZILpvYbbhw",
        "colab_type": "code",
        "colab": {},
        "outputId": "35435e85-fd82-40ba-f002-03c839a4e1d0"
      },
      "source": [
        "sent_1500 = decontracted(sent_1500)\n",
        "print(sent_1500)\n",
        "print(\"=\"*50)"
      ],
      "execution_count": 0,
      "outputs": [
        {
          "output_type": "stream",
          "text": [
            "was way to hot for my blood, took a bite and did a jig  lol\n",
            "==================================================\n"
          ],
          "name": "stdout"
        }
      ]
    },
    {
      "cell_type": "code",
      "metadata": {
        "id": "5Iv9XTeTbbh5",
        "colab_type": "code",
        "colab": {},
        "outputId": "b2954eda-c411-4953-fdee-2747ec534c99"
      },
      "source": [
        "#remove words with numbers python: https://stackoverflow.com/a/18082370/4084039\n",
        "sent_0 = re.sub(\"\\S*\\d\\S*\", \"\", sent_0).strip()\n",
        "print(sent_0)"
      ],
      "execution_count": 0,
      "outputs": [
        {
          "output_type": "stream",
          "text": [
            "My dogs loves this chicken but its a product from China, so we wont be buying it anymore.  Its very hard to find any chicken products made in the USA but they are out there, but this one isnt.  Its too bad too because its a good product but I wont take any chances till they know what is going on with the china imports.\n"
          ],
          "name": "stdout"
        }
      ]
    },
    {
      "cell_type": "code",
      "metadata": {
        "id": "DGHnxyAdbbiB",
        "colab_type": "code",
        "colab": {},
        "outputId": "2d6ef01d-e1d9-4ac6-ede9-a47c6f89faf1"
      },
      "source": [
        "#remove spacial character: https://stackoverflow.com/a/5843547/4084039\n",
        "sent_1500 = re.sub('[^A-Za-z0-9]+', ' ', sent_1500)\n",
        "print(sent_1500)"
      ],
      "execution_count": 0,
      "outputs": [
        {
          "output_type": "stream",
          "text": [
            "was way to hot for my blood took a bite and did a jig lol\n"
          ],
          "name": "stdout"
        }
      ]
    },
    {
      "cell_type": "code",
      "metadata": {
        "id": "xJCA6Y4-bbiH",
        "colab_type": "code",
        "colab": {}
      },
      "source": [
        "stopwords= set(['br', 'the', 'i', 'me', 'my', 'myself', 'we', 'our', 'ours', 'ourselves', 'you', \"you're\", \"you've\",\\\n",
        "            \"you'll\", \"you'd\", 'your', 'yours', 'yourself', 'yourselves', 'he', 'him', 'his', 'himself', \\\n",
        "            'she', \"she's\", 'her', 'hers', 'herself', 'it', \"it's\", 'its', 'itself', 'they', 'them', 'their',\\\n",
        "            'theirs', 'themselves', 'what', 'which', 'who', 'whom', 'this', 'that', \"that'll\", 'these', 'those', \\\n",
        "            'am', 'is', 'are', 'was', 'were', 'be', 'been', 'being', 'have', 'has', 'had', 'having', 'do', 'does', \\\n",
        "            'did', 'doing', 'a', 'an', 'the', 'and', 'but', 'if', 'or', 'because', 'as', 'until', 'while', 'of', \\\n",
        "            'at', 'by', 'for', 'with', 'about', 'against', 'between', 'into', 'through', 'during', 'before', 'after',\\\n",
        "            'above', 'below', 'to', 'from', 'up', 'down', 'in', 'out', 'on', 'off', 'over', 'under', 'again', 'further',\\\n",
        "            'then', 'once', 'here', 'there', 'when', 'where', 'why', 'how', 'all', 'any', 'both', 'each', 'few', 'more',\\\n",
        "            'most', 'other', 'some', 'such', 'only', 'own', 'same', 'so', 'than', 'too', 'very', \\\n",
        "            's', 't', 'can', 'will', 'just', 'don', \"don't\", 'should', \"should've\", 'now', 'd', 'll', 'm', 'o', 're', \\\n",
        "            've', 'y', 'ain', 'aren', \"aren't\", 'couldn', \"couldn't\", 'didn', \"didn't\", 'doesn', \"doesn't\", 'hadn',\\\n",
        "            \"hadn't\", 'hasn', \"hasn't\", 'haven', \"haven't\", 'isn', \"isn't\", 'ma', 'mightn', \"mightn't\", 'mustn',\\\n",
        "            \"mustn't\", 'needn', \"needn't\", 'shan', \"shan't\", 'shouldn', \"shouldn't\", 'wasn', \"wasn't\", 'weren', \"weren't\", \\\n",
        "            'won', \"won't\", 'wouldn', \"wouldn't\"])"
      ],
      "execution_count": 0,
      "outputs": []
    },
    {
      "cell_type": "code",
      "metadata": {
        "id": "EznZeewTbbiK",
        "colab_type": "code",
        "colab": {},
        "outputId": "b03536a8-db1a-4f58-9db0-58b4bf427f87"
      },
      "source": [
        "# Combining all the above stundents \n",
        "from tqdm import tqdm\n",
        "preprocessed_reviews = []\n",
        "# tqdm is for printing the status bar\n",
        "for sentance in tqdm(final['Text'].values):\n",
        "    sentance = re.sub(r\"http\\S+\", \"\", sentance)\n",
        "    sentance = BeautifulSoup(sentance, 'lxml').get_text()\n",
        "    sentance = decontracted(sentance)\n",
        "    sentance = re.sub(\"\\S*\\d\\S*\", \"\", sentance).strip()\n",
        "    sentance = re.sub('[^A-Za-z]+', ' ', sentance)\n",
        "    # https://gist.github.com/sebleier/554280\n",
        "    sentance = ' '.join(e.lower() for e in sentance.split() if e.lower() not in stopwords)\n",
        "    preprocessed_reviews.append(sentance.strip())"
      ],
      "execution_count": 0,
      "outputs": [
        {
          "output_type": "stream",
          "text": [
            "100%|██████████████████████████████████████████████████████████████████████████| 87773/87773 [00:57<00:00, 1527.44it/s]\n"
          ],
          "name": "stderr"
        }
      ]
    },
    {
      "cell_type": "markdown",
      "metadata": {
        "id": "tLOcXExPbbiR",
        "colab_type": "text"
      },
      "source": [
        "## [4] Featurization"
      ]
    },
    {
      "cell_type": "markdown",
      "metadata": {
        "id": "XrPBTHIpbbiT",
        "colab_type": "text"
      },
      "source": [
        "### [4.1] BAG OF WORDS"
      ]
    },
    {
      "cell_type": "code",
      "metadata": {
        "id": "1xCIZB-KbbiV",
        "colab_type": "code",
        "colab": {},
        "outputId": "13d83bd6-7c3b-435b-a495-d1afba90ba8f"
      },
      "source": [
        "#BoW\n",
        "count_vect = CountVectorizer() #in scikit-learn\n",
        "count_vect.fit(preprocessed_reviews)\n",
        "print(\"some feature names \", count_vect.get_feature_names()[:10])\n",
        "print('='*50)\n",
        "\n",
        "final_counts = count_vect.transform(preprocessed_reviews)\n",
        "print(\"the type of count vectorizer \",type(final_counts))\n",
        "print(\"the shape of out text BOW vectorizer \",final_counts.get_shape())\n",
        "print(\"the number of unique words \", final_counts.get_shape()[1])"
      ],
      "execution_count": 0,
      "outputs": [
        {
          "output_type": "stream",
          "text": [
            "some feature names  ['aa', 'aaa', 'aaaa', 'aaaaa', 'aaaaaaaaaaaa', 'aaaaaaaaaaaaaaa', 'aaaaaaahhhhhh', 'aaaaaaarrrrrggghhh', 'aaaaaawwwwwwwwww', 'aaaaah']\n",
            "==================================================\n",
            "the type of count vectorizer  <class 'scipy.sparse.csr.csr_matrix'>\n",
            "the shape of out text BOW vectorizer  (87773, 54904)\n",
            "the number of unique words  54904\n"
          ],
          "name": "stdout"
        }
      ]
    },
    {
      "cell_type": "markdown",
      "metadata": {
        "id": "JZnAXmWibbiZ",
        "colab_type": "text"
      },
      "source": [
        "### [4.2] Bi-Grams and n-Grams"
      ]
    },
    {
      "cell_type": "code",
      "metadata": {
        "id": "GeM6q_xCbbia",
        "colab_type": "code",
        "colab": {},
        "outputId": "26998249-c027-4fe8-fa69-835135ab4373"
      },
      "source": [
        "#bi-gram, tri-gram and n-gram\n",
        "\n",
        "#removing stop words like \"not\" should be avoided before building n-grams\n",
        "# count_vect = CountVectorizer(ngram_range=(1,2))\n",
        "# please do read the CountVectorizer documentation http://scikit-learn.org/stable/modules/generated/sklearn.feature_extraction.text.CountVectorizer.html\n",
        "\n",
        "# you can choose these numebrs min_df=10, max_features=5000, of your choice\n",
        "count_vect = CountVectorizer(ngram_range=(1,2), min_df=10, max_features=5000)\n",
        "final_bigram_counts = count_vect.fit_transform(preprocessed_reviews)\n",
        "print(\"the type of count vectorizer \",type(final_bigram_counts))\n",
        "print(\"the shape of out text BOW vectorizer \",final_bigram_counts.get_shape())\n",
        "print(\"the number of unique words including both unigrams and bigrams \", final_bigram_counts.get_shape()[1])"
      ],
      "execution_count": 0,
      "outputs": [
        {
          "output_type": "stream",
          "text": [
            "the type of count vectorizer  <class 'scipy.sparse.csr.csr_matrix'>\n",
            "the shape of out text BOW vectorizer  (87773, 5000)\n",
            "the number of unique words including both unigrams and bigrams  5000\n"
          ],
          "name": "stdout"
        }
      ]
    },
    {
      "cell_type": "markdown",
      "metadata": {
        "id": "Nqdgz_X_bbie",
        "colab_type": "text"
      },
      "source": [
        "### [4.3] TF-IDF"
      ]
    },
    {
      "cell_type": "code",
      "metadata": {
        "id": "MYkp9AqGbbig",
        "colab_type": "code",
        "colab": {},
        "outputId": "8f83cb34-3961-4b57-cd16-cd35d0511a2a"
      },
      "source": [
        "tf_idf_vect = TfidfVectorizer(ngram_range=(1,2), min_df=10)\n",
        "tf_idf_vect.fit(preprocessed_reviews)\n",
        "print(\"some sample features(unique words in the corpus)\",tf_idf_vect.get_feature_names()[0:10])\n",
        "print('='*50)\n",
        "\n",
        "final_tf_idf = tf_idf_vect.transform(preprocessed_reviews)\n",
        "print(\"the type of count vectorizer \",type(final_tf_idf))\n",
        "print(\"the shape of out text TFIDF vectorizer \",final_tf_idf.get_shape())\n",
        "print(\"the number of unique words including both unigrams and bigrams \", final_tf_idf.get_shape()[1])"
      ],
      "execution_count": 0,
      "outputs": [
        {
          "output_type": "stream",
          "text": [
            "some sample features(unique words in the corpus) ['aa', 'aafco', 'aback', 'abandon', 'abandoned', 'abdominal', 'ability', 'able', 'able add', 'able brew']\n",
            "==================================================\n",
            "the type of count vectorizer  <class 'scipy.sparse.csr.csr_matrix'>\n",
            "the shape of out text TFIDF vectorizer  (87773, 51709)\n",
            "the number of unique words including both unigrams and bigrams  51709\n"
          ],
          "name": "stdout"
        }
      ]
    },
    {
      "cell_type": "markdown",
      "metadata": {
        "id": "b0Jn5FNrbbij",
        "colab_type": "text"
      },
      "source": [
        "# [5] Truncated SVD"
      ]
    },
    {
      "cell_type": "markdown",
      "metadata": {
        "id": "fz0f7Z4Ybbil",
        "colab_type": "text"
      },
      "source": [
        "## [5.1] Taking top features from TFIDF"
      ]
    },
    {
      "cell_type": "code",
      "metadata": {
        "id": "D4Hi0E4-bbim",
        "colab_type": "code",
        "colab": {},
        "outputId": "554989cc-7f96-43d3-cc0c-338a69d4bf1a"
      },
      "source": [
        "# Standardization\n",
        "from sklearn.preprocessing import StandardScaler\n",
        "std = StandardScaler(with_mean = False)\n",
        "std_data = std.fit_transform(final_tf_idf)\n",
        "std_data"
      ],
      "execution_count": 0,
      "outputs": [
        {
          "output_type": "execute_result",
          "data": {
            "text/plain": [
              "<87773x51709 sparse matrix of type '<class 'numpy.float64'>'\n",
              "\twith 4107655 stored elements in Compressed Sparse Row format>"
            ]
          },
          "metadata": {
            "tags": []
          },
          "execution_count": 51
        }
      ]
    },
    {
      "cell_type": "code",
      "metadata": {
        "id": "-bzzVwZZbbis",
        "colab_type": "code",
        "colab": {},
        "outputId": "1e49759b-a9aa-4a96-821d-575b3745d0a8"
      },
      "source": [
        "# List of vocabulary\n",
        "list(tf_idf_vect.vocabulary_.keys())[0:10]"
      ],
      "execution_count": 0,
      "outputs": [
        {
          "output_type": "execute_result",
          "data": {
            "text/plain": [
              "['dogs',\n",
              " 'loves',\n",
              " 'chicken',\n",
              " 'product',\n",
              " 'china',\n",
              " 'wont',\n",
              " 'buying',\n",
              " 'anymore',\n",
              " 'hard',\n",
              " 'find']"
            ]
          },
          "metadata": {
            "tags": []
          },
          "execution_count": 52
        }
      ]
    },
    {
      "cell_type": "code",
      "metadata": {
        "id": "s4E3xSqjbbix",
        "colab_type": "code",
        "colab": {},
        "outputId": "c7fcee19-2a4a-421c-db87-0cff10dd9c7c"
      },
      "source": [
        "# List of vocabulary values \n",
        "list(tf_idf_vect.vocabulary_.values())[0:10]"
      ],
      "execution_count": 0,
      "outputs": [
        {
          "output_type": "execute_result",
          "data": {
            "text/plain": [
              "[12123, 26483, 7384, 35753, 7502, 50846, 6032, 1845, 20976, 15630]"
            ]
          },
          "metadata": {
            "tags": []
          },
          "execution_count": 53
        }
      ]
    },
    {
      "cell_type": "code",
      "metadata": {
        "id": "sQc4L_lhbbi3",
        "colab_type": "code",
        "colab": {},
        "outputId": "84230bb6-8554-4a64-e6e1-1fdde9646e9e"
      },
      "source": [
        "# Get feature names from tfidf\n",
        "features = tf_idf_vect.get_feature_names()\n",
        "# feature weights based on idf score\n",
        "coef = tf_idf_vect.idf_\n",
        "# Store features with their idf score in a dataframe\n",
        "coeff_df = pd.DataFrame({'Features' : features, 'Idf_score' : coef})\n",
        "coeff_df = coeff_df.sort_values(\"Idf_score\", ascending = True)[:2000]\n",
        "print(\"shape of selected features :\", coeff_df.shape)\n",
        "print(\"Top 5 features :\\n\\n\",coeff_df[0:10])"
      ],
      "execution_count": 0,
      "outputs": [
        {
          "output_type": "stream",
          "text": [
            "shape of selected features : (2000, 2)\n",
            "Top 5 features :\n",
            "\n",
            "       Features  Idf_score\n",
            "30359      not   1.605378\n",
            "24554     like   2.198111\n",
            "19289     good   2.312714\n",
            "20089    great   2.412216\n",
            "31964      one   2.500359\n",
            "44466    taste   2.516372\n",
            "51056    would   2.591810\n",
            "35753  product   2.653863\n",
            "26110     love   2.681394\n",
            "16145   flavor   2.697065\n"
          ],
          "name": "stdout"
        }
      ]
    },
    {
      "cell_type": "markdown",
      "metadata": {
        "id": "bEmZvkmxbbi9",
        "colab_type": "text"
      },
      "source": [
        "## [5.2] Calulation of Co-occurrence matrix "
      ]
    },
    {
      "cell_type": "code",
      "metadata": {
        "id": "sXImHCYzbbi-",
        "colab_type": "code",
        "colab": {},
        "outputId": "76e7c587-5324-4107-dd12-b5f54cc4f417"
      },
      "source": [
        "# co-occurence matrix\n",
        "co_occurence_matrix = np.zeros((len(coeff_df), len(coeff_df)))\n",
        "print(co_occurence_matrix.shape)\n",
        "df = pd.DataFrame(co_occurence_matrix, index = coeff_df[\"Features\"], columns = coeff_df[\"Features\"])\n",
        "df.shape"
      ],
      "execution_count": 0,
      "outputs": [
        {
          "output_type": "stream",
          "text": [
            "(2000, 2000)\n"
          ],
          "name": "stdout"
        },
        {
          "output_type": "execute_result",
          "data": {
            "text/plain": [
              "(2000, 2000)"
            ]
          },
          "metadata": {
            "tags": []
          },
          "execution_count": 55
        }
      ]
    },
    {
      "cell_type": "code",
      "metadata": {
        "id": "0oYac98ObbjB",
        "colab_type": "code",
        "colab": {},
        "outputId": "f2f50c0b-8d04-4757-af40-5893e5759295"
      },
      "source": [
        "# Calculate Co-Occurrence Matrix \n",
        "# with windows size 4 in forward and backward pass\n",
        "%time\n",
        "window_size = 4\n",
        "for sent in preprocessed_reviews:\n",
        "    word = sent.split(\" \")\n",
        "    for i, d in enumerate(word):\n",
        "        for j in range(max(i - window_size, 0), min(i + window_size, len(word))):\n",
        "            if (word[i] != word[j]):\n",
        "                    try:\n",
        "                        df.loc[word[i], word[j]] += 1\n",
        "                        df.loc[word[j], word[i]] += 1\n",
        "                    except:\n",
        "                        pass"
      ],
      "execution_count": 0,
      "outputs": [
        {
          "output_type": "stream",
          "text": [
            "Wall time: 0 ns\n"
          ],
          "name": "stdout"
        }
      ]
    },
    {
      "cell_type": "code",
      "metadata": {
        "id": "wVRXwsETbbjF",
        "colab_type": "code",
        "colab": {},
        "outputId": "9d637320-65cb-4f7d-dabd-e3341e91bf00"
      },
      "source": [
        "df.head()"
      ],
      "execution_count": 0,
      "outputs": [
        {
          "output_type": "execute_result",
          "data": {
            "text/html": [
              "<div>\n",
              "<style scoped>\n",
              "    .dataframe tbody tr th:only-of-type {\n",
              "        vertical-align: middle;\n",
              "    }\n",
              "\n",
              "    .dataframe tbody tr th {\n",
              "        vertical-align: top;\n",
              "    }\n",
              "\n",
              "    .dataframe thead th {\n",
              "        text-align: right;\n",
              "    }\n",
              "</style>\n",
              "<table border=\"1\" class=\"dataframe\">\n",
              "  <thead>\n",
              "    <tr style=\"text-align: right;\">\n",
              "      <th>Features</th>\n",
              "      <th>not</th>\n",
              "      <th>like</th>\n",
              "      <th>good</th>\n",
              "      <th>great</th>\n",
              "      <th>one</th>\n",
              "      <th>taste</th>\n",
              "      <th>would</th>\n",
              "      <th>product</th>\n",
              "      <th>love</th>\n",
              "      <th>flavor</th>\n",
              "      <th>...</th>\n",
              "      <th>occasional</th>\n",
              "      <th>whole family</th>\n",
              "      <th>pressure</th>\n",
              "      <th>amazon great</th>\n",
              "      <th>blueberry</th>\n",
              "      <th>work well</th>\n",
              "      <th>unpleasant</th>\n",
              "      <th>odor</th>\n",
              "      <th>equal</th>\n",
              "      <th>punch</th>\n",
              "    </tr>\n",
              "    <tr>\n",
              "      <th>Features</th>\n",
              "      <th></th>\n",
              "      <th></th>\n",
              "      <th></th>\n",
              "      <th></th>\n",
              "      <th></th>\n",
              "      <th></th>\n",
              "      <th></th>\n",
              "      <th></th>\n",
              "      <th></th>\n",
              "      <th></th>\n",
              "      <th></th>\n",
              "      <th></th>\n",
              "      <th></th>\n",
              "      <th></th>\n",
              "      <th></th>\n",
              "      <th></th>\n",
              "      <th></th>\n",
              "      <th></th>\n",
              "      <th></th>\n",
              "      <th></th>\n",
              "      <th></th>\n",
              "    </tr>\n",
              "  </thead>\n",
              "  <tbody>\n",
              "    <tr>\n",
              "      <th>not</th>\n",
              "      <td>0.0</td>\n",
              "      <td>22131.0</td>\n",
              "      <td>13164.0</td>\n",
              "      <td>6663.0</td>\n",
              "      <td>9091.0</td>\n",
              "      <td>15185.0</td>\n",
              "      <td>12803.0</td>\n",
              "      <td>8286.0</td>\n",
              "      <td>4599.0</td>\n",
              "      <td>9845.0</td>\n",
              "      <td>...</td>\n",
              "      <td>87.0</td>\n",
              "      <td>0.0</td>\n",
              "      <td>110.0</td>\n",
              "      <td>0.0</td>\n",
              "      <td>112.0</td>\n",
              "      <td>0.0</td>\n",
              "      <td>224.0</td>\n",
              "      <td>219.0</td>\n",
              "      <td>129.0</td>\n",
              "      <td>112.0</td>\n",
              "    </tr>\n",
              "    <tr>\n",
              "      <th>like</th>\n",
              "      <td>22131.0</td>\n",
              "      <td>0.0</td>\n",
              "      <td>4346.0</td>\n",
              "      <td>2482.0</td>\n",
              "      <td>3596.0</td>\n",
              "      <td>9801.0</td>\n",
              "      <td>4900.0</td>\n",
              "      <td>2648.0</td>\n",
              "      <td>2019.0</td>\n",
              "      <td>4387.0</td>\n",
              "      <td>...</td>\n",
              "      <td>29.0</td>\n",
              "      <td>0.0</td>\n",
              "      <td>32.0</td>\n",
              "      <td>0.0</td>\n",
              "      <td>89.0</td>\n",
              "      <td>0.0</td>\n",
              "      <td>57.0</td>\n",
              "      <td>66.0</td>\n",
              "      <td>32.0</td>\n",
              "      <td>92.0</td>\n",
              "    </tr>\n",
              "    <tr>\n",
              "      <th>good</th>\n",
              "      <td>13164.0</td>\n",
              "      <td>4346.0</td>\n",
              "      <td>0.0</td>\n",
              "      <td>2498.0</td>\n",
              "      <td>2701.0</td>\n",
              "      <td>6394.0</td>\n",
              "      <td>3038.0</td>\n",
              "      <td>3729.0</td>\n",
              "      <td>1660.0</td>\n",
              "      <td>4085.0</td>\n",
              "      <td>...</td>\n",
              "      <td>37.0</td>\n",
              "      <td>0.0</td>\n",
              "      <td>36.0</td>\n",
              "      <td>0.0</td>\n",
              "      <td>52.0</td>\n",
              "      <td>0.0</td>\n",
              "      <td>18.0</td>\n",
              "      <td>28.0</td>\n",
              "      <td>20.0</td>\n",
              "      <td>32.0</td>\n",
              "    </tr>\n",
              "    <tr>\n",
              "      <th>great</th>\n",
              "      <td>6663.0</td>\n",
              "      <td>2482.0</td>\n",
              "      <td>2498.0</td>\n",
              "      <td>0.0</td>\n",
              "      <td>1668.0</td>\n",
              "      <td>5480.0</td>\n",
              "      <td>1935.0</td>\n",
              "      <td>5516.0</td>\n",
              "      <td>2293.0</td>\n",
              "      <td>3932.0</td>\n",
              "      <td>...</td>\n",
              "      <td>22.0</td>\n",
              "      <td>0.0</td>\n",
              "      <td>20.0</td>\n",
              "      <td>0.0</td>\n",
              "      <td>34.0</td>\n",
              "      <td>0.0</td>\n",
              "      <td>7.0</td>\n",
              "      <td>23.0</td>\n",
              "      <td>9.0</td>\n",
              "      <td>30.0</td>\n",
              "    </tr>\n",
              "    <tr>\n",
              "      <th>one</th>\n",
              "      <td>9091.0</td>\n",
              "      <td>3596.0</td>\n",
              "      <td>2701.0</td>\n",
              "      <td>1668.0</td>\n",
              "      <td>0.0</td>\n",
              "      <td>1940.0</td>\n",
              "      <td>2569.0</td>\n",
              "      <td>1315.0</td>\n",
              "      <td>1503.0</td>\n",
              "      <td>1820.0</td>\n",
              "      <td>...</td>\n",
              "      <td>31.0</td>\n",
              "      <td>0.0</td>\n",
              "      <td>13.0</td>\n",
              "      <td>0.0</td>\n",
              "      <td>43.0</td>\n",
              "      <td>0.0</td>\n",
              "      <td>18.0</td>\n",
              "      <td>20.0</td>\n",
              "      <td>44.0</td>\n",
              "      <td>21.0</td>\n",
              "    </tr>\n",
              "  </tbody>\n",
              "</table>\n",
              "<p>5 rows × 2000 columns</p>\n",
              "</div>"
            ],
            "text/plain": [
              "Features      not     like     good   great     one    taste    would  \\\n",
              "Features                                                                \n",
              "not           0.0  22131.0  13164.0  6663.0  9091.0  15185.0  12803.0   \n",
              "like      22131.0      0.0   4346.0  2482.0  3596.0   9801.0   4900.0   \n",
              "good      13164.0   4346.0      0.0  2498.0  2701.0   6394.0   3038.0   \n",
              "great      6663.0   2482.0   2498.0     0.0  1668.0   5480.0   1935.0   \n",
              "one        9091.0   3596.0   2701.0  1668.0     0.0   1940.0   2569.0   \n",
              "\n",
              "Features  product    love  flavor  ...    occasional  whole family  pressure  \\\n",
              "Features                           ...                                         \n",
              "not        8286.0  4599.0  9845.0  ...          87.0           0.0     110.0   \n",
              "like       2648.0  2019.0  4387.0  ...          29.0           0.0      32.0   \n",
              "good       3729.0  1660.0  4085.0  ...          37.0           0.0      36.0   \n",
              "great      5516.0  2293.0  3932.0  ...          22.0           0.0      20.0   \n",
              "one        1315.0  1503.0  1820.0  ...          31.0           0.0      13.0   \n",
              "\n",
              "Features  amazon great  blueberry  work well  unpleasant   odor  equal  punch  \n",
              "Features                                                                       \n",
              "not                0.0      112.0        0.0       224.0  219.0  129.0  112.0  \n",
              "like               0.0       89.0        0.0        57.0   66.0   32.0   92.0  \n",
              "good               0.0       52.0        0.0        18.0   28.0   20.0   32.0  \n",
              "great              0.0       34.0        0.0         7.0   23.0    9.0   30.0  \n",
              "one                0.0       43.0        0.0        18.0   20.0   44.0   21.0  \n",
              "\n",
              "[5 rows x 2000 columns]"
            ]
          },
          "metadata": {
            "tags": []
          },
          "execution_count": 57
        }
      ]
    },
    {
      "cell_type": "markdown",
      "metadata": {
        "id": "PT895P8TbbjK",
        "colab_type": "text"
      },
      "source": [
        "## [5.3] Finding optimal value for number of components (n) to be retained"
      ]
    },
    {
      "cell_type": "code",
      "metadata": {
        "id": "iNaSWATibbjN",
        "colab_type": "code",
        "colab": {},
        "outputId": "179844d1-7529-41db-c1da-c2b98b074b5b"
      },
      "source": [
        "# TrucatedSVD\n",
        "from sklearn.decomposition import TruncatedSVD\n",
        "ts = TruncatedSVD(n_components = 400)\n",
        "ts_data = ts.fit_transform(df)\n",
        "\n",
        "percentage_var_explained = ts.explained_variance_ / np.sum(ts.explained_variance_)\n",
        "\n",
        "cum_var_explained = np.cumsum(percentage_var_explained)\n",
        "\n",
        "# Plot the PCA spectrum\n",
        "plt.figure(1, figsize=(6, 4))\n",
        "\n",
        "plt.clf()\n",
        "plt.plot(cum_var_explained, linewidth = 2)\n",
        "plt.axis('tight')\n",
        "plt.grid()\n",
        "plt.xlabel('n_components')\n",
        "plt.ylabel('Cumulative_explained_variance')\n",
        "plt.show()"
      ],
      "execution_count": 0,
      "outputs": [
        {
          "output_type": "display_data",
          "data": {
            "image/png": "[encoded data removed]",
            "text/plain": [
              "<Figure size 432x288 with 1 Axes>"
            ]
          },
          "metadata": {
            "tags": []
          }
        }
      ]
    },
    {
      "cell_type": "markdown",
      "metadata": {
        "id": "QXqDj7cObbjQ",
        "colab_type": "text"
      },
      "source": [
        "## [5.4] Applying k-means clustering"
      ]
    },
    {
      "cell_type": "code",
      "metadata": {
        "id": "cac7wbJZbbjS",
        "colab_type": "code",
        "colab": {}
      },
      "source": [
        "# Elbow method to find K \n",
        "def find_optimal_k(data):\n",
        "    loss = []\n",
        "    k = list(range(2, 15, 2))\n",
        "    for noc in k:\n",
        "        model = KMeans(n_clusters = noc)\n",
        "        model.fit(data)\n",
        "        loss.append(model.inertia_)\n",
        "    plt.plot(k, loss, \"-o\")\n",
        "    plt.title(\"Elbow method to choose k\")\n",
        "    plt.xlabel(\"K\")\n",
        "    plt.ylabel(\"Loss\")\n",
        "    plt.show()"
      ],
      "execution_count": 0,
      "outputs": []
    },
    {
      "cell_type": "code",
      "metadata": {
        "id": "gWh2WDX4bbjW",
        "colab_type": "code",
        "colab": {},
        "outputId": "ff0252dc-0e6f-496f-915d-d92c75fe0f5b"
      },
      "source": [
        "# Find best k using elbow method\n",
        "find_optimal_k(ts_data)"
      ],
      "execution_count": 0,
      "outputs": [
        {
          "output_type": "display_data",
          "data": {
            "image/png": "[encoded data removed]",
            "text/plain": [
              "<Figure size 432x288 with 1 Axes>"
            ]
          },
          "metadata": {
            "tags": []
          }
        }
      ]
    },
    {
      "cell_type": "code",
      "metadata": {
        "id": "dUMoPD3ibbjb",
        "colab_type": "code",
        "colab": {}
      },
      "source": [
        "# After applying truncated svd store data into dataframe\n",
        "df = pd.DataFrame(ts_data)"
      ],
      "execution_count": 0,
      "outputs": []
    },
    {
      "cell_type": "code",
      "metadata": {
        "id": "erGRurrXbbjf",
        "colab_type": "code",
        "colab": {},
        "outputId": "09440d47-f6db-46cd-b6b9-ea145a309e39"
      },
      "source": [
        "# Data shape\n",
        "df.shape"
      ],
      "execution_count": 0,
      "outputs": [
        {
          "output_type": "execute_result",
          "data": {
            "text/plain": [
              "(2000, 400)"
            ]
          },
          "metadata": {
            "tags": []
          },
          "execution_count": 97
        }
      ]
    },
    {
      "cell_type": "code",
      "metadata": {
        "id": "BIqIYlgybbjj",
        "colab_type": "code",
        "colab": {},
        "outputId": "2b71401d-6a2e-484e-db79-b87d2bbbe11e"
      },
      "source": [
        "# K-means clustering\n",
        "clf = KMeans(n_clusters = 10)\n",
        "clf.fit(ts_data)"
      ],
      "execution_count": 0,
      "outputs": [
        {
          "output_type": "execute_result",
          "data": {
            "text/plain": [
              "KMeans(algorithm='auto', copy_x=True, init='k-means++', max_iter=300,\n",
              "    n_clusters=10, n_init=10, n_jobs=1, precompute_distances='auto',\n",
              "    random_state=None, tol=0.0001, verbose=0)"
            ]
          },
          "metadata": {
            "tags": []
          },
          "execution_count": 98
        }
      ]
    },
    {
      "cell_type": "code",
      "metadata": {
        "id": "YKocnqPhbbjp",
        "colab_type": "code",
        "colab": {},
        "outputId": "fa1d9e36-e9a4-47f4-e429-5cec0e08af8f"
      },
      "source": [
        "# Assign each data-points with its correspondincg label\n",
        "df[\"Cluster_labels\"] = clf.labels_\n",
        "df[\"Words\"] = coeff_df[\"Features\"].values     \n",
        "df.head()"
      ],
      "execution_count": 0,
      "outputs": [
        {
          "output_type": "execute_result",
          "data": {
            "text/html": [
              "<div>\n",
              "<style scoped>\n",
              "    .dataframe tbody tr th:only-of-type {\n",
              "        vertical-align: middle;\n",
              "    }\n",
              "\n",
              "    .dataframe tbody tr th {\n",
              "        vertical-align: top;\n",
              "    }\n",
              "\n",
              "    .dataframe thead th {\n",
              "        text-align: right;\n",
              "    }\n",
              "</style>\n",
              "<table border=\"1\" class=\"dataframe\">\n",
              "  <thead>\n",
              "    <tr style=\"text-align: right;\">\n",
              "      <th></th>\n",
              "      <th>0</th>\n",
              "      <th>1</th>\n",
              "      <th>2</th>\n",
              "      <th>3</th>\n",
              "      <th>4</th>\n",
              "      <th>5</th>\n",
              "      <th>6</th>\n",
              "      <th>7</th>\n",
              "      <th>8</th>\n",
              "      <th>9</th>\n",
              "      <th>...</th>\n",
              "      <th>392</th>\n",
              "      <th>393</th>\n",
              "      <th>394</th>\n",
              "      <th>395</th>\n",
              "      <th>396</th>\n",
              "      <th>397</th>\n",
              "      <th>398</th>\n",
              "      <th>399</th>\n",
              "      <th>Cluster_labels</th>\n",
              "      <th>Words</th>\n",
              "    </tr>\n",
              "  </thead>\n",
              "  <tbody>\n",
              "    <tr>\n",
              "      <th>0</th>\n",
              "      <td>47215.625631</td>\n",
              "      <td>28714.108289</td>\n",
              "      <td>-485.427388</td>\n",
              "      <td>816.159495</td>\n",
              "      <td>1631.876515</td>\n",
              "      <td>-988.146745</td>\n",
              "      <td>-217.728711</td>\n",
              "      <td>1164.184099</td>\n",
              "      <td>-299.556860</td>\n",
              "      <td>-700.501160</td>\n",
              "      <td>...</td>\n",
              "      <td>2.479829</td>\n",
              "      <td>0.919265</td>\n",
              "      <td>-0.103852</td>\n",
              "      <td>-0.103086</td>\n",
              "      <td>-2.137211</td>\n",
              "      <td>-0.026973</td>\n",
              "      <td>-1.548226</td>\n",
              "      <td>1.205910</td>\n",
              "      <td>1</td>\n",
              "      <td>not</td>\n",
              "    </tr>\n",
              "    <tr>\n",
              "      <th>1</th>\n",
              "      <td>27970.184723</td>\n",
              "      <td>-10604.126647</td>\n",
              "      <td>-3765.317659</td>\n",
              "      <td>8187.460166</td>\n",
              "      <td>2016.784608</td>\n",
              "      <td>-788.574999</td>\n",
              "      <td>-1755.191258</td>\n",
              "      <td>560.763540</td>\n",
              "      <td>-2766.710744</td>\n",
              "      <td>-820.757188</td>\n",
              "      <td>...</td>\n",
              "      <td>2.391075</td>\n",
              "      <td>0.627325</td>\n",
              "      <td>-1.156193</td>\n",
              "      <td>2.517411</td>\n",
              "      <td>-2.362673</td>\n",
              "      <td>-0.411215</td>\n",
              "      <td>3.562161</td>\n",
              "      <td>3.975728</td>\n",
              "      <td>4</td>\n",
              "      <td>like</td>\n",
              "    </tr>\n",
              "    <tr>\n",
              "      <th>2</th>\n",
              "      <td>20709.581567</td>\n",
              "      <td>-4005.340506</td>\n",
              "      <td>-1243.307962</td>\n",
              "      <td>4986.340604</td>\n",
              "      <td>-325.188110</td>\n",
              "      <td>-1363.594093</td>\n",
              "      <td>1972.632567</td>\n",
              "      <td>-807.954440</td>\n",
              "      <td>1372.562464</td>\n",
              "      <td>532.614656</td>\n",
              "      <td>...</td>\n",
              "      <td>1.791877</td>\n",
              "      <td>1.135360</td>\n",
              "      <td>-0.167370</td>\n",
              "      <td>-1.629592</td>\n",
              "      <td>5.367160</td>\n",
              "      <td>4.140593</td>\n",
              "      <td>2.568772</td>\n",
              "      <td>-0.663203</td>\n",
              "      <td>8</td>\n",
              "      <td>good</td>\n",
              "    </tr>\n",
              "    <tr>\n",
              "      <th>3</th>\n",
              "      <td>15081.757186</td>\n",
              "      <td>-50.092773</td>\n",
              "      <td>120.002652</td>\n",
              "      <td>5135.196557</td>\n",
              "      <td>-2269.012568</td>\n",
              "      <td>-1196.628244</td>\n",
              "      <td>2377.231440</td>\n",
              "      <td>-2327.331986</td>\n",
              "      <td>1475.378670</td>\n",
              "      <td>1945.881829</td>\n",
              "      <td>...</td>\n",
              "      <td>-6.992175</td>\n",
              "      <td>-2.756095</td>\n",
              "      <td>-2.866200</td>\n",
              "      <td>-0.668453</td>\n",
              "      <td>-3.099621</td>\n",
              "      <td>-3.862642</td>\n",
              "      <td>2.214852</td>\n",
              "      <td>4.933953</td>\n",
              "      <td>8</td>\n",
              "      <td>great</td>\n",
              "    </tr>\n",
              "    <tr>\n",
              "      <th>4</th>\n",
              "      <td>15129.380055</td>\n",
              "      <td>-2327.386702</td>\n",
              "      <td>1428.802207</td>\n",
              "      <td>-650.210016</td>\n",
              "      <td>-316.670895</td>\n",
              "      <td>2599.730332</td>\n",
              "      <td>450.631385</td>\n",
              "      <td>830.847847</td>\n",
              "      <td>-408.198974</td>\n",
              "      <td>-177.629466</td>\n",
              "      <td>...</td>\n",
              "      <td>5.740939</td>\n",
              "      <td>5.450383</td>\n",
              "      <td>4.652200</td>\n",
              "      <td>3.253933</td>\n",
              "      <td>3.692630</td>\n",
              "      <td>-4.069471</td>\n",
              "      <td>-0.598506</td>\n",
              "      <td>-5.850733</td>\n",
              "      <td>7</td>\n",
              "      <td>one</td>\n",
              "    </tr>\n",
              "  </tbody>\n",
              "</table>\n",
              "<p>5 rows × 402 columns</p>\n",
              "</div>"
            ],
            "text/plain": [
              "              0             1            2            3            4  \\\n",
              "0  47215.625631  28714.108289  -485.427388   816.159495  1631.876515   \n",
              "1  27970.184723 -10604.126647 -3765.317659  8187.460166  2016.784608   \n",
              "2  20709.581567  -4005.340506 -1243.307962  4986.340604  -325.188110   \n",
              "3  15081.757186    -50.092773   120.002652  5135.196557 -2269.012568   \n",
              "4  15129.380055  -2327.386702  1428.802207  -650.210016  -316.670895   \n",
              "\n",
              "             5            6            7            8            9  ...    \\\n",
              "0  -988.146745  -217.728711  1164.184099  -299.556860  -700.501160  ...     \n",
              "1  -788.574999 -1755.191258   560.763540 -2766.710744  -820.757188  ...     \n",
              "2 -1363.594093  1972.632567  -807.954440  1372.562464   532.614656  ...     \n",
              "3 -1196.628244  2377.231440 -2327.331986  1475.378670  1945.881829  ...     \n",
              "4  2599.730332   450.631385   830.847847  -408.198974  -177.629466  ...     \n",
              "\n",
              "        392       393       394       395       396       397       398  \\\n",
              "0  2.479829  0.919265 -0.103852 -0.103086 -2.137211 -0.026973 -1.548226   \n",
              "1  2.391075  0.627325 -1.156193  2.517411 -2.362673 -0.411215  3.562161   \n",
              "2  1.791877  1.135360 -0.167370 -1.629592  5.367160  4.140593  2.568772   \n",
              "3 -6.992175 -2.756095 -2.866200 -0.668453 -3.099621 -3.862642  2.214852   \n",
              "4  5.740939  5.450383  4.652200  3.253933  3.692630 -4.069471 -0.598506   \n",
              "\n",
              "        399  Cluster_labels  Words  \n",
              "0  1.205910               1    not  \n",
              "1  3.975728               4   like  \n",
              "2 -0.663203               8   good  \n",
              "3  4.933953               8  great  \n",
              "4 -5.850733               7    one  \n",
              "\n",
              "[5 rows x 402 columns]"
            ]
          },
          "metadata": {
            "tags": []
          },
          "execution_count": 99
        }
      ]
    },
    {
      "cell_type": "code",
      "metadata": {
        "id": "qT2Yl15Tbbju",
        "colab_type": "code",
        "colab": {},
        "outputId": "19da5365-5b81-49c8-f93d-f373ba32d891"
      },
      "source": [
        "reviews = preprocessed_reviews\n",
        "# Getting all the reviews in different clusters\n",
        "cluster1 = []\n",
        "cluster2 = []\n",
        "cluster3 = []\n",
        "cluster4 = []\n",
        "cluster5 = []\n",
        "cluster6 = []\n",
        "cluster7 = []\n",
        "cluster8 = []\n",
        "cluster9 = []\n",
        "\n",
        "for i in range(kmeans.labels_.shape[0]):\n",
        "    if kmeans.labels_[i] == 0:\n",
        "        cluster1.append(reviews[i])\n",
        "    elif kmeans.labels_[i] == 1:\n",
        "        cluster2.append(reviews[i])\n",
        "    elif kmeans.labels_[i] == 2:\n",
        "        cluster3.append(reviews[i])\n",
        "    elif kmeans.labels_[i] == 3:\n",
        "        cluster4.append(reviews[i])\n",
        "    elif kmeans.labels_[i] == 4:\n",
        "        cluster5.append(reviews[i])\n",
        "    elif kmeans.labels_[i] == 5:\n",
        "        cluster6.append(reviews[i])\n",
        "    elif kmeans.labels_[i] == 6:\n",
        "        cluster7.append(reviews[i])\n",
        "    elif kmeans.labels_[i] == 7:\n",
        "        cluster8.append(reviews[i])\n",
        "    else :\n",
        "        cluster9.append(reviews[i]) \n",
        "        \n",
        "# Number of reviews in different clusters\n",
        "print(\"No. of reviews in Cluster-1 : \",len(cluster1))\n",
        "print(\"\\nNo. of reviews in Cluster-2 : \",len(cluster2))\n",
        "print(\"\\nNo. of reviews in Cluster-3 : \",len(cluster3))\n",
        "print(\"\\nNo. of reviews in Cluster-4 : \",len(cluster4))\n",
        "print(\"\\nNo. of reviews in Cluster-5 : \",len(cluster5))\n",
        "print(\"\\nNo. of reviews in Cluster-6 : \",len(cluster6))\n",
        "print(\"\\nNo. of reviews in Cluster-7 : \",len(cluster7))\n",
        "print(\"\\nNo. of reviews in Cluster-8 : \",len(cluster8))\n",
        "print(\"\\nNo. of reviews in Cluster-9 : \",len(cluster9))"
      ],
      "execution_count": 0,
      "outputs": [
        {
          "output_type": "stream",
          "text": [
            "No. of reviews in Cluster-1 :  1493\n",
            "\n",
            "No. of reviews in Cluster-2 :  7\n",
            "\n",
            "No. of reviews in Cluster-3 :  31\n",
            "\n",
            "No. of reviews in Cluster-4 :  1\n",
            "\n",
            "No. of reviews in Cluster-5 :  126\n",
            "\n",
            "No. of reviews in Cluster-6 :  338\n",
            "\n",
            "No. of reviews in Cluster-7 :  1\n",
            "\n",
            "No. of reviews in Cluster-8 :  1\n",
            "\n",
            "No. of reviews in Cluster-9 :  2\n"
          ],
          "name": "stdout"
        }
      ]
    },
    {
      "cell_type": "markdown",
      "metadata": {
        "id": "Hria65KGbbj3",
        "colab_type": "text"
      },
      "source": [
        "### [5.5] Wordclouds of clusters obtained in the above section"
      ]
    },
    {
      "cell_type": "code",
      "metadata": {
        "id": "dAfZL8xsbbj4",
        "colab_type": "code",
        "colab": {},
        "outputId": "6e439bec-d7fe-463a-cca9-c449b9ad6466"
      },
      "source": [
        "#Reading reviews manually\n",
        "cluster1[0]"
      ],
      "execution_count": 0,
      "outputs": [
        {
          "output_type": "execute_result",
          "data": {
            "text/plain": [
              "'disappointed regular nylabones pound dogs chewed sharp dangerous chunks within matter minutes wary nylabone products durable ones turned great buy durable dogs like bone shaped durable nylabones love dinosaurs never seem get tired chomping wear slowly tiny pieces appear harmless month three dogs working two dinosaurs toys missing heads plenty chew irregular shape makes easy hold onto fun go different angles house never without things'"
            ]
          },
          "metadata": {
            "tags": []
          },
          "execution_count": 113
        }
      ]
    },
    {
      "cell_type": "code",
      "metadata": {
        "id": "3x6I4ql2bbkD",
        "colab_type": "code",
        "colab": {},
        "outputId": "0013f138-daa6-4da0-bb92-f4514c1c3eb9"
      },
      "source": [
        "import nltk\n",
        "nltk.download('punkt')\n",
        "  \n",
        "\n",
        "for val in cluster1:\n",
        "    text = val.lower()\n",
        "    tokens = nltk.word_tokenize(text)\n",
        "    tokens = cluster1\n",
        "    for words in tokens:\n",
        "        cluster1_words = words + ' '\n",
        "\n",
        "from wordcloud import WordCloud\n",
        "plt.ion()\n",
        "print (\"cluster1 Word-Cloud\")\n",
        "wordcloud = WordCloud(max_font_size=50).generate(cluster1_words)\n",
        "plt.figure()\n",
        "plt.imshow(wordcloud)\n",
        "plt.axis(\"off\")\n",
        "plt.show() "
      ],
      "execution_count": 0,
      "outputs": [
        {
          "output_type": "stream",
          "text": [
            "[nltk_data] Downloading package punkt to C:\\Users\\BALARAMI\n",
            "[nltk_data]     REDDY\\AppData\\Roaming\\nltk_data...\n",
            "[nltk_data]   Package punkt is already up-to-date!\n",
            "cluster1 Word-Cloud\n"
          ],
          "name": "stdout"
        },
        {
          "output_type": "display_data",
          "data": {
            "image/png": "[encoded data removed]",
            "text/plain": [
              "<Figure size 432x288 with 1 Axes>"
            ]
          },
          "metadata": {
            "tags": []
          }
        }
      ]
    },
    {
      "cell_type": "code",
      "metadata": {
        "id": "c2zretqtbbkL",
        "colab_type": "code",
        "colab": {},
        "outputId": "2fb65654-3173-4c2a-f4b8-997d710b48a7"
      },
      "source": [
        "cluster2[0]"
      ],
      "execution_count": 0,
      "outputs": [
        {
          "output_type": "execute_result",
          "data": {
            "text/plain": [
              "'wish would read reviews making purchase basically cardsotck box sticky outside pink ish things look like entrances trap pictures no inside trap flies stuck outside basically fly paper horribly horribly horribly overpriced favor get fly paper fly strips yuck factor much cheaper'"
            ]
          },
          "metadata": {
            "tags": []
          },
          "execution_count": 115
        }
      ]
    },
    {
      "cell_type": "code",
      "metadata": {
        "id": "SHOHAq3JbbkS",
        "colab_type": "code",
        "colab": {},
        "outputId": "38b409b7-cd19-49ad-a9b1-965bd46c2e05"
      },
      "source": [
        "for val in cluster2:\n",
        "    text = val.lower()\n",
        "    tokens = nltk.word_tokenize(text)\n",
        "    tokens = cluster2\n",
        "    for words in tokens:\n",
        "        cluster2_words = words + ' '\n",
        "\n",
        "from wordcloud import WordCloud\n",
        "plt.ion()\n",
        "print (\"cluster2 Word-Cloud\")\n",
        "wordcloud = WordCloud(max_font_size=50).generate(cluster2_words)\n",
        "plt.figure()\n",
        "plt.imshow(wordcloud)\n",
        "plt.axis(\"off\")\n",
        "plt.show() "
      ],
      "execution_count": 0,
      "outputs": [
        {
          "output_type": "stream",
          "text": [
            "cluster2 Word-Cloud\n"
          ],
          "name": "stdout"
        },
        {
          "output_type": "display_data",
          "data": {
            "image/png": "[encoded data removed]",
            "text/plain": [
              "<Figure size 432x288 with 1 Axes>"
            ]
          },
          "metadata": {
            "tags": []
          }
        }
      ]
    },
    {
      "cell_type": "code",
      "metadata": {
        "id": "5ox4Cdbgbbkg",
        "colab_type": "code",
        "colab": {},
        "outputId": "4efc8e07-d2a4-47af-d726-72a2ebd64bad"
      },
      "source": [
        "cluster3[0]"
      ],
      "execution_count": 0,
      "outputs": [
        {
          "output_type": "execute_result",
          "data": {
            "text/plain": [
              "'placed around house several days setup fly attracting trap vicinity literally watched flies avoid trap days excited see one lil bugger land surface disappointed approached examine flew away paper tacky pressure human finger applied small flies hardly trap'"
            ]
          },
          "metadata": {
            "tags": []
          },
          "execution_count": 117
        }
      ]
    },
    {
      "cell_type": "code",
      "metadata": {
        "id": "fRB8pajObbkl",
        "colab_type": "code",
        "colab": {},
        "outputId": "4ac19fab-3929-4ce3-ef8e-174beb125247"
      },
      "source": [
        "for val in cluster3:\n",
        "    text = val.lower()\n",
        "    tokens = nltk.word_tokenize(text)\n",
        "    tokens = cluster3\n",
        "    for words in tokens:\n",
        "        cluster3_words = words + ' '\n",
        "\n",
        "from wordcloud import WordCloud\n",
        "plt.ion()\n",
        "print (\"cluster3 Word-Cloud\")\n",
        "wordcloud = WordCloud(max_font_size=50).generate(cluster3_words)\n",
        "plt.figure()\n",
        "plt.imshow(wordcloud)\n",
        "plt.axis(\"off\")\n",
        "plt.show()"
      ],
      "execution_count": 0,
      "outputs": [
        {
          "output_type": "stream",
          "text": [
            "cluster3 Word-Cloud\n"
          ],
          "name": "stdout"
        },
        {
          "output_type": "display_data",
          "data": {
            "image/png": "[encoded data removed]",
            "text/plain": [
              "<Figure size 432x288 with 1 Axes>"
            ]
          },
          "metadata": {
            "tags": []
          }
        }
      ]
    },
    {
      "cell_type": "code",
      "metadata": {
        "id": "gi4zosUsbbku",
        "colab_type": "code",
        "colab": {},
        "outputId": "a00a9064-99d0-4688-cafc-1be178955fc2"
      },
      "source": [
        "cluster4[0]"
      ],
      "execution_count": 0,
      "outputs": [
        {
          "output_type": "execute_result",
          "data": {
            "text/plain": [
              "'dogs loves chicken product china wont buying anymore hard find chicken products made usa one isnt bad good product wont take chances till know going china imports'"
            ]
          },
          "metadata": {
            "tags": []
          },
          "execution_count": 119
        }
      ]
    },
    {
      "cell_type": "code",
      "metadata": {
        "id": "-xAvEC1nbbky",
        "colab_type": "code",
        "colab": {},
        "outputId": "c7cf032b-0db3-40d9-b375-d5e1d16af23f"
      },
      "source": [
        "for val in cluster4:\n",
        "    text = val.lower()\n",
        "    tokens = nltk.word_tokenize(text)\n",
        "    tokens = cluster4\n",
        "    for words in tokens:\n",
        "        cluster4_words = words + ' '\n",
        "\n",
        "from wordcloud import WordCloud\n",
        "plt.ion()\n",
        "print (\"cluster4 Word-Cloud\")\n",
        "wordcloud = WordCloud(max_font_size=50).generate(cluster4_words)\n",
        "plt.figure()\n",
        "plt.imshow(wordcloud)\n",
        "plt.axis(\"off\")\n",
        "plt.show() "
      ],
      "execution_count": 0,
      "outputs": [
        {
          "output_type": "stream",
          "text": [
            "cluster4 Word-Cloud\n"
          ],
          "name": "stdout"
        },
        {
          "output_type": "display_data",
          "data": {
            "image/png": "[encoded data removed]",
            "text/plain": [
              "<Figure size 432x288 with 1 Axes>"
            ]
          },
          "metadata": {
            "tags": []
          }
        }
      ]
    },
    {
      "cell_type": "code",
      "metadata": {
        "id": "6NvEq8Dfbbk0",
        "colab_type": "code",
        "colab": {},
        "outputId": "af1813df-d585-4642-a351-88f48c67ba58"
      },
      "source": [
        "cluster5[0]"
      ],
      "execution_count": 0,
      "outputs": [
        {
          "output_type": "execute_result",
          "data": {
            "text/plain": [
              "'time spent waiting order fly traps arrive went bought regular fly ribbon bad fly problem not sure kind flies slightly bigger fruit flies least week one fly traps caught zero flies fly trap caught probably flies regular fly ribbon one point even saw fly fly trap thought caught gone even pictures prove'"
            ]
          },
          "metadata": {
            "tags": []
          },
          "execution_count": 121
        }
      ]
    },
    {
      "cell_type": "code",
      "metadata": {
        "id": "bZYl74KXbbk2",
        "colab_type": "code",
        "colab": {},
        "outputId": "d184db59-8779-44c6-88a0-2c3cb2dc36e3"
      },
      "source": [
        "for val in cluster5:\n",
        "    text = val.lower()\n",
        "    tokens = nltk.word_tokenize(text)\n",
        "    tokens = cluster5\n",
        "    for words in tokens:\n",
        "        cluster5_words = words + ' '\n",
        "\n",
        "\n",
        "from wordcloud import WordCloud\n",
        "plt.ion()\n",
        "print (\"cluster5 Word-Cloud\")\n",
        "wordcloud = WordCloud(max_font_size=50).generate(cluster5_words)\n",
        "plt.figure()\n",
        "plt.imshow(wordcloud)\n",
        "plt.axis(\"off\")\n",
        "plt.show() "
      ],
      "execution_count": 0,
      "outputs": [
        {
          "output_type": "stream",
          "text": [
            "cluster5 Word-Cloud\n"
          ],
          "name": "stdout"
        },
        {
          "output_type": "display_data",
          "data": {
            "image/png": "[encoded data removed]",
            "text/plain": [
              "<Figure size 432x288 with 1 Axes>"
            ]
          },
          "metadata": {
            "tags": []
          }
        }
      ]
    },
    {
      "cell_type": "code",
      "metadata": {
        "id": "bVeTCvrtbbk5",
        "colab_type": "code",
        "colab": {},
        "outputId": "032f9be7-1f3d-4c7c-b74c-08f846665207"
      },
      "source": [
        "cluster6[0]"
      ],
      "execution_count": 0,
      "outputs": [
        {
          "output_type": "execute_result",
          "data": {
            "text/plain": [
              "'two terrier mixes lbs lbs love chew paws favorites past five years nylabone dental dinosaurs go sets per year no problems exception occasion bit gum bleeding slight someone gets bit carried away well confiscate toys trying sleep since chewing enjoyment bit noisy nighttime months use take worn toys away replace regularly check make sure no sharp edges larger parts look could break ingested dog loves chewing say give try first supervision dogs like mine toys offer many hours entertainment cleaner teeth boot'"
            ]
          },
          "metadata": {
            "tags": []
          },
          "execution_count": 123
        }
      ]
    },
    {
      "cell_type": "code",
      "metadata": {
        "id": "wUDOzeczbblA",
        "colab_type": "code",
        "colab": {},
        "outputId": "67351b40-86a3-479d-d28a-beb337902cd2"
      },
      "source": [
        "for val in cluster6:\n",
        "    text = val.lower()\n",
        "    tokens = nltk.word_tokenize(text)\n",
        "    tokens = cluster6\n",
        "    for words in tokens:\n",
        "        cluster6_words = words + ' '\n",
        "\n",
        "\n",
        "from wordcloud import WordCloud\n",
        "plt.ion()\n",
        "print (\"cluster6 Word-Cloud\")\n",
        "wordcloud = WordCloud(max_font_size=50).generate(cluster6_words)\n",
        "plt.figure()\n",
        "plt.imshow(wordcloud)\n",
        "plt.axis(\"off\")\n",
        "plt.show()"
      ],
      "execution_count": 0,
      "outputs": [
        {
          "output_type": "stream",
          "text": [
            "cluster6 Word-Cloud\n"
          ],
          "name": "stdout"
        },
        {
          "output_type": "display_data",
          "data": {
            "image/png": "[encoded data removed]",
            "text/plain": [
              "<Figure size 432x288 with 1 Axes>"
            ]
          },
          "metadata": {
            "tags": []
          }
        }
      ]
    },
    {
      "cell_type": "code",
      "metadata": {
        "id": "QfFFphOibblH",
        "colab_type": "code",
        "colab": {},
        "outputId": "5ee953a7-8d07-404f-e104-beea99c74929"
      },
      "source": [
        "cluster7[0]"
      ],
      "execution_count": 0,
      "outputs": [
        {
          "output_type": "execute_result",
          "data": {
            "text/plain": [
              "'happy item many flies disturbing kitchen put product near window works fantastically'"
            ]
          },
          "metadata": {
            "tags": []
          },
          "execution_count": 125
        }
      ]
    },
    {
      "cell_type": "code",
      "metadata": {
        "id": "vO5XhPHZbblK",
        "colab_type": "code",
        "colab": {},
        "outputId": "a7311704-2079-4d09-9bb1-31bbcf6305f4"
      },
      "source": [
        "for val in cluster7:\n",
        "    text = val.lower()\n",
        "    tokens = nltk.word_tokenize(text)\n",
        "    tokens = cluster7\n",
        "    for words in tokens:\n",
        "        cluster7_words = words + ' '\n",
        "\n",
        "\n",
        "from wordcloud import WordCloud\n",
        "plt.ion()\n",
        "print (\"cluster7 Word-Cloud\")\n",
        "wordcloud = WordCloud(max_font_size=50).generate(cluster7_words)\n",
        "plt.figure()\n",
        "plt.imshow(wordcloud)\n",
        "plt.axis(\"off\")\n",
        "plt.show()"
      ],
      "execution_count": 0,
      "outputs": [
        {
          "output_type": "stream",
          "text": [
            "cluster7 Word-Cloud\n"
          ],
          "name": "stdout"
        },
        {
          "output_type": "display_data",
          "data": {
            "image/png": "[encoded data removed]",
            "text/plain": [
              "<Figure size 432x288 with 1 Axes>"
            ]
          },
          "metadata": {
            "tags": []
          }
        }
      ]
    },
    {
      "cell_type": "code",
      "metadata": {
        "id": "giBTa2UNbblQ",
        "colab_type": "code",
        "colab": {},
        "outputId": "6ce5cdf3-085b-4a86-c44c-75a35371a57a"
      },
      "source": [
        "cluster8[0]"
      ],
      "execution_count": 0,
      "outputs": [
        {
          "output_type": "execute_result",
          "data": {
            "text/plain": [
              "'dogs love saw pet store tag attached regarding made china satisfied safe'"
            ]
          },
          "metadata": {
            "tags": []
          },
          "execution_count": 127
        }
      ]
    },
    {
      "cell_type": "code",
      "metadata": {
        "id": "-AnmtV4zbblU",
        "colab_type": "code",
        "colab": {},
        "outputId": "9d5d5d37-b0ea-432d-e645-f71a7c76e6e6"
      },
      "source": [
        "for val in cluster8:\n",
        "    text = val.lower()\n",
        "    tokens = nltk.word_tokenize(text)\n",
        "    tokens = cluster8\n",
        "    for words in tokens:\n",
        "        cluster8_words = words + ' '\n",
        "\n",
        "\n",
        "from wordcloud import WordCloud\n",
        "plt.ion()\n",
        "print (\"cluster8 Word-Cloud\")\n",
        "wordcloud = WordCloud(max_font_size=50).generate(cluster8_words)\n",
        "plt.figure()\n",
        "plt.imshow(wordcloud)\n",
        "plt.axis(\"off\")\n",
        "plt.show()"
      ],
      "execution_count": 0,
      "outputs": [
        {
          "output_type": "stream",
          "text": [
            "cluster8 Word-Cloud\n"
          ],
          "name": "stdout"
        },
        {
          "output_type": "display_data",
          "data": {
            "image/png": "[encoded data removed]",
            "text/plain": [
              "<Figure size 432x288 with 1 Axes>"
            ]
          },
          "metadata": {
            "tags": []
          }
        }
      ]
    },
    {
      "cell_type": "code",
      "metadata": {
        "id": "QvaMciuebblY",
        "colab_type": "code",
        "colab": {},
        "outputId": "9972c0e5-8d51-4f10-895c-40056b0e49ff"
      },
      "source": [
        "cluster9[0]"
      ],
      "execution_count": 0,
      "outputs": [
        {
          "output_type": "execute_result",
          "data": {
            "text/plain": [
              "'infestation fruitflies literally everywhere flying around kitchen bought product hoping least get rid weeks fly stuck going around notepad squishing buggers success rate day clearly product useless even dabbed red wine banana top column week really attracted red wine glass still nothing get stuck actually saw second fly land watched flapped wings frantically within secs unstuck product total waste money'"
            ]
          },
          "metadata": {
            "tags": []
          },
          "execution_count": 129
        }
      ]
    },
    {
      "cell_type": "code",
      "metadata": {
        "id": "iozTfk7cbble",
        "colab_type": "code",
        "colab": {},
        "outputId": "2acf236e-b34a-4c74-eef7-98a71003b7c3"
      },
      "source": [
        "for val in cluster9:\n",
        "    text = val.lower()\n",
        "    tokens = nltk.word_tokenize(text)\n",
        "    tokens = cluster9\n",
        "    for words in tokens:\n",
        "        cluster9_words = words + ' '\n",
        "\n",
        "\n",
        "from wordcloud import WordCloud\n",
        "plt.ion()\n",
        "print (\"cluster9 Word-Cloud\")\n",
        "wordcloud = WordCloud(max_font_size=50).generate(cluster9_words)\n",
        "plt.figure()\n",
        "plt.imshow(wordcloud)\n",
        "plt.axis(\"off\")\n",
        "plt.show()"
      ],
      "execution_count": 0,
      "outputs": [
        {
          "output_type": "stream",
          "text": [
            "cluster9 Word-Cloud\n"
          ],
          "name": "stdout"
        },
        {
          "output_type": "display_data",
          "data": {
            "image/png": "[encoded data removed]",
            "text/plain": [
              "<Figure size 432x288 with 1 Axes>"
            ]
          },
          "metadata": {
            "tags": []
          }
        }
      ]
    },
    {
      "cell_type": "code",
      "metadata": {
        "id": "8-tOOgBPbbli",
        "colab_type": "code",
        "colab": {}
      },
      "source": [
        "# Calculate cosine similarity\n",
        "from sklearn.metrics import pairwise_distances\n",
        "def cosine_similarity(word_index, total_results):\n",
        "    # calculate pairwise distances from given word\n",
        "    # The smaller the distance, the more similar the word\n",
        "    dist = pairwise_distances(ts_data, ts_data[word_index:word_index + 1,:])\n",
        "    # Store index of the distances\n",
        "    indices = np.argsort(dist.flatten())[0:total_results]\n",
        "    # Sort distances \n",
        "    pdist = np.sort(dist.flatten())[0:total_results]\n",
        "    # put indices at particular index of dataframe\n",
        "    df_indices = list(df.index[indices])\n",
        "    print(\"Most_Similar Words \\t Distances\")\n",
        "    # Loop through indices and find match\n",
        "    for i in range(len(indices)): \n",
        "        if indices[i] == df.index[indices[i]]:\n",
        "            print(df.Words.loc[indices[i]], \"\\t\\t\\t\", dist[indices[i]])"
      ],
      "execution_count": 0,
      "outputs": []
    },
    {
      "cell_type": "code",
      "metadata": {
        "id": "jcQt0bDdbblo",
        "colab_type": "code",
        "colab": {},
        "outputId": "893cce46-26a2-4aec-d5f7-be9602dbceca"
      },
      "source": [
        "# given index of a word\n",
        "# find how similar words are from this index word\n",
        "cosine_similarity(119, 7)"
      ],
      "execution_count": 0,
      "outputs": [
        {
          "output_type": "stream",
          "text": [
            "Most_Similar Words \t Distances\n",
            "tasty \t\t\t [0.00010572]\n",
            "kind \t\t\t [1444.80315447]\n",
            "however \t\t\t [1497.55146585]\n",
            "although \t\t\t [1499.9365148]\n",
            "things \t\t\t [1507.055186]\n",
            "may \t\t\t [1510.99135107]\n",
            "probably \t\t\t [1519.11947247]\n"
          ],
          "name": "stdout"
        }
      ]
    },
    {
      "cell_type": "code",
      "metadata": {
        "id": "NxL6ScIobblr",
        "colab_type": "code",
        "colab": {},
        "outputId": "bd7b5687-b8b4-44d9-8e1f-57237270db7c"
      },
      "source": [
        "# given index of a word\n",
        "# find how similar words are from this index word\n",
        "cosine_similarity(56, 7)"
      ],
      "execution_count": 0,
      "outputs": [
        {
          "output_type": "stream",
          "text": [
            "Most_Similar Words \t Distances\n",
            "still \t\t\t [0.]\n",
            "however \t\t\t [1686.2278009]\n",
            "lot \t\t\t [1869.50328975]\n",
            "say \t\t\t [1906.01828543]\n",
            "stuff \t\t\t [1913.51065679]\n",
            "way \t\t\t [1976.85773448]\n",
            "actually \t\t\t [2009.43636588]\n"
          ],
          "name": "stdout"
        }
      ]
    },
    {
      "cell_type": "code",
      "metadata": {
        "id": "wOVfLxATbblx",
        "colab_type": "code",
        "colab": {}
      },
      "source": [
        ""
      ],
      "execution_count": 0,
      "outputs": []
    }
  ]
}