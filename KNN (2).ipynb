{
  "nbformat": 4,
  "nbformat_minor": 0,
  "metadata": {
    "colab": {
      "name": "KNN.ipynb",
      "version": "0.3.2",
      "provenance": [],
      "collapsed_sections": []
    },
    "kernelspec": {
      "name": "python3",
      "display_name": "Python 3"
    }
  },
  "cells": [
    {
      "cell_type": "code",
      "metadata": {
        "id": "OEibKo5kcLol",
        "colab_type": "code",
        "colab": {}
      },
      "source": [
        ""
      ],
      "execution_count": 0,
      "outputs": []
    },
    {
      "cell_type": "markdown",
      "metadata": {
        "id": "4UPJU7FIDYHb",
        "colab_type": "text"
      },
      "source": [
        "# Amazon Fine Food Reviews Analysis\n",
        "\n",
        "\n",
        "Data Source: https://www.kaggle.com/snap/amazon-fine-food-reviews <br>\n",
        "\n",
        "EDA: https://nycdatascience.com/blog/student-works/amazon-fine-foods-visualization/\n",
        "\n",
        "\n",
        "The Amazon Fine Food Reviews dataset consists of reviews of fine foods from Amazon.<br>\n",
        "\n",
        "Number of reviews: 568,454<br>\n",
        "Number of users: 256,059<br>\n",
        "Number of products: 74,258<br>\n",
        "Timespan: Oct 1999 - Oct 2012<br>\n",
        "Number of Attributes/Columns in data: 10 \n",
        "\n",
        "Attribute Information:\n",
        "\n",
        "1. Id\n",
        "2. ProductId - unique identifier for the product\n",
        "3. UserId - unqiue identifier for the user\n",
        "4. ProfileName\n",
        "5. HelpfulnessNumerator - number of users who found the review helpful\n",
        "6. HelpfulnessDenominator - number of users who indicated whether they found the review helpful or not\n",
        "7. Score - rating between 1 and 5\n",
        "8. Time - timestamp for the review\n",
        "9. Summary - brief summary of the review\n",
        "10. Text - text of the review\n",
        "\n",
        "\n",
        "#### Objective:\n",
        "Given a review, determine whether the review is positive (rating of 4 or 5) or negative (rating of 1 or 2).\n",
        "\n",
        "<br>\n",
        "[Q] How to determine if a review is positive or negative?<br>\n",
        "<br> \n",
        "[Ans] We could use Score/Rating. A rating of 4 or 5 can be cosnidered as a positive review. A rating of 1 or 2 can be considered as negative one. A review of rating 3 is considered nuetral and such reviews are ignored from our analysis. This is an approximate and proxy way of determining the polarity (positivity/negativity) of a review.\n",
        "\n",
        "\n"
      ]
    },
    {
      "cell_type": "markdown",
      "metadata": {
        "id": "Iac3VjZcDYHf",
        "colab_type": "text"
      },
      "source": [
        "# [1]. Reading Data"
      ]
    },
    {
      "cell_type": "markdown",
      "metadata": {
        "id": "wEsMRzNDDYHi",
        "colab_type": "text"
      },
      "source": [
        "## [1.1] Loading the data\n",
        "\n",
        "The dataset is available in two forms\n",
        "1. .csv file\n",
        "2. SQLite Database\n",
        "\n",
        "In order to load the data, We have used the SQLITE dataset as it is easier to query the data and visualise the data efficiently.\n",
        "<br> \n",
        "\n",
        "Here as we only want to get the global sentiment of the recommendations (positive or negative), we will purposefully ignore all Scores equal to 3. If the score is above 3, then the recommendation wil be set to \"positive\". Otherwise, it will be set to \"negative\"."
      ]
    },
    {
      "cell_type": "code",
      "metadata": {
        "id": "jXaxGzlKh1EW",
        "colab_type": "code",
        "colab": {}
      },
      "source": [
        "import warnings\n",
        "warnings.filterwarnings(\"ignore\")\n",
        "\n",
        "\n",
        "import sqlite3\n",
        "import pandas as pd\n",
        "import numpy as np\n",
        "import nltk\n",
        "import string\n",
        "import matplotlib.pyplot as plt\n",
        "import seaborn as sns\n",
        "from sklearn.feature_extraction.text import TfidfTransformer\n",
        "from sklearn.feature_extraction.text import TfidfVectorizer\n",
        "\n",
        "from sklearn.feature_extraction.text import CountVectorizer\n",
        "from sklearn.metrics import confusion_matrix\n",
        "from sklearn import metrics\n",
        "from sklearn.metrics import roc_curve, auc\n",
        "from nltk.stem.porter import PorterStemmer\n",
        "\n",
        "import re\n",
        "# Tutorial about Python regular expressions: https://pymotw.com/2/re/\n",
        "import string\n",
        "from nltk.corpus import stopwords\n",
        "from nltk.stem import PorterStemmer\n",
        "from nltk.stem.wordnet import WordNetLemmatizer\n",
        "\n",
        "from gensim.models import Word2Vec\n",
        "from gensim.models import KeyedVectors\n",
        "import pickle\n",
        "\n",
        "from tqdm import tqdm\n",
        "import os"
      ],
      "execution_count": 0,
      "outputs": []
    },
    {
      "cell_type": "code",
      "metadata": {
        "id": "7C9h9Tl_iP26",
        "colab_type": "code",
        "outputId": "43ede93c-d45b-4546-9a3f-ae908595375b",
        "colab": {
          "base_uri": "https://localhost:8080/",
          "height": 33
        }
      },
      "source": [
        "# Run this cell to mount your Google Drive.\n",
        "from google.colab import drive\n",
        "drive.mount('/content/drive')"
      ],
      "execution_count": 0,
      "outputs": [
        {
          "output_type": "stream",
          "text": [
            "Drive already mounted at /content/drive; to attempt to forcibly remount, call drive.mount(\"/content/drive\", force_remount=True).\n"
          ],
          "name": "stdout"
        }
      ]
    },
    {
      "cell_type": "code",
      "metadata": {
        "id": "pcBuBcjAit4h",
        "colab_type": "code",
        "outputId": "2e576cea-24ce-4cd2-e70a-d00a1e0a48f0",
        "colab": {
          "base_uri": "https://localhost:8080/",
          "height": 50
        }
      },
      "source": [
        "!ls /content/drive/My\\ Drive/Colab\\ Notebooks"
      ],
      "execution_count": 0,
      "outputs": [
        {
          "output_type": "stream",
          "text": [
            "database.sqlite  KNN.ipynb  Reviews.csv  Untitled2.ipynb\n",
            "DT.ipynb\t NB.ipynb   SVM.ipynb\n"
          ],
          "name": "stdout"
        }
      ]
    },
    {
      "cell_type": "code",
      "metadata": {
        "id": "OfPW_-_djEVN",
        "colab_type": "code",
        "colab": {}
      },
      "source": [
        "data=pd.read_csv('/content/drive/My Drive/Colab Notebooks/Reviews.csv')"
      ],
      "execution_count": 0,
      "outputs": []
    },
    {
      "cell_type": "code",
      "metadata": {
        "id": "05LKWEhgjLsI",
        "colab_type": "code",
        "outputId": "f67d7103-753d-4842-cdf1-9b1a8ae2ee36",
        "colab": {
          "base_uri": "https://localhost:8080/",
          "height": 297
        }
      },
      "source": [
        "data.head()"
      ],
      "execution_count": 0,
      "outputs": [
        {
          "output_type": "execute_result",
          "data": {
            "text/html": [
              "<div>\n",
              "<style scoped>\n",
              "    .dataframe tbody tr th:only-of-type {\n",
              "        vertical-align: middle;\n",
              "    }\n",
              "\n",
              "    .dataframe tbody tr th {\n",
              "        vertical-align: top;\n",
              "    }\n",
              "\n",
              "    .dataframe thead th {\n",
              "        text-align: right;\n",
              "    }\n",
              "</style>\n",
              "<table border=\"1\" class=\"dataframe\">\n",
              "  <thead>\n",
              "    <tr style=\"text-align: right;\">\n",
              "      <th></th>\n",
              "      <th>Id</th>\n",
              "      <th>ProductId</th>\n",
              "      <th>UserId</th>\n",
              "      <th>ProfileName</th>\n",
              "      <th>HelpfulnessNumerator</th>\n",
              "      <th>HelpfulnessDenominator</th>\n",
              "      <th>Score</th>\n",
              "      <th>Time</th>\n",
              "      <th>Summary</th>\n",
              "      <th>Text</th>\n",
              "    </tr>\n",
              "  </thead>\n",
              "  <tbody>\n",
              "    <tr>\n",
              "      <th>0</th>\n",
              "      <td>1</td>\n",
              "      <td>B001E4KFG0</td>\n",
              "      <td>A3SGXH7AUHU8GW</td>\n",
              "      <td>delmartian</td>\n",
              "      <td>1</td>\n",
              "      <td>1</td>\n",
              "      <td>5</td>\n",
              "      <td>1303862400</td>\n",
              "      <td>Good Quality Dog Food</td>\n",
              "      <td>I have bought several of the Vitality canned d...</td>\n",
              "    </tr>\n",
              "    <tr>\n",
              "      <th>1</th>\n",
              "      <td>2</td>\n",
              "      <td>B00813GRG4</td>\n",
              "      <td>A1D87F6ZCVE5NK</td>\n",
              "      <td>dll pa</td>\n",
              "      <td>0</td>\n",
              "      <td>0</td>\n",
              "      <td>1</td>\n",
              "      <td>1346976000</td>\n",
              "      <td>Not as Advertised</td>\n",
              "      <td>Product arrived labeled as Jumbo Salted Peanut...</td>\n",
              "    </tr>\n",
              "    <tr>\n",
              "      <th>2</th>\n",
              "      <td>3</td>\n",
              "      <td>B000LQOCH0</td>\n",
              "      <td>ABXLMWJIXXAIN</td>\n",
              "      <td>Natalia Corres \"Natalia Corres\"</td>\n",
              "      <td>1</td>\n",
              "      <td>1</td>\n",
              "      <td>4</td>\n",
              "      <td>1219017600</td>\n",
              "      <td>\"Delight\" says it all</td>\n",
              "      <td>This is a confection that has been around a fe...</td>\n",
              "    </tr>\n",
              "    <tr>\n",
              "      <th>3</th>\n",
              "      <td>4</td>\n",
              "      <td>B000UA0QIQ</td>\n",
              "      <td>A395BORC6FGVXV</td>\n",
              "      <td>Karl</td>\n",
              "      <td>3</td>\n",
              "      <td>3</td>\n",
              "      <td>2</td>\n",
              "      <td>1307923200</td>\n",
              "      <td>Cough Medicine</td>\n",
              "      <td>If you are looking for the secret ingredient i...</td>\n",
              "    </tr>\n",
              "    <tr>\n",
              "      <th>4</th>\n",
              "      <td>5</td>\n",
              "      <td>B006K2ZZ7K</td>\n",
              "      <td>A1UQRSCLF8GW1T</td>\n",
              "      <td>Michael D. Bigham \"M. Wassir\"</td>\n",
              "      <td>0</td>\n",
              "      <td>0</td>\n",
              "      <td>5</td>\n",
              "      <td>1350777600</td>\n",
              "      <td>Great taffy</td>\n",
              "      <td>Great taffy at a great price.  There was a wid...</td>\n",
              "    </tr>\n",
              "  </tbody>\n",
              "</table>\n",
              "</div>"
            ],
            "text/plain": [
              "   Id  ...                                               Text\n",
              "0   1  ...  I have bought several of the Vitality canned d...\n",
              "1   2  ...  Product arrived labeled as Jumbo Salted Peanut...\n",
              "2   3  ...  This is a confection that has been around a fe...\n",
              "3   4  ...  If you are looking for the secret ingredient i...\n",
              "4   5  ...  Great taffy at a great price.  There was a wid...\n",
              "\n",
              "[5 rows x 10 columns]"
            ]
          },
          "metadata": {
            "tags": []
          },
          "execution_count": 5
        }
      ]
    },
    {
      "cell_type": "code",
      "metadata": {
        "id": "h2QoGeAFjVFw",
        "colab_type": "code",
        "colab": {}
      },
      "source": [
        "conn=sqlite3.connect('/content/drive/My Drive/Colab Notebooks/database.sqlite')"
      ],
      "execution_count": 0,
      "outputs": []
    },
    {
      "cell_type": "code",
      "metadata": {
        "id": "bWQqMPw8jbO5",
        "colab_type": "code",
        "colab": {}
      },
      "source": [
        "filter_data=pd.read_sql_query(\"\"\" SELECT * FROM Reviews WHERE Score != 3 LIMIT 100000\"\"\",conn)"
      ],
      "execution_count": 0,
      "outputs": []
    },
    {
      "cell_type": "code",
      "metadata": {
        "id": "OcjVkN7tje4k",
        "colab_type": "code",
        "colab": {}
      },
      "source": [
        "def partition (x):\n",
        "  if x<3:\n",
        "    return 0\n",
        "  return 1"
      ],
      "execution_count": 0,
      "outputs": []
    },
    {
      "cell_type": "code",
      "metadata": {
        "id": "0zvsh5hYji6l",
        "colab_type": "code",
        "outputId": "62f51175-d11d-4b5c-835a-d24aad04cf51",
        "colab": {
          "base_uri": "https://localhost:8080/",
          "height": 313
        }
      },
      "source": [
        "actualscore = filter_data['Score']\n",
        "positivenegative = actualscore.map(partition)\n",
        "filter_data['Score']= positivenegative\n",
        "print('Nomber of data points in our data',filter_data.shape)\n",
        "filter_data.head(5)"
      ],
      "execution_count": 0,
      "outputs": [
        {
          "output_type": "stream",
          "text": [
            "Nomber of data points in our data (100000, 10)\n"
          ],
          "name": "stdout"
        },
        {
          "output_type": "execute_result",
          "data": {
            "text/html": [
              "<div>\n",
              "<style scoped>\n",
              "    .dataframe tbody tr th:only-of-type {\n",
              "        vertical-align: middle;\n",
              "    }\n",
              "\n",
              "    .dataframe tbody tr th {\n",
              "        vertical-align: top;\n",
              "    }\n",
              "\n",
              "    .dataframe thead th {\n",
              "        text-align: right;\n",
              "    }\n",
              "</style>\n",
              "<table border=\"1\" class=\"dataframe\">\n",
              "  <thead>\n",
              "    <tr style=\"text-align: right;\">\n",
              "      <th></th>\n",
              "      <th>Id</th>\n",
              "      <th>ProductId</th>\n",
              "      <th>UserId</th>\n",
              "      <th>ProfileName</th>\n",
              "      <th>HelpfulnessNumerator</th>\n",
              "      <th>HelpfulnessDenominator</th>\n",
              "      <th>Score</th>\n",
              "      <th>Time</th>\n",
              "      <th>Summary</th>\n",
              "      <th>Text</th>\n",
              "    </tr>\n",
              "  </thead>\n",
              "  <tbody>\n",
              "    <tr>\n",
              "      <th>0</th>\n",
              "      <td>1</td>\n",
              "      <td>B001E4KFG0</td>\n",
              "      <td>A3SGXH7AUHU8GW</td>\n",
              "      <td>delmartian</td>\n",
              "      <td>1</td>\n",
              "      <td>1</td>\n",
              "      <td>1</td>\n",
              "      <td>1303862400</td>\n",
              "      <td>Good Quality Dog Food</td>\n",
              "      <td>I have bought several of the Vitality canned d...</td>\n",
              "    </tr>\n",
              "    <tr>\n",
              "      <th>1</th>\n",
              "      <td>2</td>\n",
              "      <td>B00813GRG4</td>\n",
              "      <td>A1D87F6ZCVE5NK</td>\n",
              "      <td>dll pa</td>\n",
              "      <td>0</td>\n",
              "      <td>0</td>\n",
              "      <td>0</td>\n",
              "      <td>1346976000</td>\n",
              "      <td>Not as Advertised</td>\n",
              "      <td>Product arrived labeled as Jumbo Salted Peanut...</td>\n",
              "    </tr>\n",
              "    <tr>\n",
              "      <th>2</th>\n",
              "      <td>3</td>\n",
              "      <td>B000LQOCH0</td>\n",
              "      <td>ABXLMWJIXXAIN</td>\n",
              "      <td>Natalia Corres \"Natalia Corres\"</td>\n",
              "      <td>1</td>\n",
              "      <td>1</td>\n",
              "      <td>1</td>\n",
              "      <td>1219017600</td>\n",
              "      <td>\"Delight\" says it all</td>\n",
              "      <td>This is a confection that has been around a fe...</td>\n",
              "    </tr>\n",
              "    <tr>\n",
              "      <th>3</th>\n",
              "      <td>4</td>\n",
              "      <td>B000UA0QIQ</td>\n",
              "      <td>A395BORC6FGVXV</td>\n",
              "      <td>Karl</td>\n",
              "      <td>3</td>\n",
              "      <td>3</td>\n",
              "      <td>0</td>\n",
              "      <td>1307923200</td>\n",
              "      <td>Cough Medicine</td>\n",
              "      <td>If you are looking for the secret ingredient i...</td>\n",
              "    </tr>\n",
              "    <tr>\n",
              "      <th>4</th>\n",
              "      <td>5</td>\n",
              "      <td>B006K2ZZ7K</td>\n",
              "      <td>A1UQRSCLF8GW1T</td>\n",
              "      <td>Michael D. Bigham \"M. Wassir\"</td>\n",
              "      <td>0</td>\n",
              "      <td>0</td>\n",
              "      <td>1</td>\n",
              "      <td>1350777600</td>\n",
              "      <td>Great taffy</td>\n",
              "      <td>Great taffy at a great price.  There was a wid...</td>\n",
              "    </tr>\n",
              "  </tbody>\n",
              "</table>\n",
              "</div>"
            ],
            "text/plain": [
              "   Id  ...                                               Text\n",
              "0   1  ...  I have bought several of the Vitality canned d...\n",
              "1   2  ...  Product arrived labeled as Jumbo Salted Peanut...\n",
              "2   3  ...  This is a confection that has been around a fe...\n",
              "3   4  ...  If you are looking for the secret ingredient i...\n",
              "4   5  ...  Great taffy at a great price.  There was a wid...\n",
              "\n",
              "[5 rows x 10 columns]"
            ]
          },
          "metadata": {
            "tags": []
          },
          "execution_count": 9
        }
      ]
    },
    {
      "cell_type": "code",
      "metadata": {
        "id": "dOPlbP7ojmDN",
        "colab_type": "code",
        "colab": {}
      },
      "source": [
        "display = pd.read_sql_query(\"\"\"\n",
        "SELECT UserId, ProductId, ProfileName, Time, Score, Text, COUNT(*)\n",
        "FROM Reviews\n",
        "GROUP BY UserId\n",
        "HAVING COUNT(*)>1\n",
        "\"\"\", conn)"
      ],
      "execution_count": 0,
      "outputs": []
    },
    {
      "cell_type": "code",
      "metadata": {
        "id": "nZzgXQvujujE",
        "colab_type": "code",
        "outputId": "7e092e56-30f7-48f2-bb0e-3ac0ed407cf2",
        "colab": {
          "base_uri": "https://localhost:8080/",
          "height": 213
        }
      },
      "source": [
        "print(display.shape)\n",
        "display.head()"
      ],
      "execution_count": 0,
      "outputs": [
        {
          "output_type": "stream",
          "text": [
            "(80668, 7)\n"
          ],
          "name": "stdout"
        },
        {
          "output_type": "execute_result",
          "data": {
            "text/html": [
              "<div>\n",
              "<style scoped>\n",
              "    .dataframe tbody tr th:only-of-type {\n",
              "        vertical-align: middle;\n",
              "    }\n",
              "\n",
              "    .dataframe tbody tr th {\n",
              "        vertical-align: top;\n",
              "    }\n",
              "\n",
              "    .dataframe thead th {\n",
              "        text-align: right;\n",
              "    }\n",
              "</style>\n",
              "<table border=\"1\" class=\"dataframe\">\n",
              "  <thead>\n",
              "    <tr style=\"text-align: right;\">\n",
              "      <th></th>\n",
              "      <th>UserId</th>\n",
              "      <th>ProductId</th>\n",
              "      <th>ProfileName</th>\n",
              "      <th>Time</th>\n",
              "      <th>Score</th>\n",
              "      <th>Text</th>\n",
              "      <th>COUNT(*)</th>\n",
              "    </tr>\n",
              "  </thead>\n",
              "  <tbody>\n",
              "    <tr>\n",
              "      <th>0</th>\n",
              "      <td>#oc-R115TNMSPFT9I7</td>\n",
              "      <td>B007Y59HVM</td>\n",
              "      <td>Breyton</td>\n",
              "      <td>1331510400</td>\n",
              "      <td>2</td>\n",
              "      <td>Overall its just OK when considering the price...</td>\n",
              "      <td>2</td>\n",
              "    </tr>\n",
              "    <tr>\n",
              "      <th>1</th>\n",
              "      <td>#oc-R11D9D7SHXIJB9</td>\n",
              "      <td>B005HG9ET0</td>\n",
              "      <td>Louis E. Emory \"hoppy\"</td>\n",
              "      <td>1342396800</td>\n",
              "      <td>5</td>\n",
              "      <td>My wife has recurring extreme muscle spasms, u...</td>\n",
              "      <td>3</td>\n",
              "    </tr>\n",
              "    <tr>\n",
              "      <th>2</th>\n",
              "      <td>#oc-R11DNU2NBKQ23Z</td>\n",
              "      <td>B007Y59HVM</td>\n",
              "      <td>Kim Cieszykowski</td>\n",
              "      <td>1348531200</td>\n",
              "      <td>1</td>\n",
              "      <td>This coffee is horrible and unfortunately not ...</td>\n",
              "      <td>2</td>\n",
              "    </tr>\n",
              "    <tr>\n",
              "      <th>3</th>\n",
              "      <td>#oc-R11O5J5ZVQE25C</td>\n",
              "      <td>B005HG9ET0</td>\n",
              "      <td>Penguin Chick</td>\n",
              "      <td>1346889600</td>\n",
              "      <td>5</td>\n",
              "      <td>This will be the bottle that you grab from the...</td>\n",
              "      <td>3</td>\n",
              "    </tr>\n",
              "    <tr>\n",
              "      <th>4</th>\n",
              "      <td>#oc-R12KPBODL2B5ZD</td>\n",
              "      <td>B007OSBE1U</td>\n",
              "      <td>Christopher P. Presta</td>\n",
              "      <td>1348617600</td>\n",
              "      <td>1</td>\n",
              "      <td>I didnt like this coffee. Instead of telling y...</td>\n",
              "      <td>2</td>\n",
              "    </tr>\n",
              "  </tbody>\n",
              "</table>\n",
              "</div>"
            ],
            "text/plain": [
              "               UserId  ... COUNT(*)\n",
              "0  #oc-R115TNMSPFT9I7  ...        2\n",
              "1  #oc-R11D9D7SHXIJB9  ...        3\n",
              "2  #oc-R11DNU2NBKQ23Z  ...        2\n",
              "3  #oc-R11O5J5ZVQE25C  ...        3\n",
              "4  #oc-R12KPBODL2B5ZD  ...        2\n",
              "\n",
              "[5 rows x 7 columns]"
            ]
          },
          "metadata": {
            "tags": []
          },
          "execution_count": 11
        }
      ]
    },
    {
      "cell_type": "code",
      "metadata": {
        "id": "lmkAgglIj2LP",
        "colab_type": "code",
        "outputId": "cdcdf0d4-b7a4-4db6-9585-b5f526e7b6bc",
        "colab": {
          "base_uri": "https://localhost:8080/",
          "height": 77
        }
      },
      "source": [
        "display[display['UserId']=='AZY10LLTJ71NX']"
      ],
      "execution_count": 0,
      "outputs": [
        {
          "output_type": "execute_result",
          "data": {
            "text/html": [
              "<div>\n",
              "<style scoped>\n",
              "    .dataframe tbody tr th:only-of-type {\n",
              "        vertical-align: middle;\n",
              "    }\n",
              "\n",
              "    .dataframe tbody tr th {\n",
              "        vertical-align: top;\n",
              "    }\n",
              "\n",
              "    .dataframe thead th {\n",
              "        text-align: right;\n",
              "    }\n",
              "</style>\n",
              "<table border=\"1\" class=\"dataframe\">\n",
              "  <thead>\n",
              "    <tr style=\"text-align: right;\">\n",
              "      <th></th>\n",
              "      <th>UserId</th>\n",
              "      <th>ProductId</th>\n",
              "      <th>ProfileName</th>\n",
              "      <th>Time</th>\n",
              "      <th>Score</th>\n",
              "      <th>Text</th>\n",
              "      <th>COUNT(*)</th>\n",
              "    </tr>\n",
              "  </thead>\n",
              "  <tbody>\n",
              "    <tr>\n",
              "      <th>80638</th>\n",
              "      <td>AZY10LLTJ71NX</td>\n",
              "      <td>B006P7E5ZI</td>\n",
              "      <td>undertheshrine \"undertheshrine\"</td>\n",
              "      <td>1334707200</td>\n",
              "      <td>5</td>\n",
              "      <td>I was recommended to try green tea extract to ...</td>\n",
              "      <td>5</td>\n",
              "    </tr>\n",
              "  </tbody>\n",
              "</table>\n",
              "</div>"
            ],
            "text/plain": [
              "              UserId  ... COUNT(*)\n",
              "80638  AZY10LLTJ71NX  ...        5\n",
              "\n",
              "[1 rows x 7 columns]"
            ]
          },
          "metadata": {
            "tags": []
          },
          "execution_count": 12
        }
      ]
    },
    {
      "cell_type": "code",
      "metadata": {
        "id": "lLIEC5qLj6cl",
        "colab_type": "code",
        "outputId": "b6beb9d2-f989-404a-86b5-cace22346f42",
        "colab": {
          "base_uri": "https://localhost:8080/",
          "height": 33
        }
      },
      "source": [
        "display['COUNT(*)'].sum()"
      ],
      "execution_count": 0,
      "outputs": [
        {
          "output_type": "execute_result",
          "data": {
            "text/plain": [
              "393063"
            ]
          },
          "metadata": {
            "tags": []
          },
          "execution_count": 13
        }
      ]
    },
    {
      "cell_type": "markdown",
      "metadata": {
        "id": "EBZeBQFmkQwI",
        "colab_type": "text"
      },
      "source": [
        "# [2] Exploratory Data Analysis"
      ]
    },
    {
      "cell_type": "markdown",
      "metadata": {
        "id": "f3nDo_hOkvli",
        "colab_type": "text"
      },
      "source": [
        "## [2.1] Data Cleaning: Deduplication"
      ]
    },
    {
      "cell_type": "code",
      "metadata": {
        "id": "uy0PXgFej_p8",
        "colab_type": "code",
        "outputId": "4cd2893d-3335-4071-c857-cf37ad8b4615",
        "colab": {
          "base_uri": "https://localhost:8080/",
          "height": 380
        }
      },
      "source": [
        "display= pd.read_sql_query(\"\"\"\n",
        "SELECT *\n",
        "FROM Reviews\n",
        "WHERE Score != 3 AND UserId=\"AR5J8UI46CURR\"\n",
        "ORDER BY ProductID\n",
        "\"\"\", conn)\n",
        "print(display.shape)\n",
        "display.head()"
      ],
      "execution_count": 0,
      "outputs": [
        {
          "output_type": "stream",
          "text": [
            "(5, 10)\n"
          ],
          "name": "stdout"
        },
        {
          "output_type": "execute_result",
          "data": {
            "text/html": [
              "<div>\n",
              "<style scoped>\n",
              "    .dataframe tbody tr th:only-of-type {\n",
              "        vertical-align: middle;\n",
              "    }\n",
              "\n",
              "    .dataframe tbody tr th {\n",
              "        vertical-align: top;\n",
              "    }\n",
              "\n",
              "    .dataframe thead th {\n",
              "        text-align: right;\n",
              "    }\n",
              "</style>\n",
              "<table border=\"1\" class=\"dataframe\">\n",
              "  <thead>\n",
              "    <tr style=\"text-align: right;\">\n",
              "      <th></th>\n",
              "      <th>Id</th>\n",
              "      <th>ProductId</th>\n",
              "      <th>UserId</th>\n",
              "      <th>ProfileName</th>\n",
              "      <th>HelpfulnessNumerator</th>\n",
              "      <th>HelpfulnessDenominator</th>\n",
              "      <th>Score</th>\n",
              "      <th>Time</th>\n",
              "      <th>Summary</th>\n",
              "      <th>Text</th>\n",
              "    </tr>\n",
              "  </thead>\n",
              "  <tbody>\n",
              "    <tr>\n",
              "      <th>0</th>\n",
              "      <td>78445</td>\n",
              "      <td>B000HDL1RQ</td>\n",
              "      <td>AR5J8UI46CURR</td>\n",
              "      <td>Geetha Krishnan</td>\n",
              "      <td>2</td>\n",
              "      <td>2</td>\n",
              "      <td>5</td>\n",
              "      <td>1199577600</td>\n",
              "      <td>LOACKER QUADRATINI VANILLA WAFERS</td>\n",
              "      <td>DELICIOUS WAFERS. I FIND THAT EUROPEAN WAFERS ...</td>\n",
              "    </tr>\n",
              "    <tr>\n",
              "      <th>1</th>\n",
              "      <td>138317</td>\n",
              "      <td>B000HDOPYC</td>\n",
              "      <td>AR5J8UI46CURR</td>\n",
              "      <td>Geetha Krishnan</td>\n",
              "      <td>2</td>\n",
              "      <td>2</td>\n",
              "      <td>5</td>\n",
              "      <td>1199577600</td>\n",
              "      <td>LOACKER QUADRATINI VANILLA WAFERS</td>\n",
              "      <td>DELICIOUS WAFERS. I FIND THAT EUROPEAN WAFERS ...</td>\n",
              "    </tr>\n",
              "    <tr>\n",
              "      <th>2</th>\n",
              "      <td>138277</td>\n",
              "      <td>B000HDOPYM</td>\n",
              "      <td>AR5J8UI46CURR</td>\n",
              "      <td>Geetha Krishnan</td>\n",
              "      <td>2</td>\n",
              "      <td>2</td>\n",
              "      <td>5</td>\n",
              "      <td>1199577600</td>\n",
              "      <td>LOACKER QUADRATINI VANILLA WAFERS</td>\n",
              "      <td>DELICIOUS WAFERS. I FIND THAT EUROPEAN WAFERS ...</td>\n",
              "    </tr>\n",
              "    <tr>\n",
              "      <th>3</th>\n",
              "      <td>73791</td>\n",
              "      <td>B000HDOPZG</td>\n",
              "      <td>AR5J8UI46CURR</td>\n",
              "      <td>Geetha Krishnan</td>\n",
              "      <td>2</td>\n",
              "      <td>2</td>\n",
              "      <td>5</td>\n",
              "      <td>1199577600</td>\n",
              "      <td>LOACKER QUADRATINI VANILLA WAFERS</td>\n",
              "      <td>DELICIOUS WAFERS. I FIND THAT EUROPEAN WAFERS ...</td>\n",
              "    </tr>\n",
              "    <tr>\n",
              "      <th>4</th>\n",
              "      <td>155049</td>\n",
              "      <td>B000PAQ75C</td>\n",
              "      <td>AR5J8UI46CURR</td>\n",
              "      <td>Geetha Krishnan</td>\n",
              "      <td>2</td>\n",
              "      <td>2</td>\n",
              "      <td>5</td>\n",
              "      <td>1199577600</td>\n",
              "      <td>LOACKER QUADRATINI VANILLA WAFERS</td>\n",
              "      <td>DELICIOUS WAFERS. I FIND THAT EUROPEAN WAFERS ...</td>\n",
              "    </tr>\n",
              "  </tbody>\n",
              "</table>\n",
              "</div>"
            ],
            "text/plain": [
              "       Id  ...                                               Text\n",
              "0   78445  ...  DELICIOUS WAFERS. I FIND THAT EUROPEAN WAFERS ...\n",
              "1  138317  ...  DELICIOUS WAFERS. I FIND THAT EUROPEAN WAFERS ...\n",
              "2  138277  ...  DELICIOUS WAFERS. I FIND THAT EUROPEAN WAFERS ...\n",
              "3   73791  ...  DELICIOUS WAFERS. I FIND THAT EUROPEAN WAFERS ...\n",
              "4  155049  ...  DELICIOUS WAFERS. I FIND THAT EUROPEAN WAFERS ...\n",
              "\n",
              "[5 rows x 10 columns]"
            ]
          },
          "metadata": {
            "tags": []
          },
          "execution_count": 14
        }
      ]
    },
    {
      "cell_type": "code",
      "metadata": {
        "id": "qYaHMbYJk8kl",
        "colab_type": "code",
        "colab": {}
      },
      "source": [
        "#Sorting data according to ProductId in ascending order\n",
        "sorted_data=filter_data.sort_values('ProductId', axis=0, ascending=True, inplace=False, kind='quicksort', na_position='last')"
      ],
      "execution_count": 0,
      "outputs": []
    },
    {
      "cell_type": "code",
      "metadata": {
        "id": "vVpQgUqalGYP",
        "colab_type": "code",
        "outputId": "4bec4b60-9647-4e92-b070-092a92134a80",
        "colab": {
          "base_uri": "https://localhost:8080/",
          "height": 33
        }
      },
      "source": [
        "#Deduplication of entries\n",
        "final=sorted_data.drop_duplicates(subset={\"UserId\",\"ProfileName\",\"Time\",\"Text\"}, keep='first', inplace=False)\n",
        "final.shape"
      ],
      "execution_count": 0,
      "outputs": [
        {
          "output_type": "execute_result",
          "data": {
            "text/plain": [
              "(87775, 10)"
            ]
          },
          "metadata": {
            "tags": []
          },
          "execution_count": 16
        }
      ]
    },
    {
      "cell_type": "code",
      "metadata": {
        "id": "8qwQbiqClJbG",
        "colab_type": "code",
        "outputId": "c972c0dd-a0e3-4fe0-ad82-39756c1646f7",
        "colab": {
          "base_uri": "https://localhost:8080/",
          "height": 33
        }
      },
      "source": [
        "#Checking to see how much % of data still remains\n",
        "(final['Id'].size*1.0)/(filter_data['Id'].size*1.0)*100"
      ],
      "execution_count": 0,
      "outputs": [
        {
          "output_type": "execute_result",
          "data": {
            "text/plain": [
              "87.775"
            ]
          },
          "metadata": {
            "tags": []
          },
          "execution_count": 17
        }
      ]
    },
    {
      "cell_type": "code",
      "metadata": {
        "id": "oW1l0NhUlNKr",
        "colab_type": "code",
        "outputId": "c680dc14-a75e-4b6c-bc38-32330996eb6a",
        "colab": {
          "base_uri": "https://localhost:8080/",
          "height": 157
        }
      },
      "source": [
        "display= pd.read_sql_query(\"\"\"\n",
        "SELECT *\n",
        "FROM Reviews\n",
        "WHERE Score != 3 AND Id=44737 OR Id=64422\n",
        "ORDER BY ProductID\n",
        "\"\"\", conn)\n",
        "\n",
        "display.head()"
      ],
      "execution_count": 0,
      "outputs": [
        {
          "output_type": "execute_result",
          "data": {
            "text/html": [
              "<div>\n",
              "<style scoped>\n",
              "    .dataframe tbody tr th:only-of-type {\n",
              "        vertical-align: middle;\n",
              "    }\n",
              "\n",
              "    .dataframe tbody tr th {\n",
              "        vertical-align: top;\n",
              "    }\n",
              "\n",
              "    .dataframe thead th {\n",
              "        text-align: right;\n",
              "    }\n",
              "</style>\n",
              "<table border=\"1\" class=\"dataframe\">\n",
              "  <thead>\n",
              "    <tr style=\"text-align: right;\">\n",
              "      <th></th>\n",
              "      <th>Id</th>\n",
              "      <th>ProductId</th>\n",
              "      <th>UserId</th>\n",
              "      <th>ProfileName</th>\n",
              "      <th>HelpfulnessNumerator</th>\n",
              "      <th>HelpfulnessDenominator</th>\n",
              "      <th>Score</th>\n",
              "      <th>Time</th>\n",
              "      <th>Summary</th>\n",
              "      <th>Text</th>\n",
              "    </tr>\n",
              "  </thead>\n",
              "  <tbody>\n",
              "    <tr>\n",
              "      <th>0</th>\n",
              "      <td>64422</td>\n",
              "      <td>B000MIDROQ</td>\n",
              "      <td>A161DK06JJMCYF</td>\n",
              "      <td>J. E. Stephens \"Jeanne\"</td>\n",
              "      <td>3</td>\n",
              "      <td>1</td>\n",
              "      <td>5</td>\n",
              "      <td>1224892800</td>\n",
              "      <td>Bought This for My Son at College</td>\n",
              "      <td>My son loves spaghetti so I didn't hesitate or...</td>\n",
              "    </tr>\n",
              "    <tr>\n",
              "      <th>1</th>\n",
              "      <td>44737</td>\n",
              "      <td>B001EQ55RW</td>\n",
              "      <td>A2V0I904FH7ABY</td>\n",
              "      <td>Ram</td>\n",
              "      <td>3</td>\n",
              "      <td>2</td>\n",
              "      <td>4</td>\n",
              "      <td>1212883200</td>\n",
              "      <td>Pure cocoa taste with crunchy almonds inside</td>\n",
              "      <td>It was almost a 'love at first bite' - the per...</td>\n",
              "    </tr>\n",
              "  </tbody>\n",
              "</table>\n",
              "</div>"
            ],
            "text/plain": [
              "      Id  ...                                               Text\n",
              "0  64422  ...  My son loves spaghetti so I didn't hesitate or...\n",
              "1  44737  ...  It was almost a 'love at first bite' - the per...\n",
              "\n",
              "[2 rows x 10 columns]"
            ]
          },
          "metadata": {
            "tags": []
          },
          "execution_count": 18
        }
      ]
    },
    {
      "cell_type": "code",
      "metadata": {
        "id": "DoR-PIyylSbl",
        "colab_type": "code",
        "colab": {}
      },
      "source": [
        "final=final[final.HelpfulnessNumerator<=final.HelpfulnessDenominator]"
      ],
      "execution_count": 0,
      "outputs": []
    },
    {
      "cell_type": "code",
      "metadata": {
        "id": "zuxmK8mSlZDX",
        "colab_type": "code",
        "outputId": "b08f396b-f2c9-44f4-d7a8-ddc62aca69b0",
        "colab": {
          "base_uri": "https://localhost:8080/",
          "height": 84
        }
      },
      "source": [
        "#Before starting the next phase of preprocessing lets see the number of entries left\n",
        "print(final.shape)\n",
        "\n",
        "#How many positive and negative reviews are present in our dataset?\n",
        "final['Score'].value_counts()"
      ],
      "execution_count": 0,
      "outputs": [
        {
          "output_type": "stream",
          "text": [
            "(87773, 10)\n"
          ],
          "name": "stdout"
        },
        {
          "output_type": "execute_result",
          "data": {
            "text/plain": [
              "1    73592\n",
              "0    14181\n",
              "Name: Score, dtype: int64"
            ]
          },
          "metadata": {
            "tags": []
          },
          "execution_count": 20
        }
      ]
    },
    {
      "cell_type": "markdown",
      "metadata": {
        "id": "ppjnxlEjlhUi",
        "colab_type": "text"
      },
      "source": [
        "## [3] Preprocessing"
      ]
    },
    {
      "cell_type": "markdown",
      "metadata": {
        "id": "grip8Pw6ls-k",
        "colab_type": "text"
      },
      "source": [
        "### [3.1]. Preprocessing Review Text"
      ]
    },
    {
      "cell_type": "code",
      "metadata": {
        "id": "v_wyqayzlc6V",
        "colab_type": "code",
        "outputId": "901470c8-bfe9-4562-d5ce-90b875632de1",
        "colab": {
          "base_uri": "https://localhost:8080/",
          "height": 170
        }
      },
      "source": [
        "# printing some random reviews\n",
        "sent_0 = final['Text'].values[0]\n",
        "print(sent_0)\n",
        "print(\"=\"*50)\n",
        "\n",
        "sent_1000 = final['Text'].values[1000]\n",
        "print(sent_1000)\n",
        "print(\"=\"*50)\n",
        "\n",
        "sent_1500 = final['Text'].values[1500]\n",
        "print(sent_1500)\n",
        "print(\"=\"*50)\n",
        "\n",
        "sent_4900 = final['Text'].values[4900]\n",
        "print(sent_4900)\n",
        "print(\"=\"*50)"
      ],
      "execution_count": 0,
      "outputs": [
        {
          "output_type": "stream",
          "text": [
            "My dogs loves this chicken but its a product from China, so we wont be buying it anymore.  Its very hard to find any chicken products made in the USA but they are out there, but this one isnt.  Its too bad too because its a good product but I wont take any chances till they know what is going on with the china imports.\n",
            "==================================================\n",
            "The Candy Blocks were a nice visual for the Lego Birthday party but the candy has little taste to it.  Very little of the 2 lbs that I bought were eaten and I threw the rest away.  I would not buy the candy again.\n",
            "==================================================\n",
            "was way to hot for my blood, took a bite and did a jig  lol\n",
            "==================================================\n",
            "My dog LOVES these treats. They tend to have a very strong fish oil smell. So if you are afraid of the fishy smell, don't get it. But I think my dog likes it because of the smell. These treats are really small in size. They are great for training. You can give your dog several of these without worrying about him over eating. Amazon's price was much more reasonable than any other retailer. You can buy a 1 pound bag on Amazon for almost the same price as a 6 ounce bag at other retailers. It's definitely worth it to buy a big bag if your dog eats them a lot.\n",
            "==================================================\n"
          ],
          "name": "stdout"
        }
      ]
    },
    {
      "cell_type": "code",
      "metadata": {
        "id": "q83HmF88l3US",
        "colab_type": "code",
        "outputId": "bcdd26b0-e9a0-4d88-868d-02662ee4777b",
        "colab": {
          "base_uri": "https://localhost:8080/",
          "height": 53
        }
      },
      "source": [
        "# remove urls from text python: https://stackoverflow.com/a/40823105/4084039\n",
        "sent_0 = re.sub(r\"http\\S+\", \"\", sent_0)\n",
        "sent_1000 = re.sub(r\"http\\S+\", \"\", sent_1000)\n",
        "sent_150 = re.sub(r\"http\\S+\", \"\", sent_1500)\n",
        "sent_4900 = re.sub(r\"http\\S+\", \"\", sent_4900)\n",
        "\n",
        "print(sent_0)"
      ],
      "execution_count": 0,
      "outputs": [
        {
          "output_type": "stream",
          "text": [
            "My dogs loves this chicken but its a product from China, so we wont be buying it anymore.  Its very hard to find any chicken products made in the USA but they are out there, but this one isnt.  Its too bad too because its a good product but I wont take any chances till they know what is going on with the china imports.\n"
          ],
          "name": "stdout"
        }
      ]
    },
    {
      "cell_type": "code",
      "metadata": {
        "id": "RcAQ9p72l7Nm",
        "colab_type": "code",
        "outputId": "9d9904be-063d-4368-968e-e7ddfb1a9703",
        "colab": {
          "base_uri": "https://localhost:8080/",
          "height": 154
        }
      },
      "source": [
        "# https://stackoverflow.com/questions/16206380/python-beautifulsoup-how-to-remove-all-tags-from-an-element\n",
        "from bs4 import BeautifulSoup\n",
        "\n",
        "soup = BeautifulSoup(sent_0, 'lxml')\n",
        "text = soup.get_text()\n",
        "print(text)\n",
        "print(\"=\"*50)\n",
        "\n",
        "soup = BeautifulSoup(sent_1000, 'lxml')\n",
        "text = soup.get_text()\n",
        "print(text)\n",
        "print(\"=\"*50)\n",
        "\n",
        "soup = BeautifulSoup(sent_1500, 'lxml')\n",
        "text = soup.get_text()\n",
        "print(text)\n",
        "print(\"=\"*50)\n",
        "\n",
        "soup = BeautifulSoup(sent_4900, 'lxml')\n",
        "text = soup.get_text()\n",
        "print(text)"
      ],
      "execution_count": 0,
      "outputs": [
        {
          "output_type": "stream",
          "text": [
            "My dogs loves this chicken but its a product from China, so we wont be buying it anymore.  Its very hard to find any chicken products made in the USA but they are out there, but this one isnt.  Its too bad too because its a good product but I wont take any chances till they know what is going on with the china imports.\n",
            "==================================================\n",
            "The Candy Blocks were a nice visual for the Lego Birthday party but the candy has little taste to it.  Very little of the 2 lbs that I bought were eaten and I threw the rest away.  I would not buy the candy again.\n",
            "==================================================\n",
            "was way to hot for my blood, took a bite and did a jig  lol\n",
            "==================================================\n",
            "My dog LOVES these treats. They tend to have a very strong fish oil smell. So if you are afraid of the fishy smell, don't get it. But I think my dog likes it because of the smell. These treats are really small in size. They are great for training. You can give your dog several of these without worrying about him over eating. Amazon's price was much more reasonable than any other retailer. You can buy a 1 pound bag on Amazon for almost the same price as a 6 ounce bag at other retailers. It's definitely worth it to buy a big bag if your dog eats them a lot.\n"
          ],
          "name": "stdout"
        }
      ]
    },
    {
      "cell_type": "code",
      "metadata": {
        "id": "G28JcclVl-v7",
        "colab_type": "code",
        "colab": {}
      },
      "source": [
        "# https://stackoverflow.com/a/47091490/4084039\n",
        "import re\n",
        "\n",
        "def decontracted(phrase):\n",
        "    # specific\n",
        "    phrase = re.sub(r\"won't\", \"will not\", phrase)\n",
        "    phrase = re.sub(r\"can\\'t\", \"can not\", phrase)\n",
        "\n",
        "    # general\n",
        "    phrase = re.sub(r\"n\\'t\", \" not\", phrase)\n",
        "    phrase = re.sub(r\"\\'re\", \" are\", phrase)\n",
        "    phrase = re.sub(r\"\\'s\", \" is\", phrase)\n",
        "    phrase = re.sub(r\"\\'d\", \" would\", phrase)\n",
        "    phrase = re.sub(r\"\\'ll\", \" will\", phrase)\n",
        "    phrase = re.sub(r\"\\'t\", \" not\", phrase)\n",
        "    phrase = re.sub(r\"\\'ve\", \" have\", phrase)\n",
        "    phrase = re.sub(r\"\\'m\", \" am\", phrase)\n",
        "    return phrase"
      ],
      "execution_count": 0,
      "outputs": []
    },
    {
      "cell_type": "code",
      "metadata": {
        "id": "xXxNwoKgmCwn",
        "colab_type": "code",
        "outputId": "106a0e64-5232-4be4-e243-4bc9302a5f3d",
        "colab": {
          "base_uri": "https://localhost:8080/",
          "height": 50
        }
      },
      "source": [
        "sent_1500 = decontracted(sent_1500)\n",
        "print(sent_1500)\n",
        "print(\"=\"*50)"
      ],
      "execution_count": 0,
      "outputs": [
        {
          "output_type": "stream",
          "text": [
            "was way to hot for my blood, took a bite and did a jig  lol\n",
            "==================================================\n"
          ],
          "name": "stdout"
        }
      ]
    },
    {
      "cell_type": "code",
      "metadata": {
        "id": "7AA6VmCbmF3T",
        "colab_type": "code",
        "outputId": "5b3cbb8e-316a-4362-e46b-3f8566900f54",
        "colab": {
          "base_uri": "https://localhost:8080/",
          "height": 53
        }
      },
      "source": [
        "#remove words with numbers python: https://stackoverflow.com/a/18082370/4084039\n",
        "sent_0 = re.sub(\"\\S*\\d\\S*\", \"\", sent_0).strip()\n",
        "print(sent_0)"
      ],
      "execution_count": 0,
      "outputs": [
        {
          "output_type": "stream",
          "text": [
            "My dogs loves this chicken but its a product from China, so we wont be buying it anymore.  Its very hard to find any chicken products made in the USA but they are out there, but this one isnt.  Its too bad too because its a good product but I wont take any chances till they know what is going on with the china imports.\n"
          ],
          "name": "stdout"
        }
      ]
    },
    {
      "cell_type": "code",
      "metadata": {
        "id": "4G76SqPSmMD5",
        "colab_type": "code",
        "colab": {}
      },
      "source": [
        "# https://gist.github.com/sebleier/554280\n",
        "# we are removing the words from the stop words list: 'no', 'nor', 'not'\n",
        "# <br /><br /> ==> after the above steps, we are getting \"br br\"\n",
        "# we are including them into stop words list\n",
        "# instead of <br /> if we have <br/> these tags would have revmoved in the 1st step\n",
        "\n",
        "stopwords= set(['br', 'the', 'i', 'me', 'my', 'myself', 'we', 'our', 'ours', 'ourselves', 'you', \"you're\", \"you've\",\\\n",
        "            \"you'll\", \"you'd\", 'your', 'yours', 'yourself', 'yourselves', 'he', 'him', 'his', 'himself', \\\n",
        "            'she', \"she's\", 'her', 'hers', 'herself', 'it', \"it's\", 'its', 'itself', 'they', 'them', 'their',\\\n",
        "            'theirs', 'themselves', 'what', 'which', 'who', 'whom', 'this', 'that', \"that'll\", 'these', 'those', \\\n",
        "            'am', 'is', 'are', 'was', 'were', 'be', 'been', 'being', 'have', 'has', 'had', 'having', 'do', 'does', \\\n",
        "            'did', 'doing', 'a', 'an', 'the', 'and', 'but', 'if', 'or', 'because', 'as', 'until', 'while', 'of', \\\n",
        "            'at', 'by', 'for', 'with', 'about', 'against', 'between', 'into', 'through', 'during', 'before', 'after',\\\n",
        "            'above', 'below', 'to', 'from', 'up', 'down', 'in', 'out', 'on', 'off', 'over', 'under', 'again', 'further',\\\n",
        "            'then', 'once', 'here', 'there', 'when', 'where', 'why', 'how', 'all', 'any', 'both', 'each', 'few', 'more',\\\n",
        "            'most', 'other', 'some', 'such', 'only', 'own', 'same', 'so', 'than', 'too', 'very', \\\n",
        "            's', 't', 'can', 'will', 'just', 'don', \"don't\", 'should', \"should've\", 'now', 'd', 'll', 'm', 'o', 're', \\\n",
        "            've', 'y', 'ain', 'aren', \"aren't\", 'couldn', \"couldn't\", 'didn', \"didn't\", 'doesn', \"doesn't\", 'hadn',\\\n",
        "            \"hadn't\", 'hasn', \"hasn't\", 'haven', \"haven't\", 'isn', \"isn't\", 'ma', 'mightn', \"mightn't\", 'mustn',\\\n",
        "            \"mustn't\", 'needn', \"needn't\", 'shan', \"shan't\", 'shouldn', \"shouldn't\", 'wasn', \"wasn't\", 'weren', \"weren't\", \\\n",
        "            'won', \"won't\", 'wouldn', \"wouldn't\"])"
      ],
      "execution_count": 0,
      "outputs": []
    },
    {
      "cell_type": "code",
      "metadata": {
        "id": "s4rcIClxmRlx",
        "colab_type": "code",
        "outputId": "1371f0af-bebd-40e6-b877-4fa1744ea327",
        "colab": {
          "base_uri": "https://localhost:8080/",
          "height": 33
        }
      },
      "source": [
        "# Combining all the above stundents \n",
        "from tqdm import tqdm\n",
        "preprocessed_reviews = []\n",
        "# tqdm is for printing the status bar\n",
        "for sentance in tqdm(final['Text'].values):\n",
        "    sentance = re.sub(r\"http\\S+\", \"\", sentance)\n",
        "    sentance = BeautifulSoup(sentance, 'lxml').get_text()\n",
        "    sentance = decontracted(sentance)\n",
        "    sentance = re.sub(\"\\S*\\d\\S*\", \"\", sentance).strip()\n",
        "    sentance = re.sub('[^A-Za-z]+', ' ', sentance)\n",
        "    # https://gist.github.com/sebleier/554280\n",
        "    sentance = ' '.join(e.lower() for e in sentance.split() if e.lower() not in stopwords)\n",
        "    preprocessed_reviews.append(sentance.strip())"
      ],
      "execution_count": 0,
      "outputs": [
        {
          "output_type": "stream",
          "text": [
            "100%|██████████| 87773/87773 [00:34<00:00, 2553.35it/s]\n"
          ],
          "name": "stderr"
        }
      ]
    },
    {
      "cell_type": "code",
      "metadata": {
        "id": "2J6blelkmfRi",
        "colab_type": "code",
        "outputId": "5598c18f-746a-45f5-80a8-1b726e1f141d",
        "colab": {
          "base_uri": "https://localhost:8080/",
          "height": 33
        }
      },
      "source": [
        "preprocessed_reviews[1500]"
      ],
      "execution_count": 0,
      "outputs": [
        {
          "output_type": "execute_result",
          "data": {
            "text/plain": [
              "'way hot blood took bite jig lol'"
            ]
          },
          "metadata": {
            "tags": []
          },
          "execution_count": 29
        }
      ]
    },
    {
      "cell_type": "markdown",
      "metadata": {
        "id": "WEbTAOWHDYMu",
        "colab_type": "text"
      },
      "source": [
        "## [5.1] Applying KNN brute force"
      ]
    },
    {
      "cell_type": "markdown",
      "metadata": {
        "id": "ArO5fI7kDYMv",
        "colab_type": "text"
      },
      "source": [
        "### [5.1.1] Applying KNN brute force on BOW"
      ]
    },
    {
      "cell_type": "code",
      "metadata": {
        "id": "iatr4hkqcFVo",
        "colab_type": "code",
        "colab": {}
      },
      "source": [
        "X=preprocessed_reviews\n",
        "y=np.array(final['Score'])"
      ],
      "execution_count": 0,
      "outputs": []
    },
    {
      "cell_type": "code",
      "metadata": {
        "id": "UpxMiVh5dgGf",
        "colab_type": "code",
        "outputId": "6cefc740-eaa1-4dce-f6ba-7372c9918d6f",
        "colab": {
          "base_uri": "https://localhost:8080/",
          "height": 67
        }
      },
      "source": [
        "from sklearn.model_selection import train_test_split\n",
        "from sklearn import preprocessing\n",
        "\n",
        "#Breaking into Train and test\n",
        "X_train, X_test, y_train, y_test = train_test_split(X, y, test_size=0.2, random_state=0)\n",
        "X_train, X_cv, y_train, y_cv = train_test_split(X_train, y_train, test_size=0.2)\n",
        "\n",
        "count_vect = CountVectorizer()\n",
        "count_vect.fit(X_train) # fit has to happen only on train data\n",
        "\n",
        "# we use the fitted CountVectorizer to convert the text to vector\n",
        "X_train =count_vect.transform(X_train)\n",
        "X_cv = count_vect.transform(X_cv)\n",
        "X_test = count_vect.transform(X_test)\n",
        "\n",
        "#Normalize Data\n",
        "X_train = preprocessing.normalize(X_train)\n",
        "print(\"Train Data Size: \",X_train.shape)\n",
        "\n",
        "#Normalize Data\n",
        "X_test = preprocessing.normalize(X_test)\n",
        "print(\"Test Data Size: \",X_test.shape)\n",
        "\n",
        "X_cv = preprocessing.normalize(X_cv)\n",
        "print(\"CV Data Size :\", X_cv.shape)"
      ],
      "execution_count": 0,
      "outputs": [
        {
          "output_type": "stream",
          "text": [
            "Train Data Size:  (56174, 44411)\n",
            "Test Data Size:  (17555, 44411)\n",
            "CV Data Size : (14044, 44411)\n"
          ],
          "name": "stdout"
        }
      ]
    },
    {
      "cell_type": "code",
      "metadata": {
        "id": "qIHcSOXFdmim",
        "colab_type": "code",
        "outputId": "cb57866b-f3d8-4215-9e9c-d96b188da09c",
        "colab": {
          "base_uri": "https://localhost:8080/",
          "height": 311
        }
      },
      "source": [
        "from sklearn.neighbors import KNeighborsClassifier\n",
        "from sklearn.metrics import roc_auc_score\n",
        "import math\n",
        "\n",
        "k = list(range(1,50,4))\n",
        "\n",
        "train_auc = []\n",
        "cv_auc = []\n",
        "\n",
        "for i in k:\n",
        "    clf = KNeighborsClassifier(n_neighbors = i,algorithm='brute')\n",
        "    clf.fit(X_train,y_train)\n",
        "    prob_cv = clf.predict_proba(X_cv)[:,1]\n",
        "    cv_auc.append(roc_auc_score(y_cv,prob_cv))\n",
        "    prob_train = clf.predict_proba(X_train)[:,1]\n",
        "    train_auc.append(roc_auc_score(y_train,prob_train))\n",
        "optimal_k = k[cv_auc.index(max(cv_auc))]\n",
        "k = [math.log(x) for x in k]\n",
        "\n",
        "#plot auc vs alpha\n",
        "x = plt.subplot( )\n",
        "x.plot(k, train_auc, label='AUC train')\n",
        "x.plot(k, cv_auc, label='AUC CV')\n",
        "plt.title('AUC vs hyperparameter')\n",
        "plt.xlabel('k')\n",
        "plt.ylabel('AUC')\n",
        "x.legend()\n",
        "plt.show()\n",
        "\n",
        "print('optimal alpha for which auc is maximum : ',optimal_k)\n"
      ],
      "execution_count": 0,
      "outputs": [
        {
          "output_type": "display_data",
          "data": {
            "image/png": "[encoded data removed]",
            "text/plain": [
              "<Figure size 432x288 with 1 Axes>"
            ]
          },
          "metadata": {
            "tags": []
          }
        },
        {
          "output_type": "stream",
          "text": [
            "optimal alpha for which auc is maximum :  13\n"
          ],
          "name": "stdout"
        }
      ]
    },
    {
      "cell_type": "code",
      "metadata": {
        "id": "Q-L-dKL9iAmE",
        "colab_type": "code",
        "outputId": "186f2c04-323c-44af-98b3-b6ca57aa4382",
        "colab": {
          "base_uri": "https://localhost:8080/",
          "height": 597
        }
      },
      "source": [
        "#Testing AUC on Test data\n",
        "clf = KNeighborsClassifier(n_neighbors = optimal_k,algorithm='brute')\n",
        "clf.fit(X_train,y_train)\n",
        "pred_test = clf.predict_proba(X_test)[:,1]\n",
        "fpr1, tpr1, thresholds1 = metrics.roc_curve(y_test, pred_test)\n",
        "pred_train = clf.predict_proba(X_train)[:,1]\n",
        "fpr2,tpr2,thresholds2 = metrics.roc_curve(y_train,pred_train)\n",
        "\n",
        "#plot ROC curve\n",
        "x = plt.subplot( )\n",
        "x.plot(fpr1, tpr1, label ='Test ROC ,auc='+str(roc_auc_score(y_test,pred_test)))\n",
        "x.plot(fpr2, tpr2, label='Train ROC ,auc='+str(roc_auc_score(y_train,pred_train)))\n",
        "plt.title('ROC curve')\n",
        "plt.xlabel('FPR')\n",
        "plt.ylabel('TPR')\n",
        "x.legend()\n",
        "plt.show()\n",
        "\n",
        "print(\"AUC on Test data is \" +str(roc_auc_score(y_test,pred_test)))\n",
        "print(\"AUC on Train data is \" +str(roc_auc_score(y_train,pred_train)))\n",
        "\n",
        "print(\"---------------------------\")\n",
        "\n",
        "# Code for drawing seaborn heatmaps\n",
        "class_names = ['negative','positive']\n",
        "df_heatmap = pd.DataFrame(confusion_matrix(y_test, pred_test.round()), index=class_names, columns=class_names )\n",
        "fig = plt.figure( )\n",
        "heatmap = sns.heatmap(df_heatmap, annot=True, fmt=\"d\")"
      ],
      "execution_count": 0,
      "outputs": [
        {
          "output_type": "display_data",
          "data": {
            "image/png": "[encoded data removed]",
            "text/plain": [
              "<Figure size 432x288 with 1 Axes>"
            ]
          },
          "metadata": {
            "tags": []
          }
        },
        {
          "output_type": "stream",
          "text": [
            "AUC on Test data is 0.5516883306440856\n",
            "AUC on Train data is 0.7605233734185605\n",
            "---------------------------\n"
          ],
          "name": "stdout"
        },
        {
          "output_type": "display_data",
          "data": {
            "image/png": "[encoded data removed]",
            "text/plain": [
              "<Figure size 432x288 with 2 Axes>"
            ]
          },
          "metadata": {
            "tags": []
          }
        }
      ]
    },
    {
      "cell_type": "code",
      "metadata": {
        "id": "C6qRN627VFK_",
        "colab_type": "code",
        "colab": {}
      },
      "source": [
        "import pandas as pd\n",
        "results=pd.DataFrame(columns=['Featuraization', 'algorithm' ,'k', 'Train-AUC', 'Test-AUC' ])\n",
        "new = ['BOW','Brute',13,0.7605,0.5516]\n",
        "results.loc[0] = new"
      ],
      "execution_count": 0,
      "outputs": []
    },
    {
      "cell_type": "markdown",
      "metadata": {
        "id": "m0UxvEKBDYM8",
        "colab_type": "text"
      },
      "source": [
        "### [5.1.2] Applying KNN brute force on TFIDF"
      ]
    },
    {
      "cell_type": "code",
      "metadata": {
        "id": "5ffXQxa7DYM9",
        "colab_type": "code",
        "outputId": "d02d3cfc-d7c2-4d07-a91b-bb8e09e25bbf",
        "colab": {
          "base_uri": "https://localhost:8080/",
          "height": 67
        }
      },
      "source": [
        "#Breaking into Train and test\n",
        "X_train, X_test, y_train, y_test = train_test_split(X, y, test_size=0.2, random_state=0)\n",
        "X_train, X_cv, y_train, y_cv = train_test_split(X_train, y_train, test_size=0.2)\n",
        "\n",
        "tf_idf_vect = TfidfVectorizer(ngram_range=(1,2), min_df=10)\n",
        "tf_idf_vect.fit(X_train) # fit has to happen only on train data\n",
        "\n",
        "# we use the fitted CountVectorizer to convert the text to vector\n",
        "X_train = tf_idf_vect.transform(X_train)\n",
        "X_cv = tf_idf_vect.transform(X_cv)\n",
        "X_test = tf_idf_vect.transform(X_test)\n",
        "\n",
        "#Normalize Data\n",
        "X_train = preprocessing.normalize(X_train)\n",
        "print(\"Train Data Size: \",X_train.shape)\n",
        "\n",
        "#Normalize Data\n",
        "X_test = preprocessing.normalize(X_test)\n",
        "print(\"Test Data Size: \",X_test.shape)\n",
        "\n",
        "X_cv = preprocessing.normalize(X_cv)\n",
        "print(\"CV Data Size :\", X_cv.shape)"
      ],
      "execution_count": 0,
      "outputs": [
        {
          "output_type": "stream",
          "text": [
            "Train Data Size:  (56174, 33512)\n",
            "Test Data Size:  (17555, 33512)\n",
            "CV Data Size : (14044, 33512)\n"
          ],
          "name": "stdout"
        }
      ]
    },
    {
      "cell_type": "code",
      "metadata": {
        "id": "aqSyHZnEim83",
        "colab_type": "code",
        "outputId": "249a6af8-cfbd-449c-946b-e2a0384631c7",
        "colab": {
          "base_uri": "https://localhost:8080/",
          "height": 311
        }
      },
      "source": [
        "k = list(range(1,50,4))\n",
        "\n",
        "train_auc = []\n",
        "cv_auc = []\n",
        "\n",
        "for i in k:\n",
        "    clf = KNeighborsClassifier(n_neighbors = i,algorithm='brute')\n",
        "    clf.fit(X_train,y_train)\n",
        "    prob_cv = clf.predict_proba(X_cv)[:,1]\n",
        "    cv_auc.append(roc_auc_score(y_cv,prob_cv))\n",
        "    prob_train = clf.predict_proba(X_train)[:,1]\n",
        "    train_auc.append(roc_auc_score(y_train,prob_train))\n",
        "optimal_k = k[cv_auc.index(max(cv_auc))]\n",
        "k = [math.log(x) for x in k]\n",
        "\n",
        "#plot auc vs alpha\n",
        "x = plt.subplot( )\n",
        "x.plot(k, train_auc, label='AUC train')\n",
        "x.plot(k, cv_auc, label='AUC CV')\n",
        "plt.title('AUC vs hyperparameter')\n",
        "plt.xlabel('k')\n",
        "plt.ylabel('AUC')\n",
        "x.legend()\n",
        "plt.show()\n",
        "\n",
        "print('optimal alpha for which auc is maximum : ',optimal_k)"
      ],
      "execution_count": 0,
      "outputs": [
        {
          "output_type": "display_data",
          "data": {
            "image/png": "[encoded data removed]",
            "text/plain": [
              "<Figure size 432x288 with 1 Axes>"
            ]
          },
          "metadata": {
            "tags": []
          }
        },
        {
          "output_type": "stream",
          "text": [
            "optimal alpha for which auc is maximum :  21\n"
          ],
          "name": "stdout"
        }
      ]
    },
    {
      "cell_type": "code",
      "metadata": {
        "id": "3RWfMzXjisZX",
        "colab_type": "code",
        "outputId": "ab92375a-a440-43c3-98db-8f0c4d98886c",
        "colab": {
          "base_uri": "https://localhost:8080/",
          "height": 597
        }
      },
      "source": [
        "#Testing AUC on Test data\n",
        "clf = KNeighborsClassifier(n_neighbors = optimal_k,algorithm='brute')\n",
        "clf.fit(X_train,y_train)\n",
        "pred_test = clf.predict_proba(X_test)[:,1]\n",
        "fpr1, tpr1, thresholds1 = metrics.roc_curve(y_test, pred_test)\n",
        "pred_train = clf.predict_proba(X_train)[:,1]\n",
        "fpr2,tpr2,thresholds2 = metrics.roc_curve(y_train,pred_train)\n",
        "\n",
        "#plot ROC curve\n",
        "x = plt.subplot( )\n",
        "x.plot(fpr1, tpr1, label ='Test ROC ,auc='+str(roc_auc_score(y_test,pred_test)))\n",
        "x.plot(fpr2, tpr2, label='Train ROC ,auc='+str(roc_auc_score(y_train,pred_train)))\n",
        "plt.title('ROC curve')\n",
        "plt.xlabel('FPR')\n",
        "plt.ylabel('TPR')\n",
        "x.legend()\n",
        "plt.show()\n",
        "\n",
        "print(\"AUC on Test data is \" +str(roc_auc_score(y_test,pred_test)))\n",
        "print(\"AUC on Train data is \" +str(roc_auc_score(y_train,pred_train)))\n",
        "\n",
        "print(\"---------------------------\")\n",
        "\n",
        "# Code for drawing seaborn heatmaps\n",
        "class_names = ['negative','positive']\n",
        "df_heatmap = pd.DataFrame(confusion_matrix(y_test, pred_test.round()), index=class_names, columns=class_names )\n",
        "fig = plt.figure( )\n",
        "heatmap = sns.heatmap(df_heatmap, annot=True, fmt=\"d\")"
      ],
      "execution_count": 0,
      "outputs": [
        {
          "output_type": "display_data",
          "data": {
            "image/png": "[encoded data removed]",
            "text/plain": [
              "<Figure size 432x288 with 1 Axes>"
            ]
          },
          "metadata": {
            "tags": []
          }
        },
        {
          "output_type": "stream",
          "text": [
            "AUC on Test data is 0.49969338460408697\n",
            "AUC on Train data is 0.7079999437462926\n",
            "---------------------------\n"
          ],
          "name": "stdout"
        },
        {
          "output_type": "display_data",
          "data": {
            "image/png": "[encoded data removed]",
            "text/plain": [
              "<Figure size 432x288 with 2 Axes>"
            ]
          },
          "metadata": {
            "tags": []
          }
        }
      ]
    },
    {
      "cell_type": "code",
      "metadata": {
        "id": "Q9Xh5SNxWhtQ",
        "colab_type": "code",
        "colab": {}
      },
      "source": [
        "new = ['tf-idf','Brute',21,0.7079,0.4996]\n",
        "results.loc[1] = new"
      ],
      "execution_count": 0,
      "outputs": []
    },
    {
      "cell_type": "markdown",
      "metadata": {
        "id": "sgcPCRG8DYNC",
        "colab_type": "text"
      },
      "source": [
        "### [5.1.3] Applying KNN brute force on AVG W2V"
      ]
    },
    {
      "cell_type": "code",
      "metadata": {
        "id": "bT4Dm8fiDYNL",
        "colab_type": "code",
        "outputId": "14150cca-6af9-413e-e18f-a572058ca648",
        "colab": {
          "base_uri": "https://localhost:8080/",
          "height": 67
        }
      },
      "source": [
        "#Breaking into Train and test\n",
        "X_train, X_test, y_train, y_test = train_test_split(X, y, test_size=0.2, random_state=0)\n",
        "X_train, X_cv, y_train, y_cv = train_test_split(X_train, y_train, test_size=0.2)\n",
        "\n",
        "list_of_sentance_train=[]\n",
        "for sentance in X_train:\n",
        "    list_of_sentance_train.append(sentance.split())\n",
        "w2v_model=Word2Vec(list_of_sentance_train,min_count=5,size=50, workers=4)\n",
        "w2v_words = list(w2v_model.wv.vocab)\n",
        "sent_vectors_train = []; \n",
        "for sent in tqdm(list_of_sentance_train):\n",
        "    sent_vec = np.zeros(50) \n",
        "    cnt_words =0;\n",
        "    for word in sent: \n",
        "        if word in w2v_words:\n",
        "            vec = w2v_model.wv[word]\n",
        "            sent_vec += vec\n",
        "            cnt_words += 1\n",
        "    if cnt_words != 0:\n",
        "        sent_vec /= cnt_words\n",
        "    sent_vectors_train.append(sent_vec)\n",
        "print(len(sent_vectors_train))\n",
        "print(len(sent_vectors_train[0]))"
      ],
      "execution_count": 0,
      "outputs": [
        {
          "output_type": "stream",
          "text": [
            "100%|██████████| 56174/56174 [01:47<00:00, 523.45it/s]"
          ],
          "name": "stderr"
        },
        {
          "output_type": "stream",
          "text": [
            "56174\n",
            "50\n"
          ],
          "name": "stdout"
        },
        {
          "output_type": "stream",
          "text": [
            "\n"
          ],
          "name": "stderr"
        }
      ]
    },
    {
      "cell_type": "code",
      "metadata": {
        "id": "uMeRHkUti7xT",
        "colab_type": "code",
        "outputId": "d8d7a07b-bde2-471a-cc71-b040cf894e86",
        "colab": {
          "base_uri": "https://localhost:8080/",
          "height": 67
        }
      },
      "source": [
        "#for cross validation we can use same w2v models and w2v words\n",
        "list_of_sentance_cv=[]\n",
        "for sentance in X_cv:\n",
        "    list_of_sentance_cv.append(sentance.split())\n",
        "sent_vectors_cv = []; \n",
        "for sent in tqdm(list_of_sentance_cv):\n",
        "    sent_vec = np.zeros(50) \n",
        "    cnt_words =0;\n",
        "    for word in sent: \n",
        "        if word in w2v_words:\n",
        "            vec = w2v_model.wv[word]\n",
        "            sent_vec += vec\n",
        "            cnt_words += 1\n",
        "    if cnt_words != 0:\n",
        "        sent_vec /= cnt_words\n",
        "    sent_vectors_cv.append(sent_vec)\n",
        "print(len(sent_vectors_cv))\n",
        "print(len(sent_vectors_cv[0]))   "
      ],
      "execution_count": 0,
      "outputs": [
        {
          "output_type": "stream",
          "text": [
            "100%|██████████| 14044/14044 [00:26<00:00, 520.72it/s]"
          ],
          "name": "stderr"
        },
        {
          "output_type": "stream",
          "text": [
            "14044\n",
            "50\n"
          ],
          "name": "stdout"
        },
        {
          "output_type": "stream",
          "text": [
            "\n"
          ],
          "name": "stderr"
        }
      ]
    },
    {
      "cell_type": "code",
      "metadata": {
        "id": "dsRy4lVojAYm",
        "colab_type": "code",
        "outputId": "244da4f2-fa3b-4e6a-996d-de6d56cb00e5",
        "colab": {
          "base_uri": "https://localhost:8080/",
          "height": 67
        }
      },
      "source": [
        "#for test data\n",
        "list_of_sentance_test=[]\n",
        "for sentance in X_test:\n",
        "    list_of_sentance_test.append(sentance.split())\n",
        "sent_vectors_test = []; \n",
        "for sent in tqdm(list_of_sentance_test):\n",
        "    sent_vec = np.zeros(50) \n",
        "    cnt_words =0;\n",
        "    for word in sent: \n",
        "        if word in w2v_words:\n",
        "            vec = w2v_model.wv[word]\n",
        "            sent_vec += vec\n",
        "            cnt_words += 1\n",
        "    if cnt_words != 0:\n",
        "        sent_vec /= cnt_words\n",
        "    sent_vectors_test.append(sent_vec)\n",
        "print(len(sent_vectors_test))\n",
        "print(len(sent_vectors_test[0]))\n"
      ],
      "execution_count": 0,
      "outputs": [
        {
          "output_type": "stream",
          "text": [
            "100%|██████████| 17555/17555 [00:33<00:00, 530.18it/s]"
          ],
          "name": "stderr"
        },
        {
          "output_type": "stream",
          "text": [
            "17555\n",
            "50\n"
          ],
          "name": "stdout"
        },
        {
          "output_type": "stream",
          "text": [
            "\n"
          ],
          "name": "stderr"
        }
      ]
    },
    {
      "cell_type": "code",
      "metadata": {
        "id": "ya_VuhrJjF-W",
        "colab_type": "code",
        "outputId": "618ca6ce-e46b-4303-c8a2-3590f91d040e",
        "colab": {
          "base_uri": "https://localhost:8080/",
          "height": 311
        }
      },
      "source": [
        "X_train = sent_vectors_train\n",
        "X_cv = sent_vectors_cv\n",
        "X_test = sent_vectors_test\n",
        "\n",
        "k = list(range(1,50,4))\n",
        "\n",
        "train_auc = []\n",
        "cv_auc = []\n",
        "\n",
        "for i in k:\n",
        "    clf = KNeighborsClassifier(n_neighbors = i,algorithm='brute')\n",
        "    clf.fit(X_train,y_train)\n",
        "    prob_cv = clf.predict_proba(X_cv)[:,1]\n",
        "    cv_auc.append(roc_auc_score(y_cv,prob_cv))\n",
        "    prob_train = clf.predict_proba(X_train)[:,1]\n",
        "    train_auc.append(roc_auc_score(y_train,prob_train))\n",
        "optimal_k = k[cv_auc.index(max(cv_auc))]\n",
        "k = [math.log(x) for x in k]\n",
        "\n",
        "#plot auc vs alpha\n",
        "x = plt.subplot( )\n",
        "x.plot(k, train_auc, label='AUC train')\n",
        "x.plot(k, cv_auc, label='AUC CV')\n",
        "plt.title('AUC vs hyperparameter')\n",
        "plt.xlabel('alpha')\n",
        "plt.ylabel('AUC')\n",
        "x.legend()\n",
        "plt.show()\n",
        "\n",
        "print('optimal alpha for which auc is maximum : ',optimal_k)"
      ],
      "execution_count": 0,
      "outputs": [
        {
          "output_type": "display_data",
          "data": {
            "image/png": "[encoded data removed]",
            "text/plain": [
              "<Figure size 432x288 with 1 Axes>"
            ]
          },
          "metadata": {
            "tags": []
          }
        },
        {
          "output_type": "stream",
          "text": [
            "optimal alpha for which auc is maximum :  49\n"
          ],
          "name": "stdout"
        }
      ]
    },
    {
      "cell_type": "code",
      "metadata": {
        "id": "Oh-Me0W9jXBR",
        "colab_type": "code",
        "outputId": "b13fe45e-eeae-4c0a-8027-ebf7eacedabc",
        "colab": {
          "base_uri": "https://localhost:8080/",
          "height": 597
        }
      },
      "source": [
        "#Testing AUC on Test data\n",
        "clf = KNeighborsClassifier(n_neighbors = optimal_k,algorithm='brute')\n",
        "clf.fit(X_train,y_train)\n",
        "pred_test = clf.predict_proba(X_test)[:,1]\n",
        "fpr1, tpr1, thresholds1 = metrics.roc_curve(y_test, pred_test)\n",
        "pred_train = clf.predict_proba(X_train)[:,1]\n",
        "fpr2,tpr2,thresholds2 = metrics.roc_curve(y_train,pred_train)\n",
        "\n",
        "#plot ROC curve\n",
        "x = plt.subplot( )\n",
        "x.plot(fpr1, tpr1, label ='Test ROC ,auc='+str(roc_auc_score(y_test,pred_test)))\n",
        "x.plot(fpr2, tpr2, label='Train ROC ,auc='+str(roc_auc_score(y_train,pred_train)))\n",
        "plt.title('ROC curve')\n",
        "plt.xlabel('FPR')\n",
        "plt.ylabel('TPR')\n",
        "x.legend()\n",
        "plt.show()\n",
        "\n",
        "print(\"AUC on Test data is \" +str(roc_auc_score(y_test,pred_test)))\n",
        "print(\"AUC on Train data is \" +str(roc_auc_score(y_train,pred_train)))\n",
        "\n",
        "print(\"---------------------------\")\n",
        "\n",
        "# Code for drawing seaborn heatmaps\n",
        "class_names = ['negative','positive']\n",
        "df_heatmap = pd.DataFrame(confusion_matrix(y_test, pred_test.round()), index=class_names, columns=class_names )\n",
        "fig = plt.figure( )\n",
        "heatmap = sns.heatmap(df_heatmap, annot=True, fmt=\"d\")"
      ],
      "execution_count": 0,
      "outputs": [
        {
          "output_type": "display_data",
          "data": {
            "image/png": "[encoded data removed]",
            "text/plain": [
              "<Figure size 432x288 with 1 Axes>"
            ]
          },
          "metadata": {
            "tags": []
          }
        },
        {
          "output_type": "stream",
          "text": [
            "AUC on Test data is 0.8901239540010843\n",
            "AUC on Train data is 0.9065171582141557\n",
            "---------------------------\n"
          ],
          "name": "stdout"
        },
        {
          "output_type": "display_data",
          "data": {
            "image/png": "[encoded data removed]",
            "text/plain": [
              "<Figure size 432x288 with 2 Axes>"
            ]
          },
          "metadata": {
            "tags": []
          }
        }
      ]
    },
    {
      "cell_type": "code",
      "metadata": {
        "id": "m8hlrGawXX_m",
        "colab_type": "code",
        "colab": {}
      },
      "source": [
        "new = ['AVG W2V','Brute',49,0.9065,0.8901]\n",
        "results.loc[2] = new"
      ],
      "execution_count": 0,
      "outputs": []
    },
    {
      "cell_type": "markdown",
      "metadata": {
        "id": "L-xcoDmADYNP",
        "colab_type": "text"
      },
      "source": [
        "### [5.1.4] Applying KNN brute force on TFIDF W2V"
      ]
    },
    {
      "cell_type": "code",
      "metadata": {
        "id": "Z9tFDe5_DYNQ",
        "colab_type": "code",
        "outputId": "b0beab28-9447-49bf-f7bf-0d166ae3a26e",
        "colab": {
          "base_uri": "https://localhost:8080/",
          "height": 33
        }
      },
      "source": [
        "#Breaking into Train and test\n",
        "X_train, X_test, y_train, y_test = train_test_split(X, y, test_size=0.2, random_state=0)\n",
        "X_train, X_cv, y_train, y_cv = train_test_split(X_train, y_train, test_size=0.2)\n",
        "\n",
        "\n",
        "list_of_sentance_train=[]\n",
        "for sentance in X_train:\n",
        "    list_of_sentance_train.append(sentance.split())\n",
        "w2v_model=Word2Vec(list_of_sentance_train,min_count=5,size=50, workers=4) \n",
        "w2v_words = list(w2v_model.wv.vocab)\n",
        "tf_idf_vect = TfidfVectorizer(ngram_range=(1,2),min_df=10, max_features=500)\n",
        "\n",
        "tf_idf_matrix=tf_idf_vect.fit_transform(X_train)\n",
        "\n",
        "\n",
        "tfidf_feat = tf_idf_vect.get_feature_names() \n",
        "dictionary = dict(zip(tf_idf_vect.get_feature_names(), list(tf_idf_vect.idf_)))\n",
        "\n",
        "#for train data\n",
        "\n",
        "tfidf_sent_vectors_train = []; \n",
        "row=0;\n",
        "for sent in tqdm(list_of_sentance_train): \n",
        "    sent_vec = np.zeros(50)\n",
        "    weight_sum =0;\n",
        "    for word in sent: \n",
        "        if word in w2v_words and word in tfidf_feat:\n",
        "            vec = w2v_model.wv[word]\n",
        "            tf_idf = dictionary[word]*(sent.count(word)/len(sent))\n",
        "            sent_vec += (vec * tf_idf)\n",
        "            weight_sum += tf_idf\n",
        "    if weight_sum != 0:\n",
        "        sent_vec /= weight_sum\n",
        "    tfidf_sent_vectors_train.append(sent_vec)\n",
        "    row += 1"
      ],
      "execution_count": 0,
      "outputs": [
        {
          "output_type": "stream",
          "text": [
            "100%|██████████| 56174/56174 [02:15<00:00, 415.95it/s]\n"
          ],
          "name": "stderr"
        }
      ]
    },
    {
      "cell_type": "code",
      "metadata": {
        "id": "KLFrCKJRkA9B",
        "colab_type": "code",
        "outputId": "9e55abb3-8a88-4596-b4f3-2b0458586b22",
        "colab": {
          "base_uri": "https://localhost:8080/",
          "height": 33
        }
      },
      "source": [
        "#for cross validation data and test we will use same words and models of train\n",
        "list_of_sentance_cv=[]\n",
        "for sentance in X_cv:\n",
        "    list_of_sentance_cv.append(sentance.split())\n",
        "tfidf_sent_vectors_cv = []; \n",
        "row=0;\n",
        "for sent in tqdm(list_of_sentance_cv): \n",
        "    sent_vec = np.zeros(50)\n",
        "    weight_sum =0;\n",
        "    for word in sent: \n",
        "        if word in w2v_words and word in tfidf_feat:\n",
        "            vec = w2v_model.wv[word]\n",
        "            tf_idf = dictionary[word]*(sent.count(word)/len(sent))\n",
        "            sent_vec += (vec * tf_idf)\n",
        "            weight_sum += tf_idf\n",
        "    if weight_sum != 0:\n",
        "        sent_vec /= weight_sum\n",
        "    tfidf_sent_vectors_cv.append(sent_vec)\n",
        "    row += 1"
      ],
      "execution_count": 0,
      "outputs": [
        {
          "output_type": "stream",
          "text": [
            "100%|██████████| 14044/14044 [00:34<00:00, 409.90it/s]\n"
          ],
          "name": "stderr"
        }
      ]
    },
    {
      "cell_type": "code",
      "metadata": {
        "id": "2xOiy-FQkF9q",
        "colab_type": "code",
        "outputId": "545207f8-d3e8-45bd-bcee-770a83103830",
        "colab": {
          "base_uri": "https://localhost:8080/",
          "height": 33
        }
      },
      "source": [
        "#for test data\n",
        "list_of_sentance_test=[]\n",
        "for sentance in X_test:\n",
        "    list_of_sentance_test.append(sentance.split())\n",
        "tfidf_sent_vectors_test = []; \n",
        "row=0;\n",
        "for sent in tqdm(list_of_sentance_test): \n",
        "    sent_vec = np.zeros(50)\n",
        "    weight_sum =0;\n",
        "    for word in sent: \n",
        "        if word in w2v_words and word in tfidf_feat:\n",
        "            vec = w2v_model.wv[word]\n",
        "            tf_idf = dictionary[word]*(sent.count(word)/len(sent))\n",
        "            sent_vec += (vec * tf_idf)\n",
        "            weight_sum += tf_idf\n",
        "    if weight_sum != 0:\n",
        "        sent_vec /= weight_sum\n",
        "    tfidf_sent_vectors_test.append(sent_vec)\n",
        "    row += 1"
      ],
      "execution_count": 0,
      "outputs": [
        {
          "output_type": "stream",
          "text": [
            "100%|██████████| 17555/17555 [00:42<00:00, 413.21it/s]\n"
          ],
          "name": "stderr"
        }
      ]
    },
    {
      "cell_type": "code",
      "metadata": {
        "id": "_i53TRNGkIJv",
        "colab_type": "code",
        "outputId": "6a7c8ab7-fabf-4246-c30f-25cd86b3227d",
        "colab": {
          "base_uri": "https://localhost:8080/",
          "height": 311
        }
      },
      "source": [
        "X_train = tfidf_sent_vectors_train\n",
        "X_cv = tfidf_sent_vectors_cv\n",
        "X_test = tfidf_sent_vectors_test\n",
        "\n",
        "k = list(range(1,50,4))\n",
        "\n",
        "train_auc = []\n",
        "cv_auc = []\n",
        "\n",
        "for i in k:\n",
        "    clf = KNeighborsClassifier(n_neighbors = i,algorithm='brute')\n",
        "    clf.fit(X_train,y_train)\n",
        "    prob_cv = clf.predict_proba(X_cv)[:,1]\n",
        "    cv_auc.append(roc_auc_score(y_cv,prob_cv))\n",
        "    prob_train = clf.predict_proba(X_train)[:,1]\n",
        "    train_auc.append(roc_auc_score(y_train,prob_train))\n",
        "optimal_k = k[cv_auc.index(max(cv_auc))]\n",
        "k = [math.log(x) for x in k]\n",
        "\n",
        "#plot auc vs alpha\n",
        "x = plt.subplot( )\n",
        "x.plot(k, train_auc, label='AUC train')\n",
        "x.plot(k, cv_auc, label='AUC CV')\n",
        "plt.title('AUC vs hyperparameter')\n",
        "plt.xlabel('alpha')\n",
        "plt.ylabel('AUC')\n",
        "x.legend()\n",
        "plt.show()\n",
        "\n",
        "print('optimal alpha for which auc is maximum : ',optimal_k)"
      ],
      "execution_count": 0,
      "outputs": [
        {
          "output_type": "display_data",
          "data": {
            "image/png": "[encoded data removed]",
            "text/plain": [
              "<Figure size 432x288 with 1 Axes>"
            ]
          },
          "metadata": {
            "tags": []
          }
        },
        {
          "output_type": "stream",
          "text": [
            "optimal alpha for which auc is maximum :  49\n"
          ],
          "name": "stdout"
        }
      ]
    },
    {
      "cell_type": "code",
      "metadata": {
        "id": "umw1gp2fkSFJ",
        "colab_type": "code",
        "outputId": "f1db9127-7af8-408c-f136-5b8108e131e5",
        "colab": {
          "base_uri": "https://localhost:8080/",
          "height": 597
        }
      },
      "source": [
        "#Testing AUC on Test data\n",
        "clf = KNeighborsClassifier(n_neighbors = optimal_k,algorithm='brute')\n",
        "clf.fit(X_train,y_train)\n",
        "pred_test = clf.predict_proba(X_test)[:,1]\n",
        "fpr1, tpr1, thresholds1 = metrics.roc_curve(y_test, pred_test)\n",
        "pred_train = clf.predict_proba(X_train)[:,1]\n",
        "fpr2,tpr2,thresholds2 = metrics.roc_curve(y_train,pred_train)\n",
        "\n",
        "#plot ROC curve\n",
        "x = plt.subplot( )\n",
        "x.plot(fpr1, tpr1, label ='Test ROC ,auc='+str(roc_auc_score(y_test,pred_test)))\n",
        "x.plot(fpr2, tpr2, label='Train ROC ,auc='+str(roc_auc_score(y_train,pred_train)))\n",
        "plt.title('ROC curve')\n",
        "plt.xlabel('FPR')\n",
        "plt.ylabel('TPR')\n",
        "x.legend()\n",
        "plt.show()\n",
        "\n",
        "print(\"AUC on Test data is \" +str(roc_auc_score(y_test,pred_test)))\n",
        "print(\"AUC on Train data is \" +str(roc_auc_score(y_train,pred_train)))\n",
        "\n",
        "print(\"---------------------------\")\n",
        "\n",
        "# Code for drawing seaborn heatmaps\n",
        "class_names = ['negative','positive']\n",
        "df_heatmap = pd.DataFrame(confusion_matrix(y_test, pred_test.round()), index=class_names, columns=class_names )\n",
        "fig = plt.figure( )\n",
        "heatmap = sns.heatmap(df_heatmap, annot=True, fmt=\"d\")"
      ],
      "execution_count": 0,
      "outputs": [
        {
          "output_type": "display_data",
          "data": {
            "image/png": "[encoded data removed]",
            "text/plain": [
              "<Figure size 432x288 with 1 Axes>"
            ]
          },
          "metadata": {
            "tags": []
          }
        },
        {
          "output_type": "stream",
          "text": [
            "AUC on Test data is 0.8311947248556466\n",
            "AUC on Train data is 0.8547695328255481\n",
            "---------------------------\n"
          ],
          "name": "stdout"
        },
        {
          "output_type": "display_data",
          "data": {
            "image/png": "[encoded data removed]",
            "text/plain": [
              "<Figure size 432x288 with 2 Axes>"
            ]
          },
          "metadata": {
            "tags": []
          }
        }
      ]
    },
    {
      "cell_type": "code",
      "metadata": {
        "id": "0ofB_W0bX7dH",
        "colab_type": "code",
        "colab": {}
      },
      "source": [
        "new = ['tf-idf W2V','Brute',49,0.8547,0.8311]\n",
        "results.loc[3] = new"
      ],
      "execution_count": 0,
      "outputs": []
    },
    {
      "cell_type": "markdown",
      "metadata": {
        "id": "v2x7vWX-DYNT",
        "colab_type": "text"
      },
      "source": [
        "## [5.2] Applying KNN kd-tree"
      ]
    },
    {
      "cell_type": "markdown",
      "metadata": {
        "id": "jfY8wT02DYNU",
        "colab_type": "text"
      },
      "source": [
        "### [5.2.1] Applying KNN kd-tree on BOW"
      ]
    },
    {
      "cell_type": "code",
      "metadata": {
        "id": "kiIQYuA2DYNV",
        "colab_type": "code",
        "outputId": "97949089-f722-4151-b23d-eb6bbd0a59a5",
        "colab": {
          "base_uri": "https://localhost:8080/",
          "height": 67
        }
      },
      "source": [
        "X=preprocessed_reviews\n",
        "y=np.array(final['Score'])\n",
        "X=X[:50000]\n",
        "y=y[:50000]\n",
        "\n",
        "#Breaking into Train and test\n",
        "X_train, X_test, y_train, y_test = train_test_split(X, y, test_size=0.2, random_state=0)\n",
        "X_train, X_cv, y_train, y_cv = train_test_split(X_train, y_train, test_size=0.2)\n",
        "\n",
        "count_vect = CountVectorizer(min_df=10, max_features=500)\n",
        "count_vect.fit(X_train) # fit has to happen only on train data\n",
        "\n",
        "# we use the fitted CountVectorizer to convert the text to vector\n",
        "X_train =count_vect.transform(X_train)\n",
        "X_cv = count_vect.transform(X_cv)\n",
        "X_test = count_vect.transform(X_test)\n",
        "\n",
        "#Normalize Data\n",
        "X_train = preprocessing.normalize(X_train)\n",
        "print(\"Train Data Size: \",X_train.shape)\n",
        "\n",
        "#Normalize Data\n",
        "X_test = preprocessing.normalize(X_test)\n",
        "print(\"Test Data Size: \",X_test.shape)\n",
        "\n",
        "X_cv = preprocessing.normalize(X_cv)\n",
        "print(\"CV Data Size :\", X_cv.shape)"
      ],
      "execution_count": 0,
      "outputs": [
        {
          "output_type": "stream",
          "text": [
            "Train Data Size:  (32000, 500)\n",
            "Test Data Size:  (10000, 500)\n",
            "CV Data Size : (8000, 500)\n"
          ],
          "name": "stdout"
        }
      ]
    },
    {
      "cell_type": "code",
      "metadata": {
        "id": "8uFyz77_x88x",
        "colab_type": "code",
        "outputId": "1837dbc9-182b-4eb8-b44c-399ae3e6ad8e",
        "colab": {
          "base_uri": "https://localhost:8080/",
          "height": 311
        }
      },
      "source": [
        "from sklearn.neighbors import KNeighborsClassifier\n",
        "from sklearn.metrics import roc_auc_score\n",
        "import math\n",
        "\n",
        "k = list(range(1,50,4))\n",
        "\n",
        "train_auc = []\n",
        "cv_auc = []\n",
        "\n",
        "for i in k:\n",
        "    clf = KNeighborsClassifier(n_neighbors = i,algorithm='kd_tree')\n",
        "    clf.fit(X_train,y_train)\n",
        "    prob_cv = clf.predict_proba(X_cv)[:,1]\n",
        "    cv_auc.append(roc_auc_score(y_cv,prob_cv))\n",
        "    prob_train = clf.predict_proba(X_train)[:,1]\n",
        "    train_auc.append(roc_auc_score(y_train,prob_train))\n",
        "optimal_k = k[cv_auc.index(max(cv_auc))]\n",
        "k = [math.log(x) for x in k]\n",
        "\n",
        "#plot auc vs alpha\n",
        "x = plt.subplot( )\n",
        "x.plot(k, train_auc, label='AUC train')\n",
        "x.plot(k, cv_auc, label='AUC CV')\n",
        "plt.title('AUC vs hyperparameter')\n",
        "plt.xlabel('k')\n",
        "plt.ylabel('AUC')\n",
        "x.legend()\n",
        "plt.show()\n",
        "\n",
        "print('optimal alpha for which auc is maximum : ',optimal_k)\n"
      ],
      "execution_count": 0,
      "outputs": [
        {
          "output_type": "display_data",
          "data": {
            "image/png": "[encoded data removed]",
            "text/plain": [
              "<Figure size 432x288 with 1 Axes>"
            ]
          },
          "metadata": {
            "tags": []
          }
        },
        {
          "output_type": "stream",
          "text": [
            "optimal alpha for which auc is maximum :  9\n"
          ],
          "name": "stdout"
        }
      ]
    },
    {
      "cell_type": "code",
      "metadata": {
        "id": "2_0w_Wl2yztw",
        "colab_type": "code",
        "outputId": "6a526235-06a0-46df-cf53-64840c0605d6",
        "colab": {
          "base_uri": "https://localhost:8080/",
          "height": 597
        }
      },
      "source": [
        "#Testing AUC on Test data\n",
        "clf = KNeighborsClassifier(n_neighbors = optimal_k,algorithm='kd_tree')\n",
        "clf.fit(X_train,y_train)\n",
        "pred_test = clf.predict_proba(X_test)[:,1]\n",
        "fpr1, tpr1, thresholds1 = metrics.roc_curve(y_test, pred_test)\n",
        "pred_train = clf.predict_proba(X_train)[:,1]\n",
        "fpr2,tpr2,thresholds2 = metrics.roc_curve(y_train,pred_train)\n",
        "\n",
        "#plot ROC curve\n",
        "x = plt.subplot( )\n",
        "x.plot(fpr1, tpr1, label ='Test ROC ,auc='+str(roc_auc_score(y_test,pred_test)))\n",
        "x.plot(fpr2, tpr2, label='Train ROC ,auc='+str(roc_auc_score(y_train,pred_train)))\n",
        "plt.title('ROC curve')\n",
        "plt.xlabel('FPR')\n",
        "plt.ylabel('TPR')\n",
        "x.legend()\n",
        "plt.show()\n",
        "\n",
        "print(\"AUC on Test data is \" +str(roc_auc_score(y_test,pred_test)))\n",
        "print(\"AUC on Train data is \" +str(roc_auc_score(y_train,pred_train)))\n",
        "\n",
        "print(\"---------------------------\")\n",
        "\n",
        "# Code for drawing seaborn heatmaps\n",
        "class_names = ['negative','positive']\n",
        "df_heatmap = pd.DataFrame(confusion_matrix(y_test, pred_test.round()), index=class_names, columns=class_names )\n",
        "fig = plt.figure( )\n",
        "heatmap = sns.heatmap(df_heatmap, annot=True, fmt=\"d\")"
      ],
      "execution_count": 0,
      "outputs": [
        {
          "output_type": "display_data",
          "data": {
            "image/png": "[encoded data removed]",
            "text/plain": [
              "<Figure size 432x288 with 1 Axes>"
            ]
          },
          "metadata": {
            "tags": []
          }
        },
        {
          "output_type": "stream",
          "text": [
            "AUC on Test data is 0.6774626025507228\n",
            "AUC on Train data is 0.8432007180099907\n",
            "---------------------------\n"
          ],
          "name": "stdout"
        },
        {
          "output_type": "display_data",
          "data": {
            "image/png": "[encoded data removed]",
            "text/plain": [
              "<Figure size 432x288 with 2 Axes>"
            ]
          },
          "metadata": {
            "tags": []
          }
        }
      ]
    },
    {
      "cell_type": "code",
      "metadata": {
        "id": "RtfrJJaVy7IO",
        "colab_type": "code",
        "colab": {}
      },
      "source": [
        "results_1=pd.DataFrame(columns=['Featuraization', 'algorithm' ,'k', 'Train-AUC', 'Test-AUC' ])\n",
        "new = ['BOW','kd_tree',9,0.8432,0.6774]\n",
        "results_1.loc[0] = new"
      ],
      "execution_count": 0,
      "outputs": []
    },
    {
      "cell_type": "markdown",
      "metadata": {
        "id": "kG-xYnK7DYNt",
        "colab_type": "text"
      },
      "source": [
        "### [5.2.2] Applying KNN kd-tree on TFIDF"
      ]
    },
    {
      "cell_type": "code",
      "metadata": {
        "id": "ffjRVz_iDYNu",
        "colab_type": "code",
        "outputId": "a1cfec61-cd56-41a0-dc5e-31a1409003ab",
        "colab": {
          "base_uri": "https://localhost:8080/",
          "height": 67
        }
      },
      "source": [
        "#Breaking into Train and test\n",
        "X_train, X_test, y_train, y_test = train_test_split(X, y, test_size=0.2, random_state=0)\n",
        "X_train, X_cv, y_train, y_cv = train_test_split(X_train, y_train, test_size=0.2)\n",
        "\n",
        "tf_idf_vect = TfidfVectorizer(ngram_range=(1,2), min_df=10, max_features=500)\n",
        "tf_idf_vect.fit(X_train) # fit has to happen only on train data\n",
        "\n",
        "# we use the fitted CountVectorizer to convert the text to vector\n",
        "X_train = tf_idf_vect.transform(X_train)\n",
        "X_cv = tf_idf_vect.transform(X_cv)\n",
        "X_test = tf_idf_vect.transform(X_test)\n",
        "\n",
        "#Normalize Data\n",
        "X_train = preprocessing.normalize(X_train)\n",
        "print(\"Train Data Size: \",X_train.shape)\n",
        "\n",
        "#Normalize Data\n",
        "X_test = preprocessing.normalize(X_test)\n",
        "print(\"Test Data Size: \",X_test.shape)\n",
        "\n",
        "X_cv = preprocessing.normalize(X_cv)\n",
        "print(\"CV Data Size :\", X_cv.shape)"
      ],
      "execution_count": 0,
      "outputs": [
        {
          "output_type": "stream",
          "text": [
            "Train Data Size:  (32000, 500)\n",
            "Test Data Size:  (10000, 500)\n",
            "CV Data Size : (8000, 500)\n"
          ],
          "name": "stdout"
        }
      ]
    },
    {
      "cell_type": "code",
      "metadata": {
        "id": "VgN_dw1Mzu5a",
        "colab_type": "code",
        "outputId": "7c38a66d-2fc5-48fb-cff1-0bbc4cb36d7d",
        "colab": {
          "base_uri": "https://localhost:8080/",
          "height": 311
        }
      },
      "source": [
        "k = list(range(1,50,4))\n",
        "\n",
        "train_auc = []\n",
        "cv_auc = []\n",
        "\n",
        "for i in k:\n",
        "    clf = KNeighborsClassifier(n_neighbors = i,algorithm='kd_tree')\n",
        "    clf.fit(X_train,y_train)\n",
        "    prob_cv = clf.predict_proba(X_cv)[:,1]\n",
        "    cv_auc.append(roc_auc_score(y_cv,prob_cv))\n",
        "    prob_train = clf.predict_proba(X_train)[:,1]\n",
        "    train_auc.append(roc_auc_score(y_train,prob_train))\n",
        "optimal_k = k[cv_auc.index(max(cv_auc))]\n",
        "k = [math.log(x) for x in k]\n",
        "\n",
        "#plot auc vs alpha\n",
        "x = plt.subplot( )\n",
        "x.plot(k, train_auc, label='AUC train')\n",
        "x.plot(k, cv_auc, label='AUC CV')\n",
        "plt.title('AUC vs hyperparameter')\n",
        "plt.xlabel('k')\n",
        "plt.ylabel('AUC')\n",
        "x.legend()\n",
        "plt.show()\n",
        "\n",
        "print('optimal alpha for which auc is maximum : ',optimal_k)\n"
      ],
      "execution_count": 0,
      "outputs": [
        {
          "output_type": "display_data",
          "data": {
            "image/png": "[encoded data removed]",
            "text/plain": [
              "<Figure size 432x288 with 1 Axes>"
            ]
          },
          "metadata": {
            "tags": []
          }
        },
        {
          "output_type": "stream",
          "text": [
            "optimal alpha for which auc is maximum :  29\n"
          ],
          "name": "stdout"
        }
      ]
    },
    {
      "cell_type": "code",
      "metadata": {
        "id": "1Qy8Awpmz477",
        "colab_type": "code",
        "outputId": "3b23947c-ad9f-4c03-9f1e-968a8e41bc67",
        "colab": {
          "base_uri": "https://localhost:8080/",
          "height": 597
        }
      },
      "source": [
        "#Testing AUC on Test data\n",
        "clf = KNeighborsClassifier(n_neighbors = optimal_k,algorithm='kd_tree')\n",
        "clf.fit(X_train,y_train)\n",
        "pred_test = clf.predict_proba(X_test)[:,1]\n",
        "fpr1, tpr1, thresholds1 = metrics.roc_curve(y_test, pred_test)\n",
        "pred_train = clf.predict_proba(X_train)[:,1]\n",
        "fpr2,tpr2,thresholds2 = metrics.roc_curve(y_train,pred_train)\n",
        "\n",
        "#plot ROC curve\n",
        "x = plt.subplot( )\n",
        "x.plot(fpr1, tpr1, label ='Test ROC ,auc='+str(roc_auc_score(y_test,pred_test)))\n",
        "x.plot(fpr2, tpr2, label='Train ROC ,auc='+str(roc_auc_score(y_train,pred_train)))\n",
        "plt.title('ROC curve')\n",
        "plt.xlabel('FPR')\n",
        "plt.ylabel('TPR')\n",
        "x.legend()\n",
        "plt.show()\n",
        "\n",
        "print(\"AUC on Test data is \" +str(roc_auc_score(y_test,pred_test)))\n",
        "print(\"AUC on Train data is \" +str(roc_auc_score(y_train,pred_train)))\n",
        "\n",
        "print(\"---------------------------\")\n",
        "\n",
        "# Code for drawing seaborn heatmaps\n",
        "class_names = ['negative','positive']\n",
        "df_heatmap = pd.DataFrame(confusion_matrix(y_test, pred_test.round()), index=class_names, columns=class_names )\n",
        "fig = plt.figure( )\n",
        "heatmap = sns.heatmap(df_heatmap, annot=True, fmt=\"d\")"
      ],
      "execution_count": 0,
      "outputs": [
        {
          "output_type": "display_data",
          "data": {
            "image/png": "[encoded data removed]",
            "text/plain": [
              "<Figure size 432x288 with 1 Axes>"
            ]
          },
          "metadata": {
            "tags": []
          }
        },
        {
          "output_type": "stream",
          "text": [
            "AUC on Test data is 0.5754353268288643\n",
            "AUC on Train data is 0.7369503179192084\n",
            "---------------------------\n"
          ],
          "name": "stdout"
        },
        {
          "output_type": "display_data",
          "data": {
            "image/png": "[encoded data removed]",
            "text/plain": [
              "<Figure size 432x288 with 2 Axes>"
            ]
          },
          "metadata": {
            "tags": []
          }
        }
      ]
    },
    {
      "cell_type": "code",
      "metadata": {
        "id": "UZojVpQCZ5g8",
        "colab_type": "code",
        "colab": {}
      },
      "source": [
        "new = ['tf-idf','kd_tree',29,0.7369,0.5754]\n",
        "results_1.loc[1] = new"
      ],
      "execution_count": 0,
      "outputs": []
    },
    {
      "cell_type": "markdown",
      "metadata": {
        "id": "ddU0dZI0DYNx",
        "colab_type": "text"
      },
      "source": [
        "### [5.2.3] Applying KNN kd-tree on AVG W2V"
      ]
    },
    {
      "cell_type": "code",
      "metadata": {
        "id": "YAl6PXWcDYNy",
        "colab_type": "code",
        "outputId": "a666ffed-6ed8-4d19-d1fd-ac5a00e40196",
        "colab": {
          "base_uri": "https://localhost:8080/",
          "height": 67
        }
      },
      "source": [
        "#Breaking into Train and test\n",
        "X_train, X_test, y_train, y_test = train_test_split(X, y, test_size=0.2, random_state=0)\n",
        "X_train, X_cv, y_train, y_cv = train_test_split(X_train, y_train, test_size=0.2)\n",
        "\n",
        "list_of_sentance_train=[]\n",
        "for sentance in X_train:\n",
        "    list_of_sentance_train.append(sentance.split())\n",
        "w2v_model=Word2Vec(list_of_sentance_train,min_count=5,size=50, workers=4)\n",
        "w2v_words = list(w2v_model.wv.vocab)\n",
        "sent_vectors_train = []; \n",
        "for sent in tqdm(list_of_sentance_train):\n",
        "    sent_vec = np.zeros(50) \n",
        "    cnt_words =0;\n",
        "    for word in sent: \n",
        "        if word in w2v_words:\n",
        "            vec = w2v_model.wv[word]\n",
        "            sent_vec += vec\n",
        "            cnt_words += 1\n",
        "    if cnt_words != 0:\n",
        "        sent_vec /= cnt_words\n",
        "    sent_vectors_train.append(sent_vec)\n",
        "print(len(sent_vectors_train))\n",
        "print(len(sent_vectors_train[0]))"
      ],
      "execution_count": 0,
      "outputs": [
        {
          "output_type": "stream",
          "text": [
            "100%|██████████| 32000/32000 [00:57<00:00, 559.59it/s]"
          ],
          "name": "stderr"
        },
        {
          "output_type": "stream",
          "text": [
            "32000\n",
            "50\n"
          ],
          "name": "stdout"
        },
        {
          "output_type": "stream",
          "text": [
            "\n"
          ],
          "name": "stderr"
        }
      ]
    },
    {
      "cell_type": "code",
      "metadata": {
        "id": "3SHm0Z-O0SwV",
        "colab_type": "code",
        "outputId": "2c30d390-6a96-4004-9de6-377bf4abe651",
        "colab": {
          "base_uri": "https://localhost:8080/",
          "height": 67
        }
      },
      "source": [
        "#for cross validation we can use same w2v models and w2v words\n",
        "list_of_sentance_cv=[]\n",
        "for sentance in X_cv:\n",
        "    list_of_sentance_cv.append(sentance.split())\n",
        "sent_vectors_cv = []; \n",
        "for sent in tqdm(list_of_sentance_cv):\n",
        "    sent_vec = np.zeros(50) \n",
        "    cnt_words =0;\n",
        "    for word in sent: \n",
        "        if word in w2v_words:\n",
        "            vec = w2v_model.wv[word]\n",
        "            sent_vec += vec\n",
        "            cnt_words += 1\n",
        "    if cnt_words != 0:\n",
        "        sent_vec /= cnt_words\n",
        "    sent_vectors_cv.append(sent_vec)\n",
        "print(len(sent_vectors_cv))\n",
        "print(len(sent_vectors_cv[0]))   "
      ],
      "execution_count": 0,
      "outputs": [
        {
          "output_type": "stream",
          "text": [
            "100%|██████████| 8000/8000 [00:14<00:00, 535.50it/s]"
          ],
          "name": "stderr"
        },
        {
          "output_type": "stream",
          "text": [
            "8000\n",
            "50\n"
          ],
          "name": "stdout"
        },
        {
          "output_type": "stream",
          "text": [
            "\n"
          ],
          "name": "stderr"
        }
      ]
    },
    {
      "cell_type": "code",
      "metadata": {
        "id": "Bh-qJlHA0cc1",
        "colab_type": "code",
        "outputId": "2ea59449-5443-4656-de9d-e1f1caee7f99",
        "colab": {
          "base_uri": "https://localhost:8080/",
          "height": 67
        }
      },
      "source": [
        "#for test data\n",
        "list_of_sentance_test=[]\n",
        "for sentance in X_test:\n",
        "    list_of_sentance_test.append(sentance.split())\n",
        "sent_vectors_test = []; \n",
        "for sent in tqdm(list_of_sentance_test):\n",
        "    sent_vec = np.zeros(50) \n",
        "    cnt_words =0;\n",
        "    for word in sent: \n",
        "        if word in w2v_words:\n",
        "            vec = w2v_model.wv[word]\n",
        "            sent_vec += vec\n",
        "            cnt_words += 1\n",
        "    if cnt_words != 0:\n",
        "        sent_vec /= cnt_words\n",
        "    sent_vectors_test.append(sent_vec)\n",
        "print(len(sent_vectors_test))\n",
        "print(len(sent_vectors_test[0]))\n"
      ],
      "execution_count": 0,
      "outputs": [
        {
          "output_type": "stream",
          "text": [
            "100%|██████████| 10000/10000 [00:18<00:00, 542.77it/s]"
          ],
          "name": "stderr"
        },
        {
          "output_type": "stream",
          "text": [
            "10000\n",
            "50\n"
          ],
          "name": "stdout"
        },
        {
          "output_type": "stream",
          "text": [
            "\n"
          ],
          "name": "stderr"
        }
      ]
    },
    {
      "cell_type": "code",
      "metadata": {
        "id": "AIFm4qs_0lk0",
        "colab_type": "code",
        "outputId": "ccc49fb4-754f-413b-a09b-305693562036",
        "colab": {
          "base_uri": "https://localhost:8080/",
          "height": 311
        }
      },
      "source": [
        "X_train = sent_vectors_train\n",
        "X_cv = sent_vectors_cv\n",
        "X_test = sent_vectors_test\n",
        "\n",
        "k = list(range(1,50,4))\n",
        "\n",
        "train_auc = []\n",
        "cv_auc = []\n",
        "\n",
        "for i in k:\n",
        "    clf = KNeighborsClassifier(n_neighbors = i,algorithm='kd_tree')\n",
        "    clf.fit(X_train,y_train)\n",
        "    prob_cv = clf.predict_proba(X_cv)[:,1]\n",
        "    cv_auc.append(roc_auc_score(y_cv,prob_cv))\n",
        "    prob_train = clf.predict_proba(X_train)[:,1]\n",
        "    train_auc.append(roc_auc_score(y_train,prob_train))\n",
        "optimal_k = k[cv_auc.index(max(cv_auc))]\n",
        "k = [math.log(x) for x in k]\n",
        "\n",
        "#plot auc vs alpha\n",
        "x = plt.subplot( )\n",
        "x.plot(k, train_auc, label='AUC train')\n",
        "x.plot(k, cv_auc, label='AUC CV')\n",
        "plt.title('AUC vs hyperparameter')\n",
        "plt.xlabel('alpha')\n",
        "plt.ylabel('AUC')\n",
        "x.legend()\n",
        "plt.show()\n",
        "\n",
        "print('optimal alpha for which auc is maximum : ',optimal_k)"
      ],
      "execution_count": 0,
      "outputs": [
        {
          "output_type": "display_data",
          "data": {
            "image/png": "[encoded data removed]",
            "text/plain": [
              "<Figure size 432x288 with 1 Axes>"
            ]
          },
          "metadata": {
            "tags": []
          }
        },
        {
          "output_type": "stream",
          "text": [
            "optimal alpha for which auc is maximum :  49\n"
          ],
          "name": "stdout"
        }
      ]
    },
    {
      "cell_type": "code",
      "metadata": {
        "id": "ZaCVKsE401Gx",
        "colab_type": "code",
        "outputId": "ffee59ec-13b6-4367-96e9-ba011f6b005f",
        "colab": {
          "base_uri": "https://localhost:8080/",
          "height": 597
        }
      },
      "source": [
        "#Testing AUC on Test data\n",
        "clf = KNeighborsClassifier(n_neighbors = optimal_k,algorithm='kd_tree')\n",
        "clf.fit(X_train,y_train)\n",
        "pred_test = clf.predict_proba(X_test)[:,1]\n",
        "fpr1, tpr1, thresholds1 = metrics.roc_curve(y_test, pred_test)\n",
        "pred_train = clf.predict_proba(X_train)[:,1]\n",
        "fpr2,tpr2,thresholds2 = metrics.roc_curve(y_train,pred_train)\n",
        "\n",
        "#plot ROC curve\n",
        "x = plt.subplot( )\n",
        "x.plot(fpr1, tpr1, label ='Test ROC ,auc='+str(roc_auc_score(y_test,pred_test)))\n",
        "x.plot(fpr2, tpr2, label='Train ROC ,auc='+str(roc_auc_score(y_train,pred_train)))\n",
        "plt.title('ROC curve')\n",
        "plt.xlabel('FPR')\n",
        "plt.ylabel('TPR')\n",
        "x.legend()\n",
        "plt.show()\n",
        "\n",
        "print(\"AUC on Test data is \" +str(roc_auc_score(y_test,pred_test)))\n",
        "print(\"AUC on Train data is \" +str(roc_auc_score(y_train,pred_train)))\n",
        "\n",
        "print(\"---------------------------\")\n",
        "\n",
        "# Code for drawing seaborn heatmaps\n",
        "class_names = ['negative','positive']\n",
        "df_heatmap = pd.DataFrame(confusion_matrix(y_test, pred_test.round()), index=class_names, columns=class_names )\n",
        "fig = plt.figure( )\n",
        "heatmap = sns.heatmap(df_heatmap, annot=True, fmt=\"d\")"
      ],
      "execution_count": 0,
      "outputs": [
        {
          "output_type": "display_data",
          "data": {
            "image/png": "[encoded data removed]",
            "text/plain": [
              "<Figure size 432x288 with 1 Axes>"
            ]
          },
          "metadata": {
            "tags": []
          }
        },
        {
          "output_type": "stream",
          "text": [
            "AUC on Test data is 0.8652631232045632\n",
            "AUC on Train data is 0.8930312396239836\n",
            "---------------------------\n"
          ],
          "name": "stdout"
        },
        {
          "output_type": "display_data",
          "data": {
            "image/png": "[encoded data removed]",
            "text/plain": [
              "<Figure size 432x288 with 2 Axes>"
            ]
          },
          "metadata": {
            "tags": []
          }
        }
      ]
    },
    {
      "cell_type": "code",
      "metadata": {
        "id": "zaMG1YLzaY7S",
        "colab_type": "code",
        "colab": {}
      },
      "source": [
        "new = ['AVG W2V','kd_tree',49,0.8652,0.8930]\n",
        "results_1.loc[2] = new"
      ],
      "execution_count": 0,
      "outputs": []
    },
    {
      "cell_type": "markdown",
      "metadata": {
        "id": "IQUILTzFDYN0",
        "colab_type": "text"
      },
      "source": [
        "### [5.2.4] Applying KNN kd-tree on TFIDF W2V"
      ]
    },
    {
      "cell_type": "code",
      "metadata": {
        "id": "vNmmBe5hDYN1",
        "colab_type": "code",
        "outputId": "8814726d-6e62-43eb-a00a-63795374f0d8",
        "colab": {
          "base_uri": "https://localhost:8080/",
          "height": 33
        }
      },
      "source": [
        "#Breaking into Train and test\n",
        "X_train, X_test, y_train, y_test = train_test_split(X, y, test_size=0.2, random_state=0)\n",
        "X_train, X_cv, y_train, y_cv = train_test_split(X_train, y_train, test_size=0.2)\n",
        "\n",
        "\n",
        "list_of_sentance_train=[]\n",
        "for sentance in X_train:\n",
        "    list_of_sentance_train.append(sentance.split())\n",
        "w2v_model=Word2Vec(list_of_sentance_train,min_count=5,size=50, workers=4) \n",
        "w2v_words = list(w2v_model.wv.vocab)\n",
        "tf_idf_vect = TfidfVectorizer(ngram_range=(1,2),min_df=10, max_features=500)\n",
        "\n",
        "tf_idf_matrix=tf_idf_vect.fit_transform(X_train)\n",
        "\n",
        "\n",
        "tfidf_feat = tf_idf_vect.get_feature_names() \n",
        "dictionary = dict(zip(tf_idf_vect.get_feature_names(), list(tf_idf_vect.idf_)))\n",
        "\n",
        "#for train data\n",
        "\n",
        "tfidf_sent_vectors_train = []; \n",
        "row=0;\n",
        "for sent in tqdm(list_of_sentance_train): \n",
        "    sent_vec = np.zeros(50)\n",
        "    weight_sum =0;\n",
        "    for word in sent: \n",
        "        if word in w2v_words and word in tfidf_feat:\n",
        "            vec = w2v_model.wv[word]\n",
        "            tf_idf = dictionary[word]*(sent.count(word)/len(sent))\n",
        "            sent_vec += (vec * tf_idf)\n",
        "            weight_sum += tf_idf\n",
        "    if weight_sum != 0:\n",
        "        sent_vec /= weight_sum\n",
        "    tfidf_sent_vectors_train.append(sent_vec)\n",
        "    row += 1"
      ],
      "execution_count": 0,
      "outputs": [
        {
          "output_type": "stream",
          "text": [
            "100%|██████████| 32000/32000 [01:17<00:00, 413.58it/s]\n"
          ],
          "name": "stderr"
        }
      ]
    },
    {
      "cell_type": "code",
      "metadata": {
        "id": "Ts834wON1MH1",
        "colab_type": "code",
        "outputId": "3e51484a-97ba-47be-99c2-486e9721d9d0",
        "colab": {
          "base_uri": "https://localhost:8080/",
          "height": 33
        }
      },
      "source": [
        "#for cross validation data and test we will use same words and models of train\n",
        "list_of_sentance_cv=[]\n",
        "for sentance in X_cv:\n",
        "    list_of_sentance_cv.append(sentance.split())\n",
        "tfidf_sent_vectors_cv = []; \n",
        "row=0;\n",
        "for sent in tqdm(list_of_sentance_cv): \n",
        "    sent_vec = np.zeros(50)\n",
        "    weight_sum =0;\n",
        "    for word in sent: \n",
        "        if word in w2v_words and word in tfidf_feat:\n",
        "            vec = w2v_model.wv[word]\n",
        "            tf_idf = dictionary[word]*(sent.count(word)/len(sent))\n",
        "            sent_vec += (vec * tf_idf)\n",
        "            weight_sum += tf_idf\n",
        "    if weight_sum != 0:\n",
        "        sent_vec /= weight_sum\n",
        "    tfidf_sent_vectors_cv.append(sent_vec)\n",
        "    row += 1"
      ],
      "execution_count": 0,
      "outputs": [
        {
          "output_type": "stream",
          "text": [
            "100%|██████████| 8000/8000 [00:20<00:00, 399.61it/s]\n"
          ],
          "name": "stderr"
        }
      ]
    },
    {
      "cell_type": "code",
      "metadata": {
        "id": "klf7FqmH1S5D",
        "colab_type": "code",
        "outputId": "0551ef6a-6f50-43bb-dafb-a9102608840a",
        "colab": {
          "base_uri": "https://localhost:8080/",
          "height": 33
        }
      },
      "source": [
        "#for test data\n",
        "list_of_sentance_test=[]\n",
        "for sentance in X_test:\n",
        "    list_of_sentance_test.append(sentance.split())\n",
        "tfidf_sent_vectors_test = []; \n",
        "row=0;\n",
        "for sent in tqdm(list_of_sentance_test): \n",
        "    sent_vec = np.zeros(50)\n",
        "    weight_sum =0;\n",
        "    for word in sent: \n",
        "        if word in w2v_words and word in tfidf_feat:\n",
        "            vec = w2v_model.wv[word]\n",
        "            tf_idf = dictionary[word]*(sent.count(word)/len(sent))\n",
        "            sent_vec += (vec * tf_idf)\n",
        "            weight_sum += tf_idf\n",
        "    if weight_sum != 0:\n",
        "        sent_vec /= weight_sum\n",
        "    tfidf_sent_vectors_test.append(sent_vec)\n",
        "    row += 1"
      ],
      "execution_count": 0,
      "outputs": [
        {
          "output_type": "stream",
          "text": [
            "100%|██████████| 10000/10000 [00:25<00:00, 398.90it/s]\n"
          ],
          "name": "stderr"
        }
      ]
    },
    {
      "cell_type": "code",
      "metadata": {
        "id": "caTQHZ8V1cqL",
        "colab_type": "code",
        "outputId": "9d788fb8-6433-413d-d24a-3d3aa5cc10f3",
        "colab": {
          "base_uri": "https://localhost:8080/",
          "height": 311
        }
      },
      "source": [
        "X_train = tfidf_sent_vectors_train\n",
        "X_cv = tfidf_sent_vectors_cv\n",
        "X_test = tfidf_sent_vectors_test\n",
        "\n",
        "k = list(range(1,50,4))\n",
        "\n",
        "train_auc = []\n",
        "cv_auc = []\n",
        "\n",
        "for i in k:\n",
        "    clf = KNeighborsClassifier(n_neighbors = i,algorithm='kd_tree')\n",
        "    clf.fit(X_train,y_train)\n",
        "    prob_cv = clf.predict_proba(X_cv)[:,1]\n",
        "    cv_auc.append(roc_auc_score(y_cv,prob_cv))\n",
        "    prob_train = clf.predict_proba(X_train)[:,1]\n",
        "    train_auc.append(roc_auc_score(y_train,prob_train))\n",
        "optimal_k = k[cv_auc.index(max(cv_auc))]\n",
        "k = [math.log(x) for x in k]\n",
        "\n",
        "#plot auc vs alpha\n",
        "x = plt.subplot( )\n",
        "x.plot(k, train_auc, label='AUC train')\n",
        "x.plot(k, cv_auc, label='AUC CV')\n",
        "plt.title('AUC vs hyperparameter')\n",
        "plt.xlabel('alpha')\n",
        "plt.ylabel('AUC')\n",
        "x.legend()\n",
        "plt.show()\n",
        "\n",
        "print('optimal alpha for which auc is maximum : ',optimal_k)"
      ],
      "execution_count": 0,
      "outputs": [
        {
          "output_type": "display_data",
          "data": {
            "image/png": "[encoded data removed]",
            "text/plain": [
              "<Figure size 432x288 with 1 Axes>"
            ]
          },
          "metadata": {
            "tags": []
          }
        },
        {
          "output_type": "stream",
          "text": [
            "optimal alpha for which auc is maximum :  49\n"
          ],
          "name": "stdout"
        }
      ]
    },
    {
      "cell_type": "code",
      "metadata": {
        "id": "6ZMz1Ssm1m5U",
        "colab_type": "code",
        "outputId": "cec5c008-f767-44a8-9778-e3230037b68a",
        "colab": {
          "base_uri": "https://localhost:8080/",
          "height": 597
        }
      },
      "source": [
        "#Testing AUC on Test data\n",
        "clf = KNeighborsClassifier(n_neighbors = optimal_k,algorithm='kd_tree')\n",
        "clf.fit(X_train,y_train)\n",
        "pred_test = clf.predict_proba(X_test)[:,1]\n",
        "fpr1, tpr1, thresholds1 = metrics.roc_curve(y_test, pred_test)\n",
        "pred_train = clf.predict_proba(X_train)[:,1]\n",
        "fpr2,tpr2,thresholds2 = metrics.roc_curve(y_train,pred_train)\n",
        "\n",
        "#plot ROC curve\n",
        "x = plt.subplot( )\n",
        "x.plot(fpr1, tpr1, label ='Test ROC ,auc='+str(roc_auc_score(y_test,pred_test)))\n",
        "x.plot(fpr2, tpr2, label='Train ROC ,auc='+str(roc_auc_score(y_train,pred_train)))\n",
        "plt.title('ROC curve')\n",
        "plt.xlabel('FPR')\n",
        "plt.ylabel('TPR')\n",
        "x.legend()\n",
        "plt.show()\n",
        "\n",
        "print(\"AUC on Test data is \" +str(roc_auc_score(y_test,pred_test)))\n",
        "print(\"AUC on Train data is \" +str(roc_auc_score(y_train,pred_train)))\n",
        "\n",
        "print(\"---------------------------\")\n",
        "\n",
        "# Code for drawing seaborn heatmaps\n",
        "class_names = ['negative','positive']\n",
        "df_heatmap = pd.DataFrame(confusion_matrix(y_test, pred_test.round()), index=class_names, columns=class_names )\n",
        "fig = plt.figure( )\n",
        "heatmap = sns.heatmap(df_heatmap, annot=True, fmt=\"d\")"
      ],
      "execution_count": 0,
      "outputs": [
        {
          "output_type": "display_data",
          "data": {
            "image/png": "[encoded data removed]",
            "text/plain": [
              "<Figure size 432x288 with 1 Axes>"
            ]
          },
          "metadata": {
            "tags": []
          }
        },
        {
          "output_type": "stream",
          "text": [
            "AUC on Test data is 0.8080247272519147\n",
            "AUC on Train data is 0.8487525022239685\n",
            "---------------------------\n"
          ],
          "name": "stdout"
        },
        {
          "output_type": "display_data",
          "data": {
            "image/png": "[encoded data removed]",
            "text/plain": [
              "<Figure size 432x288 with 2 Axes>"
            ]
          },
          "metadata": {
            "tags": []
          }
        }
      ]
    },
    {
      "cell_type": "code",
      "metadata": {
        "id": "0rMdBoa5ayDV",
        "colab_type": "code",
        "colab": {}
      },
      "source": [
        "new = ['tf-idf W2V','kd_tree',49,0.8487,0.8080]\n",
        "results_1.loc[3] = new"
      ],
      "execution_count": 0,
      "outputs": []
    },
    {
      "cell_type": "markdown",
      "metadata": {
        "id": "Blm4m-aPa_Jp",
        "colab_type": "text"
      },
      "source": [
        "### Performance Table"
      ]
    },
    {
      "cell_type": "code",
      "metadata": {
        "id": "ks2ST7OmbDHX",
        "colab_type": "code",
        "outputId": "ecbba84d-c9de-4026-e610-861660a29f1a",
        "colab": {
          "base_uri": "https://localhost:8080/",
          "height": 166
        }
      },
      "source": [
        "results"
      ],
      "execution_count": 0,
      "outputs": [
        {
          "output_type": "execute_result",
          "data": {
            "text/html": [
              "<div>\n",
              "<style scoped>\n",
              "    .dataframe tbody tr th:only-of-type {\n",
              "        vertical-align: middle;\n",
              "    }\n",
              "\n",
              "    .dataframe tbody tr th {\n",
              "        vertical-align: top;\n",
              "    }\n",
              "\n",
              "    .dataframe thead th {\n",
              "        text-align: right;\n",
              "    }\n",
              "</style>\n",
              "<table border=\"1\" class=\"dataframe\">\n",
              "  <thead>\n",
              "    <tr style=\"text-align: right;\">\n",
              "      <th></th>\n",
              "      <th>Featuraization</th>\n",
              "      <th>algorithm</th>\n",
              "      <th>k</th>\n",
              "      <th>Train-AUC</th>\n",
              "      <th>Test-AUC</th>\n",
              "    </tr>\n",
              "  </thead>\n",
              "  <tbody>\n",
              "    <tr>\n",
              "      <th>0</th>\n",
              "      <td>BOW</td>\n",
              "      <td>Brute</td>\n",
              "      <td>13</td>\n",
              "      <td>0.7605</td>\n",
              "      <td>0.5516</td>\n",
              "    </tr>\n",
              "    <tr>\n",
              "      <th>1</th>\n",
              "      <td>tf-idf</td>\n",
              "      <td>Brute</td>\n",
              "      <td>21</td>\n",
              "      <td>0.7079</td>\n",
              "      <td>0.4996</td>\n",
              "    </tr>\n",
              "    <tr>\n",
              "      <th>2</th>\n",
              "      <td>AVG W2V</td>\n",
              "      <td>Brute</td>\n",
              "      <td>49</td>\n",
              "      <td>0.9065</td>\n",
              "      <td>0.8901</td>\n",
              "    </tr>\n",
              "    <tr>\n",
              "      <th>3</th>\n",
              "      <td>tf-idf W2V</td>\n",
              "      <td>Brute</td>\n",
              "      <td>49</td>\n",
              "      <td>0.8547</td>\n",
              "      <td>0.8311</td>\n",
              "    </tr>\n",
              "  </tbody>\n",
              "</table>\n",
              "</div>"
            ],
            "text/plain": [
              "  Featuraization algorithm   k  Train-AUC  Test-AUC\n",
              "0            BOW     Brute  13     0.7605    0.5516\n",
              "1         tf-idf     Brute  21     0.7079    0.4996\n",
              "2        AVG W2V     Brute  49     0.9065    0.8901\n",
              "3     tf-idf W2V     Brute  49     0.8547    0.8311"
            ]
          },
          "metadata": {
            "tags": []
          },
          "execution_count": 19
        }
      ]
    },
    {
      "cell_type": "code",
      "metadata": {
        "id": "OaHSaSg_bFHD",
        "colab_type": "code",
        "outputId": "72307f66-f392-43c8-dc22-5be4fc773195",
        "colab": {
          "base_uri": "https://localhost:8080/",
          "height": 166
        }
      },
      "source": [
        "results_1"
      ],
      "execution_count": 0,
      "outputs": [
        {
          "output_type": "execute_result",
          "data": {
            "text/html": [
              "<div>\n",
              "<style scoped>\n",
              "    .dataframe tbody tr th:only-of-type {\n",
              "        vertical-align: middle;\n",
              "    }\n",
              "\n",
              "    .dataframe tbody tr th {\n",
              "        vertical-align: top;\n",
              "    }\n",
              "\n",
              "    .dataframe thead th {\n",
              "        text-align: right;\n",
              "    }\n",
              "</style>\n",
              "<table border=\"1\" class=\"dataframe\">\n",
              "  <thead>\n",
              "    <tr style=\"text-align: right;\">\n",
              "      <th></th>\n",
              "      <th>Featuraization</th>\n",
              "      <th>algorithm</th>\n",
              "      <th>k</th>\n",
              "      <th>Train-AUC</th>\n",
              "      <th>Test-AUC</th>\n",
              "    </tr>\n",
              "  </thead>\n",
              "  <tbody>\n",
              "    <tr>\n",
              "      <th>0</th>\n",
              "      <td>BOW</td>\n",
              "      <td>kd_tree</td>\n",
              "      <td>9</td>\n",
              "      <td>0.8432</td>\n",
              "      <td>0.6774</td>\n",
              "    </tr>\n",
              "    <tr>\n",
              "      <th>1</th>\n",
              "      <td>tf-idf</td>\n",
              "      <td>kd_tree</td>\n",
              "      <td>29</td>\n",
              "      <td>0.7369</td>\n",
              "      <td>0.5754</td>\n",
              "    </tr>\n",
              "    <tr>\n",
              "      <th>2</th>\n",
              "      <td>AVG W2V</td>\n",
              "      <td>kd_tree</td>\n",
              "      <td>49</td>\n",
              "      <td>0.8652</td>\n",
              "      <td>0.8930</td>\n",
              "    </tr>\n",
              "    <tr>\n",
              "      <th>3</th>\n",
              "      <td>tf-idf W2V</td>\n",
              "      <td>kd_tree</td>\n",
              "      <td>49</td>\n",
              "      <td>0.8487</td>\n",
              "      <td>0.8080</td>\n",
              "    </tr>\n",
              "  </tbody>\n",
              "</table>\n",
              "</div>"
            ],
            "text/plain": [
              "  Featuraization algorithm   k  Train-AUC  Test-AUC\n",
              "0            BOW   kd_tree   9     0.8432    0.6774\n",
              "1         tf-idf   kd_tree  29     0.7369    0.5754\n",
              "2        AVG W2V   kd_tree  49     0.8652    0.8930\n",
              "3     tf-idf W2V   kd_tree  49     0.8487    0.8080"
            ]
          },
          "metadata": {
            "tags": []
          },
          "execution_count": 14
        }
      ]
    },
    {
      "cell_type": "markdown",
      "metadata": {
        "id": "crZ4qBCyDYN7",
        "colab_type": "text"
      },
      "source": [
        "# [6] Conclusions"
      ]
    },
    {
      "cell_type": "markdown",
      "metadata": {
        "id": "eDJ6dtY0cmvO",
        "colab_type": "text"
      },
      "source": [
        "1. KNN is the one of the best algorithm\n",
        "\n",
        "2. KNN kd_tree  gave best results better then Brute force\n",
        " \n",
        "3. Training time for kd_tree is high compred to brute force algorithm\n",
        " \n",
        "4. Kd_tree with AVG W2V featuraization and k = 49 gave best AUC Score = 0.8930"
      ]
    },
    {
      "cell_type": "code",
      "metadata": {
        "id": "SPe7cRUKchA5",
        "colab_type": "code",
        "colab": {}
      },
      "source": [
        ""
      ],
      "execution_count": 0,
      "outputs": []
    }
  ]
}